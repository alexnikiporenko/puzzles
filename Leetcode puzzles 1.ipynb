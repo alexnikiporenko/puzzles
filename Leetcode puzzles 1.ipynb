{
 "cells": [
  {
   "cell_type": "markdown",
   "metadata": {},
   "source": [
    "**9. Palindrome Number**\n",
    "\n",
    "Given an integer x, return true if x is palindrome integer.\n",
    "\n",
    "An integer is a palindrome when it reads the same backward as forward."
   ]
  },
  {
   "cell_type": "code",
   "execution_count": null,
   "metadata": {},
   "outputs": [],
   "source": [
    "def isPalindrome(x: int) -> bool:\n",
    "    if x < 0: return False\n",
    "    n = x\n",
    "    m = 0\n",
    "    while n != 0:\n",
    "        m = m*10 + (n%10)\n",
    "        n = n // 10\n",
    "    return (m == x)\n",
    "    \n",
    "isPalindrome(-101)"
   ]
  },
  {
   "cell_type": "markdown",
   "metadata": {},
   "source": [
    "**14. Longest Common Prefix**\n",
    "\n",
    "Write a function to find the longest common prefix string amongst an array of strings.\n",
    "\n",
    "If there is no common prefix, return an empty string \"\"."
   ]
  },
  {
   "cell_type": "code",
   "execution_count": 20,
   "metadata": {},
   "outputs": [
    {
     "name": "stdout",
     "output_type": "stream",
     "text": [
      "do\n"
     ]
    }
   ],
   "source": [
    "# 1\n",
    "def longestCommonPrefix(strs):\n",
    "    length = 1\n",
    "    while length <= len(strs[0]):\n",
    "        prefix = strs[0][:length]\n",
    "        for i in range(1, len(strs)):\n",
    "            if strs[i][:length] != prefix:\n",
    "                return prefix[:-1]\n",
    "        length += 1\n",
    "    return strs[0]\n",
    "\n",
    "# 2\n",
    "def longestCommonPrefix(strs):\n",
    "    prefix1 = \"\"\n",
    "    for i in range(len(strs[0])):\n",
    "        prefix2 = prefix1 + strs[0][i]\n",
    "        for j in range(1, len(strs)):\n",
    "            if strs[j][:(i+1)] != prefix2:\n",
    "                return prefix1\n",
    "        prefix1 = prefix2\n",
    "    return strs[0]\n",
    "\n",
    "print(longestCommonPrefix([\"dogs\",\"dog\",\"do\"]))"
   ]
  },
  {
   "cell_type": "markdown",
   "metadata": {},
   "source": [
    "**20. Valid Parentheses**\n",
    "\n",
    "Given a string s containing just the characters '(', ')', '{', '}', '[' and ']', determine if the input string is valid.\n",
    "\n",
    "An input string is valid if:\n",
    "\n",
    "Open brackets must be closed by the same type of brackets.\n",
    "Open brackets must be closed in the correct order."
   ]
  },
  {
   "cell_type": "code",
   "execution_count": 23,
   "metadata": {},
   "outputs": [
    {
     "data": {
      "text/plain": [
       "True"
      ]
     },
     "execution_count": 23,
     "metadata": {},
     "output_type": "execute_result"
    }
   ],
   "source": [
    "def isValid(s):\n",
    "    while \"()\" in s or \"[]\" in s or \"{}\" in s:\n",
    "        s = s.replace(\"()\", \"\")\n",
    "        s = s.replace(\"[]\", \"\")\n",
    "        s = s.replace(\"{}\", \"\")\n",
    "    return len(s) == 0\n",
    "\n",
    "def isValid(s):\n",
    "\n",
    "    if len(s) % 2:\n",
    "        return False\n",
    "\n",
    "    brackets = {\"(\":\")\", \"{\":\"}\",\"[\":\"]\"}\n",
    "    stack = []\n",
    "    for c in s:\n",
    "        if c in brackets:\n",
    "            stack.append(c)\n",
    "        elif not stack or brackets[stack.pop()] != c:\n",
    "            return False\n",
    "    return len(stack) == 0\n",
    "\n",
    "isValid(\"()\")"
   ]
  },
  {
   "cell_type": "markdown",
   "metadata": {},
   "source": [
    "**26. Remove Duplicates from Sorted Array**\n",
    "\n",
    "Given an integer array nums sorted in non-decreasing order, remove the duplicates in-place such that each unique element appears only once. The relative order of the elements should be kept the same."
   ]
  },
  {
   "cell_type": "code",
   "execution_count": 10,
   "metadata": {},
   "outputs": [
    {
     "name": "stdout",
     "output_type": "stream",
     "text": [
      "5\n"
     ]
    }
   ],
   "source": [
    "def removeDuplicates(nums):\n",
    "    i = 0\n",
    "    for j in range(1, len(nums)):\n",
    "        if nums[j] != nums[i]:\n",
    "            i+=1\n",
    "            nums[i] = nums[j]\n",
    "    return i+1\n",
    "\n",
    "print(removeDuplicates([0,0,1,1,1,2,2,3,3,4]))"
   ]
  },
  {
   "cell_type": "markdown",
   "metadata": {},
   "source": [
    "**27. Remove Element**\n",
    "\n",
    "Given an integer array nums and an integer val, remove all occurrences of val in nums in-place. The relative order of the elements may be changed.\n",
    "\n",
    "Return k after placing the final result in the first k slots of nums."
   ]
  },
  {
   "cell_type": "code",
   "execution_count": 9,
   "metadata": {},
   "outputs": [
    {
     "name": "stdout",
     "output_type": "stream",
     "text": [
      "5\n"
     ]
    }
   ],
   "source": [
    "def removeElement(nums, val):\n",
    "    while val in nums:\n",
    "        nums.remove(val)\n",
    "    return len(nums)\n",
    "\n",
    "print(removeElement([0,1,2,2,3,0,4,2], 2))"
   ]
  },
  {
   "cell_type": "markdown",
   "metadata": {},
   "source": [
    "**35. Search Insert Position**\n",
    "\n",
    "Given a sorted array of distinct integers and a target value, return the index if the target is found. If not, return the index where it would be if it were inserted in order."
   ]
  },
  {
   "cell_type": "code",
   "execution_count": 13,
   "metadata": {},
   "outputs": [
    {
     "data": {
      "text/plain": [
       "4"
      ]
     },
     "execution_count": 13,
     "metadata": {},
     "output_type": "execute_result"
    }
   ],
   "source": [
    "def searchInsert(nums, target) -> int:\n",
    "    l = 0\n",
    "    r = len(nums)-1\n",
    "    while l <= r:\n",
    "        m = (l+r)//2\n",
    "        if nums[m] > target:\n",
    "            r = m-1\n",
    "        elif nums[m] < target:\n",
    "            l = m+1\n",
    "        else:\n",
    "            return m\n",
    "    return l \n",
    "\n",
    "searchInsert([1, 3, 5, 6], 7)"
   ]
  },
  {
   "cell_type": "markdown",
   "metadata": {},
   "source": [
    "**66. Plus One**\n",
    "\n",
    "You are given a large integer represented as an integer array digits, where each digits[i] is the ith digit of the integer. The digits are ordered from most significant to least significant in left-to-right order. The large integer does not contain any leading 0's.\n",
    "\n",
    "Increment the large integer by one and return the resulting array of digits."
   ]
  },
  {
   "cell_type": "code",
   "execution_count": 6,
   "metadata": {},
   "outputs": [
    {
     "name": "stdout",
     "output_type": "stream",
     "text": [
      "[1, 2, 3, 5]\t[1, 2, 4, 0]\t[1, 0, 0, 0]\n"
     ]
    }
   ],
   "source": [
    "def solution(digits):\n",
    "    index = len(digits)-1\n",
    "    while index >= 0:\n",
    "        if digits[index] < 9:\n",
    "            digits[index] += 1\n",
    "            return digits\n",
    "        else:\n",
    "            digits[index] = 0\n",
    "            index -= 1\n",
    "    return [1] + digits\n",
    " \n",
    "\n",
    "print(solution([1, 2, 3, 4]), end=\"\\t\")\n",
    "print(solution([1, 2, 3, 9]), end=\"\\t\")\n",
    "print(solution([9, 9, 9]))"
   ]
  },
  {
   "cell_type": "markdown",
   "metadata": {},
   "source": [
    "**69. Sqrt(x)**\n",
    "\n",
    "Given a non-negative integer x, compute and return the square root of x.\n",
    "\n",
    "Since the return type is an integer, the decimal digits are truncated, and only the integer part of the result is returned.\n",
    "\n",
    "Note: You are not allowed to use any built-in exponent function or operator, such as pow(x, 0.5) or x ** 0.5"
   ]
  },
  {
   "cell_type": "code",
   "execution_count": 35,
   "metadata": {},
   "outputs": [
    {
     "name": "stdout",
     "output_type": "stream",
     "text": [
      "1\n",
      "2\n",
      "2\n",
      "21869326\n"
     ]
    }
   ],
   "source": [
    "# correct but very slow - O(n)\n",
    "def mySqrt(x):\n",
    "    n = 1\n",
    "    while x//n > n:\n",
    "        n += 1\n",
    "    if n*n > x:\n",
    "        return n-1\n",
    "    return n\n",
    "\n",
    "# much faster - O(log n)\n",
    "def mySqrt(x):\n",
    "    if x < 2:\n",
    "        return x\n",
    "    l = 1\n",
    "    r = x // 2\n",
    "    while l <= r:\n",
    "        m = (l+r) // 2\n",
    "        if (c := x//m) == m:\n",
    "            return m\n",
    "        if c > m:\n",
    "            l = m + 1\n",
    "        else:\n",
    "            r = m - 1\n",
    "    return r\n",
    "        \n",
    "print(mySqrt(3)) # 1\n",
    "print(mySqrt(4)) # 2\n",
    "print(mySqrt(8)) # 2\n",
    "print(mySqrt(478267462746723)) # 21869326"
   ]
  },
  {
   "cell_type": "markdown",
   "metadata": {},
   "source": [
    "**88. Merge Sorted Array**\n",
    "\n",
    "You are given two integer arrays nums1 and nums2, sorted in non-decreasing order, and two integers m and n, representing the number of elements in nums1 and nums2 respectively.\n",
    "\n",
    "Merge nums1 and nums2 into a single array sorted in non-decreasing order.\n",
    "\n",
    "The final sorted array should not be returned by the function, but instead be stored inside the array nums1. To accommodate this, nums1 has a length of m + n, where the first m elements denote the elements that should be merged, and the last n elements are set to 0 and should be ignored. nums2 has a length of n.\n",
    "\n",
    " "
   ]
  },
  {
   "cell_type": "code",
   "execution_count": 15,
   "metadata": {},
   "outputs": [
    {
     "name": "stdout",
     "output_type": "stream",
     "text": [
      "1\n",
      "2\n",
      "3\n",
      "[1, 2, 2, 3, 5, 6]\n",
      "[1]\n",
      "[1]\n"
     ]
    }
   ],
   "source": [
    "# Do not return anything, modify nums1 in-place instead.\n",
    "def merge(nums1, m, nums2, n) -> None:\n",
    "    i = 0\n",
    "    while nums2:\n",
    "        num = nums2.pop(0)\n",
    "        while nums1[i] <= num and i < m:\n",
    "            print(nums1[i])\n",
    "            i += 1\n",
    "        nums1.insert(i, num)\n",
    "        i += 1\n",
    "        nums1.pop()\n",
    "        m += 1\n",
    "\n",
    "    print(nums1)\n",
    "\n",
    "merge(nums1 = [1,2,3,0,0,0], m = 3, nums2 = [2,5,6], n = 3)\n",
    "merge(nums1 = [1], m = 1, nums2 = [], n = 0)\n",
    "merge(nums1 = [0], m = 0, nums2 = [1], n = 1)"
   ]
  },
  {
   "cell_type": "markdown",
   "metadata": {},
   "source": [
    "**137. Single Number II**\n",
    "\n",
    "Given an integer array nums where every element appears three times except for one, which appears exactly once. Find the single element and return it.\n",
    "\n",
    "You must implement a solution with a linear runtime complexity and use only constant extra space."
   ]
  },
  {
   "cell_type": "code",
   "execution_count": 8,
   "metadata": {},
   "outputs": [
    {
     "data": {
      "text/plain": [
       "3"
      ]
     },
     "execution_count": 8,
     "metadata": {},
     "output_type": "execute_result"
    }
   ],
   "source": [
    "def solution(nums):\n",
    "    sum1 = sum(nums)\n",
    "    sum2 = sum(set(nums))*3\n",
    "    return int((sum2-sum1)/2)\n",
    "\n",
    "solution([2,2,3,2])"
   ]
  },
  {
   "cell_type": "markdown",
   "metadata": {},
   "source": [
    "**704. Binary Search**\n",
    "\n",
    "Given an array of integers nums which is sorted in ascending order, and an integer target, write a function to search target in nums. If target exists, then return its index. Otherwise, return -1."
   ]
  },
  {
   "cell_type": "code",
   "execution_count": 12,
   "metadata": {},
   "outputs": [
    {
     "data": {
      "text/plain": [
       "4"
      ]
     },
     "execution_count": 12,
     "metadata": {},
     "output_type": "execute_result"
    }
   ],
   "source": [
    "def search(nums, target) -> int:\n",
    "    l = 0\n",
    "    r = len(nums)-1\n",
    "    while l <= r:\n",
    "        m = (l+r)//2\n",
    "        if nums[m] < target:\n",
    "            l = m+1\n",
    "        elif nums[m] > target:\n",
    "            r = m - 1\n",
    "        else:\n",
    "            return m\n",
    "    return -1\n",
    "\n",
    "search([-1,0,3,5,9,12], 9)"
   ]
  },
  {
   "cell_type": "markdown",
   "metadata": {},
   "source": [
    "**189. Rotate Array**\n",
    "\n",
    "Given an array, rotate the array to the right by k steps, where k is non-negative. Do not return anything, modify nums in-place instead."
   ]
  },
  {
   "cell_type": "code",
   "execution_count": 15,
   "metadata": {},
   "outputs": [],
   "source": [
    "# slow version, rotates by 1 * k times\n",
    "def rotate(nums, k):\n",
    "    for i in range(k):\n",
    "        temp = nums.pop()\n",
    "        nums.insert(0, temp)\n",
    "\n",
    "# another version, faster\n",
    "def rotate(nums, k):   \n",
    "    k %= len(nums)\n",
    "    nums[:] = nums[-k:] + nums[:-k]\n",
    "\n",
    "# two pointers solution\n",
    "def rotate(nums, k):\n",
    "\n",
    "    def invert(array, start, stop):\n",
    "        l = start\n",
    "        r = stop-1\n",
    "        while l < r:\n",
    "            array[l], array[r] = array[r], array[l]\n",
    "            l += 1\n",
    "            r -= 1\n",
    "    \n",
    "    k %= len(nums)\n",
    "    invert(nums, 0, len(nums)-k)\n",
    "    invert(nums, len(nums)-k, len(nums))\n",
    "    invert(nums, 0, len(nums))"
   ]
  },
  {
   "cell_type": "markdown",
   "metadata": {},
   "source": [
    "**977. Squares of a Sorted Array**\n",
    "\n",
    "Given an integer array nums sorted in non-decreasing order, return an array of the squares of each number sorted in non-decreasing order."
   ]
  },
  {
   "cell_type": "code",
   "execution_count": 14,
   "metadata": {},
   "outputs": [],
   "source": [
    "# one-liner\n",
    "def sortedSquares(nums):\n",
    "    return sorted([n**2 for n in nums])\n",
    "\n",
    "# better solution\n",
    "def sortedSquares(nums):\n",
    "    answer = [0 for n in nums]\n",
    "    l = 0\n",
    "    r = len(nums)-1\n",
    "\n",
    "    for i in reversed(range(len(nums))):\n",
    "        if abs(nums[l]) > abs(nums[r]):\n",
    "            answer[i] = nums[l]**2\n",
    "            l += 1\n",
    "        else:\n",
    "            answer[i] = nums[r]**2\n",
    "            r -= 1\n",
    "    return answer"
   ]
  },
  {
   "cell_type": "markdown",
   "metadata": {},
   "source": [
    "**283. Move Zeroes**\n",
    "\n",
    "Given an integer array nums, move all 0's to the end of it while maintaining the relative order of the non-zero elements. Do not return anything, modify nums in-place instead."
   ]
  },
  {
   "cell_type": "code",
   "execution_count": 16,
   "metadata": {},
   "outputs": [],
   "source": [
    "def moveZeroes(nums):\n",
    "    index = 0\n",
    "    for i in range(len(nums)):\n",
    "        if nums[i] != 0:\n",
    "            nums[index] = nums[i]\n",
    "            index += 1\n",
    "        else:\n",
    "            nums[index] = nums[i]\n",
    "    while index < len(nums):\n",
    "        nums[index] = 0\n",
    "        index += 1\n",
    "\n",
    "moveZeroes([0,1,0,3,12])"
   ]
  },
  {
   "cell_type": "markdown",
   "metadata": {},
   "source": [
    "**167. Two Sum II - Input Array Is Sorted**\n",
    "\n",
    "Given a 1-indexed array of integers numbers that is already sorted in non-decreasing order, find two numbers such that they add up to a specific target number. Let these two numbers be numbers[index1] and numbers[index2] where 1 <= index1 < index2 <= numbers.length.\n",
    "\n",
    "Return the indices of the two numbers, index1 and index2, added by one as an integer array [index1, index2] of length 2."
   ]
  },
  {
   "cell_type": "code",
   "execution_count": 17,
   "metadata": {},
   "outputs": [
    {
     "data": {
      "text/plain": [
       "[2, 3]"
      ]
     },
     "execution_count": 17,
     "metadata": {},
     "output_type": "execute_result"
    }
   ],
   "source": [
    "# binary search\n",
    "def twoSum(numbers, target):\n",
    "\n",
    "    def binarySearch(nums, l, r, t):\n",
    "        while l <= r:\n",
    "            m = (l+r)//2\n",
    "            if nums[m] > t:\n",
    "                r = m-1\n",
    "            elif nums[m] < t:\n",
    "                l = m+1\n",
    "            else:\n",
    "                return m\n",
    "        return -1\n",
    "    \n",
    "    current = -9999\n",
    "    for i in range(len(numbers)-1):\n",
    "        if numbers[i] == current:\n",
    "            continue\n",
    "        current = numbers[i]\n",
    "        searching = target - current\n",
    "        found = binarySearch(numbers, i+1, len(numbers)-1, searching)\n",
    "        if found > 0:\n",
    "            return [i+1, found+1]\n",
    "\n",
    "\n",
    "# two-pointer\n",
    "def twoSum(numbers, target):\n",
    "    l, r = 0, len(numbers)-1\n",
    "    while l < r:\n",
    "        s = numbers[l] + numbers[r]\n",
    "        if s == target:\n",
    "            return [l+1, r+1]\n",
    "        elif s < target:\n",
    "            l += 1\n",
    "        else:\n",
    "            r -= 1\n",
    "\n",
    "arr = [1, 2, 3, 40, 50]\n",
    "twoSum(arr, 5)"
   ]
  },
  {
   "cell_type": "markdown",
   "metadata": {},
   "source": [
    "**19. Remove Nth Node From End of List**\n",
    "\n",
    "Given the head of a linked list, remove the nth node from the end of the list and return its head."
   ]
  },
  {
   "cell_type": "code",
   "execution_count": 16,
   "metadata": {},
   "outputs": [],
   "source": [
    "# Definition for singly-linked list.\n",
    "# class ListNode:\n",
    "#     def __init__(self, val=0, next=None):\n",
    "#         self.val = val\n",
    "#         self.next = next\n",
    "\n",
    "# my solution\n",
    "def removeNthFromEnd(head, n):\n",
    "    counter = 0\n",
    "    r = head\n",
    "    l = head\n",
    "    while counter <= n:\n",
    "        if r == None:\n",
    "            return head.next\n",
    "        r = r.next\n",
    "        counter += 1\n",
    "    while r != None:\n",
    "        r = r.next\n",
    "        l = l.next\n",
    "    l.next = l.next.next\n",
    "    return head\n",
    "\n",
    "# very similar, but better formatted\n",
    "def removeNthFromEnd(head, n):\n",
    "    r = head\n",
    "    l = head\n",
    "    # When you are not interested in some values returned by a function we use underscore in place of variable name.\n",
    "    for _ in range(n):\n",
    "        r = r.next\n",
    "    if not r:\n",
    "        return head.next\n",
    "    while r.next:\n",
    "        r = r.next\n",
    "        l = l.next\n",
    "    l.next = l.next.next\n",
    "    return head"
   ]
  },
  {
   "cell_type": "markdown",
   "metadata": {},
   "source": [
    "**3. Longest Substring Without Repeating Characters**\n",
    "\n",
    "Given a string s, find the length of the longest substring without repeating characters."
   ]
  },
  {
   "cell_type": "code",
   "execution_count": 21,
   "metadata": {},
   "outputs": [],
   "source": [
    "def lengthOfLongestSubstring(s):\n",
    "    l = 0\n",
    "    r = 0\n",
    "    dist = 0\n",
    "    while r <= len(s):\n",
    "        c = r-l\n",
    "        if c == len(set(s[l:r])):\n",
    "            if c > dist:\n",
    "                dist = c\n",
    "            r += 1\n",
    "        else:\n",
    "            l += 1\n",
    "    return dist\n",
    "\n",
    "def lengthOfLongestSubstring(s):\n",
    "    if len(s) < 2:\n",
    "        return len(s)\n",
    "    longest = 0\n",
    "    current = \"\"\n",
    "    for c in s:\n",
    "        if c in current:\n",
    "            if len(current) > longest:\n",
    "                longest = len(current)\n",
    "            current = current[(current.index(c)+1):] + c\n",
    "        else:\n",
    "            current += c\n",
    "    if len(current) > longest:\n",
    "        return len(current)\n",
    "    return longest"
   ]
  },
  {
   "cell_type": "markdown",
   "metadata": {},
   "source": [
    "**557. Reverse Words in a String III**\n",
    "\n",
    "Given a string s, reverse the order of characters in each word within a sentence while still preserving whitespace and initial word order."
   ]
  },
  {
   "cell_type": "code",
   "execution_count": 18,
   "metadata": {},
   "outputs": [
    {
     "data": {
      "text/plain": [
       "\"s'teL ekat edoCteeL tsetnoc\""
      ]
     },
     "execution_count": 18,
     "metadata": {},
     "output_type": "execute_result"
    }
   ],
   "source": [
    "# one-liner\n",
    "def reverseWords(s):\n",
    "    return \" \".join( [x[::-1] for x in s.split(\" \")] )\n",
    "\n",
    "# two-pointer\n",
    "def reverseWords(s):\n",
    "    def invert(arr, left, right):\n",
    "        while left < right:\n",
    "                arr[left], arr[right] = arr[right], arr[left]\n",
    "                left += 1\n",
    "                right -= 1\n",
    "    l = 0\n",
    "    r = 1\n",
    "    s_arr = list(s)\n",
    "    while r < len(s_arr):\n",
    "        if s_arr[r] == \" \":\n",
    "            invert(s_arr, l, r-1)\n",
    "            l = r+1\n",
    "            r = l+1\n",
    "        else:\n",
    "            r += 1\n",
    "    invert(s_arr, l, r-1)\n",
    "    return \"\".join(s_arr)\n",
    "\n",
    "reverseWords(\"Let's take LeetCode contest\")"
   ]
  },
  {
   "cell_type": "markdown",
   "metadata": {},
   "source": [
    "**876. Middle of the Linked List**\n",
    "\n",
    "Given the head of a singly linked list, return the middle node of the linked list. If there are two middle nodes, return the second middle node."
   ]
  },
  {
   "cell_type": "code",
   "execution_count": 19,
   "metadata": {},
   "outputs": [],
   "source": [
    "# Definition for singly-linked list.\n",
    "# class ListNode:\n",
    "#     def __init__(self, val=0, next=None):\n",
    "#         self.val = val\n",
    "#         self.next = next\n",
    "def middleNode(head):\n",
    "    i = head\n",
    "    j = head\n",
    "    while True:\n",
    "        j = j.next\n",
    "        if j==None:\n",
    "            return i\n",
    "        i = i.next\n",
    "        j = j.next\n",
    "        if j==None:\n",
    "            return i"
   ]
  },
  {
   "cell_type": "markdown",
   "metadata": {},
   "source": [
    "**567. Permutation in String**\n",
    "\n",
    "Given two strings s1 and s2, return true if s2 contains a permutation of s1, or false otherwise.\n",
    "\n",
    "In other words, return true if one of s1's permutations is the substring of s2."
   ]
  },
  {
   "cell_type": "code",
   "execution_count": 22,
   "metadata": {},
   "outputs": [
    {
     "data": {
      "text/plain": [
       "True"
      ]
     },
     "execution_count": 22,
     "metadata": {},
     "output_type": "execute_result"
    }
   ],
   "source": [
    "# slow! but still passes\n",
    "def checkInclusion(s1, s2):\n",
    "    l = 0\n",
    "    arr1 = sorted(s1)\n",
    "    for r in range(len(s1), len(s2)+1):\n",
    "        if s2[r-1] in arr1:\n",
    "            arr2 = sorted(s2[l:r])\n",
    "            if arr2 == arr1:\n",
    "                return True\n",
    "        l += 1\n",
    "    return False\n",
    "\n",
    "# faster with rolling dictionary\n",
    "from collections import Counter\n",
    "\n",
    "def checkInclusion(s1, s2):\n",
    "    d1 = Counter(s1)\n",
    "    d2 = Counter(s2[:len(s1)])\n",
    "\n",
    "    if d1 == d2:\n",
    "        return True\n",
    "\n",
    "    for l in range(len(s2)-len(s1)):\n",
    "\n",
    "        if d2[s2[l]] == 1:\n",
    "            del d2[s2[l]]\n",
    "        else:\n",
    "            d2[s2[l]] -= 1\n",
    "\n",
    "        if s2[l+len(s1)] in d2:\n",
    "            d2[s2[l+len(s1)]] += 1\n",
    "        else:\n",
    "            d2[s2[l+len(s1)]] = 1\n",
    "        \n",
    "        if d1 == d2:\n",
    "            return True\n",
    "    \n",
    "    return False\n",
    "\n",
    "checkInclusion(\"ab\", \"eidbaooo\")"
   ]
  },
  {
   "cell_type": "markdown",
   "metadata": {},
   "source": [
    "**733. Flood Fill**\n",
    "\n",
    "An image is represented by an m x n integer grid image where image[i][j] represents the pixel value of the image.\n",
    "\n",
    "You are also given three integers sr, sc, and newColor. You should perform a flood fill on the image starting from the pixel image[sr][sc].\n",
    "\n",
    "To perform a flood fill, consider the starting pixel, plus any pixels connected 4-directionally to the starting pixel of the same color as the starting pixel, plus any pixels connected 4-directionally to those pixels (also with the same color), and so on. Replace the color of all of the aforementioned pixels with newColor.\n",
    "\n",
    "Return the modified image after performing the flood fill."
   ]
  },
  {
   "cell_type": "code",
   "execution_count": 23,
   "metadata": {},
   "outputs": [
    {
     "data": {
      "text/plain": [
       "[[0, 0, 0], [0, 1, 1]]"
      ]
     },
     "execution_count": 23,
     "metadata": {},
     "output_type": "execute_result"
    }
   ],
   "source": [
    "def floodFill(image, sr, sc, newColor):\n",
    "    color = image[sr][sc]\n",
    "    image[sr][sc] = newColor\n",
    "    queue = [(sr, sc)]\n",
    "    visited = set([(sr, sc)])\n",
    "    while queue:\n",
    "        r, c = queue.pop(0)\n",
    "        neighbours = [(r-1, c), (r+1, c), (r, c-1), (r, c+1)]\n",
    "        for nr, nc in neighbours:\n",
    "            if nr in range(len(image)) and nc in range(len(image[0])):\n",
    "                if (nr, nc) not in visited and image[nr][nc] == color:\n",
    "                    queue.append((nr, nc))\n",
    "                    visited.add((nr, nc))\n",
    "                    image[nr][nc] = newColor\n",
    "    return image\n",
    "\n",
    "floodFill([[0,0,0],[0,1,1]], 1, 1, 1)"
   ]
  },
  {
   "cell_type": "markdown",
   "metadata": {},
   "source": [
    "**695. Max Area of Island**\n",
    "\n",
    "You are given an m x n binary matrix grid. An island is a group of 1's (representing land) connected 4-directionally (horizontal or vertical.) You may assume all four edges of the grid are surrounded by water.\n",
    "\n",
    "The area of an island is the number of cells with a value 1 in the island.\n",
    "\n",
    "Return the maximum area of an island in grid. If there is no island, return 0."
   ]
  },
  {
   "cell_type": "code",
   "execution_count": 24,
   "metadata": {},
   "outputs": [
    {
     "data": {
      "text/plain": [
       "6"
      ]
     },
     "execution_count": 24,
     "metadata": {},
     "output_type": "execute_result"
    }
   ],
   "source": [
    "def maxAreaOfIsland(grid):\n",
    "    max_area = 0\n",
    "    visited = set()\n",
    "    \n",
    "    def calculate_area(r_in, c_in):\n",
    "        queue = [(r_in, c_in)]\n",
    "        visited.add((r_in, c_in))\n",
    "        area = 0\n",
    "        while queue:\n",
    "            r, c = queue.pop(0)\n",
    "            area += 1\n",
    "            neighbours = [(r-1, c), (r+1, c), (r, c-1), (r, c+1)]\n",
    "            for nr, nc in neighbours:\n",
    "                if nr in range(len(grid)) and nc in range(len(grid[0])):\n",
    "                    if grid[nr][nc] == 1 and (nr, nc) not in visited:\n",
    "                        queue.append((nr, nc))\n",
    "                        visited.add((nr, nc))\n",
    "        return area\n",
    "            \n",
    "    for i in range(len(grid)):\n",
    "        for j in range(len(grid[0])):\n",
    "            if grid[i][j] == 1 and (i, j) not in visited:\n",
    "                a = calculate_area(i, j)\n",
    "                if a > max_area:\n",
    "                    max_area = a\n",
    "       \n",
    "    return max_area\n",
    "\n",
    "maxAreaOfIsland([\n",
    "    [0,0,1,0,0,0,0,1,0,0,0,0,0],\n",
    "    [0,0,0,0,0,0,0,1,1,1,0,0,0],\n",
    "    [0,1,1,0,1,0,0,0,0,0,0,0,0],\n",
    "    [0,1,0,0,1,1,0,0,1,0,1,0,0],\n",
    "    [0,1,0,0,1,1,0,0,1,1,1,0,0],\n",
    "    [0,0,0,0,0,0,0,0,0,0,1,0,0],\n",
    "    [0,0,0,0,0,0,0,1,1,1,0,0,0],\n",
    "    [0,0,0,0,0,0,0,1,1,0,0,0,0]])"
   ]
  },
  {
   "cell_type": "markdown",
   "metadata": {},
   "source": [
    "**617. Merge Two Binary Trees**\n",
    "\n",
    "You are given two binary trees root1 and root2.\n",
    "\n",
    "Imagine that when you put one of them to cover the other, some nodes of the two trees are overlapped while the others are not. You need to merge the two trees into a new binary tree. The merge rule is that if two nodes overlap, then sum node values up as the new value of the merged node. Otherwise, the NOT null node will be used as the node of the new tree.\n",
    "\n",
    "Return the merged tree."
   ]
  },
  {
   "cell_type": "code",
   "execution_count": 25,
   "metadata": {},
   "outputs": [],
   "source": [
    "# Definition for a binary tree node.\n",
    "# class TreeNode:\n",
    "#     def __init__(self, val=0, left=None, right=None):\n",
    "#         self.val = val\n",
    "#         self.left = left\n",
    "#         self.right = right\n",
    "\n",
    "# returning new tree\n",
    "def mergeTrees(self, root1, root2):\n",
    "    if not root1 and not root2:\n",
    "        return None\n",
    "\n",
    "    v1 = root1.val if root1 else 0\n",
    "    v2 = root2.val if root2 else 0\n",
    "\n",
    "    root = TreeNode(v1+v2)\n",
    "\n",
    "    root.left = self.mergeTrees(root1.left if root1 else None, root2.left if root2 else None)\n",
    "    root.right = self.mergeTrees(root1.right if root1 else None, root2.right if root2 else None)\n",
    "\n",
    "    return root\n",
    "\n",
    "# returning modified tree 1\n",
    "def mergeTrees(self, root1, root2):\n",
    "    if root1 is None:\n",
    "        return root2\n",
    "    if root2 is None:\n",
    "        return root1\n",
    "    root1.val = root1.val + root2.val\n",
    "    root1.left = self.mergeTrees(root1.left, root2.left)\n",
    "    root1.right = self.mergeTrees(root1.right, root2.right)\n",
    "    return root1"
   ]
  },
  {
   "cell_type": "markdown",
   "metadata": {},
   "source": [
    "**116. Populating Next Right Pointers in Each Node**\n",
    "\n",
    "You are given a perfect binary tree where all leaves are on the same level, and every parent has two children. \n",
    "\n",
    "Populate each next pointer to point to its next right node. If there is no next right node, the next pointer should be set to NULL.\n",
    "\n",
    "Initially, all next pointers are set to NULL."
   ]
  },
  {
   "cell_type": "code",
   "execution_count": 26,
   "metadata": {},
   "outputs": [],
   "source": [
    "\"\"\"\n",
    "# Definition for a Node.\n",
    "class Node:\n",
    "    def __init__(self, val: int = 0, left: 'Node' = None, right: 'Node' = None, next: 'Node' = None):\n",
    "        self.val = val\n",
    "        self.left = left\n",
    "        self.right = right\n",
    "        self.next = next\n",
    "\"\"\"\n",
    "\n",
    "# my solution\n",
    "def connect(root):\n",
    "    if root == None:\n",
    "        return root\n",
    "    queue = [root]\n",
    "    while queue:\n",
    "        level = queue\n",
    "        queue = list()\n",
    "        for i in range(len(level)-1):\n",
    "            level[i].next = level[i+1]\n",
    "            if level[i].left:\n",
    "                queue.append(level[i].left)\n",
    "                queue.append(level[i].right)\n",
    "        if level[len(level)-1].left:\n",
    "            queue.append(level[len(level)-1].left)\n",
    "            queue.append(level[len(level)-1].right)\n",
    "    return root"
   ]
  },
  {
   "cell_type": "markdown",
   "metadata": {},
   "source": [
    "**542. 01 Matrix**\n",
    "\n",
    "Given an m x n binary matrix mat, return the distance of the nearest 0 for each cell.\n",
    "\n",
    "The distance between two adjacent cells is 1."
   ]
  },
  {
   "cell_type": "code",
   "execution_count": 27,
   "metadata": {},
   "outputs": [
    {
     "data": {
      "text/plain": [
       "[[0, 0, 0], [0, 1, 0], [1, 2, 1]]"
      ]
     },
     "execution_count": 27,
     "metadata": {},
     "output_type": "execute_result"
    }
   ],
   "source": [
    "# times out on long test cases\n",
    "def updateMatrix(mat):\n",
    "\n",
    "    # for storing altered values, to differentiate between default 1s and actual 1s\n",
    "    altered = set()\n",
    "\n",
    "    def from_zero(row, col):\n",
    "        counter = 0\n",
    "        visited = {(row, col)}\n",
    "        queue = [(row, col)]\n",
    "\n",
    "        while queue:\n",
    "            next_level = list()\n",
    "            while queue:\n",
    "                r,c = queue.pop(0)\n",
    "                if (r,c) not in altered:\n",
    "                    mat[r][c] = counter\n",
    "                    altered.add((r,c))\n",
    "                elif counter < mat[r][c]:\n",
    "                    mat[r][c] = counter\n",
    "\n",
    "                neighbours = [(r+1, c), (r-1, c), (r, c+1), (r, c-1)]\n",
    "\n",
    "                for x, y in neighbours:\n",
    "                    if 0 <= x < len(mat) and 0 <= y < len(mat[0]):\n",
    "                        if mat[x][y] != 0 and (x,y) not in visited:\n",
    "                            if (x,y) not in altered:\n",
    "                                next_level.append((x,y))\n",
    "                                visited.add((x,y))\n",
    "                            elif mat[x][y] > counter+1:\n",
    "                                next_level.append((x,y))\n",
    "                                visited.add((x,y))\n",
    "            queue = next_level\n",
    "            counter += 1\n",
    "            \n",
    "    for r in range(len(mat)):\n",
    "        for c in range(len(mat[0])):\n",
    "            if mat[r][c] == 0:\n",
    "                from_zero(r,c)\n",
    "\n",
    "    return mat\n",
    "\n",
    "mat = [[0,0,0],[0,1,0],[1,1,1]]\n",
    "\n",
    "updateMatrix(mat)"
   ]
  },
  {
   "cell_type": "code",
   "execution_count": 28,
   "metadata": {},
   "outputs": [
    {
     "data": {
      "text/plain": [
       "[[0, 0, 0], [0, 1, 0], [1, 2, 1]]"
      ]
     },
     "execution_count": 28,
     "metadata": {},
     "output_type": "execute_result"
    }
   ],
   "source": [
    "from collections import deque\n",
    "\n",
    "def updateMatrix(mat):\n",
    "\n",
    "    q = deque()\n",
    "\n",
    "    for i in range(len(mat)):\n",
    "        for j in range(len(mat[0])):\n",
    "            if mat[i][j] == 0:\n",
    "                q.append((i,j))\n",
    "            else:\n",
    "                mat[i][j] = \"x\"\n",
    "\n",
    "    while q:\n",
    "        # popping the leftmost coordiantes\n",
    "        r, c = q.popleft()\n",
    "        # creating a list with neighbouring coordinates\n",
    "        neighbours = [(r+1, c), (r-1, c), (r, c+1), (r, c-1)]\n",
    "        # iterating through neighbours\n",
    "        for x, y in neighbours:\n",
    "            # if x and y are in the frame\n",
    "            # and if the cell is marked with x\n",
    "            if 0 <= x < len(mat) and 0 <= y < len(mat[0]) and mat[x][y] == \"x\":\n",
    "                # we give the neighbouring cell a value of parent cell +1\n",
    "                mat[x][y] = mat[r][c] + 1\n",
    "                # we add the neighbouring cell to the queue\n",
    "                q.append((x,y))\n",
    "\n",
    "    # note that since all the 0s are added to the queue first, we avoid giving incorrect values to xs that are next to distant 0s!!\n",
    "    return mat\n",
    "\n",
    "mat = [[0,0,0],[0,1,0],[1,1,1]]\n",
    "\n",
    "updateMatrix(mat)"
   ]
  },
  {
   "cell_type": "markdown",
   "metadata": {},
   "source": [
    "**994. Rotting Oranges**\n",
    "\n",
    "You are given an m x n grid where each cell can have one of three values:\n",
    "\n",
    "0 representing an empty cell,\n",
    "1 representing a fresh orange, or\n",
    "2 representing a rotten orange.\n",
    "Every minute, any fresh orange that is 4-directionally adjacent to a rotten orange becomes rotten.\n",
    "\n",
    "Return the minimum number of minutes that must elapse until no cell has a fresh orange. If this is impossible, return -1."
   ]
  },
  {
   "cell_type": "code",
   "execution_count": 29,
   "metadata": {},
   "outputs": [
    {
     "data": {
      "text/plain": [
       "0"
      ]
     },
     "execution_count": 29,
     "metadata": {},
     "output_type": "execute_result"
    }
   ],
   "source": [
    "from collections import deque\n",
    "\n",
    "def orangesRotting(grid):\n",
    "    height = len(grid)\n",
    "    width = len(grid[0])\n",
    "    total_cells = height * width\n",
    "    total_empty = 0\n",
    "    total_rotten = 0\n",
    "    max_mins = -1\n",
    "\n",
    "    q = deque()\n",
    "\n",
    "    for r in range(height):\n",
    "        for c in range(width):\n",
    "            if grid[r][c] == 0:\n",
    "                total_empty += 1\n",
    "            elif grid[r][c] == 2:\n",
    "                q.append((r,c))\n",
    "\n",
    "    if total_empty + len(q) == total_cells:\n",
    "        return 0\n",
    "\n",
    "    while q:\n",
    "        r,c = q.popleft()\n",
    "        total_rotten += 1\n",
    "        neighbours = [(r+1, c), (r-1, c), (r, c+1), (r, c-1)]\n",
    "        for x, y in neighbours:\n",
    "            if 0 <= x < height and 0 <= y < width and grid[x][y] == 1:\n",
    "                val = grid[r][c] + 1\n",
    "                grid[x][y] = val\n",
    "                if val-2 > max_mins:\n",
    "                    max_mins = val-2\n",
    "                q.append((x,y))\n",
    "\n",
    "    return max_mins if (total_rotten + total_empty) == total_cells else -1\n",
    "\n",
    "\n",
    "# grid = [[2,1,1],[1,1,0],[0,1,1]]\n",
    "grid = [[0,2]]\n",
    "# grid = [[2,1,1],[0,1,1],[1,0,1]]\n",
    "orangesRotting(grid)\n"
   ]
  },
  {
   "cell_type": "markdown",
   "metadata": {},
   "source": [
    "**21. Merge Two Sorted Lists**\n",
    "\n",
    "You are given the heads of two sorted linked lists list1 and list2.\n",
    "\n",
    "Merge the two lists in a one sorted list. The list should be made by splicing together the nodes of the first two lists.\n",
    "\n",
    "Return the head of the merged linked list."
   ]
  },
  {
   "cell_type": "code",
   "execution_count": 30,
   "metadata": {},
   "outputs": [],
   "source": [
    "# Definition for singly-linked list.\n",
    "# class ListNode:\n",
    "#     def __init__(self, val=0, next=None):\n",
    "#         self.val = val\n",
    "#         self.next = next\n",
    "\n",
    "# my solution\n",
    "def mergeTwoLists(l1, l2):\n",
    "        \n",
    "    if not l1:\n",
    "        return l2\n",
    "    if not l2:\n",
    "        return l1\n",
    "    \n",
    "    def addSmallest(l1, l2, l3):\n",
    "        if l1 and not l2:\n",
    "            l3.next = l1\n",
    "            return l3\n",
    "        if not l1 and l2:\n",
    "            l3.next = l2\n",
    "            return l3\n",
    "        if l1.val <= l2.val:\n",
    "            l3.next = l1\n",
    "            addSmallest(l1.next, l2, l3.next)\n",
    "        else:\n",
    "            l3.next = l2\n",
    "            addSmallest(l1, l2.next, l3.next)\n",
    "        \n",
    "    if l1.val <= l2.val:\n",
    "        l3 = l1\n",
    "        addSmallest(l1.next, l2, l3)\n",
    "    else:\n",
    "        l3 = l2\n",
    "        addSmallest(l1, l2.next, l3)\n",
    "    \n",
    "    return l3\n",
    "\n",
    "\n",
    "# much shorter solution\n",
    "def mergeTwoLists2(self, l1, l2):\n",
    "    if not l1 or not l2:\n",
    "        # return x or y returns the not-None value\n",
    "        return l1 or l2\n",
    "\n",
    "    if l1.val < l2.val:\n",
    "        l1.next = self.mergeTwoLists(l1.next, l2)\n",
    "        return l1\n",
    "        \n",
    "    else:\n",
    "        l2.next = self.mergeTwoLists(l1, l2.next)\n",
    "        return l2"
   ]
  },
  {
   "cell_type": "markdown",
   "metadata": {},
   "source": [
    "**206. Reverse Linked List**\n",
    "\n",
    "Given the head of a singly linked list, reverse the list, and return the reversed list."
   ]
  },
  {
   "cell_type": "code",
   "execution_count": 31,
   "metadata": {},
   "outputs": [],
   "source": [
    "# Definition for singly-linked list.\n",
    "# class ListNode:\n",
    "#     def __init__(self, val=0, next=None):\n",
    "#         self.val = val\n",
    "#         self.next = next\n",
    "\n",
    "# recursive\n",
    "def reverseList(self, head):\n",
    "    if not head or not head.next:\n",
    "        return head\n",
    "    node = self.reverseList(head.next)\n",
    "    head.next.next = head\n",
    "    head.next = None\n",
    "    \n",
    "    return node\n",
    "\n",
    "# iterative\n",
    "def reverseList(self, head):\n",
    "    node = None\n",
    "    while head:\n",
    "        tmp = head.next\n",
    "        head.next = node\n",
    "        node = head\n",
    "        head = tmp\n",
    "    return node\n",
    "\n",
    "# simpler iterative, using unpacking syntax, making temp values unnecesasary \n",
    "def reverseList(self, head):\n",
    "    node = None\n",
    "    while head:\n",
    "        node, head.next, head = head, node, head.next\n",
    "    return node\n"
   ]
  },
  {
   "cell_type": "markdown",
   "metadata": {},
   "source": [
    "**77. Combinations**\n",
    "\n",
    "Given two integers n and k, return all possible combinations of k numbers out of the range [1, n].\n",
    "\n",
    "You may return the answer in any order."
   ]
  },
  {
   "cell_type": "code",
   "execution_count": 32,
   "metadata": {},
   "outputs": [],
   "source": [
    "def combine(n: int, k: int):\n",
    "    out = []\n",
    "    \n",
    "    def backtrack(start, comb):\n",
    "        if len(comb) == k:\n",
    "            out.append(comb.copy())\n",
    "            return\n",
    "        \n",
    "        for i in range(start, n+1):\n",
    "            comb.append(i)\n",
    "            backtrack(i+1, comb)\n",
    "            comb.pop()\n",
    "    \n",
    "    backtrack(1, [])\n",
    "    \n",
    "    return out"
   ]
  },
  {
   "cell_type": "markdown",
   "metadata": {},
   "source": [
    "**70. Climbing Stairs**\n",
    "\n",
    "You are climbing a staircase. It takes n steps to reach the top.\n",
    "\n",
    "Each time you can either climb 1 or 2 steps. In how many distinct ways can you climb to the top?"
   ]
  },
  {
   "cell_type": "code",
   "execution_count": 33,
   "metadata": {},
   "outputs": [
    {
     "data": {
      "text/plain": [
       "2504730781961"
      ]
     },
     "execution_count": 33,
     "metadata": {},
     "output_type": "execute_result"
    }
   ],
   "source": [
    "# fibonacci\n",
    "def climbStairs(n) -> int:\n",
    "    one = 1\n",
    "    two = 1\n",
    "    for _ in range(n-1):\n",
    "        one, two = (one+two), one\n",
    "        \n",
    "    return one\n",
    "\n",
    "climbStairs(60)"
   ]
  },
  {
   "cell_type": "markdown",
   "metadata": {},
   "source": [
    "**79. Word Search**\n",
    "\n",
    "Given an m x n grid of characters board and a string word, return true if word exists in the grid.\n",
    "\n",
    "The word can be constructed from letters of sequentially adjacent cells, where adjacent cells are horizontally or vertically neighboring. The same letter cell may not be used more than once."
   ]
  },
  {
   "cell_type": "code",
   "execution_count": 10,
   "metadata": {},
   "outputs": [
    {
     "name": "stdout",
     "output_type": "stream",
     "text": [
      "True\n",
      "True\n",
      "False\n",
      "True\n"
     ]
    }
   ],
   "source": [
    "# via NeetCode https://youtu.be/pfiQ_PS1g8E\n",
    "def exist(board, word) -> bool:\n",
    "    height = len(board)\n",
    "    width = len(board[0])\n",
    "\n",
    "    visited = set()\n",
    "\n",
    "    def dfs(r,c,i):\n",
    "        if i == len(word):\n",
    "            return True\n",
    "        if r < 0 or c < 0 or r >= height or c >= width or (r,c) in visited or board[r][c] != word[i]:\n",
    "            return False\n",
    "\n",
    "        visited.add((r,c))\n",
    "        res = dfs(r+1, c, i+1) or dfs(r, c+1, i+1) or dfs(r-1, c, i+1) or dfs(r, c-1, i+1)\n",
    "        visited.remove((r,c))\n",
    "        return res\n",
    "\n",
    "    for r in range(height):\n",
    "        for c in range(width):\n",
    "            if dfs(r, c, 0):\n",
    "                return True\n",
    "\n",
    "    return False\n",
    "\n",
    "# iterative\n",
    "def exist(board, word) -> bool:\n",
    "    height = len(board)\n",
    "    width = len(board[0])\n",
    "\n",
    "    found = False\n",
    "\n",
    "    def dfs(h, w):\n",
    "        visited = {(h,w)}\n",
    "        stack = []\n",
    "        stack.append([h, w, 1, visited])\n",
    "\n",
    "        while stack:\n",
    "            h, w, i, visited = stack.pop()\n",
    "            if i == len(word):\n",
    "                return True\n",
    "\n",
    "            neighbours = [(h+1,w), (h-1,w), (h,w+1), (h,w-1)]\n",
    "\n",
    "            for hh, ww in neighbours:\n",
    "                if 0 <= hh < height and 0 <= ww < width and (hh,ww) not in visited and board[hh][ww] == word[i]:\n",
    "                    visited_copy = visited.copy()\n",
    "                    visited_copy.add((hh,ww))\n",
    "                    stack.append([hh, ww, i+1, visited_copy])\n",
    "\n",
    "    for h in range(height):\n",
    "        for w in range(width):\n",
    "            if board[h][w] == word[0]:\n",
    "                found = dfs(h,w)\n",
    "                if found:\n",
    "                    return True\n",
    "                \n",
    "    return False\n",
    "\n",
    "board = [[\"A\",\"B\",\"C\",\"E\"],[\"S\",\"F\",\"C\",\"S\"],[\"A\",\"D\",\"E\",\"E\"]]\n",
    "word = \"ABCCED\"\n",
    "\n",
    "print(exist(board, word)) # True\n",
    "\n",
    "board = [[\"A\",\"B\",\"C\",\"E\"],[\"S\",\"F\",\"C\",\"S\"],[\"A\",\"D\",\"E\",\"E\"]]\n",
    "word = \"SEE\"\n",
    "\n",
    "print(exist(board, word)) # True\n",
    "\n",
    "board = [[\"A\",\"B\",\"C\",\"E\"],[\"S\",\"F\",\"C\",\"S\"],[\"A\",\"D\",\"E\",\"E\"]]\n",
    "word = \"ABCB\"\n",
    "\n",
    "print(exist(board, word)) # False\n",
    "\n",
    "board = [[\"a\"]]\n",
    "word = \"a\"\n",
    "\n",
    "print(exist(board, word)) # True"
   ]
  },
  {
   "cell_type": "markdown",
   "metadata": {},
   "source": [
    "**48. Rotate Image**\n",
    "\n",
    "You are given an n x n 2D matrix representing an image, rotate the image by 90 degrees (clockwise).\n",
    "\n",
    "You have to rotate the image in-place, which means you have to modify the input 2D matrix directly. DO NOT allocate another 2D matrix and do the rotation."
   ]
  },
  {
   "cell_type": "code",
   "execution_count": 35,
   "metadata": {},
   "outputs": [
    {
     "name": "stdout",
     "output_type": "stream",
     "text": [
      "[[7, 4, 1], [8, 5, 2], [9, 6, 3]]\n"
     ]
    }
   ],
   "source": [
    "def rotate(matrix) -> None:\n",
    "    \"\"\"\n",
    "    Do not return anything, modify matrix in-place instead.\n",
    "    \"\"\"\n",
    "    length = len(matrix)\n",
    "    top = 0\n",
    "    bot = length-1\n",
    "    \n",
    "    # inverting rows\n",
    "    while top < bot:\n",
    "        matrix[top], matrix[bot] = matrix[bot], matrix[top]\n",
    "        top += 1\n",
    "        bot -= 1\n",
    "\n",
    "    # transposing\n",
    "    # can also use for i in range(length)\n",
    "    for i in range(1, length):\n",
    "        for j in range(i):\n",
    "            matrix[i][j], matrix[j][i] = matrix[j][i], matrix[i][j]\n",
    "\n",
    "    print(matrix)\n",
    "\n",
    "matrix = [[1,2,3],[4,5,6],[7,8,9]]\n",
    "\n",
    "rotate(matrix)"
   ]
  },
  {
   "cell_type": "code",
   "execution_count": 36,
   "metadata": {},
   "outputs": [
    {
     "name": "stdout",
     "output_type": "stream",
     "text": [
      "[0, 2, 2]\n",
      "[1, 0, 2]\n",
      "[1, 1, 0]\n"
     ]
    }
   ],
   "source": [
    "# to understand the transposing above\n",
    "mat = [[0 for _ in range(3)] for _ in range(3)]\n",
    "\n",
    "for i in range(3):\n",
    "    for j in range(i):\n",
    "        mat[i][j] = 1\n",
    "        mat[j][i] = 2\n",
    "\n",
    "for row in mat:\n",
    "    print(row)"
   ]
  },
  {
   "cell_type": "code",
   "execution_count": 37,
   "metadata": {},
   "outputs": [
    {
     "name": "stdout",
     "output_type": "stream",
     "text": [
      "[[7, 4, 1], [8, 5, 2], [9, 6, 3]]\n"
     ]
    }
   ],
   "source": [
    "def rotate(matrix) -> None:\n",
    "    \"\"\"\n",
    "    Do not return anything, modify matrix in-place instead.\n",
    "    \"\"\"\n",
    "    l = 0\n",
    "    r = len(matrix) - 1\n",
    "\n",
    "    while l < r:\n",
    "        for i in range(r - l):\n",
    "            # top, bot are not necessary, but make it easier to visualise the problem\n",
    "            top, bot = l, r\n",
    "\n",
    "            matrix[top][l+i], matrix[top+i][r], matrix[bot][r-i], matrix[bot-i][l] = \\\n",
    "            matrix[bot-i][l], matrix[top][l+i], matrix[top+i][r], matrix[bot][r-i]\n",
    "\n",
    "        l += 1\n",
    "        r -= 1\n",
    "\n",
    "    print(matrix)\n",
    "\n",
    "matrix = [[1,2,3],[4,5,6],[7,8,9]]\n",
    "\n",
    "rotate(matrix)"
   ]
  },
  {
   "cell_type": "markdown",
   "metadata": {},
   "source": [
    "**139. Word Break**\n",
    "\n",
    "Given a string s and a dictionary of strings wordDict, return true if s can be segmented into a space-separated sequence of one or more dictionary words.\n",
    "\n",
    "Note that the same word in the dictionary may be reused multiple times in the segmentation."
   ]
  },
  {
   "cell_type": "code",
   "execution_count": 38,
   "metadata": {},
   "outputs": [
    {
     "data": {
      "text/plain": [
       "True"
      ]
     },
     "execution_count": 38,
     "metadata": {},
     "output_type": "execute_result"
    }
   ],
   "source": [
    "def wordBreak(s, wordDict) -> bool:\n",
    "    store = [False for _ in range(len(s))]\n",
    "    store.append(True)\n",
    "    \n",
    "    for i in range(len(s)-1, -1, -1):\n",
    "        for w in wordDict:\n",
    "            if len(s)-i >= len(w) and w == s[i:i+len(w)]:\n",
    "                if store[i+len(w)]:\n",
    "                    store[i] = True\n",
    "                if store[i]:\n",
    "                    break\n",
    "                \n",
    "    return store[0]\n",
    "\n",
    "s = \"leetcode\"; wordDict = [\"leet\",\"code\"]\n",
    "\n",
    "wordBreak(s, wordDict)"
   ]
  },
  {
   "cell_type": "markdown",
   "metadata": {},
   "source": [
    "**680. Valid Palindrome II**\n",
    "\n",
    "Given a string s, return true if the s can be palindrome after deleting at most one character from it."
   ]
  },
  {
   "cell_type": "code",
   "execution_count": 39,
   "metadata": {},
   "outputs": [
    {
     "data": {
      "text/plain": [
       "False"
      ]
     },
     "execution_count": 39,
     "metadata": {},
     "output_type": "execute_result"
    }
   ],
   "source": [
    "def validPalindrome(s: str) -> bool:\n",
    "    \n",
    "    def isPalindrome(st, l, r):\n",
    "        while l < r:\n",
    "            if st[l] != st[r]:\n",
    "                return False\n",
    "            l += 1\n",
    "            r -= 1\n",
    "        return True\n",
    "\n",
    "    left = 0\n",
    "    rght = len(s)-1\n",
    "\n",
    "    while left < rght:\n",
    "        if s[left] != s[rght]:\n",
    "            return isPalindrome(s, left+1, rght) or isPalindrome(s, left, rght-1)\n",
    "        left += 1\n",
    "        rght -= 1\n",
    "    \n",
    "    return True\n",
    "\n",
    "s = \"abc\"\n",
    "validPalindrome(s)\n"
   ]
  },
  {
   "cell_type": "markdown",
   "metadata": {},
   "source": [
    "**1094. Car Pooling**\n",
    "\n",
    "There is a car with capacity empty seats. The vehicle only drives east (i.e., it cannot turn around and drive west).\n",
    "\n",
    "You are given the integer capacity and an array trips where trips[i] = [numPassengersi, fromi, toi] indicates that the ith trip has numPassengersi passengers and the locations to pick them up and drop them off are fromi and toi respectively. The locations are given as the number of kilometers due east from the car's initial location.\n",
    "\n",
    "Return true if it is possible to pick up and drop off all passengers for all the given trips, or false otherwise."
   ]
  },
  {
   "cell_type": "code",
   "execution_count": 40,
   "metadata": {},
   "outputs": [
    {
     "data": {
      "text/plain": [
       "True"
      ]
     },
     "execution_count": 40,
     "metadata": {},
     "output_type": "execute_result"
    }
   ],
   "source": [
    "# accepted but slow\n",
    "def carPooling(trips, capacity) -> bool:\n",
    "    kms = dict()\n",
    "    for p, start, stop in trips:\n",
    "        for i in range(start, stop):\n",
    "            # if the key exists - incriment, else add\n",
    "            kms[i] = kms.get(i, 0) + p\n",
    "            if kms[i] > capacity:\n",
    "                return False\n",
    "    return True\n",
    "\n",
    "# faster\n",
    "def carPooling(trips, capacity) -> bool:\n",
    "    changes = [0 for _ in range(1001)]\n",
    "    for p, start, stop in trips:\n",
    "        changes[start] += p\n",
    "        changes[stop] -= p\n",
    "    total = 0\n",
    "    for ch in changes:\n",
    "        total += ch\n",
    "        if total > capacity:\n",
    "            return False\n",
    "    return True\n",
    "    \n",
    "# trips = [[2,1,5],[3,3,7]]; capacity = 4\n",
    "trips = [[2,1,5],[3,3,7]]; capacity = 5\n",
    "carPooling(trips, capacity)"
   ]
  },
  {
   "cell_type": "markdown",
   "metadata": {},
   "source": [
    "**122. Best Time to Buy and Sell Stock II**\n",
    "\n",
    "You are given an integer array prices where prices[i] is the price of a given stock on the ith day.\n",
    "\n",
    "On each day, you may decide to buy and/or sell the stock. You can only hold at most one share of the stock at any time. However, you can buy it then immediately sell it on the same day.\n",
    "\n",
    "Find and return the maximum profit you can achieve."
   ]
  },
  {
   "cell_type": "code",
   "execution_count": 41,
   "metadata": {},
   "outputs": [
    {
     "data": {
      "text/plain": [
       "4"
      ]
     },
     "execution_count": 41,
     "metadata": {},
     "output_type": "execute_result"
    }
   ],
   "source": [
    "def maxProfit(prices):\n",
    "    profit = 0\n",
    "    purchased = False\n",
    "    i = 0\n",
    "    for j in range(1, len(prices)):\n",
    "        if prices[j] > prices[j-1] and not purchased:\n",
    "            purchased = True\n",
    "            i = j-1\n",
    "        elif prices[j] < prices[j-1] and purchased:\n",
    "            purchased = False\n",
    "            profit += prices[j-1] - prices[i]\n",
    "    \n",
    "    if purchased:\n",
    "        profit += prices[-1] - prices[i]\n",
    "\n",
    "    return profit\n",
    "\n",
    "prices = [1,2,3,4,5]\n",
    "\n",
    "maxProfit(prices)"
   ]
  },
  {
   "cell_type": "markdown",
   "metadata": {},
   "source": [
    "**217. Contains Duplicate**\n",
    "\n",
    "Given an integer array nums, return true if any value appears at least twice in the array, and return false if every element is distinct."
   ]
  },
  {
   "cell_type": "code",
   "execution_count": 42,
   "metadata": {},
   "outputs": [
    {
     "data": {
      "text/plain": [
       "True"
      ]
     },
     "execution_count": 42,
     "metadata": {},
     "output_type": "execute_result"
    }
   ],
   "source": [
    "# one liner - quite slow\n",
    "def containsDuplicate(nums):\n",
    "    return True if len(set(nums)) < len(nums) else False\n",
    "\n",
    "# for some reason this is faster\n",
    "def containsDuplicate(nums):\n",
    "    return len(set(nums)) != len(nums)\n",
    "\n",
    "nums = [1,1,1,3,3,4,3,2,4,2]\n",
    "containsDuplicate(nums)"
   ]
  },
  {
   "cell_type": "markdown",
   "metadata": {},
   "source": [
    "**350. Intersection of Two Arrays II**\n",
    "\n",
    "Given two integer arrays nums1 and nums2, return an array of their intersection. Each element in the result must appear as many times as it shows in both arrays and you may return the result in any order."
   ]
  },
  {
   "cell_type": "code",
   "execution_count": 43,
   "metadata": {},
   "outputs": [
    {
     "data": {
      "text/plain": [
       "[4, 9]"
      ]
     },
     "execution_count": 43,
     "metadata": {},
     "output_type": "execute_result"
    }
   ],
   "source": [
    "def intersect(nums1, nums2):\n",
    "    s1 = sorted(nums1)\n",
    "    s2 = sorted(nums2)\n",
    "    out = list()\n",
    "\n",
    "    i = 0\n",
    "    j = 0\n",
    "    while i < len(s1) and j < len(s2):\n",
    "        if s1[i] < s2[j]:\n",
    "            i += 1\n",
    "        elif s1[i] > s2[j]:\n",
    "            j += 1\n",
    "        else:\n",
    "            out.append(s1[i])\n",
    "            i += 1\n",
    "            j += 1\n",
    "\n",
    "    return out\n",
    "\n",
    "nums1 = [4,9,5]; nums2 = [9,4,9,8,4]\n",
    "intersect(nums1, nums2)"
   ]
  },
  {
   "cell_type": "markdown",
   "metadata": {},
   "source": [
    "**36. Valid Sudoku**\n",
    "\n",
    "Determine if a 9 x 9 Sudoku board is valid. Only the filled cells need to be validated according to the following rules:\n",
    "\n",
    "* Each row must contain the digits 1-9 without repetition.\n",
    "* Each column must contain the digits 1-9 without repetition.\n",
    "* Each of the nine 3 x 3 sub-boxes of the grid must contain the digits 1-9 without repetition.\n",
    "\n",
    "Note:\n",
    "* A Sudoku board (partially filled) could be valid but is not necessarily solvable.\n",
    "* Only the filled cells need to be validated according to the mentioned rules."
   ]
  },
  {
   "cell_type": "code",
   "execution_count": 44,
   "metadata": {},
   "outputs": [
    {
     "data": {
      "text/plain": [
       "False"
      ]
     },
     "execution_count": 44,
     "metadata": {},
     "output_type": "execute_result"
    }
   ],
   "source": [
    "def isValidSudoku(board) -> bool:\n",
    "    \n",
    "    def isValid(arr):\n",
    "        return len(set(arr)) == len(arr)\n",
    "\n",
    "    # checking rows\n",
    "    for row in board:\n",
    "        if not isValid([n for n in row if n != \".\"]):\n",
    "            return False\n",
    "        \n",
    "    # checking cols\n",
    "    for i in range(len(board)):\n",
    "        col = []\n",
    "        for j in range(len(board[0])):\n",
    "            if board[j][i] != \".\":\n",
    "                col.append(board[j][i])\n",
    "        if not isValid(col):\n",
    "            return False\n",
    "\n",
    "    # checking boxes\n",
    "    for i in range(1, 9, 3):\n",
    "        for j in range(1, 9, 3):\n",
    "            square = []\n",
    "            for k in range(-1,2,1):\n",
    "                for l in range(-1,2,1):\n",
    "                    n = board[i+k][j+l]\n",
    "                    if n != \".\":\n",
    "                        square.append(n)\n",
    "            print(square)\n",
    "            if not isValid(square):\n",
    "                return False\n",
    "\n",
    "    return True\n",
    "\n",
    "board = \\\n",
    "[[\"8\",\"3\",\".\",\".\",\"7\",\".\",\".\",\".\",\".\"]\n",
    ",[\"6\",\".\",\".\",\"1\",\"9\",\"5\",\".\",\".\",\".\"]\n",
    ",[\".\",\"9\",\"8\",\".\",\".\",\".\",\".\",\"6\",\".\"]\n",
    ",[\"8\",\".\",\".\",\".\",\"6\",\".\",\".\",\".\",\"3\"]\n",
    ",[\"4\",\".\",\".\",\"8\",\".\",\"3\",\".\",\".\",\"1\"]\n",
    ",[\"7\",\".\",\".\",\".\",\"2\",\".\",\".\",\".\",\"6\"]\n",
    ",[\".\",\"6\",\".\",\".\",\".\",\".\",\"2\",\"8\",\".\"]\n",
    ",[\".\",\".\",\".\",\"4\",\"1\",\"9\",\".\",\".\",\"5\"]\n",
    ",[\".\",\".\",\".\",\".\",\"8\",\".\",\".\",\"7\",\"9\"]]\n",
    "\n",
    "isValidSudoku(board)"
   ]
  },
  {
   "cell_type": "markdown",
   "metadata": {},
   "source": [
    "**344. Reverse String**\n",
    "\n",
    "Write a function that reverses a string. The input string is given as an array of characters s.\n",
    "\n",
    "You must do this by modifying the input array in-place with O(1) extra memory."
   ]
  },
  {
   "cell_type": "code",
   "execution_count": 45,
   "metadata": {},
   "outputs": [
    {
     "name": "stdout",
     "output_type": "stream",
     "text": [
      "['o', 'l', 'l', 'e', 'h']\n"
     ]
    }
   ],
   "source": [
    "def reverseString(s) -> None:\n",
    "    \"\"\"\n",
    "    Do not return anything, modify s in-place instead.\n",
    "    \"\"\"\n",
    "    l = 0\n",
    "    r = len(s)-1\n",
    "    \n",
    "    while l <= r:\n",
    "        s[l], s[r] = s[r], s[l]\n",
    "        l += 1\n",
    "        r -= 1\n",
    "\n",
    "    print(s)\n",
    "\n",
    "s = [\"h\",\"e\",\"l\",\"l\",\"o\"]\n",
    "reverseString(s)"
   ]
  },
  {
   "cell_type": "markdown",
   "metadata": {},
   "source": [
    "**7. Reverse Integer**\n",
    "\n",
    "Given a signed 32-bit integer x, return x with its digits reversed. If reversing x causes the value to go outside the signed 32-bit integer range [-231, 231 - 1], then return 0."
   ]
  },
  {
   "cell_type": "code",
   "execution_count": 48,
   "metadata": {},
   "outputs": [
    {
     "data": {
      "text/plain": [
       "321"
      ]
     },
     "execution_count": 48,
     "metadata": {},
     "output_type": "execute_result"
    }
   ],
   "source": [
    "def reverse(x: int) -> int:\n",
    "    solution = int(str(abs(x))[::-1])\n",
    "    if x < 0: solution = solution * -1\n",
    "    if solution < -2**31 or solution > (2**31)-1:\n",
    "        return 0\n",
    "    else:\n",
    "        return solution\n",
    "\n",
    "x = 123\n",
    "reverse(x)"
   ]
  },
  {
   "cell_type": "markdown",
   "metadata": {},
   "source": [
    "**387. First Unique Character in a String**\n",
    "\n",
    "Given a string s, find the first non-repeating character in it and return its index. If it does not exist, return -1."
   ]
  },
  {
   "cell_type": "code",
   "execution_count": 17,
   "metadata": {},
   "outputs": [
    {
     "name": "stdout",
     "output_type": "stream",
     "text": [
      "2  -1  0  2  -1  0  "
     ]
    }
   ],
   "source": [
    "def firstUniqChar(s: str) -> int:\n",
    "    \n",
    "    indices = dict()\n",
    "\n",
    "    for i in range(len(s)):\n",
    "        if s[i] not in indices:\n",
    "            indices[s[i]] = i\n",
    "        else:\n",
    "            indices[s[i]] = -1\n",
    "\n",
    "    unique = sorted(set(indices.values()))\n",
    "\n",
    "    if len(unique) == 1:\n",
    "        return unique[0]\n",
    "    else:\n",
    "        for n in unique:\n",
    "            if n > -1:\n",
    "                return n\n",
    "\n",
    "\n",
    "# another solution, with import - actually slower!\n",
    "from collections import OrderedDict\n",
    "\n",
    "def firstUniqChar2(s: str) -> int:\n",
    "    dic = OrderedDict()\n",
    "\n",
    "    for i in range(len(s)):\n",
    "        if s[i] not in dic:\n",
    "            dic[s[i]] = [1, i]\n",
    "        else:\n",
    "            dic[s[i]] = [2, i]\n",
    "\n",
    "    for count, index in dic.values():\n",
    "        if count == 1:\n",
    "            return index\n",
    "    \n",
    "    return -1\n",
    "\n",
    "s1 = \"loveleetcode\"\n",
    "s2 = \"aabb\"\n",
    "s3 = \"bd\"\n",
    "\n",
    "for s in [s1, s2, s3]:\n",
    "    print(firstUniqChar(s), end=\"  \")\n",
    "\n",
    "for s in [s1, s2, s3]:\n",
    "    print(firstUniqChar2(s), end=\"  \")"
   ]
  },
  {
   "cell_type": "markdown",
   "metadata": {},
   "source": [
    "**242. Valid Anagram**\n",
    "\n",
    "Given two strings s and t, return true if t is an anagram of s, and false otherwise."
   ]
  },
  {
   "cell_type": "code",
   "execution_count": 2,
   "metadata": {},
   "outputs": [
    {
     "data": {
      "text/plain": [
       "True"
      ]
     },
     "execution_count": 2,
     "metadata": {},
     "output_type": "execute_result"
    }
   ],
   "source": [
    "# one-liner, with Counter\n",
    "from collections import Counter\n",
    "def isAnagram(s: str, t: str) -> bool:\n",
    "    return Counter(s) == Counter(t)\n",
    "\n",
    "s = \"anagram\"; t = \"nagaram\"\n",
    "isAnagram(s, t)"
   ]
  },
  {
   "cell_type": "markdown",
   "metadata": {},
   "source": [
    "**125. Valid Palindrome**\n",
    "\n",
    "A phrase is a palindrome if, after converting all uppercase letters into lowercase letters and removing all non-alphanumeric characters, it reads the same forward and backward. Alphanumeric characters include letters and numbers.\n",
    "\n",
    "Given a string s, return true if it is a palindrome, or false otherwise."
   ]
  },
  {
   "cell_type": "code",
   "execution_count": 12,
   "metadata": {},
   "outputs": [
    {
     "name": "stdout",
     "output_type": "stream",
     "text": [
      "True\n",
      "False\n"
     ]
    }
   ],
   "source": [
    "def isPalindrome(s: str) -> bool:\n",
    "\n",
    "    s = s.lower()\n",
    "\n",
    "    l = 0\n",
    "    r = len(s)-1\n",
    "    \n",
    "    while l <= r:\n",
    "        if s[l].isalnum() == False:\n",
    "            l += 1\n",
    "            continue\n",
    "        if s[r].isalnum() == False:\n",
    "            r -= 1\n",
    "            continue\n",
    "        if s[l] != s[r]:\n",
    "            return False\n",
    "        l += 1 \n",
    "        r -= 1\n",
    "\n",
    "    return True\n",
    "\n",
    "s1 = \"A man, a plan, a canal: Panama\" # true\n",
    "s2 = \"race a car\" # false\n",
    "\n",
    "for s in [s1, s2]:\n",
    "    print(isPalindrome(s))"
   ]
  },
  {
   "cell_type": "markdown",
   "metadata": {},
   "source": [
    "**28. Implement strStr()**\n",
    "\n",
    "Given two strings needle and haystack, return the index of the first occurrence of needle in haystack, or -1 if needle is not part of haystack. Return 0 when needle is an empty string."
   ]
  },
  {
   "cell_type": "code",
   "execution_count": 10,
   "metadata": {},
   "outputs": [
    {
     "data": {
      "text/plain": [
       "-1"
      ]
     },
     "execution_count": 10,
     "metadata": {},
     "output_type": "execute_result"
    }
   ],
   "source": [
    "def strStr(haystack: str, needle: str) -> int:\n",
    "    if not needle:\n",
    "        return 0\n",
    "    try:\n",
    "        return haystack.index(needle)\n",
    "    except:\n",
    "        return -1\n",
    "\n",
    "# slower\n",
    "def strStr2(haystack: str, needle: str) -> int:\n",
    "    if not needle:\n",
    "        return 0\n",
    "    l = len(needle)\n",
    "    for i in range(len(haystack)-l+1):\n",
    "        if haystack[i:i+l] == needle:\n",
    "            return i\n",
    "    return -1\n",
    "\n",
    "haystack = \"abc\"; needle = \"d\"\n",
    "strStr2(haystack, needle)"
   ]
  },
  {
   "cell_type": "markdown",
   "metadata": {},
   "source": [
    "**237. Delete Node in a Linked List**"
   ]
  },
  {
   "cell_type": "code",
   "execution_count": 3,
   "metadata": {},
   "outputs": [],
   "source": [
    "# Definition for singly-linked list.\n",
    "# class ListNode:\n",
    "#     def __init__(self, x):\n",
    "#         self.val = x\n",
    "#         self.next = None\n",
    "\n",
    "# one-liner\n",
    "def deleteNode(self, node):\n",
    "    \"\"\"\n",
    "    Do not return anything, modify node in-place instead.\n",
    "    \"\"\"\n",
    "    node.val, node.next = node.next.val, node.next.next"
   ]
  },
  {
   "cell_type": "markdown",
   "metadata": {},
   "source": [
    "**234. Palindrome Linked List**\n",
    "\n",
    "Given the head of a singly linked list, return true if it is a palindrome."
   ]
  },
  {
   "cell_type": "code",
   "execution_count": 4,
   "metadata": {},
   "outputs": [],
   "source": [
    "# faster than 82%\n",
    "def isPalindrome(head) -> bool:\n",
    "    nodes = []\n",
    "    while head:\n",
    "        nodes.append(head.val)\n",
    "        head = head.next\n",
    "    return nodes == nodes[::-1]\n",
    "\n",
    "# reverse first half, compare to the second. O(1) memory\n",
    "def isPalindrome(head) -> bool:\n",
    "    rev = None\n",
    "    slow = fast = head\n",
    "    while fast and fast.next:\n",
    "        fast = fast.next.next\n",
    "        rev, rev.next, slow = slow, rev, slow.next\n",
    "\n",
    "    if fast:\n",
    "        slow = slow.next\n",
    "\n",
    "    while rev:\n",
    "        if rev.val == slow.val:\n",
    "            rev, slow = rev.next, slow.next\n",
    "        else:\n",
    "            return False\n",
    "\n",
    "    return True\n"
   ]
  },
  {
   "cell_type": "markdown",
   "metadata": {},
   "source": [
    "**141. Linked List Cycle**\n",
    "\n",
    "Given head, the head of a linked list, determine if the linked list has a cycle in it."
   ]
  },
  {
   "cell_type": "code",
   "execution_count": 1,
   "metadata": {},
   "outputs": [],
   "source": [
    "def hasCycle(head) -> bool:\n",
    "    node = head\n",
    "    while node and node.val != \"*\":\n",
    "        node.val = \"*\"\n",
    "        node = node.next\n",
    "    return True if node else False\n",
    "\n",
    "# two-pointer\n",
    "def hasCycle(head) -> bool:\n",
    "    fast = slow = head\n",
    "    while fast and fast.next:\n",
    "        slow = slow.next\n",
    "        fast = fast.next.next\n",
    "        if fast == slow:\n",
    "            return True\n",
    "    return False"
   ]
  },
  {
   "cell_type": "markdown",
   "metadata": {},
   "source": [
    "**104. Maximum Depth of Binary Tree**\n",
    "\n",
    "Given the root of a binary tree, return its maximum depth. A binary tree's maximum depth is the number of nodes along the longest path from the root node down to the farthest leaf node."
   ]
  },
  {
   "cell_type": "code",
   "execution_count": 1,
   "metadata": {},
   "outputs": [],
   "source": [
    "# Definition for a binary tree node.\n",
    "# class TreeNode:\n",
    "#     def __init__(self, val=0, left=None, right=None):\n",
    "#         self.val = val\n",
    "#         self.left = left\n",
    "#         self.right = right\n",
    "\n",
    "# recursive\n",
    "def maxDepth(self, root) -> int:\n",
    "    if not root:\n",
    "        return 0\n",
    "    return 1 + max(self.maxDepth(root.left), \n",
    "                    self.maxDepth(root.right))\n",
    "\n",
    "# iterative - faster\n",
    "def maxDepth(self, root) -> int:\n",
    "    if not root:\n",
    "        return 0\n",
    "    current_level = [root]\n",
    "    counter = 0\n",
    "    while current_level:\n",
    "        counter += 1\n",
    "        next_level = []\n",
    "        for node in current_level:\n",
    "            if node.left:\n",
    "                next_level.append(node.left)\n",
    "            if node.right:\n",
    "                next_level.append(node.right)\n",
    "        current_level = next_level\n",
    "    return counter\n"
   ]
  },
  {
   "cell_type": "markdown",
   "metadata": {},
   "source": [
    "**8. String to Integer (atoi)**\n",
    "\n",
    "Implement the myAtoi(string s) function, which converts a string to a 32-bit signed integer (similar to C/C++'s atoi function).\n",
    "\n",
    "The algorithm for myAtoi(string s) is as follows:\n",
    "\n",
    "1. Read in and ignore any leading whitespace.\n",
    "2. Check if the next character (if not already at the end of the string) is '-' or '+'. Read this character in if it is either. This determines if the final result is negative or positive respectively. Assume the result is positive if neither is present.\n",
    "3. Read in next the characters until the next non-digit character or the end of the input is reached. The rest of the string is ignored.\n",
    "4. Convert these digits into an integer (i.e. \"123\" -> 123, \"0032\" -> 32). If no digits were read, then the integer is 0. Change the sign as necessary (from step 2).\n",
    "5. If the integer is out of the 32-bit signed integer range [-2^31, 2^31 - 1], then clamp the integer so that it remains in the range. Specifically, integers less than -2^31 should be clamped to -2^31, and integers greater than 2^31 - 1 should be clamped to 2^31 - 1.\n",
    "6. Return the integer as the final result.\n",
    "\n",
    "Note:\n",
    "* Only the space character ' ' is considered a whitespace character.\n",
    "* Do not ignore any characters other than the leading whitespace or the rest of the string after the digits."
   ]
  },
  {
   "cell_type": "code",
   "execution_count": 62,
   "metadata": {},
   "outputs": [
    {
     "data": {
      "text/plain": [
       "0"
      ]
     },
     "execution_count": 62,
     "metadata": {},
     "output_type": "execute_result"
    }
   ],
   "source": [
    "# works, very long\n",
    "def myAtoi(s: str) -> int:\n",
    "    sign = 1\n",
    "    digits = \"\"\n",
    "    digit_reached = False\n",
    "\n",
    "    for i in range(len(s)):\n",
    "        if not digit_reached:\n",
    "            if s[i] == \" \":\n",
    "                continue\n",
    "            if s[i] == \"-\":\n",
    "                digit_reached = True\n",
    "                sign = -1\n",
    "                continue\n",
    "            if s[i] == \"+\":\n",
    "                digit_reached = True\n",
    "                continue\n",
    "            if not s[i].isdigit():\n",
    "                return 0\n",
    "            if s[i].isdigit():\n",
    "                digit_reached = True\n",
    "                digits += s[i]\n",
    "\n",
    "        else:\n",
    "            if s[i].isdigit():\n",
    "                digit_reached = True\n",
    "                digits += s[i]\n",
    "            if not s[i].isdigit():\n",
    "                break\n",
    "\n",
    "    if not digits:\n",
    "        return 0\n",
    "    if sign == 1:\n",
    "        return min(int(digits), (2**31)-1)\n",
    "    else:\n",
    "        return max(int(digits) * sign, -2**31)\n",
    "\n",
    "\n",
    "\n",
    "myAtoi(\"+-12\")"
   ]
  },
  {
   "cell_type": "markdown",
   "metadata": {},
   "source": [
    "**98. Validate Binary Search Tree**\n",
    "\n",
    "Given the root of a binary tree, determine if it is a valid binary search tree (BST).\n",
    "\n",
    "A valid BST is defined as follows:\n",
    "\n",
    "The left subtree of a node contains only nodes with keys less than the node's key.\n",
    "The right subtree of a node contains only nodes with keys greater than the node's key.\n",
    "Both the left and right subtrees must also be binary search trees."
   ]
  },
  {
   "cell_type": "code",
   "execution_count": 5,
   "metadata": {},
   "outputs": [],
   "source": [
    "# Definition for a binary tree node.\n",
    "# class TreeNode:\n",
    "#     def __init__(self, val=0, left=None, right=None):\n",
    "#         self.val = val\n",
    "#         self.left = left\n",
    "#         self.right = right\n",
    "class Solution:\n",
    "    def isValidBST(self, root) -> bool:\n",
    "\n",
    "        def plunge(node, minim=float(\"-inf\"), maxim=float(\"inf\")):\n",
    "            if not node:\n",
    "                return True\n",
    "            if not (minim < node.val < maxim):\n",
    "                return False\n",
    "\n",
    "            return plunge(node.left, minim, node.val) and plunge(node.right, node.val, maxim)\n",
    "\n",
    "        return plunge(root)"
   ]
  },
  {
   "cell_type": "markdown",
   "metadata": {},
   "source": [
    "**101. Symmetric Tree**\n",
    "\n",
    "Given the root of a binary tree, check whether it is a mirror of itself (i.e., symmetric around its center).\n",
    "\n"
   ]
  },
  {
   "cell_type": "code",
   "execution_count": 7,
   "metadata": {},
   "outputs": [],
   "source": [
    "# recursive\n",
    "def isSymmetric(self, root) -> bool:\n",
    "    def compare_nodes(node1, node2):\n",
    "        if not node1 and not node2:\n",
    "            return True\n",
    "        if not node1 or not node2:\n",
    "            return False\n",
    "        if node1.val != node2.val:\n",
    "            return False\n",
    "\n",
    "        return (compare_nodes(node1.left, node2.right) and \n",
    "                compare_nodes(node1.right, node2.left))\n",
    "\n",
    "    return compare_nodes(root.left, root.right)\n",
    "\n",
    "# iterative\n",
    "from collections import deque\n",
    "def isSymmetric(self, root) -> bool:\n",
    "    stack = deque([(root.left, root.right)])\n",
    "\n",
    "    while stack:\n",
    "        l, r = stack.pop()\n",
    "        if not l and not r:\n",
    "            continue\n",
    "        if not l or not r:\n",
    "            return False\n",
    "        if l.val != r.val:\n",
    "            return False\n",
    "        stack.append((l.left, r.right))\n",
    "        stack.append((l.right, r.left))\n",
    "    \n",
    "    return True"
   ]
  },
  {
   "cell_type": "markdown",
   "metadata": {},
   "source": [
    "**102. Binary Tree Level Order Traversal**\n",
    "\n",
    "Given the root of a binary tree, return the level order traversal of its nodes' values. (i.e., from left to right, level by level).\n",
    "\n"
   ]
  },
  {
   "cell_type": "code",
   "execution_count": 1,
   "metadata": {},
   "outputs": [],
   "source": [
    "def levelOrder(self, root):\n",
    "    if not root:\n",
    "        return []\n",
    "    output = []\n",
    "    frontier = [root]\n",
    "    while frontier:\n",
    "        next_level = []\n",
    "        vals = []\n",
    "        for node in frontier:\n",
    "            vals.append(node.val)\n",
    "            if node.left:\n",
    "                next_level.append(node.left)\n",
    "            if node.right:\n",
    "                next_level.append(node.right)\n",
    "        output.append(vals)\n",
    "        frontier = next_level\n",
    "\n",
    "    return output\n"
   ]
  },
  {
   "cell_type": "markdown",
   "metadata": {},
   "source": [
    "**108. Convert Sorted Array to Binary Search Tree**\n",
    "\n",
    "Given an integer array nums where the elements are sorted in ascending order, convert it to a height-balanced binary search tree.\n",
    "\n",
    "A height-balanced binary tree is a binary tree in which the depth of the two subtrees of every node never differs by more than one."
   ]
  },
  {
   "cell_type": "code",
   "execution_count": 9,
   "metadata": {},
   "outputs": [],
   "source": [
    "# recursive problem\n",
    "# len(nums)//2 is the midpoint\n",
    "# midpoint is the root\n",
    "# basecase is when len(arr) == 0, where we return None\n",
    "\n",
    "# solution 1\n",
    "def sortedArrayToBST(self, nums):\n",
    "    if len(nums) == 1:\n",
    "        return TreeNode(nums[0])\n",
    "    if len(nums) == 2:\n",
    "        return TreeNode(nums[1], left=TreeNode(nums[0]))\n",
    "    if len(nums) == 3:\n",
    "        return TreeNode(nums[1], left=TreeNode(nums[0]), right=TreeNode(nums[2]))\n",
    "    mid = len(nums)//2\n",
    "    return TreeNode(val=nums[mid], \n",
    "                    left=self.sortedArrayToBST(nums[:mid]),\n",
    "                    right=self.sortedArrayToBST(nums[mid+1:]))\n",
    "\n",
    "# solution 2\n",
    "def sortedArrayToBST(self, nums):\n",
    "    if len(nums) == 0:\n",
    "        return None\n",
    "    # these two lines aren't necessary!!\n",
    "    # if len(nums) == 1:\n",
    "    #     return TreeNode(nums[0])\n",
    "    mid = len(nums)//2\n",
    "    return TreeNode(val=nums[mid], \n",
    "                    left=self.sortedArrayToBST(nums[:mid]),\n",
    "                    right=self.sortedArrayToBST(nums[mid+1:]))"
   ]
  },
  {
   "cell_type": "markdown",
   "metadata": {},
   "source": [
    "**121. Best Time to Buy and Sell Stock**\n",
    "\n",
    "You are given an array prices where prices[i] is the price of a given stock on the ith day.\n",
    "\n",
    "You want to maximize your profit by choosing a single day to buy one stock and choosing a different day in the future to sell that stock.\n",
    "\n",
    "Return the maximum profit you can achieve from this transaction. If you cannot achieve any profit, return 0."
   ]
  },
  {
   "cell_type": "code",
   "execution_count": 5,
   "metadata": {},
   "outputs": [
    {
     "data": {
      "text/plain": [
       "5"
      ]
     },
     "execution_count": 5,
     "metadata": {},
     "output_type": "execute_result"
    }
   ],
   "source": [
    "# faster than 98.37%\n",
    "def maxProfit(prices) -> int:\n",
    "    current_min = prices[0]\n",
    "    current_max = prices[0]\n",
    "    max_diff = 0\n",
    "\n",
    "    for j in range(1, len(prices)):\n",
    "        i = j-1\n",
    "        if prices[j] > prices[i]:\n",
    "            if prices[j] > current_max:\n",
    "                current_max = prices[j]\n",
    "                if (current_max-current_min) > max_diff:\n",
    "                    max_diff = current_max-current_min\n",
    "        if prices[j] < prices[i]:\n",
    "            if prices[j] < current_min:\n",
    "                current_min = prices[j]\n",
    "                current_max = prices[j]\n",
    "                \n",
    "    return max_diff\n",
    "\n",
    "prices = [7,1,5,3,6,4]\n",
    "maxProfit(prices)"
   ]
  },
  {
   "cell_type": "markdown",
   "metadata": {},
   "source": [
    "**53. Maximum Subarray**\n",
    "\n",
    "Given an integer array nums, find the contiguous subarray (containing at least one number) which has the largest sum and return its sum.\n",
    "\n",
    "A subarray is a contiguous part of an array."
   ]
  },
  {
   "cell_type": "code",
   "execution_count": 1,
   "metadata": {},
   "outputs": [
    {
     "name": "stdout",
     "output_type": "stream",
     "text": [
      "6\n",
      "1\n",
      "23\n"
     ]
    }
   ],
   "source": [
    "def maxSubArray(nums) -> int:\n",
    "    total = 0\n",
    "    max_sum = float(\"-inf\")\n",
    "    for n in nums:\n",
    "        total += n\n",
    "        max_sum = max(total, max_sum)\n",
    "        total = max(0, total)\n",
    "        \n",
    "    return max_sum\n",
    "\n",
    "nums1 = [-2,1,-3,4,-1,2,1,-5,4]\n",
    "nums2 = [1]\n",
    "nums3 = [5,4,-1,7,8]\n",
    "\n",
    "for nums in [nums1, nums2, nums3]:\n",
    "    print(maxSubArray(nums))"
   ]
  },
  {
   "cell_type": "markdown",
   "metadata": {},
   "source": [
    "**198. House Robber**\n",
    "\n",
    "You are a professional robber planning to rob houses along a street. Each house has a certain amount of money stashed, the only constraint stopping you from robbing each of them is that adjacent houses have security systems connected and it will automatically contact the police if two adjacent houses were broken into on the same night.\n",
    "\n",
    "Given an integer array nums representing the amount of money of each house, return the maximum amount of money you can rob tonight without alerting the police."
   ]
  },
  {
   "cell_type": "code",
   "execution_count": 27,
   "metadata": {},
   "outputs": [
    {
     "name": "stdout",
     "output_type": "stream",
     "text": [
      "4\n",
      "12\n",
      "3365\n"
     ]
    }
   ],
   "source": [
    "# recursive, works but times out on anything longer than the simplest cases\n",
    "def rob1(nums) -> int:\n",
    "    if len(nums) == 0:\n",
    "        return 0\n",
    "    return max(nums[0] + rob1(nums[2:]), rob1(nums[1:]))\n",
    "\n",
    "# works\n",
    "def rob2(nums) -> int:\n",
    "    h1, h2 = 0, 0\n",
    "    for n in nums:\n",
    "        h2, h1 = max(n+h1, h2), h2\n",
    "    return h2\n",
    "\n",
    "# recursive, with cache\n",
    "def rob3(nums) -> int:\n",
    "\n",
    "    if len(nums) <= 2:\n",
    "        return max(nums)\n",
    "\n",
    "    cache = [-1 for _ in range(len(nums))]\n",
    "\n",
    "    def recurse(nums, cache, i):\n",
    "        if i < 0:\n",
    "            return 0\n",
    "        \n",
    "        if cache[i] != -1:\n",
    "            return cache[i]\n",
    "\n",
    "        cache[i] = max(nums[i] + recurse(nums, cache, i-2), recurse(nums, cache, i-1))\n",
    "        return cache[i]\n",
    "        \n",
    "    return recurse(nums, cache, len(nums)-1)\n",
    "\n",
    "nums1 = [1,2,3,1] # 4\n",
    "nums2 = [2,7,9,3,1] # 12\n",
    "# nums 3 takes 43 seconds to calculate with rob1\n",
    "nums3 = [183,219,57,193,94,233,202,154,65,240,97,234,100,249,186,66,90,238,168,128,177,235,50,81,185,165,217,207,88,80,112,78,135,62,228,247,211] \n",
    "\n",
    "for nums in [nums1, nums2, nums3]: \n",
    "    print(rob2(nums))"
   ]
  },
  {
   "cell_type": "markdown",
   "metadata": {},
   "source": [
    "**155. Min Stack**\n",
    "\n",
    "Design a stack that supports push, pop, top, and retrieving the minimum element in constant time.\n",
    "\n",
    "Implement the MinStack class:\n",
    "\n",
    "MinStack() initializes the stack object.\n",
    "* void push(int val) pushes the element val onto the stack.\n",
    "* void pop() removes the element on the top of the stack.\n",
    "* int top() gets the top element of the stack.\n",
    "* int getMin() retrieves the minimum element in the stack.\n",
    "\n",
    "You must implement a solution with O(1) time complexity for each function."
   ]
  },
  {
   "cell_type": "code",
   "execution_count": 22,
   "metadata": {},
   "outputs": [
    {
     "name": "stdout",
     "output_type": "stream",
     "text": [
      "-3\n",
      "0\n",
      "-2\n"
     ]
    }
   ],
   "source": [
    "# every time pushed element is smaller, we need it to have a pointer to the previous smallest element\n",
    "# therefore we need a 2D array, where each subarray is [val, pointer]\n",
    "\n",
    "# not very space efficient, as we store lots of Nones\n",
    "class MinStack1:\n",
    "\n",
    "    def __init__(self):\n",
    "        self.arr = [None]\n",
    "        \n",
    "    def push(self, val: int) -> None:\n",
    "        if self.arr[0] and val < self.arr[self.arr[0]][0]:\n",
    "            self.arr.append([val, self.arr[0]])\n",
    "            self.arr[0] = len(self.arr)-1\n",
    "        elif self.arr[0]:\n",
    "            self.arr.append([val, None])\n",
    "        else:\n",
    "            self.arr.append([val, None])\n",
    "            self.arr[0] = len(self.arr)-1\n",
    "        \n",
    "    def pop(self) -> None:\n",
    "        val, pointer = self.arr.pop()\n",
    "        if self.arr[0] == len(self.arr):\n",
    "            self.arr[0] = pointer\n",
    "\n",
    "    def top(self) -> int:\n",
    "        return self.arr[-1][0]\n",
    "\n",
    "    def getMin(self) -> int:\n",
    "        return self.arr[self.arr[0]][0]\n",
    "\n",
    "# here we store only the indicies of the mins\n",
    "# much better space and time complexity\n",
    "class MinStack2:\n",
    "\n",
    "    def __init__(self):\n",
    "        self.arr = [[]]\n",
    "        \n",
    "    def push(self, val: int) -> None:\n",
    "        if self.arr[0] and val < self.arr[self.arr[0][-1]]:\n",
    "            self.arr.append(val)\n",
    "            self.arr[0].append(len(self.arr)-1)\n",
    "        elif self.arr[0]:\n",
    "            self.arr.append(val)\n",
    "        else:\n",
    "            self.arr.append(val)\n",
    "            self.arr[0].append(len(self.arr)-1)\n",
    "        \n",
    "    def pop(self) -> None:\n",
    "        self.arr.pop()\n",
    "        if self.arr[0][-1] == len(self.arr):\n",
    "            self.arr[0].pop()\n",
    "\n",
    "    def top(self) -> int:\n",
    "        return self.arr[-1]\n",
    "\n",
    "    def getMin(self) -> int:\n",
    "        return self.arr[self.arr[0][-1]]\n",
    "\n",
    "minStack = MinStack2()\n",
    "minStack.push(-2)\n",
    "minStack.push(0)\n",
    "minStack.push(-3)\n",
    "print(minStack.getMin()) # return -3\n",
    "minStack.pop()\n",
    "print(minStack.top())  # return 0\n",
    "print(minStack.getMin()) # return -2"
   ]
  },
  {
   "cell_type": "markdown",
   "metadata": {},
   "source": [
    "**412. Fizz Buzz**\n",
    "\n",
    "Given an integer n, return a string array answer (1-indexed) where:\n",
    "\n",
    "* answer[i] == \"FizzBuzz\" if i is divisible by 3 and 5.\n",
    "* answer[i] == \"Fizz\" if i is divisible by 3.\n",
    "* answer[i] == \"Buzz\" if i is divisible by 5.\n",
    "* answer[i] == i (as a string) if none of the above conditions are true."
   ]
  },
  {
   "cell_type": "code",
   "execution_count": 1,
   "metadata": {},
   "outputs": [],
   "source": [
    "def fizzBuzz(n: int):\n",
    "    answer =[]\n",
    "    for i in range(1, n+1):\n",
    "        if i % 3 == 0:\n",
    "            if i % 5 == 0:\n",
    "                answer.append(\"FizzBuzz\")\n",
    "                continue \n",
    "            answer.append(\"Fizz\")\n",
    "        elif i % 5 == 0:\n",
    "            answer.append(\"Buzz\")\n",
    "        else:\n",
    "            answer.append(str(i))\n",
    "    return answer"
   ]
  },
  {
   "cell_type": "markdown",
   "metadata": {},
   "source": [
    "**384. Shuffle an Array**\n",
    "\n",
    "Given an integer array nums, design an algorithm to randomly shuffle the array. All permutations of the array should be equally likely as a result of the shuffling.\n",
    "\n",
    "Implement the Solution class:\n",
    "\n",
    "* Solution(int[] nums) Initializes the object with the integer array nums.\n",
    "* int[] reset() Resets the array to its original configuration and returns it.\n",
    "* int[] shuffle() Returns a random shuffling of the array."
   ]
  },
  {
   "cell_type": "code",
   "execution_count": 3,
   "metadata": {},
   "outputs": [],
   "source": [
    "from random import randint, sample\n",
    "\n",
    "class Solution:\n",
    "\n",
    "    def __init__(self, nums):\n",
    "        self.nums = nums\n",
    "        \n",
    "    def reset(self):\n",
    "        return self.nums\n",
    "        \n",
    "    def shuffle(self):\n",
    "        to_shuffle = list(self.nums)\n",
    "        shuffled = []\n",
    "        while to_shuffle:\n",
    "            shuffled.append(to_shuffle.pop(randint(0, len(to_shuffle)-1)))\n",
    "        return shuffled\n",
    "\n",
    "# even more compact\n",
    "class Solution:\n",
    "\n",
    "    def __init__(self, nums):\n",
    "        self.nums = nums\n",
    "        \n",
    "    def reset(self):\n",
    "        return self.nums\n",
    "        \n",
    "    def shuffle(self):\n",
    "        return sample(self.nums, len(self.nums))"
   ]
  },
  {
   "cell_type": "markdown",
   "metadata": {},
   "source": [
    "**326. Power of Three**\n",
    "\n",
    "Given an integer n, return true if it is a power of three. Otherwise, return false.\n",
    "\n",
    "An integer n is a power of three, if there exists an integer x such that n == 3x."
   ]
  },
  {
   "cell_type": "code",
   "execution_count": 1,
   "metadata": {},
   "outputs": [],
   "source": [
    "# iterative\n",
    "def isPowerOfThree(self, n: int) -> bool:\n",
    "    if n < 1:\n",
    "        return False \n",
    "    if n == 1:\n",
    "        return True \n",
    "    while n > 1:\n",
    "        n /= 3\n",
    "    if n == 1:\n",
    "        return True \n",
    "    return False \n",
    "\n",
    "# recursive\n",
    "def isPowerOfThree(self, n: int) -> bool:\n",
    "    if n < 1:\n",
    "        return False \n",
    "    if n == 1:\n",
    "        return True \n",
    "    return self.isPowerOfThree(n/3) \n",
    "\n",
    "# no loops or recursion\n",
    "def isPowerOfThree(self, n: int) -> bool:\n",
    "    if n < 1:\n",
    "        return False\n",
    "    if n == 1:\n",
    "        return True\n",
    "    l = len(str(n))*2\n",
    "    return True if n in {3**(l-1), 3**l} else False"
   ]
  },
  {
   "cell_type": "markdown",
   "metadata": {},
   "source": [
    "**204. Count Primes**\n",
    "\n",
    "Given an integer n, return the number of prime numbers that are strictly less than n."
   ]
  },
  {
   "cell_type": "code",
   "execution_count": 40,
   "metadata": {},
   "outputs": [
    {
     "data": {
      "text/plain": [
       "25"
      ]
     },
     "execution_count": 40,
     "metadata": {},
     "output_type": "execute_result"
    }
   ],
   "source": [
    "def countPrimes(n: int) -> int:\n",
    "    if n < 3:\n",
    "        return 0\n",
    "\n",
    "    primes = [0, 0] + [1] * (n-2)\n",
    "    i = 2\n",
    "    while (i*i) < n:\n",
    "        if primes[i] == 1:\n",
    "            j = i*i\n",
    "            while j < n:\n",
    "                primes[j] = 0\n",
    "                j += i if i == 2 else (2 * i)\n",
    "    \n",
    "        i += 1 if i == 2 else 2\n",
    "\n",
    "    return sum(primes)\n",
    "\n",
    "countPrimes(100)"
   ]
  },
  {
   "cell_type": "markdown",
   "metadata": {},
   "source": [
    "**13. Roman to Integer**"
   ]
  },
  {
   "cell_type": "code",
   "execution_count": 4,
   "metadata": {},
   "outputs": [
    {
     "data": {
      "text/plain": [
       "1994"
      ]
     },
     "execution_count": 4,
     "metadata": {},
     "output_type": "execute_result"
    }
   ],
   "source": [
    "def romanToInt(s: str) -> int:\n",
    "\n",
    "    values = {\"I\":1, \"V\":5, \"X\":10, \"L\":50, \"C\":100, \"D\":500, \"M\":1000}\n",
    "    current_max = 0\n",
    "    total = 0\n",
    "\n",
    "    for c in s[::-1]:\n",
    "        if values[c] >= current_max:\n",
    "            current_max = values[c]\n",
    "            total += values[c]\n",
    "        else:\n",
    "            total -= values[c]\n",
    "\n",
    "    return total\n",
    "\n",
    "romanToInt(\"MCMXCIV\")"
   ]
  },
  {
   "cell_type": "markdown",
   "metadata": {},
   "source": [
    "**191. Number of 1 Bits**\n",
    "\n",
    "Write a function that takes an unsigned integer and returns the number of '1' bits it has (also known as the Hamming weight).\n",
    "\n"
   ]
  },
  {
   "cell_type": "code",
   "execution_count": 29,
   "metadata": {},
   "outputs": [
    {
     "data": {
      "text/plain": [
       "3"
      ]
     },
     "execution_count": 29,
     "metadata": {},
     "output_type": "execute_result"
    }
   ],
   "source": [
    "def hammingWeight(n: int) -> int:\n",
    "    counter = 0\n",
    "    while n > 0:\n",
    "        if n % 2:\n",
    "            counter += 1\n",
    "        # also we can n //= 2 but it is slower\n",
    "        n >>= 1\n",
    "    return counter\n",
    "\n",
    "# via neetcode \n",
    "def hammingWeight(n: int) -> int:\n",
    "    counter = 0\n",
    "    while n > 0:\n",
    "        n = n & (n-1)\n",
    "        counter += 1\n",
    "    return counter\n",
    "\n",
    "# using str\n",
    "def hammingWeight(n: int) -> int:\n",
    "    value = bin(n)\n",
    "    return value.count(\"1\")\n",
    "\n",
    "hammingWeight(0b00000000000000000000000000001011)"
   ]
  },
  {
   "cell_type": "markdown",
   "metadata": {},
   "source": [
    "**461. Hamming Distance**\n",
    "\n",
    "The Hamming distance between two integers is the number of positions at which the corresponding bits are different.\n",
    "\n",
    "Given two integers x and y, return the Hamming distance between them."
   ]
  },
  {
   "cell_type": "code",
   "execution_count": 23,
   "metadata": {},
   "outputs": [
    {
     "data": {
      "text/plain": [
       "1"
      ]
     },
     "execution_count": 23,
     "metadata": {},
     "output_type": "execute_result"
    }
   ],
   "source": [
    "def hammingDistance(x: int, y: int) -> int:\n",
    "    z = x^y\n",
    "    counter = 0\n",
    "    while z:\n",
    "        counter += z % 2\n",
    "        z >>= 1\n",
    "    return counter\n",
    "\n",
    "hammingDistance(1, 3)"
   ]
  },
  {
   "cell_type": "markdown",
   "metadata": {},
   "source": [
    "**190. Reverse Bits**\n",
    "\n",
    "Reverse bits of a given 32 bits unsigned integer.\n",
    "\n"
   ]
  },
  {
   "cell_type": "code",
   "execution_count": 64,
   "metadata": {},
   "outputs": [
    {
     "data": {
      "text/plain": [
       "964176192"
      ]
     },
     "execution_count": 64,
     "metadata": {},
     "output_type": "execute_result"
    }
   ],
   "source": [
    "def reverseBits(n: int) -> int:\n",
    "    # convert n into binary string\n",
    "    # chop off 0b\n",
    "    # fill with zeros so that it's 32 bits\n",
    "    # reverse\n",
    "    # add 0b in the beginning\n",
    "    # convert to int\n",
    "    return int(\"0b\" + (bin(n)[2:]).zfill(32)[::-1], 2)\n",
    "\n",
    "# bit manipulation\n",
    "def reverseBits(n: int) -> int:\n",
    "    output = 0\n",
    "    for _ in range(32):\n",
    "        output <<= 1\n",
    "        output += n%2\n",
    "        n >>= 1\n",
    "    return output\n",
    "\n",
    "reverseBits(43261596) # 964176192 "
   ]
  },
  {
   "cell_type": "markdown",
   "metadata": {},
   "source": [
    "**268. Missing Number**\n",
    "\n",
    "Given an array nums containing n distinct numbers in the range [0, n], return the only number in the range that is missing from the array."
   ]
  },
  {
   "cell_type": "code",
   "execution_count": 9,
   "metadata": {},
   "outputs": [
    {
     "data": {
      "text/plain": [
       "8"
      ]
     },
     "execution_count": 9,
     "metadata": {},
     "output_type": "execute_result"
    }
   ],
   "source": [
    "def missingNumber(nums) -> int:\n",
    "    return (set(range(len(nums)+1)) - set(nums)).pop()\n",
    "    \n",
    "missingNumber([9,6,4,2,3,5,7,0,1])"
   ]
  },
  {
   "cell_type": "markdown",
   "metadata": {},
   "source": [
    "**118. Pascal's Triangle**\n",
    "\n",
    "Given an integer numRows, return the first numRows of Pascal's triangle."
   ]
  },
  {
   "cell_type": "code",
   "execution_count": 15,
   "metadata": {},
   "outputs": [
    {
     "data": {
      "text/plain": [
       "[[1], [1, 1], [1, 2, 1], [1, 3, 3, 1], [1, 4, 6, 4, 1]]"
      ]
     },
     "execution_count": 15,
     "metadata": {},
     "output_type": "execute_result"
    }
   ],
   "source": [
    "# a bit slow\n",
    "def generate(numRows: int):\n",
    "    out = [[1]]\n",
    "    for num in range(2, numRows+1):\n",
    "        row = [1]\n",
    "        for n in range(1, num):\n",
    "            if n < len(out[-1]):\n",
    "                row.append(out[-1][n-1] + out[-1][n])\n",
    "            else:\n",
    "                row.append(1)\n",
    "        out.append(row)\n",
    "    return out\n",
    "\n",
    "# faster than 99.03%\n",
    "def generate(numRows: int):\n",
    "    out = [[1]]\n",
    "    for num in range(2, numRows+1):\n",
    "        row = [1]\n",
    "        for n in range(1, (num+1)//2):\n",
    "            row.append(out[-1][n-1] + out[-1][n])\n",
    "        if num%2:\n",
    "            row.extend(row[-2::-1])\n",
    "        else:\n",
    "            row.extend(row[::-1])\n",
    "        out.append(row)\n",
    "    return out\n",
    "\n",
    "generate(5)"
   ]
  }
 ],
 "metadata": {
  "kernelspec": {
   "display_name": "Python 3",
   "language": "python",
   "name": "python3"
  },
  "language_info": {
   "codemirror_mode": {
    "name": "ipython",
    "version": 3
   },
   "file_extension": ".py",
   "mimetype": "text/x-python",
   "name": "python",
   "nbconvert_exporter": "python",
   "pygments_lexer": "ipython3",
   "version": "3.11.1"
  },
  "orig_nbformat": 4,
  "vscode": {
   "interpreter": {
    "hash": "284a54327780f6c007f4aad64d9a33d5190d4bf050ef483f4897af3688e59b5a"
   }
  }
 },
 "nbformat": 4,
 "nbformat_minor": 2
}
