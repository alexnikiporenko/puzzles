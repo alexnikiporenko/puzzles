{
 "cells": [
  {
   "attachments": {},
   "cell_type": "markdown",
   "metadata": {},
   "source": [
    "**39. Combination Sum**\n",
    "\n",
    "Given an array of distinct integers candidates and a target integer target, return a list of all unique combinations of candidates where the chosen numbers sum to target. You may return the combinations in any order.\n",
    "\n",
    "The same number may be chosen from candidates an unlimited number of times. Two combinations are unique if the frequency of at least one of the chosen numbers is different.\n",
    "\n",
    "The test cases are generated such that the number of unique combinations that sum up to target is less than 150 combinations for the given input.\n",
    "\n",
    "https://leetcode.com/problems/combination-sum/"
   ]
  },
  {
   "cell_type": "code",
   "execution_count": 61,
   "metadata": {},
   "outputs": [
    {
     "name": "stdout",
     "output_type": "stream",
     "text": [
      "2 4 3 \n",
      "5 6 4 \n"
     ]
    }
   ],
   "source": [
    "# Definition for singly-linked list.\n",
    "class ListNode:\n",
    "    def __init__(self, val=0, next=None):\n",
    "        self.val = val\n",
    "        self.next = next\n",
    "\n",
    "def make_linked_list(nums):\n",
    "    linked_list = ListNode(val=nums[0])\n",
    "    node = linked_list\n",
    "    for n in nums[1:]:\n",
    "        node.next = ListNode(val=n)\n",
    "        node = node.next\n",
    "    return linked_list\n",
    "\n",
    "def print_linked_list(node):\n",
    "    while node:\n",
    "        print(node.val, end=\" \")\n",
    "        node = node.next\n",
    "    print()\n",
    "\n",
    "print_linked_list(make_linked_list([2,4,3]))\n",
    "print_linked_list(make_linked_list([5,6,4]))"
   ]
  },
  {
   "cell_type": "code",
   "execution_count": 78,
   "metadata": {},
   "outputs": [
    {
     "name": "stdout",
     "output_type": "stream",
     "text": [
      "[[7], [2, 2, 3]]\n",
      "[[3, 5], [2, 3, 3], [2, 2, 2, 2]]\n",
      "[]\n",
      "[[2]]\n"
     ]
    }
   ],
   "source": [
    "# dynamic programming\n",
    "def combinationSum(candidates: list[int], target: int) -> list[list[int]]:\n",
    "    candidates.sort()\n",
    "    dp = [[] for _ in range(target+1)]\n",
    "    for t in range(candidates[0], target+1):\n",
    "        for c in candidates:\n",
    "            if c > t:\n",
    "                break\n",
    "            elif c == t:\n",
    "                dp[c].append([c])\n",
    "            else:\n",
    "                if dp[t-c]:\n",
    "                    for l in dp[t-c]:\n",
    "                        # only appending values that are smaller or equal\n",
    "                        # than the last value in the candidate solution.\n",
    "                        # this ensures that solutions are unique\n",
    "                        if c <= l[-1]:\n",
    "                            dp[t].append(l + [c])\n",
    "    return dp[target]\n",
    "\n",
    "# bfs\n",
    "def combinationSum(candidates: list[int], target: int) -> list[list[int]]:\n",
    "    from collections import deque\n",
    "    candidates.sort()\n",
    "    ans = []\n",
    "    q = deque([([], 0, target)])\n",
    "    while q:\n",
    "        solution, index, new_target = q.popleft()\n",
    "        for i in range(index, len(candidates)):\n",
    "            if candidates[i] > new_target:\n",
    "                break\n",
    "            if candidates[i] == new_target:\n",
    "                ans.append(solution + [candidates[i]])\n",
    "            else:\n",
    "                q.append((solution + [candidates[i]], i, new_target-candidates[i]))\n",
    "    return ans\n",
    "\n",
    "\n",
    "print(combinationSum(candidates = [2,3,6,7], target = 7)) # [[2,2,3],[7]]\n",
    "print(combinationSum(candidates = [2,3,5], target = 8)) # [[2,2,2,2],[2,3,3],[3,5]]\n",
    "print(combinationSum(candidates = [2], target = 1)) # []\n",
    "print(combinationSum(candidates = [2], target = 2)) # [[2]]"
   ]
  },
  {
   "attachments": {},
   "cell_type": "markdown",
   "metadata": {},
   "source": [
    "**40. Combination Sum II**\n",
    "\n",
    "Given a collection of candidate numbers (candidates) and a target number (target), find all unique combinations in candidates where the candidate numbers sum to target.\n",
    "\n",
    "Each number in candidates may only be used once in the combination.\n",
    "\n",
    "Note: The solution set must not contain duplicate combinations.\n",
    "\n",
    "https://leetcode.com/problems/combination-sum-ii/"
   ]
  },
  {
   "cell_type": "code",
   "execution_count": 56,
   "metadata": {},
   "outputs": [
    {
     "name": "stdout",
     "output_type": "stream",
     "text": [
      "[[1, 1, 6], [1, 2, 5], [1, 7], [2, 6]]\n",
      "[[1, 2, 2], [5]]\n",
      "[]\n"
     ]
    }
   ],
   "source": [
    "# bottom-up DP\n",
    "def combinationSum2(candidates: list[int], target: int) -> list[list[int]]:\n",
    "    candidates.sort()\n",
    "    dp = [{()}] + [set() for _ in range(target)]\n",
    "    for c in candidates:\n",
    "        for t in range(target, c-1, -1):\n",
    "            for tup in dp[t-c]:\n",
    "                dp[t].add(tup + (c,))\n",
    "    return dp[target]\n",
    "\n",
    "# BFS\n",
    "from collections import deque\n",
    "def combinationSum2(candidates: list[int], target: int) -> list[list[int]]:\n",
    "    candidates.sort()\n",
    "    ans = []\n",
    "    q = deque([(0, [], target)])\n",
    "    while q:\n",
    "        index, cand, new_target = q.pop()\n",
    "        if new_target == 0:\n",
    "            ans.append(cand)\n",
    "        else:\n",
    "            for i in range(index, len(candidates)):\n",
    "                if i > index and candidates[i] == candidates[i-1]:\n",
    "                    continue\n",
    "                if candidates[i] > new_target:\n",
    "                    break\n",
    "                q.appendleft((i+1, cand+[candidates[i]], new_target-candidates[i]))\n",
    "    return ans\n",
    "\n",
    "# recursive\n",
    "def combinationSum2(candidates: list[int], target: int) -> list[list[int]]:\n",
    "    candidates.sort()\n",
    "    ans = []\n",
    "    def backtrack(lst, ind, tgt):\n",
    "        # basecase\n",
    "        if tgt == 0:\n",
    "            ans.append(lst)\n",
    "            return\n",
    "        for i in range(ind, len(candidates)):\n",
    "            if i > ind and candidates[i] == candidates[i-1]:\n",
    "                continue\n",
    "            if candidates[i] > tgt:\n",
    "                break\n",
    "            backtrack(lst+[candidates[i]], i+1, tgt-candidates[i])\n",
    "\n",
    "    backtrack([], 0, target)\n",
    "    return ans\n",
    "\n",
    "print(combinationSum2(candidates = [10,1,2,7,6,1,5], target = 8)) # [[1,1,6], [1,2,5], [1,7], [2,6]]\n",
    "print(combinationSum2(candidates = [2,5,2,1,2], target = 5)) # [[1,2,2], [5]]\n",
    "print(combinationSum2(candidates = [1,1,1,1,1,1,1,1,1,1,1,1,1,1,1,1,1,1,1,1,1,1,1,1,1], target = 27)) # []"
   ]
  },
  {
   "attachments": {},
   "cell_type": "markdown",
   "metadata": {},
   "source": [
    "**41. First Missing Positive**\n",
    "\n",
    "Given an unsorted integer array nums, return the smallest missing positive integer.\n",
    "\n",
    "You must implement an algorithm that runs in O(n) time and uses constant extra space."
   ]
  },
  {
   "cell_type": "code",
   "execution_count": 57,
   "metadata": {},
   "outputs": [
    {
     "name": "stdout",
     "output_type": "stream",
     "text": [
      "Testcases - all unique numbers\n",
      "3\n",
      "2\n",
      "1\n",
      "4\n",
      "1\n",
      "1\n",
      "2\n",
      "Testcases - repeating numbers\n",
      "2\n",
      "2\n",
      "2\n",
      "3\n",
      "1\n"
     ]
    }
   ],
   "source": [
    "# obvious O(n) solution. O(n) space complexity\n",
    "def firstMissingPositive(nums: list[int]) -> int:\n",
    "    nums = set(nums)\n",
    "    for n in range(1, len(nums) + 2):\n",
    "        if n not in nums:\n",
    "            return n\n",
    "\n",
    "# another O(n) solution. Still O(n) space complexity\n",
    "def firstMissingPositive(nums: list[int]) -> int:\n",
    "    length = len(nums) + 1\n",
    "    total = length * (1 + length) // 2 \n",
    "    visited = set()\n",
    "    for n in nums:\n",
    "        if n < 1 or n >= length or n in visited:\n",
    "            total -= length \n",
    "            visited.add(length)\n",
    "            length -= 1\n",
    "            while length in visited:\n",
    "                length -= 1\n",
    "        else:\n",
    "            total -= n \n",
    "            visited.add(n)\n",
    "    return total\n",
    "\n",
    "# O(1) space complexity\n",
    "def firstMissingPositive(nums: list[int]) -> int:\n",
    "    for i in range(len(nums)):\n",
    "        if nums[i] < 0:\n",
    "            nums[i] = 0\n",
    "    \n",
    "    for n in nums:\n",
    "        if 1 <= abs(n) <= len(nums):\n",
    "            if not nums[abs(n)-1]:\n",
    "                nums[abs(n)-1] = -len(nums) - 1\n",
    "            else:\n",
    "                nums[abs(n)-1] = -abs(nums[abs(n)-1])\n",
    "\n",
    "    for i in range(len(nums)):\n",
    "        if nums[i] >= 0:\n",
    "            return i+1\n",
    "    \n",
    "    return len(nums) + 1 \n",
    "\n",
    "        \n",
    "\n",
    "print(\"Testcases - all unique numbers\")\n",
    "print(firstMissingPositive([1,2,0])) # 3\n",
    "print(firstMissingPositive([3,4,-1,1])) # 2\n",
    "print(firstMissingPositive([7,8,9,11,12])) # 1\n",
    "print(firstMissingPositive([1,2,3,5,7])) # 4\n",
    "print(firstMissingPositive([3,0,4,5])) # 1\n",
    "print(firstMissingPositive([6,0,3,4,5,0])) # 1\n",
    "print(firstMissingPositive([1])) # 2\n",
    "\n",
    "print(\"Testcases - repeating numbers\")\n",
    "print(firstMissingPositive([1,1])) # 2\n",
    "print(firstMissingPositive([1,1,1])) # 2\n",
    "print(firstMissingPositive([1,1,1,3])) # 2\n",
    "print(firstMissingPositive([1,2,2,4])) # 3\n",
    "print(firstMissingPositive([2,2])) # 1"
   ]
  },
  {
   "attachments": {},
   "cell_type": "markdown",
   "metadata": {},
   "source": [
    "**45. Jump Game II**\n",
    "\n",
    "You are given a 0-indexed array of integers nums of length n. You are initially positioned at nums[0].\n",
    "\n",
    "Each element nums[i] represents the maximum length of a forward jump from index i. In other words, if you are at nums[i], you can jump to any nums[i + j] where:\n",
    "\n",
    "* 0 <= j <= nums[i] and\n",
    "* i + j < n\n",
    "\n",
    "Return the minimum number of jumps to reach nums[n - 1]. The test cases are generated such that you can reach nums[n - 1]."
   ]
  },
  {
   "cell_type": "code",
   "execution_count": 2,
   "metadata": {},
   "outputs": [],
   "source": [
    "def jump(nums: list[int]) -> int:\n",
    "    if len(nums) > 1 and nums[0] >= len(nums)-1:\n",
    "        return 1\n",
    "    current = -1\n",
    "    nxt = nums[0]\n",
    "    jumps = 0\n",
    "    for i in range(len(nums)-1):\n",
    "        if i > current:\n",
    "            current = nxt\n",
    "            jumps += 1\n",
    "        nxt = max(nxt, nums[i] + i)\n",
    "        if nxt >= len(nums) - 1:\n",
    "            return jumps + 1\n",
    "    return jumps"
   ]
  },
  {
   "attachments": {},
   "cell_type": "markdown",
   "metadata": {},
   "source": [
    "**47. Permutations II**\n",
    "\n",
    "Given a collection of numbers, nums, that might contain duplicates, return all possible unique permutations in any order.\n",
    "\n",
    "https://leetcode.com/problems/permutations-ii/"
   ]
  },
  {
   "cell_type": "code",
   "execution_count": 10,
   "metadata": {},
   "outputs": [
    {
     "name": "stdout",
     "output_type": "stream",
     "text": [
      "[[1]]\n",
      "[[2, 1, 1], [1, 2, 1], [1, 1, 2]]\n",
      "[[2, 2, 1, 1], [2, 1, 2, 1], [1, 2, 2, 1], [2, 1, 1, 2], [1, 2, 1, 2], [1, 1, 2, 2]]\n",
      "[[2, 1, 1, 1], [1, 2, 1, 1], [1, 1, 2, 1], [1, 1, 1, 2]]\n",
      "[[3, 2, 1], [2, 3, 1], [2, 1, 3], [3, 1, 2], [1, 3, 2], [1, 2, 3]]\n"
     ]
    }
   ],
   "source": [
    "# easy set way, slow\n",
    "def permuteUnique(nums: list[int]) -> list[list[int]]:\n",
    "    nums.sort()\n",
    "    res = set()\n",
    "    l = len(nums)\n",
    "    indices = set(range(l))\n",
    "    stack = [(tuple(), indices)]\n",
    "    while stack:\n",
    "        candidate, options = stack.pop()\n",
    "        if len(candidate) == l:\n",
    "            res.add(candidate)\n",
    "        for op in options:\n",
    "            options_copy = options.copy()\n",
    "            options_copy.remove(op)\n",
    "            stack.append((candidate + (nums[op],), options_copy))\n",
    "    return res\n",
    "\n",
    "# another way - faster\n",
    "def permuteUnique(nums: list[int]) -> list[list[int]]:\n",
    "    nums.sort()\n",
    "    res = []\n",
    "    l = len(nums)\n",
    "    indices = set(range(l))\n",
    "    stack = [([], indices)]\n",
    "    while stack:\n",
    "        candidate, options = stack.pop()\n",
    "        if len(candidate) == l:\n",
    "            res.append(candidate)\n",
    "        for op in options:\n",
    "            # if the chosen number is the same as the previous number, and the previous number has already been used\n",
    "            if op > 0 and nums[op] == nums[op-1] and op-1 not in options:\n",
    "                break\n",
    "            options_copy = options.copy()\n",
    "            options_copy.remove(op)\n",
    "            stack.append((candidate + [nums[op]], options_copy))\n",
    "    return res\n",
    "\n",
    "# from leetcode\n",
    "def permuteUnique(nums: list[int]) -> list[list[int]]:\n",
    "    ans = [[]]\n",
    "    for n in nums:\n",
    "        new_ans = []\n",
    "        for lst in ans:\n",
    "            for i in range(len(lst) + 1):\n",
    "                new_ans.append(lst[:i] + [n] + lst[i:])\n",
    "                if i < len(lst) and lst[i] == n:\n",
    "                    break\n",
    "        ans = new_ans\n",
    "    return ans\n",
    "\n",
    "print(permuteUnique([1])) # [[1]]\n",
    "print(permuteUnique([1,1,2])) # [[1,1,2], [1,2,1], [2,1,1]]\n",
    "print(permuteUnique([1,1,2,2])) # [[2, 2, 1, 1], [2, 1, 2, 1], [1, 2, 2, 1], [2, 1, 1, 2], [1, 2, 1, 2], [1, 1, 2, 2]]\n",
    "print(permuteUnique([1,1,1,2])) # [[1,1,1,2], [1,1,2,1], [1,2,1,1], [2,1,1,1]]\n",
    "print(permuteUnique([1,2,3])) # [[1,2,3],[1,3,2],[2,1,3],[2,3,1],[3,1,2],[3,2,1]]"
   ]
  },
  {
   "attachments": {},
   "cell_type": "markdown",
   "metadata": {},
   "source": [
    "**54. Spiral Matrix**\n",
    "\n",
    "Given an m x n matrix, return all elements of the matrix in spiral order.\n",
    "\n",
    "https://leetcode.com/problems/spiral-matrix/"
   ]
  },
  {
   "cell_type": "code",
   "execution_count": 31,
   "metadata": {},
   "outputs": [
    {
     "name": "stdout",
     "output_type": "stream",
     "text": [
      "[1, 2, 4, 6, 5, 3]\n",
      "[1, 2, 3, 6, 9, 8, 7, 4, 5]\n",
      "[1, 2, 3, 4, 8, 12, 11, 10, 9, 5, 6, 7]\n"
     ]
    }
   ],
   "source": [
    "# very long answer\n",
    "def spiralOrder(matrix: list[list[int]]) -> list[int]:\n",
    "    height = len(matrix)\n",
    "    width = len(matrix[0])\n",
    "\n",
    "    ans = matrix[0]\n",
    "    remaining = height * width - width\n",
    "    counter = 0\n",
    "    h = 0\n",
    "    w = width - 1\n",
    "    decrease = 0\n",
    "    moves = [1, -1, -1, 1]\n",
    "\n",
    "    while remaining:\n",
    "        if not counter % 2:\n",
    "            decrease += 1\n",
    "        index = counter%4\n",
    "        if index % 2:\n",
    "            for _ in range(width - decrease):\n",
    "                w += moves[index]\n",
    "                ans.append(matrix[h][w])\n",
    "                remaining -= 1\n",
    "        else:\n",
    "            for _ in range(height - decrease):\n",
    "                h += moves[index]\n",
    "                ans.append(matrix[h][w])\n",
    "                remaining -= 1\n",
    "        counter += 1\n",
    "\n",
    "    return ans\n",
    "\n",
    "# another, using list(zip(*matrix))[::-1] to rotate the matrix counter clockwise\n",
    "def spiralOrder(matrix: list[list[int]]) -> list[int]:\n",
    "    ans = []\n",
    "    while matrix:\n",
    "        ans += list(matrix.pop(0))\n",
    "        matrix = [*zip(*matrix)][::-1]\n",
    "    return ans\n",
    "\n",
    "print(spiralOrder([[1,2],[3,4],[5,6]])) # [1,2,4,6,5,3]\n",
    "print(spiralOrder([[1,2,3],[4,5,6],[7,8,9]])) # [1,2,3,6,9,8,7,4,5]\n",
    "print(spiralOrder([[1,2,3,4],[5,6,7,8],[9,10,11,12]])) # [1,2,3,4,8,12,11,10,9,5,6,7]"
   ]
  },
  {
   "attachments": {},
   "cell_type": "markdown",
   "metadata": {},
   "source": [
    "**57. Insert Interval**\n",
    "\n",
    "You are given an array of non-overlapping intervals intervals where intervals[i] = [starti, endi] represent the start and the end of the ith interval and intervals is sorted in ascending order by starti. You are also given an interval newInterval = [start, end] that represents the start and end of another interval.\n",
    "\n",
    "Insert newInterval into intervals such that intervals is still sorted in ascending order by starti and intervals still does not have any overlapping intervals (merge overlapping intervals if necessary).\n",
    "\n",
    "Return intervals after the insertion.\n",
    "\n",
    "https://leetcode.com/problems/insert-interval/"
   ]
  },
  {
   "cell_type": "code",
   "execution_count": 59,
   "metadata": {},
   "outputs": [
    {
     "name": "stdout",
     "output_type": "stream",
     "text": [
      "[[1, 5]]\n",
      "[[5, 7]]\n",
      "[[1, 5], [6, 9]]\n",
      "[[1, 2], [3, 10], [12, 16]]\n",
      "[[0, 5], [7, 12]]\n"
     ]
    }
   ],
   "source": [
    "# longwinded way, optimised using binary search\n",
    "def insert(intervals: list[list[int]], newInterval: list[int]) -> list[list[int]]:\n",
    "\n",
    "    def binary(start, end, ind):\n",
    "        while start <= end:\n",
    "            mid = (start + end) // 2\n",
    "            if intervals[mid][ind] >= newInterval[ind]:\n",
    "                end = mid-1\n",
    "            else:\n",
    "                start = mid+1\n",
    "        return start\n",
    "        \n",
    "    if not intervals:\n",
    "        return [newInterval]\n",
    "    \n",
    "    start = 0 if newInterval[0] <= intervals[0][0] else binary(0, len(intervals)-1, 0)\n",
    "    end = len(intervals) if newInterval[1] >= intervals[-1][1] else binary(start, len(intervals)-1, 1)\n",
    "\n",
    "    out = intervals[:start]\n",
    "    if out and out[-1][1] >= newInterval[0]:\n",
    "        out[-1][1] = max(newInterval[1], out[-1][1])\n",
    "    else:\n",
    "        out.append(newInterval)\n",
    "    if end < len(intervals) and out[-1][1] >= intervals[end][0]:\n",
    "        out[-1][1] = intervals[end][1]\n",
    "        return out + intervals[end+1:]\n",
    "    else:\n",
    "        return out + intervals[end:]\n",
    "\n",
    "# simple linear - slower\n",
    "def insert(intervals: list[list[int]], newInterval: list[int]) -> list[list[int]]:\n",
    "    i = 0\n",
    "    ans = []\n",
    "    while i < len(intervals) and intervals[i][0] < newInterval[0]:\n",
    "        ans.append(intervals[i])\n",
    "        i += 1\n",
    "    if ans and ans[-1][1] >= newInterval[0]:\n",
    "        ans[-1][1] = max(newInterval[1], ans[-1][1])\n",
    "    else:\n",
    "        ans.append(newInterval)\n",
    "    while i < len(intervals) and intervals[i][1] <= newInterval[1]:\n",
    "        i += 1\n",
    "    if i < len(intervals) and ans[-1][1] >= intervals[i][0]:\n",
    "        ans[-1][1] = intervals[i][1]\n",
    "        return ans + intervals[i+1:]\n",
    "    else:\n",
    "        return ans + intervals[i:]\n",
    "\n",
    "\n",
    "\n",
    "print(insert(intervals = [[1,5]], newInterval = [2,3])) # [[1,5]]\n",
    "print(insert(intervals = [], newInterval = [5,7])) # [[5,7]]\n",
    "print(insert(intervals = [[1,3],[6,9]], newInterval = [2,5])) # [[1,5],[6,9]]\n",
    "print(insert(intervals = [[1,2],[3,5],[6,7],[8,10],[12,16]], newInterval = [4,8])) # [[1,2],[3,10],[12,16]]\n",
    "print(insert(intervals = [[0,4],[7,12]], newInterval = [0,5])) # [[0,5],[7,12]]"
   ]
  },
  {
   "attachments": {},
   "cell_type": "markdown",
   "metadata": {},
   "source": [
    "**58. Length of Last Word**\n",
    "\n",
    "Given a string s consisting of words and spaces, return the length of the last word in the string.\n",
    "\n",
    "A word is a maximal substring consisting of non-space characters only."
   ]
  },
  {
   "cell_type": "code",
   "execution_count": null,
   "metadata": {},
   "outputs": [],
   "source": [
    "# one liner\n",
    "def lengthOfLastWord(s: str) -> int:\n",
    "    return len(s.rstrip().split(\" \")[-1])\n",
    "\n",
    "# another solution\n",
    "def lengthOfLastWord(s: str) -> int:\n",
    "    word = None\n",
    "    for i in range(len(s)-1, -1, -1):\n",
    "        if s[i] == \" \":\n",
    "            if word:\n",
    "                return word - i\n",
    "        elif not word:\n",
    "            word = i\n",
    "    return word + 1"
   ]
  },
  {
   "attachments": {},
   "cell_type": "markdown",
   "metadata": {},
   "source": [
    "**59. Spiral Matrix II**\n",
    "\n",
    "Given a positive integer n, generate an n x n matrix filled with elements from 1 to n^2 in spiral order.\n",
    "\n",
    "https://leetcode.com/problems/spiral-matrix-ii/"
   ]
  },
  {
   "cell_type": "code",
   "execution_count": 47,
   "metadata": {},
   "outputs": [
    {
     "name": "stdout",
     "output_type": "stream",
     "text": [
      "[[1, 2, 3], [8, 9, 4], [7, 6, 5]]\n",
      "[[1]]\n",
      "[[1, 2, 3, 4], [12, 13, 14, 5], [11, 16, 15, 6], [10, 9, 8, 7]]\n"
     ]
    }
   ],
   "source": [
    "def generateMatrix(n: int) -> list[list[int]]:\n",
    "    matrix = [[0 for _ in range(n)] for _ in range(n)]\n",
    "    number = 1\n",
    "    next = [0,0]\n",
    "    chosen = 0\n",
    "    while True:\n",
    "        h,w = next\n",
    "        matrix[h][w] = number\n",
    "        neighbours = [[h,w+1],[h+1,w],[h,w-1],[h-1,w]]\n",
    "        hh,ww = neighbours[chosen%4]\n",
    "        if hh < 0 or ww < 0 or hh == n or ww == n or matrix[hh][ww]:\n",
    "            chosen += 1\n",
    "            hh,ww = neighbours[chosen%4]\n",
    "            if hh < 0 or ww < 0 or hh == n or ww == n or matrix[hh][ww]:\n",
    "                return matrix\n",
    "        next = [hh,ww]\n",
    "        number += 1\n",
    "\n",
    "print(generateMatrix(3)) # [[1,2,3],[8,9,4],[7,6,5]]\n",
    "print(generateMatrix(1)) # [[1]]\n",
    "print(generateMatrix(4)) # [[1,2,3,4],[12,13,14,5],[11,16,15,6],[10,9,8,7]]"
   ]
  },
  {
   "attachments": {},
   "cell_type": "markdown",
   "metadata": {},
   "source": [
    "**61. Rotate List**\n",
    "\n",
    "Given the head of a linked list, rotate the list to the right by k places.\n",
    "\n",
    "https://leetcode.com/problems/rotate-list/"
   ]
  },
  {
   "cell_type": "code",
   "execution_count": 129,
   "metadata": {},
   "outputs": [
    {
     "name": "stdout",
     "output_type": "stream",
     "text": [
      "4 5 1 2 3 \n",
      "2 0 1 \n",
      "1 2 \n",
      "2 1 \n"
     ]
    }
   ],
   "source": [
    "def rotateRight(head, k: int):\n",
    "    if not head or not head.next or not k:\n",
    "        return head\n",
    "    counter = 1\n",
    "    node = head.next\n",
    "    while node.next:\n",
    "        node = node.next\n",
    "        counter += 1\n",
    "    length = counter + 1\n",
    "    k %= length\n",
    "    node.next = head\n",
    "    node = head\n",
    "    counter = 0\n",
    "    while counter < (length - k - 1):\n",
    "        node = node.next\n",
    "        counter += 1\n",
    "    out = node.next\n",
    "    node.next = None\n",
    "    return out\n",
    "\n",
    "print_linked_list(rotateRight(make_linked_list([1,2,3,4,5]), 2)) # 4 5 1 2 3 \n",
    "print_linked_list(rotateRight(make_linked_list([0,1,2]), 4)) # 2 0 1 \n",
    "print_linked_list(rotateRight(make_linked_list([1,2]), 0)) # 1 2 \n",
    "print_linked_list(rotateRight(make_linked_list([1,2]), 1)) # 2 1"
   ]
  },
  {
   "attachments": {},
   "cell_type": "markdown",
   "metadata": {},
   "source": [
    "**63. Unique Paths II**\n",
    "\n",
    "You are given an m x n integer array grid. There is a robot initially located at the top-left corner (i.e., grid[0][0]). The robot tries to move to the bottom-right corner (i.e., grid[m - 1][n - 1]). The robot can only move either down or right at any point in time.\n",
    "\n",
    "An obstacle and space are marked as 1 or 0 respectively in grid. A path that the robot takes cannot include any square that is an obstacle.\n",
    "\n",
    "Return the number of possible unique paths that the robot can take to reach the bottom-right corner.\n",
    "\n",
    "The testcases are generated so that the answer will be less than or equal to 2 * 10^9.\n",
    "\n",
    "https://leetcode.com/problems/unique-paths-ii/"
   ]
  },
  {
   "cell_type": "code",
   "execution_count": 5,
   "metadata": {},
   "outputs": [
    {
     "name": "stdout",
     "output_type": "stream",
     "text": [
      "2\n",
      "1\n"
     ]
    }
   ],
   "source": [
    "def uniquePathsWithObstacles(obstacleGrid: list[list[int]]) -> int:\n",
    "    height = len(obstacleGrid)\n",
    "    width = len(obstacleGrid[0])\n",
    "    if obstacleGrid[height-1][width-1] == 1:\n",
    "        return 0\n",
    "    dp = [[0 for _ in range(width+1)] for _ in range(height+1)]\n",
    "    dp[height-1][width] = 1\n",
    "\n",
    "    for h in range(height-1, -1, -1):\n",
    "        for w in range(width-1, -1, -1):\n",
    "            if obstacleGrid[h][w] == 0:\n",
    "                dp[h][w] = dp[h+1][w] + dp[h][w+1]\n",
    "    \n",
    "    return dp[0][0]\n",
    "\n",
    "\n",
    "print(uniquePathsWithObstacles([[0,0,0],[0,1,0],[0,0,0]])) # 2\n",
    "print(uniquePathsWithObstacles([[0,1],[0,0]])) # 1"
   ]
  },
  {
   "attachments": {},
   "cell_type": "markdown",
   "metadata": {},
   "source": [
    "**67. Add Binary**\n",
    "\n",
    "Given two binary strings a and b, return their sum as a binary string.\n",
    "\n",
    "https://leetcode.com/problems/add-binary/"
   ]
  },
  {
   "cell_type": "code",
   "execution_count": 163,
   "metadata": {},
   "outputs": [
    {
     "name": "stdout",
     "output_type": "stream",
     "text": [
      "100\n",
      "100\n",
      "10101\n"
     ]
    }
   ],
   "source": [
    "def addBinary(a: str, b: str) -> str:\n",
    "    ans = []\n",
    "    if len(a) != len(b):\n",
    "        if len(a) > len(b):\n",
    "            b = b.zfill(len(a))\n",
    "        else:\n",
    "            a = a.zfill(len(b))\n",
    "    a = a[::-1]\n",
    "    b = b[::-1]\n",
    "    carry = False\n",
    "    for i in range(len(a)):\n",
    "        if a[i] != b[i]:\n",
    "            if carry:\n",
    "                ans.append(\"0\")\n",
    "                carry = True\n",
    "            else:\n",
    "                ans.append(\"1\")\n",
    "        elif a[i] == \"1\":\n",
    "            if carry:\n",
    "                ans.append(\"1\")\n",
    "            else:\n",
    "                ans.append(\"0\")\n",
    "                carry = True\n",
    "        else:\n",
    "            if carry:\n",
    "                ans.append(\"1\")\n",
    "                carry = False\n",
    "            else:\n",
    "                ans.append(\"0\")\n",
    "    if carry:\n",
    "        ans.append(\"1\")\n",
    "    return \"\".join(ans[::-1])\n",
    "\n",
    "\n",
    "print(addBinary(a = \"11\", b = \"1\")) # \"100\"\n",
    "print(addBinary(a = \"1\", b = \"11\")) # \"100\"\n",
    "print(addBinary(a = \"1010\", b = \"1011\")) # \"10101\""
   ]
  },
  {
   "attachments": {},
   "cell_type": "markdown",
   "metadata": {},
   "source": [
    "**71. Simplify Path**\n",
    "\n",
    "Given a string path, which is an absolute path (starting with a slash '/') to a file or directory in a Unix-style file system, convert it to the simplified canonical path.\n",
    "\n",
    "In a Unix-style file system, a period '.' refers to the current directory, a double period '..' refers to the directory up a level, and any multiple consecutive slashes (i.e. '//') are treated as a single slash '/'. For this problem, any other format of periods such as '...' are treated as file/directory names.\n",
    "\n",
    "The canonical path should have the following format:\n",
    "\n",
    "* The path starts with a single slash '/'.\n",
    "* Any two directories are separated by a single slash '/'.\n",
    "* The path does not end with a trailing '/'.\n",
    "* The path only contains the directories on the path from the root directory to the target file or directory (i.e., no period '.' or double period '..')\n",
    "\n",
    "Return the simplified canonical path.\n",
    "\n",
    "https://leetcode.com/problems/simplify-path/"
   ]
  },
  {
   "cell_type": "code",
   "execution_count": 74,
   "metadata": {},
   "outputs": [
    {
     "name": "stdout",
     "output_type": "stream",
     "text": [
      "/home\n",
      "/\n",
      "/home/foo\n",
      "/a/b/c\n",
      "/..hidden\n",
      "/hello../world\n",
      "/...\n",
      "/hello./world\n",
      "/..ga/b/.f..d/..../e.baaeeh./.a\n"
     ]
    }
   ],
   "source": [
    "def simplifyPath(path: str) -> str:\n",
    "    path += \"/\"\n",
    "    ans = []\n",
    "    current = []\n",
    "    dots = 0\n",
    "    for c in path:\n",
    "        if c == \"/\":\n",
    "            if dots == len(current) == 2:\n",
    "                if ans:\n",
    "                    ans.pop()\n",
    "            elif current and current != [\".\"]:\n",
    "                ans.append(current)\n",
    "            dots = 0\n",
    "            current = []\n",
    "        else:\n",
    "            if c == \".\":\n",
    "                dots += 1\n",
    "            current.append(c)\n",
    "    return \"/\" + \"/\".join([\"\".join(word) for word in ans])\n",
    "        \n",
    "\n",
    "print(simplifyPath(\"/home/\")) # \"/home\"\n",
    "print(simplifyPath(\"/../\")) # \"/\"\n",
    "print(simplifyPath(\"/home//foo/\")) # \"/home/foo\"\n",
    "print(simplifyPath(\"/a//b////c/d//././/..\")) # \"/a/b/c\"\n",
    "print(simplifyPath(\"/..hidden\")) # \"/..hidden\"\n",
    "print(simplifyPath(\"/hello../world\")) # \"/hello../world\"\n",
    "print(simplifyPath(\"/...\")) # \"/...\"\n",
    "print(simplifyPath(\"/hello./world/\")) # \"/hello./world\"\n",
    "print(simplifyPath(\"/../..ga/b/.f..d/..../e.baaeeh./.a\")) # \"/..ga/b/.f..d/..../e.baaeeh./.a\""
   ]
  },
  {
   "attachments": {},
   "cell_type": "markdown",
   "metadata": {},
   "source": [
    "**83. Remove Duplicates from Sorted List**\n",
    "\n",
    "Given the head of a sorted linked list, delete all duplicates such that each element appears only once. Return the linked list sorted as well."
   ]
  },
  {
   "cell_type": "code",
   "execution_count": 5,
   "metadata": {},
   "outputs": [],
   "source": [
    "def deleteDuplicates(head):\n",
    "    if not head or not head.next:\n",
    "        return head\n",
    "    node = head \n",
    "    while node.next:\n",
    "        if node.val == node.next.val:\n",
    "            node.next = node.next.next\n",
    "        else:\n",
    "            node = node.next\n",
    "    return head "
   ]
  },
  {
   "attachments": {},
   "cell_type": "markdown",
   "metadata": {},
   "source": [
    "**216. Combination Sum III**\n",
    "\n",
    "Find all valid combinations of k numbers that sum up to n such that the following conditions are true:\n",
    "\n",
    "Only numbers 1 through 9 are used.\n",
    "Each number is used at most once.\n",
    "Return a list of all possible valid combinations. The list must not contain the same combination twice, and the combinations may be returned in any order.\n",
    "\n",
    "https://leetcode.com/problems/combination-sum-iii/"
   ]
  },
  {
   "cell_type": "code",
   "execution_count": 73,
   "metadata": {},
   "outputs": [
    {
     "name": "stdout",
     "output_type": "stream",
     "text": [
      "[[1, 2, 4]]\n",
      "[[1, 2, 6], [1, 3, 5], [2, 3, 4]]\n",
      "[]\n"
     ]
    }
   ],
   "source": [
    "# dfs\n",
    "def combinationSum3(k: int, n: int) -> list[list[int]]:\n",
    "    if n < k or n > (9 * k):\n",
    "        return []\n",
    "    ans = []\n",
    "    s = [([], 1, n)]\n",
    "    while s:\n",
    "        lst, num, tgt = s.pop()\n",
    "        if len(lst) == k:\n",
    "            if tgt == 0:\n",
    "                ans.append(lst)\n",
    "        else:\n",
    "            for i in range(num, 10):\n",
    "                s.append((lst + [i], i+1, tgt-i))\n",
    "    return ans\n",
    "\n",
    "# recursive\n",
    "def combinationSum3(k: int, n: int) -> list[list[int]]:\n",
    "    if n < k or n > (9 * k):\n",
    "        return []\n",
    "    ans = []\n",
    "    \n",
    "    def dfs(lst, num, tgt):\n",
    "        if len(lst) == k:\n",
    "            if tgt == 0:\n",
    "                ans.append(lst)\n",
    "            return\n",
    "        for i in range(num, 10):\n",
    "            dfs(lst + [i], i+1, tgt-i)\n",
    "\n",
    "    dfs([], 1, n)\n",
    "\n",
    "    return ans\n",
    "\n",
    "print(combinationSum3(k = 3, n = 7))\n",
    "print(combinationSum3(k = 3, n = 9))\n",
    "print(combinationSum3(k = 4, n = 1))"
   ]
  },
  {
   "attachments": {},
   "cell_type": "markdown",
   "metadata": {},
   "source": [
    "**516. Longest Palindromic Subsequence**\n",
    "\n",
    "Given a string s, find the longest palindromic subsequence's length in s.\n",
    "\n",
    "A subsequence is a sequence that can be derived from another sequence by deleting some or no elements without changing the order of the remaining elements.\n",
    "\n",
    "https://leetcode.com/problems/longest-palindromic-subsequence/"
   ]
  },
  {
   "cell_type": "code",
   "execution_count": 43,
   "metadata": {},
   "outputs": [
    {
     "name": "stdout",
     "output_type": "stream",
     "text": [
      "4\n",
      "2\n",
      "5\n"
     ]
    }
   ],
   "source": [
    "# basically longest common subsequence. A little slow\n",
    "def longestPalindromeSubseq(s: str) -> int:\n",
    "    l = len(s)\n",
    "    dp = [[0] * (l + 1) for _ in range(l + 1)]\n",
    "    for i in range(l-1, -1, -1):\n",
    "        for j in range(l-1, -1, -1):\n",
    "            if s[i] == s[l-j-1]:\n",
    "                dp[i][j] = dp[i+1][j+1] + 1\n",
    "            else:\n",
    "                dp[i][j] = max(dp[i+1][j], dp[i][j+1]) \n",
    "    return dp[0][0]\n",
    "\n",
    "print(longestPalindromeSubseq(\"bbbab\")) # 4\n",
    "print(longestPalindromeSubseq(\"cbbd\")) # 2\n",
    "print(longestPalindromeSubseq(\"bdbbcabac\")) # 5"
   ]
  },
  {
   "attachments": {},
   "cell_type": "markdown",
   "metadata": {},
   "source": [
    "**946. Validate Stack Sequences**\n",
    "\n",
    "Given two integer arrays pushed and popped each with distinct values, return true if this could have been the result of a sequence of push and pop operations on an initially empty stack, or false otherwise."
   ]
  },
  {
   "cell_type": "code",
   "execution_count": 30,
   "metadata": {},
   "outputs": [
    {
     "name": "stdout",
     "output_type": "stream",
     "text": [
      "True\n",
      "False\n"
     ]
    }
   ],
   "source": [
    "# slightly longwinded\n",
    "def validateStackSequences(pushed: list[int], popped: list[int]) -> bool:\n",
    "    push_i = 0\n",
    "    pop_i = 0\n",
    "    stack = []\n",
    "    while push_i < len(pushed) or pop_i < len(popped):\n",
    "        try:\n",
    "            if not stack or stack[-1] != popped[pop_i]:\n",
    "                stack.append(pushed[push_i])\n",
    "                push_i += 1\n",
    "            elif stack[-1] == popped[pop_i]:\n",
    "                pop_i += 1\n",
    "                stack.pop()\n",
    "        except:\n",
    "            return False\n",
    "    return True\n",
    "\n",
    "# more compact\n",
    "def validateStackSequences(pushed: list[int], popped: list[int]) -> bool:\n",
    "    pop_i = 0\n",
    "    stack = []\n",
    "    for push in pushed:\n",
    "        stack.append(push) \n",
    "        while stack and stack[-1] == popped[pop_i]:\n",
    "            stack.pop()\n",
    "            pop_i += 1\n",
    "    return not stack\n",
    "\n",
    "\n",
    "print(validateStackSequences(pushed = [1,2,3,4,5], popped = [4,5,3,2,1])) # True\n",
    "print(validateStackSequences(pushed = [1,2,3,4,5], popped = [4,3,5,1,2])) # False"
   ]
  },
  {
   "attachments": {},
   "cell_type": "markdown",
   "metadata": {},
   "source": [
    "**1143. Longest Common Subsequence**\n",
    "\n",
    "Given two strings text1 and text2, return the length of their longest common subsequence. If there is no common subsequence, return 0.\n",
    "\n",
    "A subsequence of a string is a new string generated from the original string with some characters (can be none) deleted without changing the relative order of the remaining characters.\n",
    "\n",
    "For example, \"ace\" is a subsequence of \"abcde\".\n",
    "A common subsequence of two strings is a subsequence that is common to both strings.\n",
    "\n",
    "https://leetcode.com/problems/longest-common-subsequence/"
   ]
  },
  {
   "cell_type": "code",
   "execution_count": 57,
   "metadata": {},
   "outputs": [
    {
     "name": "stdout",
     "output_type": "stream",
     "text": [
      "5\n"
     ]
    }
   ],
   "source": [
    "# standard DP\n",
    "def longestCommonSubsequence(text1: str, text2: str) -> int:\n",
    "    dp = [[0] * (len(text1) + 1) for _ in range(len(text2) + 1)]\n",
    "    for i in range(len(text2)-1, -1, -1):\n",
    "        for j in range(len(text1)-1, -1, -1):\n",
    "            if text2[i] == text1[j]:\n",
    "                dp[i][j] = dp[i+1][j+1] + 1\n",
    "            else:\n",
    "                dp[i][j] = max(dp[i][j+1], dp[i+1][j])\n",
    "    return dp[0][0]\n",
    "\n",
    "# very fast solution - similar to Longest Increasing Subsequence using Patience card game algorithm\n",
    "def longestCommonSubsequence(text1: str, text2: str) -> int:\n",
    "    dp = []\n",
    "    d = dict()\n",
    "    for i in range(len(text2)):\n",
    "        if text2[i] in d:\n",
    "            d[text2[i]].append(i)\n",
    "        else:\n",
    "            d[text2[i]] = [i]\n",
    "    for c in text1:\n",
    "        if c in d:\n",
    "            for i in d[c][::-1]:\n",
    "                l, r = 0, len(dp)-1\n",
    "                while l <= r:\n",
    "                    m = (l + r)//2\n",
    "                    if dp[m] >= i:\n",
    "                        r = m - 1\n",
    "                    else:\n",
    "                        l = m + 1\n",
    "                if l == len(dp):\n",
    "                    dp.append(i)\n",
    "                else:\n",
    "                    dp[l] = i\n",
    "    return len(dp)\n",
    "\n",
    "# print(longestCommonSubsequence(text1 = \"abcde\", text2 = \"ace\" )) # 3\n",
    "# print(longestCommonSubsequence(text1 = \"abc\", text2 = \"abc\")) # 3\n",
    "# print(longestCommonSubsequence(text1 = \"abc\", text2 = \"def\")) # 0\n",
    "# print(longestCommonSubsequence(text1 = \"bl\", text2 = \"yby\")) # 1\n",
    "print(longestCommonSubsequence(text1 = \"abcba\", text2 = \"abcbcba\")) # 5\n",
    "# print(longestCommonSubsequence(text1 = \"bsbininm\", text2 = \"jmjkbkjkv\")) # 1\n",
    "# print(longestCommonSubsequence(text1 = \"bmvcnwrmxcfcxabkxcvgbozmpspsbenazglyxkpibgzq\", text2 = \"bmpmlstotylonkvmhqjyxmnqzctonqtobahcrcbibgzgx\")) # 13"
   ]
  },
  {
   "attachments": {},
   "cell_type": "markdown",
   "metadata": {},
   "source": [
    "**1431. Kids With the Greatest Number of Candies**\n",
    "\n",
    "There are n kids with candies. You are given an integer array candies, where each candies[i] represents the number of candies the ith kid has, and an integer extraCandies, denoting the number of extra candies that you have.\n",
    "\n",
    "Return a boolean array result of length n, where result[i] is true if, after giving the ith kid all the extraCandies, they will have the greatest number of candies among all the kids, or false otherwise.\n",
    "\n",
    "Note that multiple kids can have the greatest number of candies.\n",
    "\n",
    "https://leetcode.com/problems/kids-with-the-greatest-number-of-candies/"
   ]
  },
  {
   "cell_type": "code",
   "execution_count": 11,
   "metadata": {},
   "outputs": [
    {
     "name": "stdout",
     "output_type": "stream",
     "text": [
      "[True, True, True, False, True]\n",
      "[True, False, False, False, False]\n",
      "[True, False, True]\n"
     ]
    }
   ],
   "source": [
    "def kidsWithCandies(candies: list[int], extraCandies: int) -> list[bool]:\n",
    "    max_candies = max(candies)\n",
    "    return [c+extraCandies >= max_candies for c in candies]\n",
    "\n",
    "print(kidsWithCandies(candies = [2,3,5,1,3], extraCandies = 3)) # [true,true,true,false,true] \n",
    "print(kidsWithCandies(candies = [4,2,1,1,2], extraCandies = 1)) # [true,false,false,false,false] \n",
    "print(kidsWithCandies(candies = [12,1,12], extraCandies = 10)) # [true,false,true]\n"
   ]
  },
  {
   "attachments": {},
   "cell_type": "markdown",
   "metadata": {},
   "source": [
    "**1639. Number of Ways to Form a Target String Given a Dictionary**\n",
    "\n",
    "You are given a list of strings of the same length words and a string target.\n",
    "\n",
    "Your task is to form target using the given words under the following rules:\n",
    "\n",
    "target should be formed from left to right.\n",
    "To form the ith character (0-indexed) of target, you can choose the kth character of the jth string in words if target[i] = words[j][k].\n",
    "Once you use the kth character of the jth string of words, you can no longer use the xth character of any string in words where x <= k. In other words, all characters to the left of or at index k become unusuable for every string.\n",
    "Repeat the process until you form the string target.\n",
    "Notice that you can use multiple characters from the same string in words provided the conditions above are met.\n",
    "\n",
    "Return the number of ways to form target from words. Since the answer may be too large, return it modulo 10^9 + 7.\n",
    "\n",
    "https://leetcode.com/problems/number-of-ways-to-form-a-target-string-given-a-dictionary/"
   ]
  },
  {
   "cell_type": "code",
   "execution_count": 9,
   "metadata": {},
   "outputs": [
    {
     "name": "stdout",
     "output_type": "stream",
     "text": [
      "6\n",
      "4\n"
     ]
    }
   ],
   "source": [
    "# first solution\n",
    "def numWays(words: list[str], target: str) -> int:\n",
    "    if len(target) > len(words[0]):\n",
    "        return 0\n",
    "    dp = [[0 for _ in range(len(words[0])+1)] for _ in range(len(target))]\n",
    "    dp += [[1 for _ in range(len(words[0])+1)]]\n",
    "    for ti in range(len(target)-1, -1, -1):\n",
    "        for wi in range(len(words[0])-(len(target)-ti), ti-1, -1):\n",
    "            count = 0\n",
    "            for w in words:\n",
    "                if w[wi] == target[ti]:\n",
    "                    count += 1\n",
    "            dp[ti][wi] = (count * dp[ti+1][wi+1] + dp[ti][wi+1]) % (10**9+7)\n",
    "        if dp[ti][ti] == 0:\n",
    "            return 0\n",
    "    \n",
    "    return dp[0][0]\n",
    "\n",
    "# slightly optimised - makes note of the first non-zero cell\n",
    "def numWays(words: list[str], target: str) -> int:\n",
    "    if len(target) > len(words[0]):\n",
    "        return 0\n",
    "    dp = [[0 for _ in range(len(words[0])+1)] for _ in range(len(target))]\n",
    "    dp += [[1 for _ in range(len(words[0])+1)]]\n",
    "    start = len(words[0])-1\n",
    "    for ti in range(len(target)-1, -1, -1):\n",
    "        for wi in range(start, ti-1, -1):\n",
    "            count = 0\n",
    "            for w in words:\n",
    "                if w[wi] == target[ti]:\n",
    "                    count += 1\n",
    "            dp[ti][wi] = (count * dp[ti+1][wi+1] + dp[ti][wi+1]) % (10**9+7)\n",
    "            if dp[ti][wi] == 0:\n",
    "                start = wi - 1\n",
    "        if dp[ti][ti] == 0:\n",
    "            return 0\n",
    "        start -= 1\n",
    "    \n",
    "    return dp[0][0]\n",
    "\n",
    "print(numWays(words = [\"acca\",\"bbbb\",\"caca\"], target = \"aba\")) # 6\n",
    "print(numWays(words = [\"abba\",\"baab\"], target = \"bab\")) # 4"
   ]
  },
  {
   "attachments": {},
   "cell_type": "markdown",
   "metadata": {},
   "source": [
    "**1857. Largest Color Value in a Directed Graph**\n",
    "\n",
    "There is a directed graph of n colored nodes and m edges. The nodes are numbered from 0 to n - 1.\n",
    "\n",
    "You are given a string colors where colors[i] is a lowercase English letter representing the color of the ith node in this graph (0-indexed). You are also given a 2D array edges where edges[j] = [aj, bj] indicates that there is a directed edge from node aj to node bj.\n",
    "\n",
    "A valid path in the graph is a sequence of nodes x1 -> x2 -> x3 -> ... -> xk such that there is a directed edge from xi to xi+1 for every 1 <= i < k. The color value of the path is the number of nodes that are colored the most frequently occurring color along that path.\n",
    "\n",
    "Return the largest color value of any valid path in the given graph, or -1 if the graph contains a cycle.\n",
    "\n",
    "https://leetcode.com/problems/largest-color-value-in-a-directed-graph/"
   ]
  },
  {
   "cell_type": "code",
   "execution_count": 54,
   "metadata": {},
   "outputs": [
    {
     "name": "stdout",
     "output_type": "stream",
     "text": [
      "3\n",
      "3\n",
      "-1\n",
      "4\n",
      "-1\n",
      "1\n"
     ]
    }
   ],
   "source": [
    "# times out\n",
    "def largestPathValue(colors: str, edges: list[list[int]]) -> int:\n",
    "    if not edges:\n",
    "        return 1\n",
    "    \n",
    "    graph = {}\n",
    "    from_nodes = set()\n",
    "    to_nodes = set()\n",
    "    for k, v in edges:\n",
    "        from_nodes.add(k)\n",
    "        to_nodes.add(v)\n",
    "        if k in graph:\n",
    "            graph[k].append(v)\n",
    "        else:\n",
    "            graph[k] = [v]\n",
    "\n",
    "    from_nodes -= to_nodes\n",
    "\n",
    "    if not from_nodes:\n",
    "        return -1\n",
    "    \n",
    "    largest_color_value = 0\n",
    "\n",
    "    def bfs(start):\n",
    "        s = [[start, dict(), set()]]\n",
    "        while s:\n",
    "            i, color_dic, visited = s.pop()\n",
    "            visited.add(i)\n",
    "            color_dic[colors[i]] = color_dic.get(colors[i], 0) + 1\n",
    "            nonlocal largest_color_value\n",
    "            largest_color_value = max(largest_color_value, color_dic[colors[i]])\n",
    "            if i in graph:\n",
    "                for n in graph[i]:\n",
    "                    if n in visited:\n",
    "                        return False\n",
    "                    else:\n",
    "                        s.append([n, color_dic.copy(), visited.copy()])\n",
    "        return True\n",
    "\n",
    "    for node in from_nodes:\n",
    "        if not bfs(node):\n",
    "            return -1\n",
    "\n",
    "    return largest_color_value\n",
    "\n",
    "print(largestPathValue(colors = \"abaca\", edges = [[0,1],[0,2],[2,3],[3,4]])) # 3\n",
    "print(largestPathValue(colors = \"abaca\", edges = [[0,1],[0,2],[2,3],[3,4],[4,1]])) # 3\n",
    "print(largestPathValue(colors = \"abaca\", edges = [[0,1],[0,2],[2,3],[3,4],[4,2]])) # -1\n",
    "print(largestPathValue(colors = \"bbbhb\", edges = [[0,2],[3,0],[1,3],[4,1]])) # 4\n",
    "print(largestPathValue(colors = \"a\", edges = [[0,0]])) # -1\n",
    "print(largestPathValue(colors = \"g\", edges = [])) # -1"
   ]
  },
  {
   "cell_type": "code",
   "execution_count": 72,
   "metadata": {},
   "outputs": [
    {
     "name": "stdout",
     "output_type": "stream",
     "text": [
      "3\n",
      "3\n",
      "-1\n",
      "4\n",
      "-1\n",
      "1\n"
     ]
    }
   ],
   "source": [
    "# uses topological sort - very fast!\n",
    "def largestPathValue(colors: str, edges: list[list[int]]) -> int:\n",
    "\n",
    "    # no edges = max path is 1\n",
    "    if not edges:\n",
    "        return 1\n",
    "    \n",
    "    digraph = {} # storing the graph\n",
    "    indegrees = {} # storing number of indegrees\n",
    "\n",
    "    for k, v in edges:\n",
    "        if k in digraph:\n",
    "            digraph[k].append(v) # appending an edge\n",
    "        else:\n",
    "            digraph[k] = [v] # adding an edge to a node without any edges\n",
    "        if v not in digraph:\n",
    "            # if an edge leads to a node without any outcoming edges, we add that node to the dictionary\n",
    "            # this step is needed to store nodes with no outcoming edges\n",
    "            digraph[v] = []\n",
    "        # counting indegrees\n",
    "        indegrees[v] = indegrees.get(v, 0) + 1\n",
    "\n",
    "    topological_sort = []\n",
    "    # digraph contains all nodes as keys. indegrees contains only the nodes with incoming edges\n",
    "    no_incoming_edges = list(digraph.keys() - indegrees.keys()) \n",
    "\n",
    "    # populating topological sort\n",
    "    while no_incoming_edges:\n",
    "        node = no_incoming_edges.pop()\n",
    "        topological_sort.append(node)\n",
    "        # iterating through the outcoming edges of the popped node\n",
    "        for n in digraph[node]:\n",
    "            # decrementing their indegrees\n",
    "            indegrees[n] -= 1\n",
    "            # if the popped node was their last remaining incoming edge, we add them to the topological sort\n",
    "            if indegrees[n] == 0:\n",
    "                no_incoming_edges.append(n)\n",
    "\n",
    "    # this means there is a loop\n",
    "    if len(digraph) != len(topological_sort):\n",
    "        return -1\n",
    "    \n",
    "    largest_color_value = 0\n",
    "\n",
    "    # maintaining a color dictionary for each node\n",
    "    colour_dicts = {k:dict() for k in digraph.keys()}\n",
    "\n",
    "    # going backwards in the topological sort\n",
    "    for i in range(len(topological_sort)-1, -1, -1):\n",
    "        index = topological_sort[i]\n",
    "\n",
    "        # iterating through outgoing edges\n",
    "        for n in digraph[index]:\n",
    "            for color in colour_dicts[n]:\n",
    "                # choosing maximum possible number of colours available to any child\n",
    "                colour_dicts[index][color] = max(colour_dicts[index].get(color, 0), colour_dicts[n][color])\n",
    "        # incrementing the node colour counter\n",
    "        colour_dicts[index][colors[index]] = colour_dicts[index].get(colors[index], 0) + 1\n",
    "        # potentially updating the largest_color_value counter\n",
    "        largest_color_value = max(largest_color_value, colour_dicts[index][colors[index]])\n",
    "\n",
    "    return largest_color_value\n",
    "\n",
    "\n",
    "print(largestPathValue(colors = \"abaca\", edges = [[0,1],[0,2],[2,3],[3,4]])) # 3\n",
    "print(largestPathValue(colors = \"abaca\", edges = [[0,1],[0,2],[2,3],[3,4],[4,1]])) # 3\n",
    "print(largestPathValue(colors = \"abaca\", edges = [[0,1],[0,2],[2,3],[3,4],[4,2]])) # -1\n",
    "print(largestPathValue(colors = \"bbbhb\", edges = [[0,2],[3,0],[1,3],[4,1]])) # 4\n",
    "print(largestPathValue(colors = \"a\", edges = [[0,0]])) # -1\n",
    "print(largestPathValue(colors = \"g\", edges = [])) # -1"
   ]
  },
  {
   "attachments": {},
   "cell_type": "markdown",
   "metadata": {},
   "source": [
    "**2218. Maximum Value of K Coins From Piles**\n",
    " \n",
    "There are n piles of coins on a table. Each pile consists of a positive number of coins of assorted denominations.\n",
    "\n",
    "In one move, you can choose any coin on top of any pile, remove it, and add it to your wallet.\n",
    "\n",
    "Given a list piles, where piles[i] is a list of integers denoting the composition of the ith pile from top to bottom, and a positive integer k, return the maximum total value of coins you can have in your wallet if you choose exactly k coins optimally.\n",
    "\n",
    "https://leetcode.com/problems/maximum-value-of-k-coins-from-piles/"
   ]
  },
  {
   "cell_type": "code",
   "execution_count": 98,
   "metadata": {},
   "outputs": [
    {
     "name": "stdout",
     "output_type": "stream",
     "text": [
      "101\n",
      "706\n",
      "350\n",
      "494\n"
     ]
    }
   ],
   "source": [
    "# Slow DP. Same O(k*s), where s is the total number of coins in all piles,\n",
    "# as the best solutions. Other solutions can be faster because they don't use the auxillary \n",
    "# weights and values arrays. \n",
    "def maxValueOfCoins(piles: list[list[int]], k: int) -> int:\n",
    "    weights = [0]\n",
    "    values = [0]\n",
    "    for p in piles:\n",
    "        added = 0\n",
    "        for i in range(len(p)):\n",
    "            if i < k:\n",
    "                weights.append(i+1)\n",
    "                added += p[i]\n",
    "                values.append(added)\n",
    "\n",
    "    dp = [[0] * (k+1) for _ in range(len(weights))]\n",
    "\n",
    "    for i in range(1, len(weights)):\n",
    "        for w in range(1, k+1):\n",
    "            if weights[i] <= w:\n",
    "                dp[i][w] = max(dp[i-1][w], dp[i-weights[i]][w-weights[i]] + values[i])\n",
    "            else:\n",
    "                dp[i][w] = dp[i-1][w]\n",
    "\n",
    "    # ####\n",
    "    # print(weights, values)\n",
    "    # for r in dp:\n",
    "    #     print(*r, sep=\"\\t\")\n",
    "    # ####\n",
    "\n",
    "    return dp[len(weights)-1][k]\n",
    "\n",
    "\n",
    "print(maxValueOfCoins(piles = [[1,100,3],[7,8,9]], k = 2)) # 101\n",
    "print(maxValueOfCoins(piles = [[100],[100],[100],[100],[100],[100],[1,1,1,1,1,1,700]], k = 7)) # 706\n",
    "print(maxValueOfCoins(piles = [[100,100,100],[50]], k = 4)) # 350\n",
    "print(maxValueOfCoins(piles = [[37,88],[51,64,65,20,95,30,26],[9,62,20],[44]], k = 9)) # 494"
   ]
  },
  {
   "attachments": {},
   "cell_type": "markdown",
   "metadata": {},
   "source": [
    "**2390. Removing Stars From a String**\n",
    "\n",
    "You are given a string s, which contains stars *.\n",
    "\n",
    "In one operation, you can:\n",
    "\n",
    "Choose a star in s.\n",
    "Remove the closest non-star character to its left, as well as remove the star itself.\n",
    "Return the string after all stars have been removed.\n",
    "\n",
    "Note:\n",
    "\n",
    "The input will be generated such that the operation is always possible.\n",
    "It can be shown that the resulting string will always be unique.\n",
    "\n",
    "https://leetcode.com/problems/removing-stars-from-a-string/"
   ]
  },
  {
   "cell_type": "code",
   "execution_count": 65,
   "metadata": {},
   "outputs": [
    {
     "name": "stdout",
     "output_type": "stream",
     "text": [
      "lecoe\n"
     ]
    }
   ],
   "source": [
    "def removeStars(s: str) -> str:\n",
    "    stack = []\n",
    "    for c in s:\n",
    "        if c == \"*\":\n",
    "            stack.pop()\n",
    "        else:\n",
    "            stack.append(c)\n",
    "    return \"\".join(stack)\n",
    "\n",
    "print(removeStars(s = \"leet**cod*e\")) # lecoe"
   ]
  }
 ],
 "metadata": {
  "kernelspec": {
   "display_name": "Python 3",
   "language": "python",
   "name": "python3"
  },
  "language_info": {
   "codemirror_mode": {
    "name": "ipython",
    "version": 3
   },
   "file_extension": ".py",
   "mimetype": "text/x-python",
   "name": "python",
   "nbconvert_exporter": "python",
   "pygments_lexer": "ipython3",
   "version": "3.11.1"
  },
  "orig_nbformat": 4
 },
 "nbformat": 4,
 "nbformat_minor": 2
}
