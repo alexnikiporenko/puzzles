{
 "cells": [
  {
   "cell_type": "code",
   "execution_count": 14,
   "metadata": {},
   "outputs": [
    {
     "name": "stdout",
     "output_type": "stream",
     "text": [
      "2 4 3 \n",
      "5 6 4 \n"
     ]
    }
   ],
   "source": [
    "# Definition for singly-linked list.\n",
    "class ListNode:\n",
    "    def __init__(self, val=0, next=None):\n",
    "        self.val = val\n",
    "        self.next = next\n",
    "\n",
    "def make_linked_list(nums):\n",
    "    linked_list = ListNode(val=nums[0])\n",
    "    node = linked_list\n",
    "    for n in nums[1:]:\n",
    "        node.next = ListNode(val=n)\n",
    "        node = node.next\n",
    "    return linked_list\n",
    "\n",
    "def print_linked_list(node):\n",
    "    while node:\n",
    "        print(node.val, end=\" \")\n",
    "        node = node.next\n",
    "    print()\n",
    "\n",
    "print_linked_list(make_linked_list([2,4,3]))\n",
    "print_linked_list(make_linked_list([5,6,4]))"
   ]
  },
  {
   "cell_type": "code",
   "execution_count": 1,
   "metadata": {},
   "outputs": [
    {
     "name": "stdout",
     "output_type": "stream",
     "text": [
      "2 1 4 \n",
      "1 None 8 "
     ]
    }
   ],
   "source": [
    "# Definition for a binary tree node.\n",
    "class TreeNode:\n",
    "    def __init__(self, val=0, left=None, right=None):\n",
    "        self.val = val\n",
    "        self.left = left\n",
    "        self.right = right\n",
    "\n",
    "from collections import deque\n",
    "\n",
    "def make_binary_tree(nums):\n",
    "    tree = TreeNode(val=nums[0])\n",
    "    i = 1\n",
    "    q = deque([tree])\n",
    "    while i < len(nums):\n",
    "        node = q.popleft()\n",
    "        node.left = TreeNode(val=nums[i])\n",
    "        q.append(node.left)\n",
    "        if i + 1 < len(nums):\n",
    "            node.right = TreeNode(val=nums[i+1])\n",
    "            q.append(node.right)\n",
    "        i += 2\n",
    "    return tree\n",
    "\n",
    "\n",
    "def print_binary_tree(root):\n",
    "    if root:\n",
    "        print(root.val, end=\" \")\n",
    "        print_binary_tree(root.left)\n",
    "        print_binary_tree(root.right)\n",
    "\n",
    "print_binary_tree(make_binary_tree([2,1,4]))\n",
    "print()\n",
    "print_binary_tree(make_binary_tree([1,None,8]))"
   ]
  },
  {
   "attachments": {},
   "cell_type": "markdown",
   "metadata": {},
   "source": [
    "**32. Longest Valid Parentheses**\n",
    "\n",
    "Given a string containing just the characters '(' and ')', return the length of the longest valid (well-formed) parentheses substring.\n",
    "\n",
    "https://leetcode.com/problems/longest-valid-parentheses/"
   ]
  },
  {
   "cell_type": "code",
   "execution_count": 42,
   "metadata": {},
   "outputs": [
    {
     "name": "stdout",
     "output_type": "stream",
     "text": [
      "2\n",
      "4\n",
      "0\n",
      "2\n",
      "2\n",
      "2\n"
     ]
    }
   ],
   "source": [
    "def longestValidParentheses(s: str) -> int:\n",
    "    array = []\n",
    "    ind_stack = []\n",
    "    for c in s:\n",
    "        if c == \")\":\n",
    "            if not ind_stack:\n",
    "                array.append(False)\n",
    "            else:\n",
    "                array[ind_stack.pop()] = True\n",
    "        else:\n",
    "            array.append(False)\n",
    "            ind_stack.append(len(array)-1)\n",
    "    counter = 0\n",
    "    max_count = 0\n",
    "    for a in array:\n",
    "        if a:\n",
    "            counter += 2\n",
    "        else:\n",
    "            max_count = max(counter, max_count)\n",
    "            counter = 0\n",
    "    return max(counter, max_count)\n",
    "\n",
    "print(longestValidParentheses(\"(()\")) # 2\n",
    "print(longestValidParentheses(\")()())\")) # 4\n",
    "print(longestValidParentheses(\"\")) # 0\n",
    "print(longestValidParentheses(\"()(()\")) # 2\n",
    "print(longestValidParentheses(\"()\")) # 2\n",
    "print(longestValidParentheses(\"(()(((()\")) # 2"
   ]
  },
  {
   "attachments": {},
   "cell_type": "markdown",
   "metadata": {},
   "source": [
    "**39. Combination Sum**\n",
    "\n",
    "Given an array of distinct integers candidates and a target integer target, return a list of all unique combinations of candidates where the chosen numbers sum to target. You may return the combinations in any order.\n",
    "\n",
    "The same number may be chosen from candidates an unlimited number of times. Two combinations are unique if the frequency of at least one of the chosen numbers is different.\n",
    "\n",
    "The test cases are generated such that the number of unique combinations that sum up to target is less than 150 combinations for the given input.\n",
    "\n",
    "https://leetcode.com/problems/combination-sum/"
   ]
  },
  {
   "cell_type": "code",
   "execution_count": 78,
   "metadata": {},
   "outputs": [
    {
     "name": "stdout",
     "output_type": "stream",
     "text": [
      "[[7], [2, 2, 3]]\n",
      "[[3, 5], [2, 3, 3], [2, 2, 2, 2]]\n",
      "[]\n",
      "[[2]]\n"
     ]
    }
   ],
   "source": [
    "# dynamic programming\n",
    "def combinationSum(candidates: list[int], target: int) -> list[list[int]]:\n",
    "    candidates.sort()\n",
    "    dp = [[] for _ in range(target+1)]\n",
    "    for t in range(candidates[0], target+1):\n",
    "        for c in candidates:\n",
    "            if c > t:\n",
    "                break\n",
    "            elif c == t:\n",
    "                dp[c].append([c])\n",
    "            else:\n",
    "                if dp[t-c]:\n",
    "                    for l in dp[t-c]:\n",
    "                        # only appending values that are smaller or equal\n",
    "                        # than the last value in the candidate solution.\n",
    "                        # this ensures that solutions are unique\n",
    "                        if c <= l[-1]:\n",
    "                            dp[t].append(l + [c])\n",
    "    return dp[target]\n",
    "\n",
    "# bfs\n",
    "def combinationSum(candidates: list[int], target: int) -> list[list[int]]:\n",
    "    from collections import deque\n",
    "    candidates.sort()\n",
    "    ans = []\n",
    "    q = deque([([], 0, target)])\n",
    "    while q:\n",
    "        solution, index, new_target = q.popleft()\n",
    "        for i in range(index, len(candidates)):\n",
    "            if candidates[i] > new_target:\n",
    "                break\n",
    "            if candidates[i] == new_target:\n",
    "                ans.append(solution + [candidates[i]])\n",
    "            else:\n",
    "                q.append((solution + [candidates[i]], i, new_target-candidates[i]))\n",
    "    return ans\n",
    "\n",
    "\n",
    "print(combinationSum(candidates = [2,3,6,7], target = 7)) # [[2,2,3],[7]]\n",
    "print(combinationSum(candidates = [2,3,5], target = 8)) # [[2,2,2,2],[2,3,3],[3,5]]\n",
    "print(combinationSum(candidates = [2], target = 1)) # []\n",
    "print(combinationSum(candidates = [2], target = 2)) # [[2]]"
   ]
  },
  {
   "attachments": {},
   "cell_type": "markdown",
   "metadata": {},
   "source": [
    "**40. Combination Sum II**\n",
    "\n",
    "Given a collection of candidate numbers (candidates) and a target number (target), find all unique combinations in candidates where the candidate numbers sum to target.\n",
    "\n",
    "Each number in candidates may only be used once in the combination.\n",
    "\n",
    "Note: The solution set must not contain duplicate combinations.\n",
    "\n",
    "https://leetcode.com/problems/combination-sum-ii/"
   ]
  },
  {
   "cell_type": "code",
   "execution_count": 56,
   "metadata": {},
   "outputs": [
    {
     "name": "stdout",
     "output_type": "stream",
     "text": [
      "[[1, 1, 6], [1, 2, 5], [1, 7], [2, 6]]\n",
      "[[1, 2, 2], [5]]\n",
      "[]\n"
     ]
    }
   ],
   "source": [
    "# bottom-up DP\n",
    "def combinationSum2(candidates: list[int], target: int) -> list[list[int]]:\n",
    "    candidates.sort()\n",
    "    dp = [{()}] + [set() for _ in range(target)]\n",
    "    for c in candidates:\n",
    "        for t in range(target, c-1, -1):\n",
    "            for tup in dp[t-c]:\n",
    "                dp[t].add(tup + (c,))\n",
    "    return dp[target]\n",
    "\n",
    "# BFS\n",
    "from collections import deque\n",
    "def combinationSum2(candidates: list[int], target: int) -> list[list[int]]:\n",
    "    candidates.sort()\n",
    "    ans = []\n",
    "    q = deque([(0, [], target)])\n",
    "    while q:\n",
    "        index, cand, new_target = q.pop()\n",
    "        if new_target == 0:\n",
    "            ans.append(cand)\n",
    "        else:\n",
    "            for i in range(index, len(candidates)):\n",
    "                if i > index and candidates[i] == candidates[i-1]:\n",
    "                    continue\n",
    "                if candidates[i] > new_target:\n",
    "                    break\n",
    "                q.appendleft((i+1, cand+[candidates[i]], new_target-candidates[i]))\n",
    "    return ans\n",
    "\n",
    "# recursive\n",
    "def combinationSum2(candidates: list[int], target: int) -> list[list[int]]:\n",
    "    candidates.sort()\n",
    "    ans = []\n",
    "    def backtrack(lst, ind, tgt):\n",
    "        # basecase\n",
    "        if tgt == 0:\n",
    "            ans.append(lst)\n",
    "            return\n",
    "        for i in range(ind, len(candidates)):\n",
    "            if i > ind and candidates[i] == candidates[i-1]:\n",
    "                continue\n",
    "            if candidates[i] > tgt:\n",
    "                break\n",
    "            backtrack(lst+[candidates[i]], i+1, tgt-candidates[i])\n",
    "\n",
    "    backtrack([], 0, target)\n",
    "    return ans\n",
    "\n",
    "print(combinationSum2(candidates = [10,1,2,7,6,1,5], target = 8)) # [[1,1,6], [1,2,5], [1,7], [2,6]]\n",
    "print(combinationSum2(candidates = [2,5,2,1,2], target = 5)) # [[1,2,2], [5]]\n",
    "print(combinationSum2(candidates = [1,1,1,1,1,1,1,1,1,1,1,1,1,1,1,1,1,1,1,1,1,1,1,1,1], target = 27)) # []"
   ]
  },
  {
   "attachments": {},
   "cell_type": "markdown",
   "metadata": {},
   "source": [
    "**41. First Missing Positive**\n",
    "\n",
    "Given an unsorted integer array nums, return the smallest missing positive integer.\n",
    "\n",
    "You must implement an algorithm that runs in O(n) time and uses constant extra space."
   ]
  },
  {
   "cell_type": "code",
   "execution_count": 57,
   "metadata": {},
   "outputs": [
    {
     "name": "stdout",
     "output_type": "stream",
     "text": [
      "Testcases - all unique numbers\n",
      "3\n",
      "2\n",
      "1\n",
      "4\n",
      "1\n",
      "1\n",
      "2\n",
      "Testcases - repeating numbers\n",
      "2\n",
      "2\n",
      "2\n",
      "3\n",
      "1\n"
     ]
    }
   ],
   "source": [
    "# obvious O(n) solution. O(n) space complexity\n",
    "def firstMissingPositive(nums: list[int]) -> int:\n",
    "    nums = set(nums)\n",
    "    for n in range(1, len(nums) + 2):\n",
    "        if n not in nums:\n",
    "            return n\n",
    "\n",
    "# another O(n) solution. Still O(n) space complexity\n",
    "def firstMissingPositive(nums: list[int]) -> int:\n",
    "    length = len(nums) + 1\n",
    "    total = length * (1 + length) // 2 \n",
    "    visited = set()\n",
    "    for n in nums:\n",
    "        if n < 1 or n >= length or n in visited:\n",
    "            total -= length \n",
    "            visited.add(length)\n",
    "            length -= 1\n",
    "            while length in visited:\n",
    "                length -= 1\n",
    "        else:\n",
    "            total -= n \n",
    "            visited.add(n)\n",
    "    return total\n",
    "\n",
    "# O(1) space complexity\n",
    "def firstMissingPositive(nums: list[int]) -> int:\n",
    "    for i in range(len(nums)):\n",
    "        if nums[i] < 0:\n",
    "            nums[i] = 0\n",
    "    \n",
    "    for n in nums:\n",
    "        if 1 <= abs(n) <= len(nums):\n",
    "            if not nums[abs(n)-1]:\n",
    "                nums[abs(n)-1] = -len(nums) - 1\n",
    "            else:\n",
    "                nums[abs(n)-1] = -abs(nums[abs(n)-1])\n",
    "\n",
    "    for i in range(len(nums)):\n",
    "        if nums[i] >= 0:\n",
    "            return i+1\n",
    "    \n",
    "    return len(nums) + 1 \n",
    "\n",
    "        \n",
    "\n",
    "print(\"Testcases - all unique numbers\")\n",
    "print(firstMissingPositive([1,2,0])) # 3\n",
    "print(firstMissingPositive([3,4,-1,1])) # 2\n",
    "print(firstMissingPositive([7,8,9,11,12])) # 1\n",
    "print(firstMissingPositive([1,2,3,5,7])) # 4\n",
    "print(firstMissingPositive([3,0,4,5])) # 1\n",
    "print(firstMissingPositive([6,0,3,4,5,0])) # 1\n",
    "print(firstMissingPositive([1])) # 2\n",
    "\n",
    "print(\"Testcases - repeating numbers\")\n",
    "print(firstMissingPositive([1,1])) # 2\n",
    "print(firstMissingPositive([1,1,1])) # 2\n",
    "print(firstMissingPositive([1,1,1,3])) # 2\n",
    "print(firstMissingPositive([1,2,2,4])) # 3\n",
    "print(firstMissingPositive([2,2])) # 1"
   ]
  },
  {
   "attachments": {},
   "cell_type": "markdown",
   "metadata": {},
   "source": [
    "**43. Multiply Strings**\n",
    "\n",
    "Given two non-negative integers num1 and num2 represented as strings, return the product of num1 and num2, also represented as a string.\n",
    "\n",
    "Note: You must not use any built-in BigInteger library or convert the inputs to integer directly.\n",
    "\n",
    "https://leetcode.com/problems/multiply-strings/"
   ]
  },
  {
   "cell_type": "code",
   "execution_count": 52,
   "metadata": {},
   "outputs": [
    {
     "name": "stdout",
     "output_type": "stream",
     "text": [
      "6\n",
      "56088\n"
     ]
    }
   ],
   "source": [
    "def multiply(num1: str, num2: str) -> str:\n",
    "    ans = 0\n",
    "    num1 = list(map(int, num1[::-1]))\n",
    "    num2 = list(map(int, num2[::-1]))\n",
    "    for i in range(len(num1)):\n",
    "        carry = 0\n",
    "        for ii in range(len(num2)):\n",
    "            prod = num1[i] * num2[ii]\n",
    "            n = prod % 10\n",
    "            ans += (n + carry) * (10 ** i) * (10 ** ii)\n",
    "            carry = prod // 10\n",
    "        ans += carry * (10 ** i) * (10 ** len(num2))\n",
    "    return str(ans)\n",
    "\n",
    "print(multiply(num1 = \"2\", num2 = \"3\")) # \"6\"\n",
    "print(multiply(num1 = \"123\", num2 = \"456\")) # \"56088\""
   ]
  },
  {
   "attachments": {},
   "cell_type": "markdown",
   "metadata": {},
   "source": [
    "**45. Jump Game II**\n",
    "\n",
    "You are given a 0-indexed array of integers nums of length n. You are initially positioned at nums[0].\n",
    "\n",
    "Each element nums[i] represents the maximum length of a forward jump from index i. In other words, if you are at nums[i], you can jump to any nums[i + j] where:\n",
    "\n",
    "* 0 <= j <= nums[i] and\n",
    "* i + j < n\n",
    "\n",
    "Return the minimum number of jumps to reach nums[n - 1]. The test cases are generated such that you can reach nums[n - 1]."
   ]
  },
  {
   "cell_type": "code",
   "execution_count": 2,
   "metadata": {},
   "outputs": [],
   "source": [
    "def jump(nums: list[int]) -> int:\n",
    "    if len(nums) > 1 and nums[0] >= len(nums)-1:\n",
    "        return 1\n",
    "    current = -1\n",
    "    nxt = nums[0]\n",
    "    jumps = 0\n",
    "    for i in range(len(nums)-1):\n",
    "        if i > current:\n",
    "            current = nxt\n",
    "            jumps += 1\n",
    "        nxt = max(nxt, nums[i] + i)\n",
    "        if nxt >= len(nums) - 1:\n",
    "            return jumps + 1\n",
    "    return jumps"
   ]
  },
  {
   "attachments": {},
   "cell_type": "markdown",
   "metadata": {},
   "source": [
    "**47. Permutations II**\n",
    "\n",
    "Given a collection of numbers, nums, that might contain duplicates, return all possible unique permutations in any order.\n",
    "\n",
    "https://leetcode.com/problems/permutations-ii/"
   ]
  },
  {
   "cell_type": "code",
   "execution_count": 10,
   "metadata": {},
   "outputs": [
    {
     "name": "stdout",
     "output_type": "stream",
     "text": [
      "[[1]]\n",
      "[[2, 1, 1], [1, 2, 1], [1, 1, 2]]\n",
      "[[2, 2, 1, 1], [2, 1, 2, 1], [1, 2, 2, 1], [2, 1, 1, 2], [1, 2, 1, 2], [1, 1, 2, 2]]\n",
      "[[2, 1, 1, 1], [1, 2, 1, 1], [1, 1, 2, 1], [1, 1, 1, 2]]\n",
      "[[3, 2, 1], [2, 3, 1], [2, 1, 3], [3, 1, 2], [1, 3, 2], [1, 2, 3]]\n"
     ]
    }
   ],
   "source": [
    "# easy set way, slow\n",
    "def permuteUnique(nums: list[int]) -> list[list[int]]:\n",
    "    nums.sort()\n",
    "    res = set()\n",
    "    l = len(nums)\n",
    "    indices = set(range(l))\n",
    "    stack = [(tuple(), indices)]\n",
    "    while stack:\n",
    "        candidate, options = stack.pop()\n",
    "        if len(candidate) == l:\n",
    "            res.add(candidate)\n",
    "        for op in options:\n",
    "            options_copy = options.copy()\n",
    "            options_copy.remove(op)\n",
    "            stack.append((candidate + (nums[op],), options_copy))\n",
    "    return res\n",
    "\n",
    "# another way - faster\n",
    "def permuteUnique(nums: list[int]) -> list[list[int]]:\n",
    "    nums.sort()\n",
    "    res = []\n",
    "    l = len(nums)\n",
    "    indices = set(range(l))\n",
    "    stack = [([], indices)]\n",
    "    while stack:\n",
    "        candidate, options = stack.pop()\n",
    "        if len(candidate) == l:\n",
    "            res.append(candidate)\n",
    "        for op in options:\n",
    "            # if the chosen number is the same as the previous number, and the previous number has already been used\n",
    "            if op > 0 and nums[op] == nums[op-1] and op-1 not in options:\n",
    "                break\n",
    "            options_copy = options.copy()\n",
    "            options_copy.remove(op)\n",
    "            stack.append((candidate + [nums[op]], options_copy))\n",
    "    return res\n",
    "\n",
    "# from leetcode\n",
    "def permuteUnique(nums: list[int]) -> list[list[int]]:\n",
    "    ans = [[]]\n",
    "    for n in nums:\n",
    "        new_ans = []\n",
    "        for lst in ans:\n",
    "            for i in range(len(lst) + 1):\n",
    "                new_ans.append(lst[:i] + [n] + lst[i:])\n",
    "                if i < len(lst) and lst[i] == n:\n",
    "                    break\n",
    "        ans = new_ans\n",
    "    return ans\n",
    "\n",
    "print(permuteUnique([1])) # [[1]]\n",
    "print(permuteUnique([1,1,2])) # [[1,1,2], [1,2,1], [2,1,1]]\n",
    "print(permuteUnique([1,1,2,2])) # [[2, 2, 1, 1], [2, 1, 2, 1], [1, 2, 2, 1], [2, 1, 1, 2], [1, 2, 1, 2], [1, 1, 2, 2]]\n",
    "print(permuteUnique([1,1,1,2])) # [[1,1,1,2], [1,1,2,1], [1,2,1,1], [2,1,1,1]]\n",
    "print(permuteUnique([1,2,3])) # [[1,2,3],[1,3,2],[2,1,3],[2,3,1],[3,1,2],[3,2,1]]"
   ]
  },
  {
   "attachments": {},
   "cell_type": "markdown",
   "metadata": {},
   "source": [
    "**54. Spiral Matrix**\n",
    "\n",
    "Given an m x n matrix, return all elements of the matrix in spiral order.\n",
    "\n",
    "https://leetcode.com/problems/spiral-matrix/"
   ]
  },
  {
   "cell_type": "code",
   "execution_count": 31,
   "metadata": {},
   "outputs": [
    {
     "name": "stdout",
     "output_type": "stream",
     "text": [
      "[1, 2, 4, 6, 5, 3]\n",
      "[1, 2, 3, 6, 9, 8, 7, 4, 5]\n",
      "[1, 2, 3, 4, 8, 12, 11, 10, 9, 5, 6, 7]\n"
     ]
    }
   ],
   "source": [
    "# very long answer\n",
    "def spiralOrder(matrix: list[list[int]]) -> list[int]:\n",
    "    height = len(matrix)\n",
    "    width = len(matrix[0])\n",
    "\n",
    "    ans = matrix[0]\n",
    "    remaining = height * width - width\n",
    "    counter = 0\n",
    "    h = 0\n",
    "    w = width - 1\n",
    "    decrease = 0\n",
    "    moves = [1, -1, -1, 1]\n",
    "\n",
    "    while remaining:\n",
    "        if not counter % 2:\n",
    "            decrease += 1\n",
    "        index = counter%4\n",
    "        if index % 2:\n",
    "            for _ in range(width - decrease):\n",
    "                w += moves[index]\n",
    "                ans.append(matrix[h][w])\n",
    "                remaining -= 1\n",
    "        else:\n",
    "            for _ in range(height - decrease):\n",
    "                h += moves[index]\n",
    "                ans.append(matrix[h][w])\n",
    "                remaining -= 1\n",
    "        counter += 1\n",
    "\n",
    "    return ans\n",
    "\n",
    "# another, using list(zip(*matrix))[::-1] to rotate the matrix counter clockwise\n",
    "def spiralOrder(matrix: list[list[int]]) -> list[int]:\n",
    "    ans = []\n",
    "    while matrix:\n",
    "        ans += list(matrix.pop(0))\n",
    "        matrix = [*zip(*matrix)][::-1]\n",
    "    return ans\n",
    "\n",
    "print(spiralOrder([[1,2],[3,4],[5,6]])) # [1,2,4,6,5,3]\n",
    "print(spiralOrder([[1,2,3],[4,5,6],[7,8,9]])) # [1,2,3,6,9,8,7,4,5]\n",
    "print(spiralOrder([[1,2,3,4],[5,6,7,8],[9,10,11,12]])) # [1,2,3,4,8,12,11,10,9,5,6,7]"
   ]
  },
  {
   "attachments": {},
   "cell_type": "markdown",
   "metadata": {},
   "source": [
    "**57. Insert Interval**\n",
    "\n",
    "You are given an array of non-overlapping intervals intervals where intervals[i] = [starti, endi] represent the start and the end of the ith interval and intervals is sorted in ascending order by starti. You are also given an interval newInterval = [start, end] that represents the start and end of another interval.\n",
    "\n",
    "Insert newInterval into intervals such that intervals is still sorted in ascending order by starti and intervals still does not have any overlapping intervals (merge overlapping intervals if necessary).\n",
    "\n",
    "Return intervals after the insertion.\n",
    "\n",
    "https://leetcode.com/problems/insert-interval/"
   ]
  },
  {
   "cell_type": "code",
   "execution_count": 59,
   "metadata": {},
   "outputs": [
    {
     "name": "stdout",
     "output_type": "stream",
     "text": [
      "[[1, 5]]\n",
      "[[5, 7]]\n",
      "[[1, 5], [6, 9]]\n",
      "[[1, 2], [3, 10], [12, 16]]\n",
      "[[0, 5], [7, 12]]\n"
     ]
    }
   ],
   "source": [
    "# longwinded way, optimised using binary search\n",
    "def insert(intervals: list[list[int]], newInterval: list[int]) -> list[list[int]]:\n",
    "\n",
    "    def binary(start, end, ind):\n",
    "        while start <= end:\n",
    "            mid = (start + end) // 2\n",
    "            if intervals[mid][ind] >= newInterval[ind]:\n",
    "                end = mid-1\n",
    "            else:\n",
    "                start = mid+1\n",
    "        return start\n",
    "        \n",
    "    if not intervals:\n",
    "        return [newInterval]\n",
    "    \n",
    "    start = 0 if newInterval[0] <= intervals[0][0] else binary(0, len(intervals)-1, 0)\n",
    "    end = len(intervals) if newInterval[1] >= intervals[-1][1] else binary(start, len(intervals)-1, 1)\n",
    "\n",
    "    out = intervals[:start]\n",
    "    if out and out[-1][1] >= newInterval[0]:\n",
    "        out[-1][1] = max(newInterval[1], out[-1][1])\n",
    "    else:\n",
    "        out.append(newInterval)\n",
    "    if end < len(intervals) and out[-1][1] >= intervals[end][0]:\n",
    "        out[-1][1] = intervals[end][1]\n",
    "        return out + intervals[end+1:]\n",
    "    else:\n",
    "        return out + intervals[end:]\n",
    "\n",
    "# simple linear - slower\n",
    "def insert(intervals: list[list[int]], newInterval: list[int]) -> list[list[int]]:\n",
    "    i = 0\n",
    "    ans = []\n",
    "    while i < len(intervals) and intervals[i][0] < newInterval[0]:\n",
    "        ans.append(intervals[i])\n",
    "        i += 1\n",
    "    if ans and ans[-1][1] >= newInterval[0]:\n",
    "        ans[-1][1] = max(newInterval[1], ans[-1][1])\n",
    "    else:\n",
    "        ans.append(newInterval)\n",
    "    while i < len(intervals) and intervals[i][1] <= newInterval[1]:\n",
    "        i += 1\n",
    "    if i < len(intervals) and ans[-1][1] >= intervals[i][0]:\n",
    "        ans[-1][1] = intervals[i][1]\n",
    "        return ans + intervals[i+1:]\n",
    "    else:\n",
    "        return ans + intervals[i:]\n",
    "\n",
    "\n",
    "\n",
    "print(insert(intervals = [[1,5]], newInterval = [2,3])) # [[1,5]]\n",
    "print(insert(intervals = [], newInterval = [5,7])) # [[5,7]]\n",
    "print(insert(intervals = [[1,3],[6,9]], newInterval = [2,5])) # [[1,5],[6,9]]\n",
    "print(insert(intervals = [[1,2],[3,5],[6,7],[8,10],[12,16]], newInterval = [4,8])) # [[1,2],[3,10],[12,16]]\n",
    "print(insert(intervals = [[0,4],[7,12]], newInterval = [0,5])) # [[0,5],[7,12]]"
   ]
  },
  {
   "attachments": {},
   "cell_type": "markdown",
   "metadata": {},
   "source": [
    "**58. Length of Last Word**\n",
    "\n",
    "Given a string s consisting of words and spaces, return the length of the last word in the string.\n",
    "\n",
    "A word is a maximal substring consisting of non-space characters only."
   ]
  },
  {
   "cell_type": "code",
   "execution_count": null,
   "metadata": {},
   "outputs": [],
   "source": [
    "# one liner\n",
    "def lengthOfLastWord(s: str) -> int:\n",
    "    return len(s.rstrip().split(\" \")[-1])\n",
    "\n",
    "# another solution\n",
    "def lengthOfLastWord(s: str) -> int:\n",
    "    word = None\n",
    "    for i in range(len(s)-1, -1, -1):\n",
    "        if s[i] == \" \":\n",
    "            if word:\n",
    "                return word - i\n",
    "        elif not word:\n",
    "            word = i\n",
    "    return word + 1"
   ]
  },
  {
   "attachments": {},
   "cell_type": "markdown",
   "metadata": {},
   "source": [
    "**59. Spiral Matrix II**\n",
    "\n",
    "Given a positive integer n, generate an n x n matrix filled with elements from 1 to n^2 in spiral order.\n",
    "\n",
    "https://leetcode.com/problems/spiral-matrix-ii/"
   ]
  },
  {
   "cell_type": "code",
   "execution_count": 47,
   "metadata": {},
   "outputs": [
    {
     "name": "stdout",
     "output_type": "stream",
     "text": [
      "[[1, 2, 3], [8, 9, 4], [7, 6, 5]]\n",
      "[[1]]\n",
      "[[1, 2, 3, 4], [12, 13, 14, 5], [11, 16, 15, 6], [10, 9, 8, 7]]\n"
     ]
    }
   ],
   "source": [
    "def generateMatrix(n: int) -> list[list[int]]:\n",
    "    matrix = [[0 for _ in range(n)] for _ in range(n)]\n",
    "    number = 1\n",
    "    next = [0,0]\n",
    "    chosen = 0\n",
    "    while True:\n",
    "        h,w = next\n",
    "        matrix[h][w] = number\n",
    "        neighbours = [[h,w+1],[h+1,w],[h,w-1],[h-1,w]]\n",
    "        hh,ww = neighbours[chosen%4]\n",
    "        if hh < 0 or ww < 0 or hh == n or ww == n or matrix[hh][ww]:\n",
    "            chosen += 1\n",
    "            hh,ww = neighbours[chosen%4]\n",
    "            if hh < 0 or ww < 0 or hh == n or ww == n or matrix[hh][ww]:\n",
    "                return matrix\n",
    "        next = [hh,ww]\n",
    "        number += 1\n",
    "\n",
    "print(generateMatrix(3)) # [[1,2,3],[8,9,4],[7,6,5]]\n",
    "print(generateMatrix(1)) # [[1]]\n",
    "print(generateMatrix(4)) # [[1,2,3,4],[12,13,14,5],[11,16,15,6],[10,9,8,7]]"
   ]
  },
  {
   "attachments": {},
   "cell_type": "markdown",
   "metadata": {},
   "source": [
    "**61. Rotate List**\n",
    "\n",
    "Given the head of a linked list, rotate the list to the right by k places.\n",
    "\n",
    "https://leetcode.com/problems/rotate-list/"
   ]
  },
  {
   "cell_type": "code",
   "execution_count": 129,
   "metadata": {},
   "outputs": [
    {
     "name": "stdout",
     "output_type": "stream",
     "text": [
      "4 5 1 2 3 \n",
      "2 0 1 \n",
      "1 2 \n",
      "2 1 \n"
     ]
    }
   ],
   "source": [
    "def rotateRight(head, k: int):\n",
    "    if not head or not head.next or not k:\n",
    "        return head\n",
    "    counter = 1\n",
    "    node = head.next\n",
    "    while node.next:\n",
    "        node = node.next\n",
    "        counter += 1\n",
    "    length = counter + 1\n",
    "    k %= length\n",
    "    node.next = head\n",
    "    node = head\n",
    "    counter = 0\n",
    "    while counter < (length - k - 1):\n",
    "        node = node.next\n",
    "        counter += 1\n",
    "    out = node.next\n",
    "    node.next = None\n",
    "    return out\n",
    "\n",
    "print_linked_list(rotateRight(make_linked_list([1,2,3,4,5]), 2)) # 4 5 1 2 3 \n",
    "print_linked_list(rotateRight(make_linked_list([0,1,2]), 4)) # 2 0 1 \n",
    "print_linked_list(rotateRight(make_linked_list([1,2]), 0)) # 1 2 \n",
    "print_linked_list(rotateRight(make_linked_list([1,2]), 1)) # 2 1"
   ]
  },
  {
   "attachments": {},
   "cell_type": "markdown",
   "metadata": {},
   "source": [
    "**63. Unique Paths II**\n",
    "\n",
    "You are given an m x n integer array grid. There is a robot initially located at the top-left corner (i.e., grid[0][0]). The robot tries to move to the bottom-right corner (i.e., grid[m - 1][n - 1]). The robot can only move either down or right at any point in time.\n",
    "\n",
    "An obstacle and space are marked as 1 or 0 respectively in grid. A path that the robot takes cannot include any square that is an obstacle.\n",
    "\n",
    "Return the number of possible unique paths that the robot can take to reach the bottom-right corner.\n",
    "\n",
    "The testcases are generated so that the answer will be less than or equal to 2 * 10^9.\n",
    "\n",
    "https://leetcode.com/problems/unique-paths-ii/"
   ]
  },
  {
   "cell_type": "code",
   "execution_count": 5,
   "metadata": {},
   "outputs": [
    {
     "name": "stdout",
     "output_type": "stream",
     "text": [
      "2\n",
      "1\n"
     ]
    }
   ],
   "source": [
    "def uniquePathsWithObstacles(obstacleGrid: list[list[int]]) -> int:\n",
    "    height = len(obstacleGrid)\n",
    "    width = len(obstacleGrid[0])\n",
    "    if obstacleGrid[height-1][width-1] == 1:\n",
    "        return 0\n",
    "    dp = [[0 for _ in range(width+1)] for _ in range(height+1)]\n",
    "    dp[height-1][width] = 1\n",
    "\n",
    "    for h in range(height-1, -1, -1):\n",
    "        for w in range(width-1, -1, -1):\n",
    "            if obstacleGrid[h][w] == 0:\n",
    "                dp[h][w] = dp[h+1][w] + dp[h][w+1]\n",
    "    \n",
    "    return dp[0][0]\n",
    "\n",
    "\n",
    "print(uniquePathsWithObstacles([[0,0,0],[0,1,0],[0,0,0]])) # 2\n",
    "print(uniquePathsWithObstacles([[0,1],[0,0]])) # 1"
   ]
  },
  {
   "attachments": {},
   "cell_type": "markdown",
   "metadata": {},
   "source": [
    "**67. Add Binary**\n",
    "\n",
    "Given two binary strings a and b, return their sum as a binary string.\n",
    "\n",
    "https://leetcode.com/problems/add-binary/"
   ]
  },
  {
   "cell_type": "code",
   "execution_count": 163,
   "metadata": {},
   "outputs": [
    {
     "name": "stdout",
     "output_type": "stream",
     "text": [
      "100\n",
      "100\n",
      "10101\n"
     ]
    }
   ],
   "source": [
    "def addBinary(a: str, b: str) -> str:\n",
    "    ans = []\n",
    "    if len(a) != len(b):\n",
    "        if len(a) > len(b):\n",
    "            b = b.zfill(len(a))\n",
    "        else:\n",
    "            a = a.zfill(len(b))\n",
    "    a = a[::-1]\n",
    "    b = b[::-1]\n",
    "    carry = False\n",
    "    for i in range(len(a)):\n",
    "        if a[i] != b[i]:\n",
    "            if carry:\n",
    "                ans.append(\"0\")\n",
    "                carry = True\n",
    "            else:\n",
    "                ans.append(\"1\")\n",
    "        elif a[i] == \"1\":\n",
    "            if carry:\n",
    "                ans.append(\"1\")\n",
    "            else:\n",
    "                ans.append(\"0\")\n",
    "                carry = True\n",
    "        else:\n",
    "            if carry:\n",
    "                ans.append(\"1\")\n",
    "                carry = False\n",
    "            else:\n",
    "                ans.append(\"0\")\n",
    "    if carry:\n",
    "        ans.append(\"1\")\n",
    "    return \"\".join(ans[::-1])\n",
    "\n",
    "\n",
    "print(addBinary(a = \"11\", b = \"1\")) # \"100\"\n",
    "print(addBinary(a = \"1\", b = \"11\")) # \"100\"\n",
    "print(addBinary(a = \"1010\", b = \"1011\")) # \"10101\""
   ]
  },
  {
   "attachments": {},
   "cell_type": "markdown",
   "metadata": {},
   "source": [
    "**71. Simplify Path**\n",
    "\n",
    "Given a string path, which is an absolute path (starting with a slash '/') to a file or directory in a Unix-style file system, convert it to the simplified canonical path.\n",
    "\n",
    "In a Unix-style file system, a period '.' refers to the current directory, a double period '..' refers to the directory up a level, and any multiple consecutive slashes (i.e. '//') are treated as a single slash '/'. For this problem, any other format of periods such as '...' are treated as file/directory names.\n",
    "\n",
    "The canonical path should have the following format:\n",
    "\n",
    "* The path starts with a single slash '/'.\n",
    "* Any two directories are separated by a single slash '/'.\n",
    "* The path does not end with a trailing '/'.\n",
    "* The path only contains the directories on the path from the root directory to the target file or directory (i.e., no period '.' or double period '..')\n",
    "\n",
    "Return the simplified canonical path.\n",
    "\n",
    "https://leetcode.com/problems/simplify-path/"
   ]
  },
  {
   "cell_type": "code",
   "execution_count": 74,
   "metadata": {},
   "outputs": [
    {
     "name": "stdout",
     "output_type": "stream",
     "text": [
      "/home\n",
      "/\n",
      "/home/foo\n",
      "/a/b/c\n",
      "/..hidden\n",
      "/hello../world\n",
      "/...\n",
      "/hello./world\n",
      "/..ga/b/.f..d/..../e.baaeeh./.a\n"
     ]
    }
   ],
   "source": [
    "def simplifyPath(path: str) -> str:\n",
    "    path += \"/\"\n",
    "    ans = []\n",
    "    current = []\n",
    "    dots = 0\n",
    "    for c in path:\n",
    "        if c == \"/\":\n",
    "            if dots == len(current) == 2:\n",
    "                if ans:\n",
    "                    ans.pop()\n",
    "            elif current and current != [\".\"]:\n",
    "                ans.append(current)\n",
    "            dots = 0\n",
    "            current = []\n",
    "        else:\n",
    "            if c == \".\":\n",
    "                dots += 1\n",
    "            current.append(c)\n",
    "    return \"/\" + \"/\".join([\"\".join(word) for word in ans])\n",
    "        \n",
    "\n",
    "print(simplifyPath(\"/home/\")) # \"/home\"\n",
    "print(simplifyPath(\"/../\")) # \"/\"\n",
    "print(simplifyPath(\"/home//foo/\")) # \"/home/foo\"\n",
    "print(simplifyPath(\"/a//b////c/d//././/..\")) # \"/a/b/c\"\n",
    "print(simplifyPath(\"/..hidden\")) # \"/..hidden\"\n",
    "print(simplifyPath(\"/hello../world\")) # \"/hello../world\"\n",
    "print(simplifyPath(\"/...\")) # \"/...\"\n",
    "print(simplifyPath(\"/hello./world/\")) # \"/hello./world\"\n",
    "print(simplifyPath(\"/../..ga/b/.f..d/..../e.baaeeh./.a\")) # \"/..ga/b/.f..d/..../e.baaeeh./.a\""
   ]
  },
  {
   "attachments": {},
   "cell_type": "markdown",
   "metadata": {},
   "source": [
    "**74. Search a 2D Matrix**\n",
    "\n",
    "You are given an m x n integer matrix matrix with the following two properties:\n",
    "\n",
    "Each row is sorted in non-decreasing order.\n",
    "The first integer of each row is greater than the last integer of the previous row.\n",
    "Given an integer target, return true if target is in matrix or false otherwise.\n",
    "\n",
    "You must write a solution in O(log(m * n)) time complexity.\n",
    "\n",
    "https://leetcode.com/problems/search-a-2d-matrix/"
   ]
  },
  {
   "cell_type": "code",
   "execution_count": 2,
   "metadata": {},
   "outputs": [
    {
     "name": "stdout",
     "output_type": "stream",
     "text": [
      "True\n",
      "False\n"
     ]
    }
   ],
   "source": [
    "def searchMatrix(matrix: list[list[int]], target: int) -> bool:\n",
    "    l = 0\n",
    "    r = len(matrix) - 1\n",
    "    while l <= r:\n",
    "        m = (l+r) // 2\n",
    "        if matrix[m][0] == target:\n",
    "            return True\n",
    "        elif matrix[m][0] > target:\n",
    "            r = m-1\n",
    "        else:\n",
    "            l = m+1\n",
    "    row = r\n",
    "    l = 0\n",
    "    r = len(matrix[0]) - 1\n",
    "    while l <= r:\n",
    "        m = (l+r) // 2\n",
    "        if matrix[row][m] == target:\n",
    "            return True\n",
    "        elif matrix[row][m] > target:\n",
    "            r = m-1\n",
    "        else:\n",
    "            l = m+1\n",
    "    return False\n",
    "\n",
    "print(searchMatrix(matrix = [[1,3,5,7],[10,11,16,20],[23,30,34,60]], target = 3)) # True\n",
    "print(searchMatrix([[1,3,5,7],[10,11,16,20],[23,30,34,60]], target = 13)) # False"
   ]
  },
  {
   "attachments": {},
   "cell_type": "markdown",
   "metadata": {},
   "source": [
    "**80. Remove Duplicates from Sorted Array II**\n",
    "\n",
    "Given an integer array nums sorted in non-decreasing order, remove some duplicates in-place such that each unique element appears at most twice. The relative order of the elements should be kept the same.\n",
    "\n",
    "Since it is impossible to change the length of the array in some languages, you must instead have the result be placed in the first part of the array nums. More formally, if there are k elements after removing the duplicates, then the first k elements of nums should hold the final result. It does not matter what you leave beyond the first k elements.\n",
    "\n",
    "Return k after placing the final result in the first k slots of nums.\n",
    "\n",
    "Do not allocate extra space for another array. You must do this by modifying the input array in-place with O(1) extra memory.\n",
    "\n",
    "https://leetcode.com/problems/remove-duplicates-from-sorted-array-ii/"
   ]
  },
  {
   "cell_type": "code",
   "execution_count": 6,
   "metadata": {},
   "outputs": [
    {
     "name": "stdout",
     "output_type": "stream",
     "text": [
      "5 [1, 1, 2, 2, 3, 3]\n",
      "7 [0, 0, 1, 1, 2, 3, 3, 3, 3]\n"
     ]
    }
   ],
   "source": [
    "def removeDuplicates(nums: list[int]) -> int:\n",
    "    current = nums[0]\n",
    "    count = 1\n",
    "    i = 1\n",
    "    for j in range(1, len(nums)):\n",
    "        if nums[j] == current and count < 2:\n",
    "            nums[i] = nums[j]\n",
    "            count += 1\n",
    "            i += 1\n",
    "        elif nums[j] != current:\n",
    "            nums[i] = nums[j]\n",
    "            current = nums[j]\n",
    "            count = 1\n",
    "            i += 1\n",
    "    return i\n",
    "\n",
    "nums = [1,1,1,2,2,3]\n",
    "print(removeDuplicates(nums), nums) # 5, nums = [1,1,2,2,3,_]\n",
    "\n",
    "nums = [0,0,1,1,1,1,2,3,3]\n",
    "print(removeDuplicates(nums), nums) # 7, nums = [0,0,1,1,2,3,3,_,_]"
   ]
  },
  {
   "attachments": {},
   "cell_type": "markdown",
   "metadata": {},
   "source": [
    "**81. Search in Rotated Sorted Array II**\n",
    "\n",
    "There is an integer array nums sorted in non-decreasing order (not necessarily with distinct values).\n",
    "\n",
    "Before being passed to your function, nums is rotated at an unknown pivot index k (0 <= k < nums.length) such that the resulting array is [nums[k], nums[k+1], ..., nums[n-1], nums[0], nums[1], ..., nums[k-1]] (0-indexed). For example, [0,1,2,4,4,4,5,6,6,7] might be rotated at pivot index 5 and become [4,5,6,6,7,0,1,2,4,4].\n",
    "\n",
    "Given the array nums after the rotation and an integer target, return true if target is in nums, or false if it is not in nums.\n",
    "\n",
    "You must decrease the overall operation steps as much as possible.\n",
    "\n",
    "https://leetcode.com/problems/search-in-rotated-sorted-array-ii"
   ]
  },
  {
   "cell_type": "code",
   "execution_count": 22,
   "metadata": {},
   "outputs": [
    {
     "name": "stdout",
     "output_type": "stream",
     "text": [
      "True\n",
      "False\n",
      "True\n",
      "True\n"
     ]
    }
   ],
   "source": [
    "def search(nums: list[int], target: int) -> bool:\n",
    "    l = 0\n",
    "    r = len(nums) - 1\n",
    "    while l <= r:\n",
    "        m = (l+r) // 2\n",
    "        if nums[m] == target or nums[l] == target or nums[r] == target:\n",
    "            return True\n",
    "        if nums[l] == nums[m] == nums[r]:\n",
    "            for n in nums[l:r+1]:\n",
    "                if n == target:\n",
    "                    return True\n",
    "            return False\n",
    "        elif ((nums[l] < nums[m] and nums[l] < target < nums[m]) or \n",
    "            (nums[l] > nums[m] and (target > nums[l] or target < nums[m]))):\n",
    "            r = m - 1\n",
    "        else:\n",
    "            l = m + 1\n",
    "    return False\n",
    "            \n",
    "\n",
    "print(search(nums = [2,5,6,0,0,1,2], target = 0)) # True\n",
    "print(search(nums = [2,5,6,0,0,1,2], target = 3)) # False\n",
    "print(search(nums = [1,0,1,1,1], target = 0)) # True\n",
    "print(search(nums = [3,3,0,1,3], target = 1)) # True"
   ]
  },
  {
   "attachments": {},
   "cell_type": "markdown",
   "metadata": {},
   "source": [
    "**82. Remove Duplicates from Sorted List II**\n",
    "\n",
    "Given the head of a sorted linked list, delete all nodes that have duplicate numbers, leaving only distinct numbers from the original list. Return the linked list sorted as well.\n",
    "\n",
    "https://leetcode.com/problems/remove-duplicates-from-sorted-list-ii/"
   ]
  },
  {
   "cell_type": "code",
   "execution_count": 30,
   "metadata": {},
   "outputs": [
    {
     "name": "stdout",
     "output_type": "stream",
     "text": [
      "1 2 5 \n"
     ]
    }
   ],
   "source": [
    "def deleteDuplicates(head: ListNode) -> ListNode:\n",
    "    if not head or not head.next:\n",
    "        return head\n",
    "    dummy = ListNode(0, head)\n",
    "    node = dummy\n",
    "    last = head.next\n",
    "    while last:\n",
    "        if node.next.val == last.val:\n",
    "            while last and node.next.val == last.val:\n",
    "                last = last.next\n",
    "            node.next = last\n",
    "            if last:\n",
    "                last = last.next\n",
    "        else:\n",
    "            node = node.next\n",
    "            last = last.next\n",
    "    return dummy.next\n",
    "\n",
    "print_linked_list(deleteDuplicates(make_linked_list([1,2,3,3,4,4,5])))"
   ]
  },
  {
   "attachments": {},
   "cell_type": "markdown",
   "metadata": {},
   "source": [
    "**83. Remove Duplicates from Sorted List**\n",
    "\n",
    "Given the head of a sorted linked list, delete all duplicates such that each element appears only once. Return the linked list sorted as well."
   ]
  },
  {
   "cell_type": "code",
   "execution_count": 5,
   "metadata": {},
   "outputs": [],
   "source": [
    "def deleteDuplicates(head):\n",
    "    if not head or not head.next:\n",
    "        return head\n",
    "    node = head \n",
    "    while node.next:\n",
    "        if node.val == node.next.val:\n",
    "            node.next = node.next.next\n",
    "        else:\n",
    "            node = node.next\n",
    "    return head "
   ]
  },
  {
   "attachments": {},
   "cell_type": "markdown",
   "metadata": {},
   "source": [
    "**86. Partition List**\n",
    "\n",
    "Given the head of a linked list and a value x, partition it such that all nodes less than x come before nodes greater than or equal to x.\n",
    "\n",
    "You should preserve the original relative order of the nodes in each of the two partitions.\n",
    "\n",
    "https://leetcode.com/problems/partition-list/"
   ]
  },
  {
   "cell_type": "code",
   "execution_count": 51,
   "metadata": {},
   "outputs": [
    {
     "name": "stdout",
     "output_type": "stream",
     "text": [
      "1 2 2 4 3 5 \n",
      "1 2 \n"
     ]
    }
   ],
   "source": [
    "def partition(head: ListNode, x: int) -> ListNode:\n",
    "    dummy = ListNode(0, head)\n",
    "    rest = ListNode(0, None)\n",
    "    i = dummy\n",
    "    ii = rest\n",
    "\n",
    "    while i.next:\n",
    "        if i.next.val >= x:\n",
    "            ii.next = i.next\n",
    "            ii = ii.next\n",
    "            i.next = i.next.next\n",
    "        else:\n",
    "            i = i.next\n",
    "\n",
    "    i.next = rest.next\n",
    "    ii.next = None\n",
    "    return dummy.next\n",
    "\n",
    "\n",
    "\n",
    "print_linked_list(partition(make_linked_list([1,4,3,2,5,2]), 3)) # [1,2,2,4,3,5]\n",
    "print_linked_list(partition(make_linked_list([2,1]), 2)) # [1,2]"
   ]
  },
  {
   "attachments": {},
   "cell_type": "markdown",
   "metadata": {},
   "source": [
    "**89. Gray Code**\n",
    "\n",
    "An n-bit gray code sequence is a sequence of 2n integers where:\n",
    "\n",
    "* Every integer is in the inclusive range [0, 2n - 1],\n",
    "* The first integer is 0,\n",
    "* An integer appears no more than once in the sequence,\n",
    "* The binary representation of every pair of adjacent integers differs by exactly one bit, and\n",
    "* The binary representation of the first and last integers differs by exactly one bit.\n",
    "\n",
    "Given an integer n, return any valid n-bit gray code sequence.\n",
    "\n",
    "https://leetcode.com/problems/gray-code/"
   ]
  },
  {
   "cell_type": "code",
   "execution_count": 26,
   "metadata": {},
   "outputs": [
    {
     "name": "stdout",
     "output_type": "stream",
     "text": [
      "[0, 1, 3, 2]\n",
      "[0, 1]\n",
      "[0, 1, 3, 2, 6, 7, 5, 4, 12, 13, 15, 14, 10, 11, 9, 8, 24, 25, 27, 26, 30, 31, 29, 28, 20, 21, 23, 22, 18, 19, 17, 16]\n"
     ]
    }
   ],
   "source": [
    "# a little slow\n",
    "def grayCode(n: int) -> list[int]:\n",
    "    arr = [\"\"]\n",
    "    for _ in range(n):\n",
    "        new_arr = [\"0\" + b for b in arr]\n",
    "        new_arr.extend([\"1\" + b for b in arr[::-1]])\n",
    "        arr = new_arr\n",
    "    return [int(b, 2) for b in arr]\n",
    "\n",
    "# can also be solved using bit manipulation:\n",
    "# 0 xor 0 = 0, 1 xor 0 = 1, 2 xor 1 = 3, 3 xor 1 = 2, etc\n",
    "def grayCode(n: int) -> list[int]:\n",
    "    return [k ^ k//2 for k in range(2**n)]\n",
    "\n",
    "print(grayCode(2)) # [0,1,3,2]\n",
    "print(grayCode(1)) # [0,1]\n",
    "print(grayCode(5)) # [0, 1, 3, 2, 6, 7, 5, 4, 12, 13, 15, 14, 10, 11, 9, 8, 24, 25, 27, 26, 30, 31, 29, 28, 20, 21, 23, 22, 18, 19, 17, 16]"
   ]
  },
  {
   "attachments": {},
   "cell_type": "markdown",
   "metadata": {},
   "source": [
    "**90. Subsets II**\n",
    "\n",
    "Given an integer array nums that may contain duplicates, return all possible subsets (the power set).\n",
    "\n",
    "The solution set must not contain duplicate subsets. Return the solution in any order.\n",
    "\n",
    " https://leetcode.com/problems/subsets-ii/"
   ]
  },
  {
   "cell_type": "code",
   "execution_count": 28,
   "metadata": {},
   "outputs": [
    {
     "name": "stdout",
     "output_type": "stream",
     "text": [
      "[[], [1], [2], [1, 2], [2, 2], [1, 2, 2]]\n",
      "[[], [0]]\n"
     ]
    }
   ],
   "source": [
    "# recursive - fast\n",
    "def subsetsWithDup(nums: list[int]) -> list[list[int]]:\n",
    "    nums.sort()\n",
    "    \n",
    "    ans = [[]]\n",
    "\n",
    "    def recursive(solution, index):\n",
    "        for i in range(index, len(nums)):\n",
    "            if i > index and nums[i] == nums[i-1]:\n",
    "                continue\n",
    "            else:\n",
    "                new_sol = solution + [nums[i]]\n",
    "                ans.append(new_sol)\n",
    "                recursive(new_sol, i+1)\n",
    "\n",
    "    recursive([], 0)\n",
    "\n",
    "    return ans\n",
    "\n",
    "# iterative DFS - slow\n",
    "def subsetsWithDup(nums: list[int]) -> list[list[int]]:\n",
    "    nums.sort()\n",
    "    \n",
    "    ans = [[]]\n",
    "\n",
    "    stack = [([], 0)]\n",
    "\n",
    "    while stack:\n",
    "        sol, ind = stack.pop()        \n",
    "        for i in range(ind, len(nums)):\n",
    "            if i > ind and nums[i] == nums[i-1]:\n",
    "                continue\n",
    "            else:\n",
    "                new_sol = sol + [nums[i]]\n",
    "                ans.append(new_sol)\n",
    "                stack.append((new_sol, i+1))\n",
    "\n",
    "    return ans\n",
    "\n",
    "# good one from leetcode\n",
    "def subsetsWithDup(nums):\n",
    "    nums, result, pos = sorted(nums), [[]], {}\n",
    "    for n in nums:\n",
    "        start, l = pos.get(n, 0), len(result)\n",
    "        result += [r + [n] for r in result[start:]]\n",
    "        pos[n] = l\n",
    "    return result\n",
    "\n",
    "\n",
    "print(subsetsWithDup(nums = [1,2,2])) # [[],[1],[1,2],[1,2,2],[2],[2,2]]\n",
    "print(subsetsWithDup(nums = [0])) # [[],[0]]"
   ]
  },
  {
   "attachments": {},
   "cell_type": "markdown",
   "metadata": {},
   "source": [
    "**91. Decode Ways**\n",
    "\n",
    "A message containing letters from A-Z can be encoded into numbers using the following mapping:\n",
    "\n",
    "`'A' -> \"1\"`<br>\n",
    "`'B' -> \"2\"`<br>\n",
    "`...`<br>\n",
    "`'Z' -> \"26\"`\n",
    "\n",
    "To decode an encoded message, all the digits must be grouped then mapped back into letters using the reverse of the mapping above (there may be multiple ways). For example, \"11106\" can be mapped into:\n",
    "\n",
    "* \"AAJF\" with the grouping (1 1 10 6)\n",
    "* \"KJF\" with the grouping (11 10 6)\n",
    "\n",
    "Note that the grouping (1 11 06) is invalid because \"06\" cannot be mapped into 'F' since \"6\" is different from \"06\".\n",
    "\n",
    "Given a string s containing only digits, return the number of ways to decode it.\n",
    "\n",
    "https://leetcode.com/problems/decode-ways/"
   ]
  },
  {
   "cell_type": "code",
   "execution_count": 53,
   "metadata": {},
   "outputs": [
    {
     "name": "stdout",
     "output_type": "stream",
     "text": [
      "1\n",
      "1\n",
      "2\n",
      "3\n",
      "0\n",
      "1\n",
      "0\n",
      "9\n"
     ]
    }
   ],
   "source": [
    "def numDecodings(s: str) -> int:\n",
    "    prev = None\n",
    "    dp = [1]\n",
    "    for i in range(len(s)):\n",
    "        if s[i] == \"0\":\n",
    "            if not prev:\n",
    "                return 0\n",
    "            else:\n",
    "                dp.append(dp[-2])\n",
    "                prev = None\n",
    "        elif s[i] in [\"1\", \"2\"]:\n",
    "            if prev:\n",
    "                dp.append(dp[-1] + dp[-2])\n",
    "            else:\n",
    "                dp.append(dp[-1])\n",
    "            prev = s[i]\n",
    "        else:\n",
    "            if prev == \"1\" or (prev == \"2\" and s[i] < \"7\"):\n",
    "                dp.append(dp[-1] + dp[-2])\n",
    "            else:\n",
    "                dp.append(dp[-1])\n",
    "            prev = None\n",
    "    return dp[-1]\n",
    "\n",
    "# more compact\n",
    "def numDecodings(s: str) -> int:\n",
    "    dp = [0] * len(s) + [1]\n",
    "    for i in range(len(s)-1, -1, -1):\n",
    "        if s[i] != \"0\":\n",
    "            dp[i] += dp[i+1]\n",
    "            if i < len(s) - 1 and (s[i] == \"1\" or (s[i] == \"2\" and s[i+1] < \"7\")):\n",
    "                dp[i] += dp[i+2]\n",
    "    return dp[0]\n",
    "\n",
    "print(numDecodings(\"2101\")) # 1\n",
    "print(numDecodings(\"10\")) # 1\n",
    "print(numDecodings(\"12\")) # 2\n",
    "print(numDecodings(\"226\")) # 3\n",
    "print(numDecodings(\"06\")) # 0\n",
    "print(numDecodings(\"6666\")) # 1\n",
    "print(numDecodings(\"66660\")) # 0\n",
    "print(numDecodings(\"123123\")) # 9"
   ]
  },
  {
   "attachments": {},
   "cell_type": "markdown",
   "metadata": {},
   "source": [
    "**92. Reverse Linked List II**\n",
    "\n",
    "Given the head of a singly linked list and two integers left and right where left <= right, reverse the nodes of the list from position left to position right, and return the reversed list.\n",
    "\n",
    "https://leetcode.com/problems/reverse-linked-list-ii/"
   ]
  },
  {
   "cell_type": "code",
   "execution_count": 39,
   "metadata": {},
   "outputs": [
    {
     "name": "stdout",
     "output_type": "stream",
     "text": [
      "1 4 3 2 5 \n",
      "1 4 3 2 \n",
      "5 \n"
     ]
    }
   ],
   "source": [
    "# a bit slow\n",
    "def reverseBetween(head: ListNode, left: int, right: int) -> ListNode:\n",
    "    # if the list contains only one node, or there is only one position to be reversed\n",
    "    if not head.next or left == right:\n",
    "        return head\n",
    "    \n",
    "    dummy = ListNode(0, head)\n",
    "    counter = 1\n",
    "    node = dummy\n",
    "\n",
    "    while counter < left:\n",
    "        node = node.next\n",
    "        counter += 1\n",
    "    \n",
    "    a, b = node.next, node.next.next\n",
    "    last = a\n",
    "    while counter < right:\n",
    "        c = b.next\n",
    "        b.next = a\n",
    "        a, b = b, c\n",
    "        counter += 1\n",
    "\n",
    "    node.next = a\n",
    "    last.next = b\n",
    "\n",
    "    return dummy.next\n",
    "\n",
    "\n",
    "print_linked_list(reverseBetween(make_linked_list([1,2,3,4,5]), 2, 4)) # [1,4,3,2,5]\n",
    "print_linked_list(reverseBetween(make_linked_list([1,2,3,4]), 2, 4)) # [1,4,3,2,5]\n",
    "print_linked_list(reverseBetween(make_linked_list([5]), 1, 1)) # [5]"
   ]
  },
  {
   "attachments": {},
   "cell_type": "markdown",
   "metadata": {},
   "source": [
    "**93. Restore IP Addresses**\n",
    "\n",
    "A valid IP address consists of exactly four integers separated by single dots. Each integer is between 0 and 255 (inclusive) and cannot have leading zeros.\n",
    "\n",
    "For example, \"0.1.2.201\" and \"192.168.1.1\" are valid IP addresses, but \"0.011.255.245\", \"192.168.1.312\" and \"192.168@1.1\" are invalid IP addresses.\n",
    "\n",
    "Given a string s containing only digits, return all possible valid IP addresses that can be formed by inserting dots into s. You are not allowed to reorder or remove any digits in s. You may return the valid IP addresses in any order.\n",
    "\n",
    "https://leetcode.com/problems/restore-ip-addresses/"
   ]
  },
  {
   "cell_type": "code",
   "execution_count": 40,
   "metadata": {},
   "outputs": [
    {
     "name": "stdout",
     "output_type": "stream",
     "text": [
      "['255.255.111.35', '255.255.11.135']\n",
      "['0.0.0.0']\n",
      "['101.0.2.3', '10.10.2.3', '10.1.0.23', '1.0.102.3', '1.0.10.23']\n"
     ]
    }
   ],
   "source": [
    "def restoreIpAddresses(s: str) -> list[str]:\n",
    "    if not (4 <= len(s) <= 12):\n",
    "        return []\n",
    "    l = len(s)\n",
    "    ans = []\n",
    "    stack = [([], 0, 4)]\n",
    "    while stack:\n",
    "        cand, ind, rem = stack.pop()\n",
    "        if not rem:\n",
    "            ans.append(\".\".join(cand))\n",
    "            continue\n",
    "        next_rem = rem - 1\n",
    "        if next_rem <= (l-ind-1) <= next_rem * 3:\n",
    "            stack.append((cand + [s[ind]], ind+1, next_rem))\n",
    "        if next_rem <= (l-ind-2) <= next_rem * 3 and s[ind] != \"0\":\n",
    "            stack.append((cand + [s[ind:ind+2]], ind+2, next_rem))\n",
    "        if next_rem <= (l-ind-3) <= next_rem * 3 and \"099\" < s[ind:ind+3] < \"256\":\n",
    "            stack.append((cand + [s[ind:ind+3]], ind+3, next_rem))\n",
    "\n",
    "    return ans\n",
    "\n",
    "\n",
    "print(restoreIpAddresses(s = \"25525511135\")) # [\"255.255.11.135\",\"255.255.111.35\"]\n",
    "print(restoreIpAddresses(s = \"0000\")) # [\"0.0.0.0\"]\n",
    "print(restoreIpAddresses(s = \"101023\")) # [\"1.0.10.23\",\"1.0.102.3\",\"10.1.0.23\",\"10.10.2.3\",\"101.0.2.3\"]"
   ]
  },
  {
   "attachments": {},
   "cell_type": "markdown",
   "metadata": {},
   "source": [
    "**97. Interleaving String**\n",
    "\n",
    "Given strings s1, s2, and s3, find whether s3 is formed by an interleaving of s1 and s2.\n",
    "\n",
    "An interleaving of two strings s and t is a configuration where s and t are divided into n and m substrings respectively, such that:\n",
    "\n",
    "* s = s1 + s2 + ... + sn\n",
    "* t = t1 + t2 + ... + tm\n",
    "* |n - m| <= 1\n",
    "* The interleaving is s1 + t1 + s2 + t2 + s3 + t3 + ... or t1 + s1 + t2 + s2 + t3 + s3 + ...\n",
    "\n",
    "Note: a + b is the concatenation of strings a and b.\n",
    "\n",
    "https://leetcode.com/problems/interleaving-string/"
   ]
  },
  {
   "cell_type": "code",
   "execution_count": 73,
   "metadata": {},
   "outputs": [
    {
     "name": "stdout",
     "output_type": "stream",
     "text": [
      "True\n",
      "False\n",
      "True\n"
     ]
    },
    {
     "data": {
      "text/plain": [
       "False"
      ]
     },
     "execution_count": 73,
     "metadata": {},
     "output_type": "execute_result"
    }
   ],
   "source": [
    "def isInterleave(s1: str, s2: str, s3: str) -> bool:\n",
    "    if len(s1) + len(s2) != len(s3):\n",
    "        return False\n",
    "    s1 = \" \" + s1\n",
    "    s2 = \" \" + s2\n",
    "    s3 = \" \" + s3\n",
    "    stack = [(0,0)]\n",
    "    visited = {(0,0)}\n",
    "    while stack:\n",
    "        i1, i2 = stack.pop()\n",
    "        if i1 + i2 + 1 == len(s3):\n",
    "            return True\n",
    "        if (i1+1, i2) not in visited and i1+1 < len(s1) and s1[i1+1] == s3[i1+i2+1]:\n",
    "            stack.append((i1+1, i2))\n",
    "            visited.add((i1+1, i2))\n",
    "        if (i1, i2+1) not in visited and i2+1 < len(s2) and s2[i2+1] == s3[i1+i2+1]:\n",
    "            stack.append((i1, i2+1))\n",
    "            visited.add((i1, i2+1))\n",
    "    return False\n",
    "\n",
    "print(isInterleave(s1 = \"aabcc\", s2 = \"dbbca\", s3 = \"aadbbcbcac\")) # True\n",
    "print(isInterleave(s1 = \"aabcc\", s2 = \"dbbca\", s3 = \"aadbbbaccc\")) # False\n",
    "print(isInterleave(s1 = \"\", s2 = \"\", s3 = \"\")) # True\n",
    "s1 = \"bbbbbabbbbabaababaaaabbababbaaabbabbaaabaaaaababbbababbbbbabbbbababbabaabababbbaabababababbbaaababaa\"\n",
    "s2 = \"babaaaabbababbbabbbbaabaabbaabbbbaabaaabaababaaaabaaabbaaabaaaabaabaabbbbbbbbbbbabaaabbababbabbabaab\"\n",
    "s3 = \"babbbabbbaaabbababbbbababaabbabaabaaabbbbabbbaaabbbaaaaabbbbaabbaaabababbaaaaaabababbababaababbababbbababbbbaaaabaabbabbaaaaabbabbaaaabbbaabaaabaababaababbaaabbbbbabbbbaabbabaabbbbabaaabbababbabbabbab\"\n",
    "isInterleave(s1, s2, s3)"
   ]
  },
  {
   "attachments": {},
   "cell_type": "markdown",
   "metadata": {},
   "source": [
    "**100. Same Tree**\n",
    "\n",
    "Given the roots of two binary trees p and q, write a function to check if they are the same or not.\n",
    "\n",
    "Two binary trees are considered the same if they are structurally identical, and the nodes have the same value.\n",
    "\n",
    "https://leetcode.com/problems/same-tree/"
   ]
  },
  {
   "cell_type": "code",
   "execution_count": 1,
   "metadata": {},
   "outputs": [],
   "source": [
    "def isSameTree(p, q) -> bool:\n",
    "    s = [[p,q]]\n",
    "    while s:\n",
    "        p,q = s.pop()\n",
    "        if (not p) != (not q):\n",
    "            return False\n",
    "        if p:\n",
    "            if p.val != q.val:\n",
    "                return False\n",
    "            s += [[p.left, q.left], [p.right, q.right]]\n",
    "    return True"
   ]
  },
  {
   "attachments": {},
   "cell_type": "markdown",
   "metadata": {},
   "source": [
    "**119. Pascal's Triangle II**\n",
    "\n",
    "Given an integer rowIndex, return the rowIndex-th (0-indexed) row of the Pascal's triangle.\n",
    "\n",
    "https://leetcode.com/problems/pascals-triangle-ii/"
   ]
  },
  {
   "cell_type": "code",
   "execution_count": 19,
   "metadata": {},
   "outputs": [
    {
     "name": "stdout",
     "output_type": "stream",
     "text": [
      "[1, 3, 3, 1]\n",
      "[1]\n",
      "[1, 1]\n",
      "[1, 4, 6, 4, 1]\n"
     ]
    }
   ],
   "source": [
    "# O(n) time, O(1) extra space\n",
    "def getRow(rowIndex: int) -> list[int]:\n",
    "    out = [1]\n",
    "    for _ in range(rowIndex):\n",
    "        out.append(1)\n",
    "        temp = 1\n",
    "        for i in range(len(out)-1):\n",
    "            out[i], temp = temp, out[i] + out[i+1]\n",
    "    return out\n",
    "\n",
    "# mathsy! \n",
    "def getRow(rowIndex: int) -> list[int]:\n",
    "    if rowIndex == 0:\n",
    "        return [1]\n",
    "    out = [1]\n",
    "    numerator = rowIndex\n",
    "    denominator = 1\n",
    "    while numerator > denominator:\n",
    "        out.append(out[-1] * numerator // denominator)\n",
    "        numerator -= 1\n",
    "        denominator += 1\n",
    "    if numerator == denominator:\n",
    "        return out + out[::-1]\n",
    "    else:\n",
    "        return out + out[-2::-1]\n",
    "\n",
    "print(getRow(3)) # [1,3,3,1]\n",
    "print(getRow(0)) # [1]\n",
    "print(getRow(1)) # [1,1]\n",
    "print(getRow(4)) # [1,4,6,4,1]"
   ]
  },
  {
   "attachments": {},
   "cell_type": "markdown",
   "metadata": {},
   "source": [
    "**120. Triangle**\n",
    "\n",
    "Given a triangle array, return the minimum path sum from top to bottom.\n",
    "\n",
    "For each step, you may move to an adjacent number of the row below. More formally, if you are on index i on the current row, you may move to either index i or index i + 1 on the next row.\n",
    "\n",
    "https://leetcode.com/problems/triangle/"
   ]
  },
  {
   "cell_type": "code",
   "execution_count": 7,
   "metadata": {},
   "outputs": [
    {
     "name": "stdout",
     "output_type": "stream",
     "text": [
      "11\n",
      "-10\n"
     ]
    }
   ],
   "source": [
    "# DFS - too slow!\n",
    "def minimumTotal(triangle: list[list[int]]) -> int:\n",
    "    minimum = float(\"inf\")\n",
    "    stack = [(0,0, triangle[0][0])]\n",
    "    while stack:\n",
    "        row, index, total = stack. pop()\n",
    "        if row == len(triangle) - 1:\n",
    "            minimum = min(minimum, total)\n",
    "        else:\n",
    "            stack.append((row+1, index, total+triangle[row+1][index]))\n",
    "            stack.append((row+1, index+1, total+triangle[row+1][index+1]))\n",
    "    return minimum\n",
    "        \n",
    "# better\n",
    "def minimumTotal(triangle: list[list[int]]) -> int:\n",
    "    arr = triangle[0]\n",
    "    for i in range(1, len(triangle)):\n",
    "        new_arr = triangle[i]\n",
    "        new_arr[0] += arr[0]\n",
    "        new_arr[-1] += arr[-1]\n",
    "        for j in range(1, len(new_arr)-1):\n",
    "            new_arr[j] += min(arr[j], arr[j-1])\n",
    "        arr = new_arr\n",
    "    return min(arr)\n",
    "    \n",
    "# no extra memory - modifies the input\n",
    "def minimumTotal(triangle: list[list[int]]) -> int:\n",
    "    for i in range(1, len(triangle)):\n",
    "        triangle[i][0] += triangle[i-1][0]\n",
    "        triangle[i][-1] += triangle[i-1][-1]\n",
    "        for j in range(1, len(triangle[i])-1):\n",
    "            triangle[i][j] += min(triangle[i-1][j], triangle[i-1][j-1])\n",
    "    return min(triangle[-1])\n",
    "\n",
    "print(minimumTotal(triangle = [[2],[3,4],[6,5,7],[4,1,8,3]])) # 11\n",
    "print(minimumTotal(triangle = [[-10]])) # -10"
   ]
  },
  {
   "attachments": {},
   "cell_type": "markdown",
   "metadata": {},
   "source": [
    "**130. Surrounded Regions**\n",
    "\n",
    "Given an m x n matrix board containing 'X' and 'O', capture all regions that are 4-directionally surrounded by 'X'.\n",
    "\n",
    "A region is captured by flipping all 'O's into 'X's in that surrounded region.\n",
    "\n",
    "https://leetcode.com/problems/surrounded-regions/"
   ]
  },
  {
   "cell_type": "code",
   "execution_count": 101,
   "metadata": {},
   "outputs": [
    {
     "name": "stdout",
     "output_type": "stream",
     "text": [
      "X X X X\n",
      "X X X X\n",
      "X X X X\n",
      "X O X X\n",
      "[['X']]\n",
      "[['O']]\n",
      "X O X\n",
      "X O X\n",
      "X O X\n"
     ]
    }
   ],
   "source": [
    "# slowish\n",
    "def solve(board: list[list[str]]) -> None:\n",
    "    height = len(board)\n",
    "    width = len(board[0])\n",
    "\n",
    "    def dfs(row, column, to_relace, replace_with):\n",
    "        board[row][column] = replace_with\n",
    "        stack = [(row, column)]\n",
    "        while stack:\n",
    "            r, c = stack.pop()\n",
    "            neighbours = [(r-1, c), (r+1, c), (r, c-1), (r, c+1)]\n",
    "            for rr, cc in neighbours:\n",
    "                if 0 <= rr < height and 0 <= cc < width and board[rr][cc] == to_relace:\n",
    "                    board[rr][cc] = replace_with\n",
    "                    stack.append((rr,cc))\n",
    "\n",
    "    for r in range(height):\n",
    "        for c in range(width):\n",
    "            if r in {0, height-1} or c in {0, width-1}:\n",
    "                if board[r][c] == \"O\":\n",
    "                    dfs(r, c, \"O\", \"o\")\n",
    "\n",
    "    for r in range(1, height-1):\n",
    "        for c in range(1, width-1):\n",
    "            if board[r][c] == \"O\":\n",
    "                dfs(r, c, \"O\", \"X\")\n",
    "\n",
    "    for r in range(height):\n",
    "        for c in range(width):\n",
    "            if r in {0, height-1} or c in {0, width-1}:\n",
    "                if board[r][c] == \"o\":\n",
    "                    dfs(r, c, \"o\", \"O\")\n",
    "\n",
    "def solve(board: list[list[str]]) -> None:\n",
    "    height = len(board)\n",
    "    width = len(board[0])\n",
    "\n",
    "    do_not_change = set()\n",
    "\n",
    "    def dfs(row, column, initial=False):\n",
    "        if initial:\n",
    "            do_not_change.add((row,column))\n",
    "        else:\n",
    "            board[row][column] = \"X\"\n",
    "        stack = [(row, column)]\n",
    "        while stack:\n",
    "            r, c = stack.pop()\n",
    "            neighbours = [(r-1, c), (r+1, c), (r, c-1), (r, c+1)]\n",
    "            for rr, cc in neighbours:\n",
    "                if 0 <= rr < height and 0 <= cc < width and (rr,cc) not in do_not_change and board[rr][cc] == \"O\":\n",
    "                    if initial:\n",
    "                        do_not_change.add((rr,cc))\n",
    "                    else:\n",
    "                        board[rr][cc] = \"X\"\n",
    "                    stack.append((rr,cc))\n",
    "                \n",
    "    for r in range(height):\n",
    "        for c in range(width):\n",
    "            if r in {0, height-1} or c in {0, width-1}:\n",
    "                if board[r][c] == \"O\" and (r,c) not in do_not_change:\n",
    "                    dfs(r, c, True)\n",
    "\n",
    "    for r in range(1, height-1):\n",
    "        for c in range(1, width-1):\n",
    "            if board[r][c] == \"O\" and (r,c) not in do_not_change:\n",
    "                dfs(r, c, False)\n",
    "\n",
    "board = [[\"X\",\"X\",\"X\",\"X\"],[\"X\",\"O\",\"O\",\"X\"],[\"X\",\"X\",\"O\",\"X\"],[\"X\",\"O\",\"X\",\"X\"]]\n",
    "solve(board)\n",
    "for r in board:\n",
    "    print(*r)\n",
    "\n",
    "board = [[\"X\"]]\n",
    "solve(board)\n",
    "print(board)\n",
    "\n",
    "board = [[\"O\"]]\n",
    "solve(board)\n",
    "print(board)\n",
    "\n",
    "board = [[\"X\",\"O\",\"X\"],[\"X\",\"O\",\"X\"],[\"X\",\"O\",\"X\"]]\n",
    "solve(board)\n",
    "for r in board:\n",
    "    print(*r)"
   ]
  },
  {
   "attachments": {},
   "cell_type": "markdown",
   "metadata": {},
   "source": [
    "**134. Gas Station**\n",
    "\n",
    "There are n gas stations along a circular route, where the amount of gas at the ith station is gas[i].\n",
    "\n",
    "You have a car with an unlimited gas tank and it costs cost[i] of gas to travel from the ith station to its next (i + 1)th station. You begin the journey with an empty tank at one of the gas stations.\n",
    "\n",
    "Given two integer arrays gas and cost, return the starting gas station's index if you can travel around the circuit once in the clockwise direction, otherwise return -1. If there exists a solution, it is guaranteed to be unique\n",
    "\n",
    "https://leetcode.com/problems/gas-station/"
   ]
  },
  {
   "cell_type": "code",
   "execution_count": 10,
   "metadata": {},
   "outputs": [
    {
     "name": "stdout",
     "output_type": "stream",
     "text": [
      "3\n",
      "-1\n"
     ]
    }
   ],
   "source": [
    "def canCompleteCircuit(gas: list[int], cost: list[int]) -> int:\n",
    "    count = gas[0] - cost[0]\n",
    "    lowest = (count, 0)\n",
    "    for i in range(1, len(gas)):\n",
    "        count += gas[i] - cost[i]\n",
    "        lowest = min(lowest, (count, i))\n",
    "    return -1 if count < 0 else (lowest[1] + 1) % len(gas)\n",
    "\n",
    "print(canCompleteCircuit(gas = [1,2,3,4,5], cost = [3,4,5,1,2])) # 3\n",
    "print(canCompleteCircuit(gas = [2,3,4], cost = [3,4,3])) # -1"
   ]
  },
  {
   "attachments": {},
   "cell_type": "markdown",
   "metadata": {},
   "source": [
    "**165. Compare Version Numbers**\n",
    "\n",
    "Given two version numbers, version1 and version2, compare them.\n",
    "\n",
    "Version numbers consist of one or more revisions joined by a dot '.'. Each revision consists of digits and may contain leading zeros. Every revision contains at least one character. Revisions are 0-indexed from left to right, with the leftmost revision being revision 0, the next revision being revision 1, and so on. For example 2.5.33 and 0.1 are valid version numbers.\n",
    "\n",
    "To compare version numbers, compare their revisions in left-to-right order. Revisions are compared using their integer value ignoring any leading zeros. This means that revisions 1 and 001 are considered equal. If a version number does not specify a revision at an index, then treat the revision as 0. For example, version 1.0 is less than version 1.1 because their revision 0s are the same, but their revision 1s are 0 and 1 respectively, and 0 < 1.\n",
    "\n",
    "Return the following:\n",
    "\n",
    "* If version1 < version2, return -1.\n",
    "* If version1 > version2, return 1.\n",
    "* Otherwise, return 0.\n",
    "\n",
    "https://leetcode.com/problems/compare-version-numbers/"
   ]
  },
  {
   "cell_type": "code",
   "execution_count": 81,
   "metadata": {},
   "outputs": [
    {
     "name": "stdout",
     "output_type": "stream",
     "text": [
      "0\n",
      "0\n",
      "-1\n",
      "1\n"
     ]
    }
   ],
   "source": [
    "# slowish\n",
    "def compareVersion(version1: str, version2: str) -> int:\n",
    "    version1 = [*map(int, version1.split(\".\"))]\n",
    "    version2 = [*map(int, version2.split(\".\"))]\n",
    "    for i in range(min(len(version1), len(version2))):\n",
    "        if version1[i] < version2[i]:\n",
    "            return -1\n",
    "        if version1[i] > version2[i]:\n",
    "            return 1\n",
    "    if len(version1) > len(version2):\n",
    "        for n in version1[len(version2):]:\n",
    "            if n:\n",
    "                return 1\n",
    "    if len(version2) > len(version1):\n",
    "        for n in version2[len(version1):]:\n",
    "            if n:\n",
    "                return -1\n",
    "    return 0\n",
    "\n",
    "# more compact with zip_longest - equally slowish\n",
    "from itertools import zip_longest\n",
    "def compareVersion(version1: str, version2: str) -> int:\n",
    "    v1, v2 = [[*map(int, v.split(\".\"))] for v in [version1, version2]]\n",
    "\n",
    "    for i, ii in zip_longest(v1, v2, fillvalue=0):\n",
    "        if i > ii:\n",
    "            return 1\n",
    "        if ii > i:\n",
    "            return -1\n",
    "    \n",
    "    return 0\n",
    "\n",
    "print(compareVersion(version1 = \"1.01\", version2 = \"1.001\")) # 0\n",
    "print(compareVersion(version1 = \"1.0\", version2 = \"1.0.0\")) # 0\n",
    "print(compareVersion(version1 = \"0.1\", version2 = \"1.1\")) # -1\n",
    "print(compareVersion(version1 = \"1.0.1.0\", version2 = \"1\")) # 1"
   ]
  },
  {
   "attachments": {},
   "cell_type": "markdown",
   "metadata": {},
   "source": [
    "**203. Remove Linked List Elements**\n",
    "\n",
    "Given the head of a linked list and an integer val, remove all the nodes of the linked list that has Node.val == val, and return the new head.\n",
    "\n",
    "https://leetcode.com/problems/remove-linked-list-elements/"
   ]
  },
  {
   "cell_type": "code",
   "execution_count": 1,
   "metadata": {},
   "outputs": [],
   "source": [
    "def removeElements(head, val: int):\n",
    "    dummy = ListNode(0, head)\n",
    "    node = dummy\n",
    "    nxt = dummy.next\n",
    "    while nxt:\n",
    "        if nxt.val == val:\n",
    "            node.next = nxt.next\n",
    "            nxt = node.next\n",
    "        else:\n",
    "            node = nxt\n",
    "            nxt = node.next\n",
    "    return dummy.next\n"
   ]
  },
  {
   "attachments": {},
   "cell_type": "markdown",
   "metadata": {},
   "source": [
    "**216. Combination Sum III**\n",
    "\n",
    "Find all valid combinations of k numbers that sum up to n such that the following conditions are true:\n",
    "\n",
    "Only numbers 1 through 9 are used.\n",
    "Each number is used at most once.\n",
    "Return a list of all possible valid combinations. The list must not contain the same combination twice, and the combinations may be returned in any order.\n",
    "\n",
    "https://leetcode.com/problems/combination-sum-iii/"
   ]
  },
  {
   "cell_type": "code",
   "execution_count": 73,
   "metadata": {},
   "outputs": [
    {
     "name": "stdout",
     "output_type": "stream",
     "text": [
      "[[1, 2, 4]]\n",
      "[[1, 2, 6], [1, 3, 5], [2, 3, 4]]\n",
      "[]\n"
     ]
    }
   ],
   "source": [
    "# dfs\n",
    "def combinationSum3(k: int, n: int) -> list[list[int]]:\n",
    "    if n < k or n > (9 * k):\n",
    "        return []\n",
    "    ans = []\n",
    "    s = [([], 1, n)]\n",
    "    while s:\n",
    "        lst, num, tgt = s.pop()\n",
    "        if len(lst) == k:\n",
    "            if tgt == 0:\n",
    "                ans.append(lst)\n",
    "        else:\n",
    "            for i in range(num, 10):\n",
    "                s.append((lst + [i], i+1, tgt-i))\n",
    "    return ans\n",
    "\n",
    "# recursive\n",
    "def combinationSum3(k: int, n: int) -> list[list[int]]:\n",
    "    if n < k or n > (9 * k):\n",
    "        return []\n",
    "    ans = []\n",
    "    \n",
    "    def dfs(lst, num, tgt):\n",
    "        if len(lst) == k:\n",
    "            if tgt == 0:\n",
    "                ans.append(lst)\n",
    "            return\n",
    "        for i in range(num, 10):\n",
    "            dfs(lst + [i], i+1, tgt-i)\n",
    "\n",
    "    dfs([], 1, n)\n",
    "\n",
    "    return ans\n",
    "\n",
    "print(combinationSum3(k = 3, n = 7))\n",
    "print(combinationSum3(k = 3, n = 9))\n",
    "print(combinationSum3(k = 4, n = 1))"
   ]
  },
  {
   "attachments": {},
   "cell_type": "markdown",
   "metadata": {},
   "source": [
    "**219. Contains Duplicate II**\n",
    "\n",
    "Given an integer array nums and an integer k, return true if there are two distinct indices i and j in the array such that nums[i] == nums[j] and abs(i - j) <= k.\n",
    "\n",
    "https://leetcode.com/problems/contains-duplicate-ii/"
   ]
  },
  {
   "cell_type": "code",
   "execution_count": 9,
   "metadata": {},
   "outputs": [
    {
     "name": "stdout",
     "output_type": "stream",
     "text": [
      "True\n",
      "True\n",
      "False\n"
     ]
    }
   ],
   "source": [
    "def containsNearbyDuplicate(nums: list[int], k: int) -> bool:\n",
    "    d = {}\n",
    "    for i in range(len(nums)):\n",
    "        if nums[i] not in d:\n",
    "            d[nums[i]] = i\n",
    "        else:\n",
    "            if i - d[nums[i]] <= k:\n",
    "                return True\n",
    "            else:\n",
    "                d[nums[i]] = i\n",
    "    return False\n",
    "\n",
    "print(containsNearbyDuplicate(nums = [1,2,3,1], k = 3)) # True\n",
    "print(containsNearbyDuplicate(nums = [1,0,1,1], k = 1)) # True\n",
    "print(containsNearbyDuplicate(nums = [1,2,3,1,2,3], k = 2)) # False"
   ]
  },
  {
   "attachments": {},
   "cell_type": "markdown",
   "metadata": {},
   "source": [
    "**258. Add Digits**\n",
    "\n",
    "Given an integer num, repeatedly add all its digits until the result has only one digit, and return it.\n",
    "\n",
    "https://leetcode.com/problems/add-digits/"
   ]
  },
  {
   "cell_type": "code",
   "execution_count": 14,
   "metadata": {},
   "outputs": [
    {
     "name": "stdout",
     "output_type": "stream",
     "text": [
      "2\n",
      "4\n",
      "2\n",
      "9\n",
      "9\n",
      "0\n"
     ]
    }
   ],
   "source": [
    "def addDigits(num: int) -> int:\n",
    "    while num % 10 != num:\n",
    "        new_num = 0\n",
    "        while num > 0:\n",
    "            new_num += num % 10\n",
    "            num //= 10\n",
    "        num = new_num\n",
    "    return num\n",
    "\n",
    "# no loop\n",
    "def addDigits(num: int) -> int:\n",
    "    if not num:\n",
    "        return 0\n",
    "    if not num % 9:\n",
    "        return 9\n",
    "    else:\n",
    "        return num % 9\n",
    "    \n",
    "# one liner\n",
    "def addDigits(num: int) -> int:\n",
    "    return 0 if not num else (num - 1) % 9 + 1\n",
    "\n",
    "\n",
    "print(addDigits(4298132)) # 2\n",
    "print(addDigits(256)) # 4\n",
    "print(addDigits(38)) # 2\n",
    "print(addDigits(9)) # 9\n",
    "print(addDigits(27)) # 9\n",
    "print(addDigits(0)) # 0"
   ]
  },
  {
   "attachments": {},
   "cell_type": "markdown",
   "metadata": {},
   "source": [
    "**274. H-Index**\n",
    "\n",
    "Given an array of integers citations where citations[i] is the number of citations a researcher received for their ith paper, return the researcher's h-index.\n",
    "\n",
    "According to the definition of h-index on Wikipedia: The h-index is defined as the maximum value of h such that the given researcher has published at least h papers that have each been cited at least h times.\n",
    "\n",
    "https://leetcode.com/problems/h-index/"
   ]
  },
  {
   "cell_type": "code",
   "execution_count": 20,
   "metadata": {},
   "outputs": [
    {
     "name": "stdout",
     "output_type": "stream",
     "text": [
      "3\n",
      "1\n",
      "2\n"
     ]
    }
   ],
   "source": [
    "# O(n log n) with sort\n",
    "def hIndex(citations: list[int]) -> int:\n",
    "    l = len(citations) \n",
    "    citations.sort()\n",
    "    h = 0\n",
    "    for i in range(l):\n",
    "        temp_h = min(l-i, citations[i])\n",
    "        if h > temp_h:\n",
    "            break\n",
    "        h = temp_h\n",
    "    return h\n",
    "\n",
    "# O(n) - no sort\n",
    "def hIndex(citations: list[int]) -> int:\n",
    "    l = len(citations) \n",
    "    arr = [0] * (l + 1)\n",
    "\n",
    "    for c in citations:\n",
    "        if c > l:\n",
    "            arr[l] += 1\n",
    "        else:\n",
    "            arr[c] += 1\n",
    "            \n",
    "    total = 0\n",
    "    for i in range(len(arr)-1, -1, -1):\n",
    "        total += arr[i]\n",
    "        if total >= i:\n",
    "            return i\n",
    "\n",
    "\n",
    "print(hIndex(citations = [3,0,6,1,5])) # 3\n",
    "print(hIndex(citations = [1,3,1])) # 1\n",
    "print(hIndex(citations = [300,300])) # 2"
   ]
  },
  {
   "attachments": {},
   "cell_type": "markdown",
   "metadata": {},
   "source": [
    "**275. H-Index II**\n",
    "\n",
    "Given an array of integers citations where citations[i] is the number of citations a researcher received for their ith paper and citations is sorted in ascending order, return the researcher's h-index.\n",
    "\n",
    "According to the definition of h-index on Wikipedia: The h-index is defined as the maximum value of h such that the given researcher has published at least h papers that have each been cited at least h times.\n",
    "\n",
    "You must write an algorithm that runs in logarithmic time.\n",
    "\n",
    "https://leetcode.com/problems/h-index-ii/"
   ]
  },
  {
   "cell_type": "code",
   "execution_count": 1,
   "metadata": {},
   "outputs": [
    {
     "name": "stdout",
     "output_type": "stream",
     "text": [
      "3\n",
      "2\n"
     ]
    }
   ],
   "source": [
    "def hIndex(citations: list[int]) -> int:\n",
    "    length = len(citations)\n",
    "    l = 0\n",
    "    r = length - 1\n",
    "    while l <= r:\n",
    "        m = (l + r) // 2\n",
    "        rem = length - m\n",
    "        if rem == citations[m]:\n",
    "            return rem\n",
    "        if rem > citations[m]:\n",
    "            l = m + 1\n",
    "        else:\n",
    "            r = m - 1\n",
    "    return length - l\n",
    "\n",
    "print(hIndex([0,1,3,5,6])) # 3\n",
    "print(hIndex([1,2,100])) # 2"
   ]
  },
  {
   "attachments": {},
   "cell_type": "markdown",
   "metadata": {},
   "source": [
    "**319. Bulb Switcher**\n",
    "\n",
    "There are n bulbs that are initially off. You first turn on all the bulbs, then you turn off every second bulb.\n",
    "\n",
    "On the third round, you toggle every third bulb (turning on if it's off or turning off if it's on). For the ith round, you toggle every i bulb. For the nth round, you only toggle the last bulb.\n",
    "\n",
    "Return the number of bulbs that are on after n rounds.\n",
    "\n",
    "https://leetcode.com/problems/bulb-switcher/"
   ]
  },
  {
   "cell_type": "code",
   "execution_count": 13,
   "metadata": {},
   "outputs": [
    {
     "name": "stdout",
     "output_type": "stream",
     "text": [
      "1\n",
      "0\n",
      "1\n"
     ]
    }
   ],
   "source": [
    "def bulbSwitch(n: int) -> int:\n",
    "    return int(n**(1/2))\n",
    "\n",
    "print(bulbSwitch(3)) # 1\n",
    "print(bulbSwitch(0)) # 0\n",
    "print(bulbSwitch(1)) # 1"
   ]
  },
  {
   "attachments": {},
   "cell_type": "markdown",
   "metadata": {},
   "source": [
    "**338. Counting Bits**\n",
    "\n",
    "Given an integer n, return an array ans of length n + 1 such that for each i (0 <= i <= n), ans[i] is the number of 1's in the binary representation of i.\n",
    "\n",
    "https://leetcode.com/problems/counting-bits/"
   ]
  },
  {
   "cell_type": "code",
   "execution_count": 3,
   "metadata": {},
   "outputs": [
    {
     "data": {
      "text/plain": [
       "[0, 1, 1, 2, 1, 2]"
      ]
     },
     "execution_count": 3,
     "metadata": {},
     "output_type": "execute_result"
    }
   ],
   "source": [
    "# the number of bits in every number is the same as in the number//2, unless it's odd, in which case that value is incremented by 1\n",
    "def countBits(n: int) -> list[int]:\n",
    "        dp = [0] * (n+1)\n",
    "        for i in range(1, n+1):\n",
    "            dp[i] = dp[i//2] + i%2\n",
    "        return dp\n",
    "\n",
    "countBits(5) # [0,1,1,2,1,2]"
   ]
  },
  {
   "attachments": {},
   "cell_type": "markdown",
   "metadata": {},
   "source": [
    "**516. Longest Palindromic Subsequence**\n",
    "\n",
    "Given a string s, find the longest palindromic subsequence's length in s.\n",
    "\n",
    "A subsequence is a sequence that can be derived from another sequence by deleting some or no elements without changing the order of the remaining elements.\n",
    "\n",
    "https://leetcode.com/problems/longest-palindromic-subsequence/"
   ]
  },
  {
   "cell_type": "code",
   "execution_count": 43,
   "metadata": {},
   "outputs": [
    {
     "name": "stdout",
     "output_type": "stream",
     "text": [
      "4\n",
      "2\n",
      "5\n"
     ]
    }
   ],
   "source": [
    "# basically longest common subsequence. A little slow\n",
    "def longestPalindromeSubseq(s: str) -> int:\n",
    "    l = len(s)\n",
    "    dp = [[0] * (l + 1) for _ in range(l + 1)]\n",
    "    for i in range(l-1, -1, -1):\n",
    "        for j in range(l-1, -1, -1):\n",
    "            if s[i] == s[l-j-1]:\n",
    "                dp[i][j] = dp[i+1][j+1] + 1\n",
    "            else:\n",
    "                dp[i][j] = max(dp[i+1][j], dp[i][j+1]) \n",
    "    return dp[0][0]\n",
    "\n",
    "print(longestPalindromeSubseq(\"bbbab\")) # 4\n",
    "print(longestPalindromeSubseq(\"cbbd\")) # 2\n",
    "print(longestPalindromeSubseq(\"bdbbcabac\")) # 5"
   ]
  },
  {
   "attachments": {},
   "cell_type": "markdown",
   "metadata": {},
   "source": [
    "**662. Maximum Width of Binary Tree**\n",
    "\n",
    "Given the root of a binary tree, return the maximum width of the given tree.\n",
    "\n",
    "The maximum width of a tree is the maximum width among all levels.\n",
    "\n",
    "The width of one level is defined as the length between the end-nodes (the leftmost and rightmost non-null nodes), where the null nodes between the end-nodes that would be present in a complete binary tree extending down to that level are also counted into the length calculation.\n",
    "\n",
    "https://leetcode.com/problems/maximum-width-of-binary-tree/"
   ]
  },
  {
   "cell_type": "code",
   "execution_count": 9,
   "metadata": {},
   "outputs": [
    {
     "data": {
      "text/plain": [
       "4"
      ]
     },
     "execution_count": 9,
     "metadata": {},
     "output_type": "execute_result"
    }
   ],
   "source": [
    "def widthOfBinaryTree(root: TreeNode) -> int:\n",
    "    max_width = 0\n",
    "    level = [(root, 1)]\n",
    "    new_level = []\n",
    "    while level:\n",
    "        max_width = max(max_width, level[-1][1] - level[0][1] + 1)\n",
    "        for node, count in level:\n",
    "            if node.left:\n",
    "                new_level.append((node.left, count*2))\n",
    "            if node.right:\n",
    "                new_level.append((node.right, count*2+1))\n",
    "        level = new_level\n",
    "        new_level = []\n",
    "    return max_width\n",
    "\n",
    "widthOfBinaryTree(make_binary_tree([1,3,2,5,None,None,9,6,None,7]))"
   ]
  },
  {
   "attachments": {},
   "cell_type": "markdown",
   "metadata": {},
   "source": [
    "**839. Similar String Groups**\n",
    "\n",
    "Two strings X and Y are similar if we can swap two letters (in different positions) of X, so that it equals Y. Also two strings X and Y are similar if they are equal.\n",
    "\n",
    "For example, \"tars\" and \"rats\" are similar (swapping at positions 0 and 2), and \"rats\" and \"arts\" are similar, but \"star\" is not similar to \"tars\", \"rats\", or \"arts\".\n",
    "\n",
    "Together, these form two connected groups by similarity: {\"tars\", \"rats\", \"arts\"} and {\"star\"}.  Notice that \"tars\" and \"arts\" are in the same group even though they are not similar.  Formally, each group is such that a word is in the group if and only if it is similar to at least one other word in the group.\n",
    "\n",
    "We are given a list strs of strings where every string in strs is an anagram of every other string in strs. How many groups are there?\n",
    "\n",
    "https://leetcode.com/problems/similar-string-groups/"
   ]
  },
  {
   "cell_type": "code",
   "execution_count": 48,
   "metadata": {},
   "outputs": [
    {
     "name": "stdout",
     "output_type": "stream",
     "text": [
      "2\n",
      "1\n",
      "5\n"
     ]
    }
   ],
   "source": [
    "def numSimilarGroups(strs: list[str]) -> int:\n",
    "    letters = set(strs[0])\n",
    "    matches = [{l:set() for l in letters} for _ in range(len(strs[0]))]\n",
    "    edges = [[0 for _ in range(len(strs))] for _ in range(len(strs))]\n",
    "    digraph = {i:[] for i in range(len(strs))}\n",
    "    for i in range(len(strs)):\n",
    "        for j in range(len(strs[0])):\n",
    "            for n in matches[j][strs[i][j]]:\n",
    "                edges[n][i] += 1\n",
    "                if edges[n][i] >= len(strs[0]) - 2:\n",
    "                    digraph[n].append(i)\n",
    "                    digraph[i].append(n)\n",
    "            matches[j][strs[i][j]].add(i)\n",
    "\n",
    "    counter = 0\n",
    "    visited = set()\n",
    "    def dfs(node):\n",
    "        visited.add(node)\n",
    "        stack = [node]\n",
    "        while stack:\n",
    "            n = stack.pop()\n",
    "            for e in digraph[n]:\n",
    "                if e not in visited:\n",
    "                    stack.append(e)\n",
    "                    visited.add(e)\n",
    "\n",
    "    for i in range(len(strs)):\n",
    "        if i not in visited:\n",
    "            counter += 1\n",
    "            dfs(i)\n",
    "\n",
    "    return counter\n",
    "\n",
    "print(numSimilarGroups(strs = [\"tars\",\"rats\",\"arts\",\"star\"])) # 2\n",
    "print(numSimilarGroups(strs = [\"omv\",\"ovm\"])) # 1\n",
    "print(numSimilarGroups(strs = [\"kccomwcgcs\",\"socgcmcwkc\",\"sgckwcmcoc\",\"coswcmcgkc\",\"cowkccmsgc\",\"cosgmccwkc\",\"sgmkwcccoc\",\"coswmccgkc\",\"kowcccmsgc\",\"kgcomwcccs\"])) # 5"
   ]
  },
  {
   "attachments": {},
   "cell_type": "markdown",
   "metadata": {},
   "source": [
    "**879. Profitable Schemes**\n",
    "\n",
    "There is a group of n members, and a list of various crimes they could commit. The ith crime generates a profit[i] and requires group[i] members to participate in it. If a member participates in one crime, that member can't participate in another crime.\n",
    "\n",
    "Let's call a profitable scheme any subset of these crimes that generates at least minProfit profit, and the total number of members participating in that subset of crimes is at most n.\n",
    "\n",
    "Return the number of schemes that can be chosen. Since the answer may be very large, return it modulo 109 + 7.\n",
    "\n",
    "https://leetcode.com/problems/profitable-schemes/"
   ]
  },
  {
   "cell_type": "code",
   "execution_count": 36,
   "metadata": {},
   "outputs": [
    {
     "name": "stdout",
     "output_type": "stream",
     "text": [
      "2\n",
      "7\n",
      "9\n",
      "2\n"
     ]
    }
   ],
   "source": [
    "# DP O(n^3)\n",
    "def profitableSchemes(n: int, minProfit: int, weights: list[int], profits: list[int]) -> int:\n",
    "    smallest_weight = n+1\n",
    "    smallest_profit = minProfit\n",
    "\n",
    "    dp = [[0 for _ in range(minProfit+1)] for _ in range(n+1)]\n",
    "\n",
    "    for i in range(len(weights)):\n",
    "        for w in range(n-weights[i], smallest_weight-1, -1):\n",
    "            for p in range(minProfit, smallest_profit-1, -1):\n",
    "                if dp[w][p] > 0:\n",
    "                    dp[w + weights[i]][min(minProfit, p + profits[i])] += dp[w][p]\n",
    "        if weights[i] <= n:\n",
    "            dp[weights[i]][min(minProfit, profits[i])] += 1\n",
    "        smallest_profit = min(smallest_profit, profits[i])\n",
    "        smallest_weight = min(smallest_weight, weights[i])\n",
    "\n",
    "    ans = sum([w[-1] for w in dp]) \n",
    "\n",
    "    # if there is no minProfit, we need to add 1, as an empty subset with no crimes will also generate the required profit\n",
    "    if not minProfit:\n",
    "        ans += 1\n",
    "\n",
    "    return ans % (10**9 + 7)\n",
    "\n",
    "\n",
    "print(profitableSchemes(n = 5, minProfit = 3, weights = [2,2], profits = [2,3])) # 2\n",
    "print(profitableSchemes(n = 10, minProfit = 5, weights = [2,3,5], profits = [6,7,8])) # 7\n",
    "print(profitableSchemes(n = 10, minProfit = 5, weights = [2,3,5,7], profits = [4,5,6,7])) # 9\n",
    "print(profitableSchemes(n = 64, minProfit = 0, weights = [80, 40], profits = [88, 88])) # 2"
   ]
  },
  {
   "attachments": {},
   "cell_type": "markdown",
   "metadata": {},
   "source": [
    "**946. Validate Stack Sequences**\n",
    "\n",
    "Given two integer arrays pushed and popped each with distinct values, return true if this could have been the result of a sequence of push and pop operations on an initially empty stack, or false otherwise."
   ]
  },
  {
   "cell_type": "code",
   "execution_count": 30,
   "metadata": {},
   "outputs": [
    {
     "name": "stdout",
     "output_type": "stream",
     "text": [
      "True\n",
      "False\n"
     ]
    }
   ],
   "source": [
    "# slightly longwinded\n",
    "def validateStackSequences(pushed: list[int], popped: list[int]) -> bool:\n",
    "    push_i = 0\n",
    "    pop_i = 0\n",
    "    stack = []\n",
    "    while push_i < len(pushed) or pop_i < len(popped):\n",
    "        try:\n",
    "            if not stack or stack[-1] != popped[pop_i]:\n",
    "                stack.append(pushed[push_i])\n",
    "                push_i += 1\n",
    "            elif stack[-1] == popped[pop_i]:\n",
    "                pop_i += 1\n",
    "                stack.pop()\n",
    "        except:\n",
    "            return False\n",
    "    return True\n",
    "\n",
    "# more compact\n",
    "def validateStackSequences(pushed: list[int], popped: list[int]) -> bool:\n",
    "    pop_i = 0\n",
    "    stack = []\n",
    "    for push in pushed:\n",
    "        stack.append(push) \n",
    "        while stack and stack[-1] == popped[pop_i]:\n",
    "            stack.pop()\n",
    "            pop_i += 1\n",
    "    return not stack\n",
    "\n",
    "\n",
    "print(validateStackSequences(pushed = [1,2,3,4,5], popped = [4,5,3,2,1])) # True\n",
    "print(validateStackSequences(pushed = [1,2,3,4,5], popped = [4,3,5,1,2])) # False"
   ]
  },
  {
   "attachments": {},
   "cell_type": "markdown",
   "metadata": {},
   "source": [
    "**1002. Find Common Characters**\n",
    "\n",
    "Given a string array words, return an array of all characters that show up in all strings within the words (including duplicates). You may return the answer in any order.\n",
    "\n",
    "https://leetcode.com/problems/find-common-characters/"
   ]
  },
  {
   "cell_type": "code",
   "execution_count": 7,
   "metadata": {},
   "outputs": [
    {
     "name": "stdout",
     "output_type": "stream",
     "text": [
      "['e', 'l', 'l']\n",
      "['c', 'o']\n"
     ]
    }
   ],
   "source": [
    "from collections import Counter\n",
    "from functools import reduce\n",
    "\n",
    "def commonChars(words: list[str]) -> list[str]:\n",
    "    return [*reduce(lambda a, b: a & b, [Counter(w) for w in words]).elements()]\n",
    "\n",
    "                \n",
    "print(commonChars(words = [\"bella\",\"label\",\"roller\"])) # [\"e\",\"l\",\"l\"]\n",
    "print(commonChars(words = [\"cool\",\"lock\",\"cook\"])) # [\"c\",\"o\"]"
   ]
  },
  {
   "attachments": {},
   "cell_type": "markdown",
   "metadata": {},
   "source": [
    "**1046. Last Stone Weight**\n",
    "\n",
    "You are given an array of integers stones where stones[i] is the weight of the ith stone.\n",
    "\n",
    "We are playing a game with the stones. On each turn, we choose the heaviest two stones and smash them together. Suppose the heaviest two stones have weights x and y with x <= y. The result of this smash is:\n",
    "\n",
    "* If x == y, both stones are destroyed, and\n",
    "* If x != y, the stone of weight x is destroyed, and the stone of weight y has new weight y - x.\n",
    "* At the end of the game, there is at most one stone left.\n",
    "\n",
    "Return the weight of the last remaining stone. If there are no stones left, return 0.\n",
    "\n",
    "https://leetcode.com/problems/last-stone-weight/"
   ]
  },
  {
   "cell_type": "code",
   "execution_count": 10,
   "metadata": {},
   "outputs": [
    {
     "name": "stdout",
     "output_type": "stream",
     "text": [
      "1\n",
      "1\n"
     ]
    }
   ],
   "source": [
    "import heapq\n",
    "def lastStoneWeight(stones: list[int]) -> int:\n",
    "    stones = [-s for s in stones]\n",
    "    heapq.heapify(stones)\n",
    "    while len(stones) > 1:\n",
    "        x = heapq.heappop(stones)\n",
    "        y = heapq.heappop(stones)\n",
    "        if x != y:\n",
    "            heapq.heappush(stones, x-y)\n",
    "    return abs(stones[0]) if stones else 0\n",
    "\n",
    "print(lastStoneWeight(stones = [2,7,4,1,8,1])) # 1\n",
    "print(lastStoneWeight(stones = [1])) # 1"
   ]
  },
  {
   "attachments": {},
   "cell_type": "markdown",
   "metadata": {},
   "source": [
    "**1143. Longest Common Subsequence**\n",
    "\n",
    "Given two strings text1 and text2, return the length of their longest common subsequence. If there is no common subsequence, return 0.\n",
    "\n",
    "A subsequence of a string is a new string generated from the original string with some characters (can be none) deleted without changing the relative order of the remaining characters.\n",
    "\n",
    "For example, \"ace\" is a subsequence of \"abcde\".\n",
    "A common subsequence of two strings is a subsequence that is common to both strings.\n",
    "\n",
    "https://leetcode.com/problems/longest-common-subsequence/"
   ]
  },
  {
   "cell_type": "code",
   "execution_count": 57,
   "metadata": {},
   "outputs": [
    {
     "name": "stdout",
     "output_type": "stream",
     "text": [
      "5\n"
     ]
    }
   ],
   "source": [
    "# standard DP\n",
    "def longestCommonSubsequence(text1: str, text2: str) -> int:\n",
    "    dp = [[0] * (len(text1) + 1) for _ in range(len(text2) + 1)]\n",
    "    for i in range(len(text2)-1, -1, -1):\n",
    "        for j in range(len(text1)-1, -1, -1):\n",
    "            if text2[i] == text1[j]:\n",
    "                dp[i][j] = dp[i+1][j+1] + 1\n",
    "            else:\n",
    "                dp[i][j] = max(dp[i][j+1], dp[i+1][j])\n",
    "    return dp[0][0]\n",
    "\n",
    "# very fast solution - similar to Longest Increasing Subsequence using Patience card game algorithm\n",
    "def longestCommonSubsequence(text1: str, text2: str) -> int:\n",
    "    dp = []\n",
    "    d = dict()\n",
    "    for i in range(len(text2)):\n",
    "        if text2[i] in d:\n",
    "            d[text2[i]].append(i)\n",
    "        else:\n",
    "            d[text2[i]] = [i]\n",
    "    for c in text1:\n",
    "        if c in d:\n",
    "            for i in d[c][::-1]:\n",
    "                l, r = 0, len(dp)-1\n",
    "                while l <= r:\n",
    "                    m = (l + r)//2\n",
    "                    if dp[m] >= i:\n",
    "                        r = m - 1\n",
    "                    else:\n",
    "                        l = m + 1\n",
    "                if l == len(dp):\n",
    "                    dp.append(i)\n",
    "                else:\n",
    "                    dp[l] = i\n",
    "    return len(dp)\n",
    "\n",
    "# print(longestCommonSubsequence(text1 = \"abcde\", text2 = \"ace\" )) # 3\n",
    "# print(longestCommonSubsequence(text1 = \"abc\", text2 = \"abc\")) # 3\n",
    "# print(longestCommonSubsequence(text1 = \"abc\", text2 = \"def\")) # 0\n",
    "# print(longestCommonSubsequence(text1 = \"bl\", text2 = \"yby\")) # 1\n",
    "print(longestCommonSubsequence(text1 = \"abcba\", text2 = \"abcbcba\")) # 5\n",
    "# print(longestCommonSubsequence(text1 = \"bsbininm\", text2 = \"jmjkbkjkv\")) # 1\n",
    "# print(longestCommonSubsequence(text1 = \"bmvcnwrmxcfcxabkxcvgbozmpspsbenazglyxkpibgzq\", text2 = \"bmpmlstotylonkvmhqjyxmnqzctonqtobahcrcbibgzgx\")) # 13"
   ]
  },
  {
   "attachments": {},
   "cell_type": "markdown",
   "metadata": {},
   "source": [
    "**1312. Minimum Insertion Steps to Make a String Palindrome**\n",
    "\n",
    "Given a string s. In one step you can insert any character at any index of the string.\n",
    "\n",
    "Return the minimum number of steps to make s palindrome.\n",
    "\n",
    "A Palindrome String is one that reads the same backward as well as forward.\n",
    "\n",
    "https://leetcode.com/problems/minimum-insertion-steps-to-make-a-string-palindrome/"
   ]
  },
  {
   "cell_type": "code",
   "execution_count": 52,
   "metadata": {},
   "outputs": [
    {
     "name": "stdout",
     "output_type": "stream",
     "text": [
      "1 2 2 3 5\n",
      "0 1 1 3 3\n",
      "0 0 1 1 2\n",
      "0 0 0 1 2\n",
      "0 0 0 0 1\n",
      "0\n",
      "1 1 1 1 3\n",
      "0 1 1 1 1\n",
      "0 0 1 1 1\n",
      "0 0 0 1 1\n",
      "0 0 0 0 1\n",
      "2\n",
      "1 1 2 2 2 2 2 3\n",
      "0 1 2 2 2 2 2 3\n",
      "0 0 1 1 1 1 1 3\n",
      "0 0 0 1 1 1 1 1\n",
      "0 0 0 0 1 1 1 1\n",
      "0 0 0 0 0 1 1 1\n",
      "0 0 0 0 0 0 1 1\n",
      "0 0 0 0 0 0 0 1\n",
      "5\n"
     ]
    }
   ],
   "source": [
    "# my solution\n",
    "def minInsertions(s: str) -> int:\n",
    "    dp = [[0 for _ in range(len(s) + 1)] for _ in range(len(s) + 1)] \n",
    "\n",
    "    for i in range(len(s)-1, -1, -1):\n",
    "        for j in range(len(s)):\n",
    "            if s[i] == s[j]:\n",
    "                dp[i][len(s)-j-1] = dp[i+1][len(s)-j] + 1\n",
    "            else:\n",
    "                dp[i][len(s)-j-1] = max(dp[i+1][len(s)-j-1], dp[i][len(s)-j])\n",
    "    \n",
    "    return len(s) - dp[0][0]\n",
    "\n",
    "# optimised\n",
    "def minInsertions(s: str) -> int:\n",
    "    dp = [[0 for _ in range(len(s))] for _ in range(len(s))] \n",
    "\n",
    "    for i in range(len(s)-1, -1, -1):\n",
    "        dp[i][i] = 1\n",
    "        for j in range(i+1, len(s)):\n",
    "            if s[i] == s[j]:\n",
    "                dp[i][j] = dp[i+1][j-1] + 2\n",
    "            else:\n",
    "                dp[i][j] = max(dp[i+1][j], dp[i][j-1])\n",
    "    for r in dp:\n",
    "        print(*r)\n",
    "    return len(s) - dp[0][len(s)-1]\n",
    "\n",
    "print(minInsertions(\"zzazz\")) # 0\n",
    "print(minInsertions(\"mbadm\")) # 2\n",
    "print(minInsertions(\"leetcode\")) # 5"
   ]
  },
  {
   "attachments": {},
   "cell_type": "markdown",
   "metadata": {},
   "source": [
    "**1351. Count Negative Numbers in a Sorted Matrix**\n",
    "\n",
    "Given a m x n matrix grid which is sorted in non-increasing order both row-wise and column-wise, return the number of negative numbers in grid.\n",
    "\n",
    "https://leetcode.com/problems/count-negative-numbers-in-a-sorted-matrix/"
   ]
  },
  {
   "cell_type": "code",
   "execution_count": 4,
   "metadata": {},
   "outputs": [
    {
     "name": "stdout",
     "output_type": "stream",
     "text": [
      "8\n",
      "0\n"
     ]
    }
   ],
   "source": [
    "def countNegatives(grid: list[list[int]]) -> int:\n",
    "    count = 0\n",
    "    height = len(grid)\n",
    "    width = len(grid[0])\n",
    "    c = 0\n",
    "    for r in range(height-1, -1, -1):\n",
    "        while grid[r][c] >= 0:\n",
    "            c += 1\n",
    "            if c == width:\n",
    "                return count\n",
    "        else:\n",
    "            count +=  width - c\n",
    "    return count\n",
    "\n",
    "print(countNegatives(grid = [[4,3,2,-1],[3,2,1,-1],[1,1,-1,-2],[-1,-1,-2,-3]])) # 8\n",
    "print(countNegatives(grid = [[3,2],[1,0]])) # 0"
   ]
  },
  {
   "attachments": {},
   "cell_type": "markdown",
   "metadata": {},
   "source": [
    "**1372. Longest ZigZag Path in a Binary Tree**\n",
    "\n",
    "You are given the root of a binary tree.\n",
    "\n",
    "A ZigZag path for a binary tree is defined as follow:\n",
    "\n",
    "* Choose any node in the binary tree and a direction (right or left).\n",
    "* If the current direction is right, move to the right child of the current node; otherwise, move to the left child.\n",
    "* Change the direction from right to left or from left to right.\n",
    "* Repeat the second and third steps until you can't move in the tree.\n",
    "\n",
    "Zigzag length is defined as the number of nodes visited - 1. (A single node has a length of 0).\n",
    "\n",
    "Return the longest ZigZag path contained in that tree."
   ]
  },
  {
   "cell_type": "code",
   "execution_count": 15,
   "metadata": {},
   "outputs": [
    {
     "name": "stdout",
     "output_type": "stream",
     "text": [
      "3\n",
      "0\n"
     ]
    }
   ],
   "source": [
    "def longestZigZag(root: TreeNode) -> int:\n",
    "    longest = 0\n",
    "    stack = []\n",
    "    if root.left:\n",
    "        stack.append((root.left, 1, False))\n",
    "    if root.right:\n",
    "        stack.append((root.right, 1, True))\n",
    "    while stack:\n",
    "        node, count, right = stack.pop()\n",
    "        if node:\n",
    "            longest = max(count, longest)\n",
    "            if right:\n",
    "                stack.append((node.left, count+1, False))\n",
    "                stack.append((node.right, 1, True))\n",
    "            else:\n",
    "                stack.append((node.left, 1, False))\n",
    "                stack.append((node.right, count+1, True))\n",
    "    return longest\n",
    "\n",
    "print(longestZigZag(make_binary_tree([1,None,1,1,1,None,None,1,1,None,1,None,None,None,1,None,1]))) # 3\n",
    "print(longestZigZag(make_binary_tree([1]))) # 0"
   ]
  },
  {
   "attachments": {},
   "cell_type": "markdown",
   "metadata": {},
   "source": [
    "**1416. Restore The Array**\n",
    "\n",
    "A program was supposed to print an array of integers. The program forgot to print whitespaces and the array is printed as a string of digits s and all we know is that all integers in the array were in the range [1, k] and there are no leading zeros in the array.\n",
    "\n",
    "Given the string s and the integer k, return the number of the possible arrays that can be printed as s using the mentioned program. Since the answer may be very large, return it modulo 10^9 + 7.\n",
    "\n",
    " https://leetcode.com/problems/restore-the-array/"
   ]
  },
  {
   "cell_type": "code",
   "execution_count": 48,
   "metadata": {},
   "outputs": [
    {
     "name": "stdout",
     "output_type": "stream",
     "text": [
      "1\n",
      "0\n",
      "8\n",
      "29\n",
      "34\n",
      "411743991\n"
     ]
    }
   ],
   "source": [
    "def numberOfArrays(s: str, k: int) -> int:\n",
    "    k = str(k)\n",
    "    n = len(s)\n",
    "    dp = [0] * n + [1]\n",
    "    for i in range(n-1, -1, -1):\n",
    "        if s[i] != \"0\":\n",
    "            for j in range(i+1, min(n, i+len(k))+1):\n",
    "                if j-i < len(k) or s[i:j] <= k:\n",
    "                    dp[i] += dp[j]\n",
    "    return dp[0] % (10**9 + 7)\n",
    "\n",
    "# more compact\n",
    "def numberOfArrays(s: str, k: int) -> int:\n",
    "    k = str(k)\n",
    "    n = len(s)\n",
    "    dp = [0] * n + [1]\n",
    "    for i in range(n-1, -1, -1):\n",
    "        if s[i] != \"0\":\n",
    "            dp[i] += sum(dp[i+1:i+len(k)])\n",
    "            if i+len(k) <= n and s[i:i+len(k)] <= k:\n",
    "                dp[i] += dp[i+len(k)]\n",
    "    return dp[0] % (10**9 + 7)\n",
    "\n",
    "# without comparing strings. Does not make it faster!\n",
    "def numberOfArrays(s: str, k: int) -> int:\n",
    "\n",
    "    def combine_ints(int_arr):\n",
    "        res = 0\n",
    "        mult = 1\n",
    "        for n in int_arr[::-1]:\n",
    "            res += n * mult\n",
    "            mult *= 10\n",
    "        return res \n",
    "    \n",
    "    klen = len(str(k))\n",
    "    slen = len(s)\n",
    "    s = [*map(int, s)]\n",
    "    dp = [0] * slen + [1]\n",
    "    for i in range(slen-1, -1, -1):\n",
    "        if s[i]:\n",
    "            dp[i] += sum(dp[i+1:i+klen])\n",
    "            if i+klen <= slen and combine_ints(s[i:i+klen]) <= k:\n",
    "                dp[i] += dp[i+klen]\n",
    "\n",
    "    return dp[0] % (10**9 + 7)\n",
    "\n",
    "print(numberOfArrays(s = \"1000\", k = 10000)) # 1\n",
    "print(numberOfArrays(s = \"1000\", k = 10)) # 0\n",
    "print(numberOfArrays(s = \"1317\", k = 2000)) # 8\n",
    "print(numberOfArrays(s = \"132078093\", k = 4000)) # 29\n",
    "print(numberOfArrays(s = \"1234567890\", k = 90)) # 34\n",
    "print(numberOfArrays(s = \"600342244431311113256628376226052681059918526204\", k = 703)) # 411743991"
   ]
  },
  {
   "attachments": {},
   "cell_type": "markdown",
   "metadata": {},
   "source": [
    "**1431. Kids With the Greatest Number of Candies**\n",
    "\n",
    "There are n kids with candies. You are given an integer array candies, where each candies[i] represents the number of candies the ith kid has, and an integer extraCandies, denoting the number of extra candies that you have.\n",
    "\n",
    "Return a boolean array result of length n, where result[i] is true if, after giving the ith kid all the extraCandies, they will have the greatest number of candies among all the kids, or false otherwise.\n",
    "\n",
    "Note that multiple kids can have the greatest number of candies.\n",
    "\n",
    "https://leetcode.com/problems/kids-with-the-greatest-number-of-candies/"
   ]
  },
  {
   "cell_type": "code",
   "execution_count": 11,
   "metadata": {},
   "outputs": [
    {
     "name": "stdout",
     "output_type": "stream",
     "text": [
      "[True, True, True, False, True]\n",
      "[True, False, False, False, False]\n",
      "[True, False, True]\n"
     ]
    }
   ],
   "source": [
    "def kidsWithCandies(candies: list[int], extraCandies: int) -> list[bool]:\n",
    "    max_candies = max(candies)\n",
    "    return [c+extraCandies >= max_candies for c in candies]\n",
    "\n",
    "print(kidsWithCandies(candies = [2,3,5,1,3], extraCandies = 3)) # [true,true,true,false,true] \n",
    "print(kidsWithCandies(candies = [4,2,1,1,2], extraCandies = 1)) # [true,false,false,false,false] \n",
    "print(kidsWithCandies(candies = [12,1,12], extraCandies = 10)) # [true,false,true]\n"
   ]
  },
  {
   "attachments": {},
   "cell_type": "markdown",
   "metadata": {},
   "source": [
    "**1491. Average Salary Excluding the Minimum and Maximum Salary**\n",
    "\n",
    "You are given an array of unique integers salary where salary[i] is the salary of the ith employee.\n",
    "\n",
    "Return the average salary of employees excluding the minimum and maximum salary. Answers within 10^-5 of the actual answer will be accepted.\n",
    "\n",
    "https://leetcode.com/problems/average-salary-excluding-the-minimum-and-maximum-salary/"
   ]
  },
  {
   "cell_type": "code",
   "execution_count": 6,
   "metadata": {},
   "outputs": [
    {
     "name": "stdout",
     "output_type": "stream",
     "text": [
      "2500.0\n",
      "2000.0\n"
     ]
    }
   ],
   "source": [
    "def average(salary: list[int]) -> float:\n",
    "    l = len(salary)\n",
    "    mins = float(\"inf\")\n",
    "    maxs = float(\"-inf\")\n",
    "    tot = 0\n",
    "    for s in salary:\n",
    "        mins = min(mins, s)\n",
    "        maxs = max(maxs, s)\n",
    "        tot += s\n",
    "    return (tot - mins - maxs) / (l - 2)\n",
    "\n",
    "def average(salary: list[int]) -> float:\n",
    "    return sum(sorted(salary)[1:-1])/(len(salary)-2)\n",
    "\n",
    "print(average(salary = [4000,3000,1000,2000])) # 2500.00000\n",
    "print(average(salary = [1000,2000,3000])) # 2000.00000"
   ]
  },
  {
   "attachments": {},
   "cell_type": "markdown",
   "metadata": {},
   "source": [
    "**1579. Remove Max Number of Edges to Keep Graph Fully Traversable**\n",
    "\n",
    "Alice and Bob have an undirected graph of n nodes and three types of edges:\n",
    "\n",
    "* Type 1: Can be traversed by Alice only.\n",
    "* Type 2: Can be traversed by Bob only.\n",
    "* Type 3: Can be traversed by both Alice and Bob.\n",
    "\n",
    "Given an array edges where edges[i] = [typei, ui, vi] represents a bidirectional edge of type typei between nodes ui and vi, find the maximum number of edges you can remove so that after removing the edges, the graph can still be fully traversed by both Alice and Bob. The graph is fully traversed by Alice and Bob if starting from any node, they can reach all other nodes.\n",
    "\n",
    "Return the maximum number of edges you can remove, or return -1 if Alice and Bob cannot fully traverse the graph.\n",
    "\n",
    "https://leetcode.com/problems/remove-max-number-of-edges-to-keep-graph-fully-traversable/"
   ]
  },
  {
   "cell_type": "code",
   "execution_count": 62,
   "metadata": {},
   "outputs": [
    {
     "name": "stdout",
     "output_type": "stream",
     "text": [
      "2\n",
      "0\n",
      "-1\n"
     ]
    }
   ],
   "source": [
    "# times out\n",
    "def maxNumEdgesToRemove(n: int, edges: list[list[int]]) -> int:\n",
    "    edges.sort(reverse=True)\n",
    "    parents = [*range(n+1)]\n",
    "\n",
    "    def find(x, parents):\n",
    "        p = parents[x]\n",
    "        while p != parents[p]:\n",
    "            p = parents[p]\n",
    "        parents[x] = p\n",
    "        return parents[x]\n",
    "\n",
    "    i = 0\n",
    "    surplus = 0\n",
    "    while i < len(edges) and edges[i][0] == 3:\n",
    "        px = find(edges[i][1], parents)\n",
    "        py = find(edges[i][2], parents)\n",
    "        if px != py:\n",
    "            parents[px] = py\n",
    "        else:\n",
    "            surplus += 1\n",
    "        i += 1\n",
    "\n",
    "    parents_1 = list(parents)\n",
    "    parents_2 = list(parents)\n",
    "\n",
    "    while i < len(edges) and edges[i][0] == 2:\n",
    "        px = find(edges[i][1], parents_2)\n",
    "        py = find(edges[i][2], parents_2)\n",
    "        if px != py:\n",
    "            parents_2[px] = py\n",
    "        else:\n",
    "            surplus += 1\n",
    "        i += 1\n",
    "\n",
    "    while i < len(edges):\n",
    "        px = find(edges[i][1], parents_1)\n",
    "        py = find(edges[i][2], parents_1)\n",
    "        if px != py:\n",
    "            parents_1[px] = py\n",
    "        else:\n",
    "            surplus += 1\n",
    "        i += 1\n",
    "\n",
    "    p_dic_1 = {}\n",
    "    for p in parents_1[1:]:\n",
    "        if p not in p_dic_1:\n",
    "            p_dic_1[p] = find(p, parents_1)\n",
    "\n",
    "    p_dic_2 = {}\n",
    "    for p in parents_2[1:]:\n",
    "        if p not in p_dic_2:\n",
    "            p_dic_2[p] = find(p, parents_2)\n",
    "\n",
    "    return surplus if len(set(p_dic_1.values())) == len(set(p_dic_2.values())) == 1 else -1\n",
    "\n",
    "\n",
    "\n",
    "print(maxNumEdgesToRemove(n = 4, edges = [[3,1,2],[3,2,3],[1,1,3],[1,2,4],[1,1,2],[2,3,4]])) # 2\n",
    "print(maxNumEdgesToRemove(n = 4, edges = [[3,1,2],[3,2,3],[1,1,4],[2,1,4]])) # 0\n",
    "print(maxNumEdgesToRemove(n = 4, edges = [[3,2,3],[1,1,2],[2,3,4]])) # -1"
   ]
  },
  {
   "cell_type": "code",
   "execution_count": 64,
   "metadata": {},
   "outputs": [
    {
     "data": {
      "text/plain": [
       "0"
      ]
     },
     "execution_count": 64,
     "metadata": {},
     "output_type": "execute_result"
    }
   ],
   "source": [
    "with open(\"66666.txt\") as test:\n",
    "    n, edges = [eval(x) for x in test.read().splitlines()]\n",
    "\n",
    "maxNumEdgesToRemove(n, edges)"
   ]
  },
  {
   "attachments": {},
   "cell_type": "markdown",
   "metadata": {},
   "source": [
    "**1639. Number of Ways to Form a Target String Given a Dictionary**\n",
    "\n",
    "You are given a list of strings of the same length words and a string target.\n",
    "\n",
    "Your task is to form target using the given words under the following rules:\n",
    "\n",
    "target should be formed from left to right.\n",
    "To form the ith character (0-indexed) of target, you can choose the kth character of the jth string in words if target[i] = words[j][k].\n",
    "Once you use the kth character of the jth string of words, you can no longer use the xth character of any string in words where x <= k. In other words, all characters to the left of or at index k become unusuable for every string.\n",
    "Repeat the process until you form the string target.\n",
    "Notice that you can use multiple characters from the same string in words provided the conditions above are met.\n",
    "\n",
    "Return the number of ways to form target from words. Since the answer may be too large, return it modulo 10^9 + 7.\n",
    "\n",
    "https://leetcode.com/problems/number-of-ways-to-form-a-target-string-given-a-dictionary/"
   ]
  },
  {
   "cell_type": "code",
   "execution_count": 9,
   "metadata": {},
   "outputs": [
    {
     "name": "stdout",
     "output_type": "stream",
     "text": [
      "6\n",
      "4\n"
     ]
    }
   ],
   "source": [
    "# first solution\n",
    "def numWays(words: list[str], target: str) -> int:\n",
    "    if len(target) > len(words[0]):\n",
    "        return 0\n",
    "    dp = [[0 for _ in range(len(words[0])+1)] for _ in range(len(target))]\n",
    "    dp += [[1 for _ in range(len(words[0])+1)]]\n",
    "    for ti in range(len(target)-1, -1, -1):\n",
    "        for wi in range(len(words[0])-(len(target)-ti), ti-1, -1):\n",
    "            count = 0\n",
    "            for w in words:\n",
    "                if w[wi] == target[ti]:\n",
    "                    count += 1\n",
    "            dp[ti][wi] = (count * dp[ti+1][wi+1] + dp[ti][wi+1]) % (10**9+7)\n",
    "        if dp[ti][ti] == 0:\n",
    "            return 0\n",
    "    \n",
    "    return dp[0][0]\n",
    "\n",
    "# slightly optimised - makes note of the first non-zero cell\n",
    "def numWays(words: list[str], target: str) -> int:\n",
    "    if len(target) > len(words[0]):\n",
    "        return 0\n",
    "    dp = [[0 for _ in range(len(words[0])+1)] for _ in range(len(target))]\n",
    "    dp += [[1 for _ in range(len(words[0])+1)]]\n",
    "    start = len(words[0])-1\n",
    "    for ti in range(len(target)-1, -1, -1):\n",
    "        for wi in range(start, ti-1, -1):\n",
    "            count = 0\n",
    "            for w in words:\n",
    "                if w[wi] == target[ti]:\n",
    "                    count += 1\n",
    "            dp[ti][wi] = (count * dp[ti+1][wi+1] + dp[ti][wi+1]) % (10**9+7)\n",
    "            if dp[ti][wi] == 0:\n",
    "                start = wi - 1\n",
    "        if dp[ti][ti] == 0:\n",
    "            return 0\n",
    "        start -= 1\n",
    "    \n",
    "    return dp[0][0]\n",
    "\n",
    "print(numWays(words = [\"acca\",\"bbbb\",\"caca\"], target = \"aba\")) # 6\n",
    "print(numWays(words = [\"abba\",\"baab\"], target = \"bab\")) # 4"
   ]
  },
  {
   "attachments": {},
   "cell_type": "markdown",
   "metadata": {},
   "source": [
    "**1689. Partitioning Into Minimum Number Of Deci-Binary Numbers**\n",
    "\n",
    "A decimal number is called deci-binary if each of its digits is either 0 or 1 without any leading zeros. For example, 101 and 1100 are deci-binary, while 112 and 3001 are not.\n",
    "\n",
    "Given a string n that represents a positive decimal integer, return the minimum number of positive deci-binary numbers needed so that they sum up to n."
   ]
  },
  {
   "cell_type": "code",
   "execution_count": 46,
   "metadata": {},
   "outputs": [
    {
     "data": {
      "text/plain": [
       "9"
      ]
     },
     "execution_count": 46,
     "metadata": {},
     "output_type": "execute_result"
    }
   ],
   "source": [
    "# one liner - fastest! \n",
    "def minPartitions(n: str) -> int:\n",
    "    s = set()\n",
    "    for c in n:\n",
    "        s.add(c)\n",
    "        if c == \"9\":\n",
    "            return 9\n",
    "    return int(max(s))\n",
    "\n",
    "# one liner - fastest! \n",
    "def minPartitions(n: str) -> int:\n",
    "    return int(max(set(n)))\n",
    "\n",
    "# the highest integer present in the input is the answer\n",
    "\n",
    "minPartitions(n = \"27346209830709182346\") # 9"
   ]
  },
  {
   "attachments": {},
   "cell_type": "markdown",
   "metadata": {},
   "source": [
    "**1697. Checking Existence of Edge Length Limited Paths**\n",
    "\n",
    "An undirected graph of n nodes is defined by edgeList, where edgeList[i] = [ui, vi, disi] denotes an edge between nodes ui and vi with distance disi. Note that there may be multiple edges between two nodes.\n",
    "\n",
    "Given an array queries, where queries[j] = [pj, qj, limitj], your task is to determine for each queries[j] whether there is a path between pj and qj such that each edge on the path has a distance strictly less than limitj .\n",
    "\n",
    "Return a boolean array answer, where answer.length == queries.length and the jth value of answer is true if there is a path for queries[j] is true, and false otherwise.\n",
    "\n",
    "https://leetcode.com/problems/checking-existence-of-edge-length-limited-paths/"
   ]
  },
  {
   "cell_type": "code",
   "execution_count": 21,
   "metadata": {},
   "outputs": [
    {
     "name": "stdout",
     "output_type": "stream",
     "text": [
      "[False, True]\n",
      "[True, False]\n"
     ]
    }
   ],
   "source": [
    "# via https://www.youtube.com/watch?v=eByz6MsXcKk&ab_channel=ProgrammingLivewithLarry\n",
    "from collections import defaultdict\n",
    "def distanceLimitedPathsExist(n: int, edgeList: list[list[int]], queries: list[list[int]]) -> list[bool]:\n",
    "    parents = [*range(n)]\n",
    "\n",
    "    def ufind(x):\n",
    "        if parents[x] != x:\n",
    "            parents[x] = ufind(parents[x])\n",
    "        return parents[x]\n",
    "    \n",
    "    def uunion(a, b):\n",
    "        ua = ufind(a)\n",
    "        ub = ufind(b)\n",
    "        parents[ua] = ub\n",
    "\n",
    "    edges = defaultdict(list)\n",
    "    for u, v, d in edgeList:\n",
    "        edges[d].append((u,v))\n",
    "\n",
    "    qs = defaultdict(list)\n",
    "    for ind, (p, q, l) in enumerate(queries):\n",
    "        qs[l].append((p,q, ind))\n",
    "\n",
    "    ans = [None] * len(queries)\n",
    "    \n",
    "    for x in sorted(set([*qs.keys()] + [*edges.keys()])):\n",
    "        if len(qs[x]) > 0:\n",
    "            for p,q,ind in qs[x]:\n",
    "                ans[ind] = (ufind(p) == ufind(q))\n",
    "\n",
    "        if len(edges[x]) > 0:\n",
    "            for u, v in edges[x]:\n",
    "                uunion(u, v)\n",
    "\n",
    "    return ans\n",
    "\n",
    "# via https://algo.monster/liteproblems/1697\n",
    "def distanceLimitedPathsExist(n: int, edgeList: list[list[int]], queries: list[list[int]]) -> list[bool]:\n",
    "    parents = [*range(n)]\n",
    "\n",
    "    def ufind(x):\n",
    "        if parents[x] != x:\n",
    "            parents[x] = ufind(parents[x])\n",
    "        return parents[x]\n",
    "    \n",
    "    def uunion(a, b):\n",
    "        ua = ufind(a)\n",
    "        ub = ufind(b)\n",
    "        parents[ua] = ub\n",
    "\n",
    "    edgeList.sort(key=lambda x: x[2])  # sort edges by value for distance\n",
    "    for i in range(len(queries)):  # keeps track of original index for each query\n",
    "        queries[i].append(i)\n",
    "    queries.sort(key=lambda x: x[2])  # sort queries by value for limit\n",
    "\n",
    "    ans = [False for _ in range(len(queries))]\n",
    "\n",
    "    i = 0\n",
    "    for query in queries:\n",
    "        limit = query[2]\n",
    "        # keeps adding edges with distance < limit\n",
    "        while i < len(edgeList) and edgeList[i][2] < limit:  \n",
    "            u = edgeList[i][0]\n",
    "            v = edgeList[i][1]\n",
    "            uunion(u, v)\n",
    "            i += 1\n",
    "        p = query[0]\n",
    "        q = query[1]\n",
    "        queryIndex = query[3]\n",
    "        if ufind(p) == ufind(q):  # checks if p and q are connected\n",
    "            ans[queryIndex] = True\n",
    "    return ans\n",
    "\n",
    "print(distanceLimitedPathsExist(n = 3, edgeList = [[0,1,2],[1,2,4],[2,0,8],[1,0,16]], queries = [[0,1,2],[0,2,5]])) # [false,true]\n",
    "print(distanceLimitedPathsExist(n = 5, edgeList = [[0,1,10],[1,2,5],[2,3,9],[3,4,13]], queries = [[0,4,14],[1,4,13]])) # [true,false]"
   ]
  },
  {
   "cell_type": "code",
   "execution_count": 22,
   "metadata": {},
   "outputs": [
    {
     "data": {
      "text/plain": [
       "[True,\n",
       " False,\n",
       " False,\n",
       " True,\n",
       " True,\n",
       " False,\n",
       " False,\n",
       " True,\n",
       " False,\n",
       " True,\n",
       " False,\n",
       " True,\n",
       " False,\n",
       " False,\n",
       " False,\n",
       " True,\n",
       " False,\n",
       " True,\n",
       " False,\n",
       " True,\n",
       " True,\n",
       " True,\n",
       " False,\n",
       " True,\n",
       " False,\n",
       " False]"
      ]
     },
     "execution_count": 22,
     "metadata": {},
     "output_type": "execute_result"
    }
   ],
   "source": [
    "# long test case\n",
    "n = 13\n",
    "edgeList = [[9,1,53],[3,2,66],[12,5,99],[9,7,26],[1,4,78],[11,1,62],[3,10,50],[12,1,71],[12,6,63],[1,10,63],[9,10,88],[9,11,59],[1,4,37],[4,2,63],[0,2,26],[6,12,98],[9,11,99],[4,5,40],[2,8,25],[4,2,35],[8,10,9],[11,9,25],[10,11,11],[7,6,89],[2,4,99],[10,4,63]]\n",
    "queries = [[9,7,65],[9,6,1],[4,5,34],[10,8,43],[3,7,76],[4,2,15],[7,6,52],[2,0,50],[7,6,62],[1,0,81],[4,5,35],[0,11,86],[12,5,50],[11,2,2],[9,5,6],[12,0,95],[10,6,9],[9,4,73],[6,10,48],[12,0,91],[9,10,58],[9,8,73],[2,3,44],[7,11,83],[5,3,14],[6,2,33]]\n",
    "\n",
    "distanceLimitedPathsExist(n, edgeList, queries)\n",
    "# [true,false,false,true,true,false,false,true,false,true,false,true,false,false,false,true,false,true,false,true,true,true,false,true,false,false]"
   ]
  },
  {
   "attachments": {},
   "cell_type": "markdown",
   "metadata": {},
   "source": [
    "**1768. Merge Strings Alternately**\n",
    "\n",
    "You are given two strings word1 and word2. Merge the strings by adding letters in alternating order, starting with word1. If a string is longer than the other, append the additional letters onto the end of the merged string.\n",
    "\n",
    "Return the merged string.\n",
    "\n",
    "https://leetcode.com/problems/merge-strings-alternately/"
   ]
  },
  {
   "cell_type": "code",
   "execution_count": 22,
   "metadata": {},
   "outputs": [
    {
     "name": "stdout",
     "output_type": "stream",
     "text": [
      "apbqcr\n",
      "apbqrs\n",
      "apbqcd\n"
     ]
    }
   ],
   "source": [
    "# looong one-liner\n",
    "def mergeAlternately(word1: str, word2: str) -> str:\n",
    "    return \"\".join([a+b for a, b in zip(word1, word2)]) + word1[(m := min(len(word1), len(word2))):] + word2[m:]\n",
    "\n",
    "# simpler\n",
    "def mergeAlternately(word1: str, word2: str) -> str:\n",
    "    out = \"\"\n",
    "    i = 0\n",
    "    while i < len(word1) and i < len(word2):\n",
    "        out += word1[i] + word2[i]\n",
    "        i += 1\n",
    "    if len(word1) == len(word2):\n",
    "        return out\n",
    "    elif len(word1) > len(word2):\n",
    "        return out + word1[i:]\n",
    "    else:\n",
    "        return out + word2[i:]\n",
    "        \n",
    "print(mergeAlternately(word1 = \"abc\", word2 = \"pqr\")) # \"apbqcr\"\n",
    "print(mergeAlternately(word1 = \"ab\", word2 = \"pqrs\")) # \"apbqrs\"\n",
    "print(mergeAlternately(word1 = \"abcd\", word2 = \"pq\")) # \"apbqcd\""
   ]
  },
  {
   "attachments": {},
   "cell_type": "markdown",
   "metadata": {},
   "source": [
    "**1822. Sign of the Product of an Array**\n",
    "\n",
    "There is a function signFunc(x) that returns:\n",
    "\n",
    "1 if x is positive.\n",
    "-1 if x is negative.\n",
    "0 if x is equal to 0.\n",
    "You are given an integer array nums. Let product be the product of all values in the array nums.\n",
    "\n",
    "Return signFunc(product).\n",
    "\n",
    "https://leetcode.com/problems/sign-of-the-product-of-an-array/"
   ]
  },
  {
   "cell_type": "code",
   "execution_count": 3,
   "metadata": {},
   "outputs": [
    {
     "name": "stdout",
     "output_type": "stream",
     "text": [
      "1\n",
      "0\n",
      "-1\n"
     ]
    }
   ],
   "source": [
    "def arraySign(nums: list[int]) -> int:\n",
    "    ans = 1\n",
    "    for n in nums:\n",
    "        if not n:\n",
    "            return 0\n",
    "        if n < 0:\n",
    "            ans = -ans\n",
    "    return ans\n",
    "\n",
    "print(arraySign(nums = [-1,-2,-3,-4,3,2,1])) # 1\n",
    "print(arraySign(nums = [1,5,0,2,-3])) # 0\n",
    "print(arraySign(nums = [-1,1,-1,1,-1])) # -1"
   ]
  },
  {
   "attachments": {},
   "cell_type": "markdown",
   "metadata": {},
   "source": [
    "**1857. Largest Color Value in a Directed Graph**\n",
    "\n",
    "There is a directed graph of n colored nodes and m edges. The nodes are numbered from 0 to n - 1.\n",
    "\n",
    "You are given a string colors where colors[i] is a lowercase English letter representing the color of the ith node in this graph (0-indexed). You are also given a 2D array edges where edges[j] = [aj, bj] indicates that there is a directed edge from node aj to node bj.\n",
    "\n",
    "A valid path in the graph is a sequence of nodes x1 -> x2 -> x3 -> ... -> xk such that there is a directed edge from xi to xi+1 for every 1 <= i < k. The color value of the path is the number of nodes that are colored the most frequently occurring color along that path.\n",
    "\n",
    "Return the largest color value of any valid path in the given graph, or -1 if the graph contains a cycle.\n",
    "\n",
    "https://leetcode.com/problems/largest-color-value-in-a-directed-graph/"
   ]
  },
  {
   "cell_type": "code",
   "execution_count": 54,
   "metadata": {},
   "outputs": [
    {
     "name": "stdout",
     "output_type": "stream",
     "text": [
      "3\n",
      "3\n",
      "-1\n",
      "4\n",
      "-1\n",
      "1\n"
     ]
    }
   ],
   "source": [
    "# times out\n",
    "def largestPathValue(colors: str, edges: list[list[int]]) -> int:\n",
    "    if not edges:\n",
    "        return 1\n",
    "    \n",
    "    graph = {}\n",
    "    from_nodes = set()\n",
    "    to_nodes = set()\n",
    "    for k, v in edges:\n",
    "        from_nodes.add(k)\n",
    "        to_nodes.add(v)\n",
    "        if k in graph:\n",
    "            graph[k].append(v)\n",
    "        else:\n",
    "            graph[k] = [v]\n",
    "\n",
    "    from_nodes -= to_nodes\n",
    "\n",
    "    if not from_nodes:\n",
    "        return -1\n",
    "    \n",
    "    largest_color_value = 0\n",
    "\n",
    "    def bfs(start):\n",
    "        s = [[start, dict(), set()]]\n",
    "        while s:\n",
    "            i, color_dic, visited = s.pop()\n",
    "            visited.add(i)\n",
    "            color_dic[colors[i]] = color_dic.get(colors[i], 0) + 1\n",
    "            nonlocal largest_color_value\n",
    "            largest_color_value = max(largest_color_value, color_dic[colors[i]])\n",
    "            if i in graph:\n",
    "                for n in graph[i]:\n",
    "                    if n in visited:\n",
    "                        return False\n",
    "                    else:\n",
    "                        s.append([n, color_dic.copy(), visited.copy()])\n",
    "        return True\n",
    "\n",
    "    for node in from_nodes:\n",
    "        if not bfs(node):\n",
    "            return -1\n",
    "\n",
    "    return largest_color_value\n",
    "\n",
    "print(largestPathValue(colors = \"abaca\", edges = [[0,1],[0,2],[2,3],[3,4]])) # 3\n",
    "print(largestPathValue(colors = \"abaca\", edges = [[0,1],[0,2],[2,3],[3,4],[4,1]])) # 3\n",
    "print(largestPathValue(colors = \"abaca\", edges = [[0,1],[0,2],[2,3],[3,4],[4,2]])) # -1\n",
    "print(largestPathValue(colors = \"bbbhb\", edges = [[0,2],[3,0],[1,3],[4,1]])) # 4\n",
    "print(largestPathValue(colors = \"a\", edges = [[0,0]])) # -1\n",
    "print(largestPathValue(colors = \"g\", edges = [])) # -1"
   ]
  },
  {
   "cell_type": "code",
   "execution_count": 72,
   "metadata": {},
   "outputs": [
    {
     "name": "stdout",
     "output_type": "stream",
     "text": [
      "3\n",
      "3\n",
      "-1\n",
      "4\n",
      "-1\n",
      "1\n"
     ]
    }
   ],
   "source": [
    "# uses topological sort - very fast!\n",
    "def largestPathValue(colors: str, edges: list[list[int]]) -> int:\n",
    "\n",
    "    # no edges = max path is 1\n",
    "    if not edges:\n",
    "        return 1\n",
    "    \n",
    "    digraph = {} # storing the graph\n",
    "    indegrees = {} # storing number of indegrees\n",
    "\n",
    "    for k, v in edges:\n",
    "        if k in digraph:\n",
    "            digraph[k].append(v) # appending an edge\n",
    "        else:\n",
    "            digraph[k] = [v] # adding an edge to a node without any edges\n",
    "        if v not in digraph:\n",
    "            # if an edge leads to a node without any outcoming edges, we add that node to the dictionary\n",
    "            # this step is needed to store nodes with no outcoming edges\n",
    "            digraph[v] = []\n",
    "        # counting indegrees\n",
    "        indegrees[v] = indegrees.get(v, 0) + 1\n",
    "\n",
    "    topological_sort = []\n",
    "    # digraph contains all nodes as keys. indegrees contains only the nodes with incoming edges\n",
    "    no_incoming_edges = list(digraph.keys() - indegrees.keys()) \n",
    "\n",
    "    # populating topological sort\n",
    "    while no_incoming_edges:\n",
    "        node = no_incoming_edges.pop()\n",
    "        topological_sort.append(node)\n",
    "        # iterating through the outcoming edges of the popped node\n",
    "        for n in digraph[node]:\n",
    "            # decrementing their indegrees\n",
    "            indegrees[n] -= 1\n",
    "            # if the popped node was their last remaining incoming edge, we add them to the topological sort\n",
    "            if indegrees[n] == 0:\n",
    "                no_incoming_edges.append(n)\n",
    "\n",
    "    # this means there is a loop\n",
    "    if len(digraph) != len(topological_sort):\n",
    "        return -1\n",
    "    \n",
    "    largest_color_value = 0\n",
    "\n",
    "    # maintaining a color dictionary for each node\n",
    "    colour_dicts = {k:dict() for k in digraph.keys()}\n",
    "\n",
    "    # going backwards in the topological sort\n",
    "    for i in range(len(topological_sort)-1, -1, -1):\n",
    "        index = topological_sort[i]\n",
    "\n",
    "        # iterating through outgoing edges\n",
    "        for n in digraph[index]:\n",
    "            for color in colour_dicts[n]:\n",
    "                # choosing maximum possible number of colours available to any child\n",
    "                colour_dicts[index][color] = max(colour_dicts[index].get(color, 0), colour_dicts[n][color])\n",
    "        # incrementing the node colour counter\n",
    "        colour_dicts[index][colors[index]] = colour_dicts[index].get(colors[index], 0) + 1\n",
    "        # potentially updating the largest_color_value counter\n",
    "        largest_color_value = max(largest_color_value, colour_dicts[index][colors[index]])\n",
    "\n",
    "    return largest_color_value\n",
    "\n",
    "\n",
    "print(largestPathValue(colors = \"abaca\", edges = [[0,1],[0,2],[2,3],[3,4]])) # 3\n",
    "print(largestPathValue(colors = \"abaca\", edges = [[0,1],[0,2],[2,3],[3,4],[4,1]])) # 3\n",
    "print(largestPathValue(colors = \"abaca\", edges = [[0,1],[0,2],[2,3],[3,4],[4,2]])) # -1\n",
    "print(largestPathValue(colors = \"bbbhb\", edges = [[0,2],[3,0],[1,3],[4,1]])) # 4\n",
    "print(largestPathValue(colors = \"a\", edges = [[0,0]])) # -1\n",
    "print(largestPathValue(colors = \"g\", edges = [])) # -1"
   ]
  },
  {
   "attachments": {},
   "cell_type": "markdown",
   "metadata": {},
   "source": [
    "**1935. Maximum Number of Words You Can Type**\n",
    "\n",
    "There is a malfunctioning keyboard where some letter keys do not work. All other keys on the keyboard work properly.\n",
    "\n",
    "Given a string text of words separated by a single space (no leading or trailing spaces) and a string brokenLetters of all distinct letter keys that are broken, return the number of words in text you can fully type using this keyboard.\n",
    "\n",
    "https://leetcode.com/problems/maximum-number-of-words-you-can-type/"
   ]
  },
  {
   "cell_type": "code",
   "execution_count": 42,
   "metadata": {},
   "outputs": [
    {
     "name": "stdout",
     "output_type": "stream",
     "text": [
      "1\n",
      "0\n"
     ]
    }
   ],
   "source": [
    "def canBeTypedWords(text: str, brokenLetters: str) -> int:\n",
    "    broken = set(brokenLetters)\n",
    "    count = 0\n",
    "    for w in text.split(\" \"):\n",
    "        has_broken = False\n",
    "        for c in w:\n",
    "            if c in broken:\n",
    "                has_broken = True\n",
    "                break\n",
    "        if not has_broken:\n",
    "            count += 1\n",
    "    return count\n",
    "\n",
    "print(canBeTypedWords(text = \"hello world\", brokenLetters = \"ad\")) # 1\n",
    "print(canBeTypedWords(text = \"leet code\", brokenLetters = \"e\")) # 0"
   ]
  },
  {
   "attachments": {},
   "cell_type": "markdown",
   "metadata": {},
   "source": [
    "**2190. Most Frequent Number Following Key In an Array**\n",
    "\n",
    "You are given a 0-indexed integer array nums. You are also given an integer key, which is present in nums.\n",
    "\n",
    "For every unique integer target in nums, count the number of times target immediately follows an occurrence of key in nums. In other words, count the number of indices i such that:\n",
    "\n",
    "* 0 <= i <= nums.length - 2,\n",
    "* nums[i] == key and,\n",
    "* nums[i + 1] == target.\n",
    "\n",
    "Return the target with the maximum count. The test cases will be generated such that the target with maximum count is unique."
   ]
  },
  {
   "cell_type": "code",
   "execution_count": 43,
   "metadata": {},
   "outputs": [
    {
     "name": "stdout",
     "output_type": "stream",
     "text": [
      "100\n",
      "2\n"
     ]
    }
   ],
   "source": [
    "def mostFrequent(nums: list[int], key: int) -> int:\n",
    "    d = {}\n",
    "    most = (0, 0)\n",
    "    for i in range(len(nums)-1):\n",
    "        if nums[i] == key:\n",
    "            d[nums[i+1]] = d.get(nums[i+1], 0) + 1\n",
    "            most = max(most, (d[nums[i+1]], nums[i+1]))\n",
    "    return most[1]\n",
    "\n",
    "print(mostFrequent(nums = [1,100,200,1,100], key = 1)) # 100\n",
    "print(mostFrequent(nums = [2,2,2,2,3], key = 2)) # 2"
   ]
  },
  {
   "attachments": {},
   "cell_type": "markdown",
   "metadata": {},
   "source": [
    "**2218. Maximum Value of K Coins From Piles**\n",
    " \n",
    "There are n piles of coins on a table. Each pile consists of a positive number of coins of assorted denominations.\n",
    "\n",
    "In one move, you can choose any coin on top of any pile, remove it, and add it to your wallet.\n",
    "\n",
    "Given a list piles, where piles[i] is a list of integers denoting the composition of the ith pile from top to bottom, and a positive integer k, return the maximum total value of coins you can have in your wallet if you choose exactly k coins optimally.\n",
    "\n",
    "https://leetcode.com/problems/maximum-value-of-k-coins-from-piles/"
   ]
  },
  {
   "cell_type": "code",
   "execution_count": 98,
   "metadata": {},
   "outputs": [
    {
     "name": "stdout",
     "output_type": "stream",
     "text": [
      "101\n",
      "706\n",
      "350\n",
      "494\n"
     ]
    }
   ],
   "source": [
    "# Slow DP. Same O(k*s), where s is the total number of coins in all piles,\n",
    "# as the best solutions. Other solutions can be faster because they don't use the auxillary \n",
    "# weights and values arrays. \n",
    "def maxValueOfCoins(piles: list[list[int]], k: int) -> int:\n",
    "    weights = [0]\n",
    "    values = [0]\n",
    "    for p in piles:\n",
    "        added = 0\n",
    "        for i in range(len(p)):\n",
    "            if i < k:\n",
    "                weights.append(i+1)\n",
    "                added += p[i]\n",
    "                values.append(added)\n",
    "\n",
    "    dp = [[0] * (k+1) for _ in range(len(weights))]\n",
    "\n",
    "    for i in range(1, len(weights)):\n",
    "        for w in range(1, k+1):\n",
    "            if weights[i] <= w:\n",
    "                dp[i][w] = max(dp[i-1][w], dp[i-weights[i]][w-weights[i]] + values[i])\n",
    "            else:\n",
    "                dp[i][w] = dp[i-1][w]\n",
    "\n",
    "    # ####\n",
    "    # print(weights, values)\n",
    "    # for r in dp:\n",
    "    #     print(*r, sep=\"\\t\")\n",
    "    # ####\n",
    "\n",
    "    return dp[len(weights)-1][k]\n",
    "\n",
    "\n",
    "print(maxValueOfCoins(piles = [[1,100,3],[7,8,9]], k = 2)) # 101\n",
    "print(maxValueOfCoins(piles = [[100],[100],[100],[100],[100],[100],[1,1,1,1,1,1,700]], k = 7)) # 706\n",
    "print(maxValueOfCoins(piles = [[100,100,100],[50]], k = 4)) # 350\n",
    "print(maxValueOfCoins(piles = [[37,88],[51,64,65,20,95,30,26],[9,62,20],[44]], k = 9)) # 494"
   ]
  },
  {
   "attachments": {},
   "cell_type": "markdown",
   "metadata": {},
   "source": [
    "**2336. Smallest Number in Infinite Set**\n",
    "\n",
    "You have a set which contains all positive integers [1, 2, 3, 4, 5, ...].\n",
    "\n",
    "Implement the SmallestInfiniteSet class:\n",
    "\n",
    "* `SmallestInfiniteSet()` Initializes the SmallestInfiniteSet object to contain all positive integers.\n",
    "* `int popSmallest()` Removes and returns the smallest integer contained in the infinite set.\n",
    "* `void addBack(int num)` Adds a positive integer num back into the infinite set, if it is not already in the infinite set.\n",
    " \n",
    "https://leetcode.com/problems/smallest-number-in-infinite-set/"
   ]
  },
  {
   "cell_type": "code",
   "execution_count": 9,
   "metadata": {},
   "outputs": [
    {
     "name": "stdout",
     "output_type": "stream",
     "text": [
      "1\n",
      "None\n",
      "1\n",
      "2\n",
      "3\n",
      "None\n",
      "None\n",
      "2\n",
      "3\n"
     ]
    }
   ],
   "source": [
    "class SmallestInfiniteSet:\n",
    "\n",
    "    def __init__(self):\n",
    "        self.smallest = 1\n",
    "        self.not_continuous = set()\n",
    "        self.bool_arr = [False]\n",
    "\n",
    "    def popSmallest(self) -> int:\n",
    "        if not self.not_continuous:\n",
    "            n = self.smallest\n",
    "            self.smallest += 1\n",
    "            self.bool_arr.append(False)\n",
    "            return n\n",
    "        else:\n",
    "            if len(self.not_continuous) < self.smallest / 3:\n",
    "                n = min(self.not_continuous)\n",
    "            else:\n",
    "                for i in range(len(self.bool_arr)):\n",
    "                    if self.bool_arr[i]:\n",
    "                        n = i\n",
    "                        break\n",
    "            self.not_continuous.remove(n)\n",
    "            self.bool_arr[n] = False\n",
    "            return n\n",
    "\n",
    "    def addBack(self, num: int) -> None:\n",
    "        if num >= self.smallest or num in self.not_continuous:\n",
    "            return\n",
    "        self.not_continuous.add(num)\n",
    "        self.bool_arr[num] = True\n",
    "        while self.bool_arr[-1]:\n",
    "            n = len(self.bool_arr)-1\n",
    "            self.bool_arr.pop()\n",
    "            self.not_continuous.remove(n)\n",
    "            self.smallest -= 1\n",
    "\n",
    "obj = SmallestInfiniteSet()\n",
    "print(obj.popSmallest()) # 1\n",
    "print(obj.addBack(1)) # None\n",
    "print(obj.popSmallest()) # 1\n",
    "print(obj.popSmallest()) # 2\n",
    "print(obj.popSmallest()) # 3\n",
    "print(obj.addBack(2)) # None\n",
    "print(obj.addBack(3)) # None\n",
    "print(obj.popSmallest()) # 2\n",
    "print(obj.popSmallest()) # 3\n"
   ]
  },
  {
   "attachments": {},
   "cell_type": "markdown",
   "metadata": {},
   "source": [
    "**2390. Removing Stars From a String**\n",
    "\n",
    "You are given a string s, which contains stars *.\n",
    "\n",
    "In one operation, you can:\n",
    "\n",
    "Choose a star in s.\n",
    "Remove the closest non-star character to its left, as well as remove the star itself.\n",
    "Return the string after all stars have been removed.\n",
    "\n",
    "Note:\n",
    "\n",
    "The input will be generated such that the operation is always possible.\n",
    "It can be shown that the resulting string will always be unique.\n",
    "\n",
    "https://leetcode.com/problems/removing-stars-from-a-string/"
   ]
  },
  {
   "cell_type": "code",
   "execution_count": 65,
   "metadata": {},
   "outputs": [
    {
     "name": "stdout",
     "output_type": "stream",
     "text": [
      "lecoe\n"
     ]
    }
   ],
   "source": [
    "def removeStars(s: str) -> str:\n",
    "    stack = []\n",
    "    for c in s:\n",
    "        if c == \"*\":\n",
    "            stack.pop()\n",
    "        else:\n",
    "            stack.append(c)\n",
    "    return \"\".join(stack)\n",
    "\n",
    "print(removeStars(s = \"leet**cod*e\")) # lecoe"
   ]
  }
 ],
 "metadata": {
  "kernelspec": {
   "display_name": "Python 3",
   "language": "python",
   "name": "python3"
  },
  "language_info": {
   "codemirror_mode": {
    "name": "ipython",
    "version": 3
   },
   "file_extension": ".py",
   "mimetype": "text/x-python",
   "name": "python",
   "nbconvert_exporter": "python",
   "pygments_lexer": "ipython3",
   "version": "3.11.1"
  },
  "orig_nbformat": 4
 },
 "nbformat": 4,
 "nbformat_minor": 2
}
