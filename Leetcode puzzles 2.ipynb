{
 "cells": [
  {
   "cell_type": "code",
   "execution_count": 2,
   "metadata": {},
   "outputs": [
    {
     "name": "stdout",
     "output_type": "stream",
     "text": [
      "2 4 3 \n",
      "5 6 4 \n"
     ]
    }
   ],
   "source": [
    "# Definition for singly-linked list.\n",
    "class ListNode:\n",
    "    def __init__(self, val=0, next=None):\n",
    "        self.val = val\n",
    "        self.next = next\n",
    "\n",
    "def make_linked_list(nums):\n",
    "    linked_list = ListNode(val=nums[0])\n",
    "    node = linked_list\n",
    "    for n in nums[1:]:\n",
    "        node.next = ListNode(val=n)\n",
    "        node = node.next\n",
    "    return linked_list\n",
    "\n",
    "def print_linked_list(node):\n",
    "    while node:\n",
    "        print(node.val, end=\" \")\n",
    "        node = node.next\n",
    "    print()\n",
    "\n",
    "print_linked_list(make_linked_list([2,4,3]))\n",
    "print_linked_list(make_linked_list([5,6,4]))"
   ]
  },
  {
   "cell_type": "code",
   "execution_count": 19,
   "metadata": {},
   "outputs": [
    {
     "name": "stdout",
     "output_type": "stream",
     "text": [
      "2 1 4 \n",
      "1 None 8 "
     ]
    }
   ],
   "source": [
    "# Definition for a binary tree node.\n",
    "class TreeNode:\n",
    "    def __init__(self, val=0, left=None, right=None):\n",
    "        self.val = val\n",
    "        self.left = left\n",
    "        self.right = right\n",
    "\n",
    "from collections import deque\n",
    "\n",
    "def make_binary_tree(nums):\n",
    "    tree = TreeNode(val=nums[0])\n",
    "    i = 1\n",
    "    q = deque([tree])\n",
    "    while i < len(nums):\n",
    "        node = q.popleft()\n",
    "        node.left = TreeNode(val=nums[i])\n",
    "        q.append(node.left)\n",
    "        if i + 1 < len(nums):\n",
    "            node.right = TreeNode(val=nums[i+1])\n",
    "            q.append(node.right)\n",
    "        i += 2\n",
    "    return tree\n",
    "\n",
    "\n",
    "def print_binary_tree(root):\n",
    "    if root:\n",
    "        print(root.val, end=\" \")\n",
    "        print_binary_tree(root.left)\n",
    "        print_binary_tree(root.right)\n",
    "\n",
    "print_binary_tree(make_binary_tree([2,1,4]))\n",
    "print()\n",
    "print_binary_tree(make_binary_tree([1,None,8]))"
   ]
  },
  {
   "cell_type": "markdown",
   "metadata": {},
   "source": [
    "**1. Two Sum**\n",
    "\n",
    "Given an array of integers nums and an integer target, return indices of the two numbers such that they add up to target.\n",
    "\n",
    "You may assume that each input would have exactly one solution, and you may not use the same element twice.\n",
    "\n",
    "You can return the answer in any order."
   ]
  },
  {
   "cell_type": "code",
   "execution_count": 83,
   "metadata": {},
   "outputs": [
    {
     "data": {
      "text/plain": [
       "[1, 0]"
      ]
     },
     "execution_count": 83,
     "metadata": {},
     "output_type": "execute_result"
    }
   ],
   "source": [
    "def twoSum(nums, target):\n",
    "    visited = {}\n",
    "    for i in range(len(nums)):\n",
    "        if target - nums[i] in visited:\n",
    "            return [i, visited[target - nums[i]]]\n",
    "        visited[nums[i]] = i\n",
    "\n",
    "twoSum([2,7,11,15], 9)"
   ]
  },
  {
   "cell_type": "markdown",
   "metadata": {},
   "source": [
    "**2. Add Two Numbers**\n",
    "\n",
    "You are given two non-empty linked lists representing two non-negative integers. The digits are stored in reverse order, and each of their nodes contains a single digit. Add the two numbers and return the sum as a linked list.\n",
    "\n",
    "You may assume the two numbers do not contain any leading zero, except the number 0 itself."
   ]
  },
  {
   "cell_type": "code",
   "execution_count": 2,
   "metadata": {},
   "outputs": [
    {
     "name": "stdout",
     "output_type": "stream",
     "text": [
      "8 1 \n"
     ]
    }
   ],
   "source": [
    "# a bit slow, try again later\n",
    "def addTwoNumbers(l1: ListNode, l2: ListNode) -> ListNode:\n",
    "    add = 0\n",
    "    last = None\n",
    "    n1, n2 = l1, l2\n",
    "    while n1:\n",
    "        num = n1.val + n2.val + add\n",
    "        n1.val = num % 10 \n",
    "        add = num // 10\n",
    "        # create 0 nodes if one number is shorter\n",
    "        if n2.next and not n1.next:\n",
    "            n1.next = ListNode()\n",
    "        elif n1.next and not n2.next:\n",
    "            n2.next = ListNode()\n",
    "        last = n1\n",
    "        n1, n2 = n1.next, n2.next\n",
    "    if add:\n",
    "        last.next = ListNode(val=1)\n",
    "    return l1\n",
    "\n",
    "l1 = make_linked_list([9]) \n",
    "l2 = make_linked_list([9])\n",
    "\n",
    "print_linked_list(addTwoNumbers(l1, l2))"
   ]
  },
  {
   "cell_type": "markdown",
   "metadata": {},
   "source": [
    "**5. Longest Palindromic Substring**\n",
    "\n",
    "Given a string s, return the longest palindromic substring in s."
   ]
  },
  {
   "cell_type": "code",
   "execution_count": 48,
   "metadata": {},
   "outputs": [
    {
     "data": {
      "text/plain": [
       "'sooos'"
      ]
     },
     "execution_count": 48,
     "metadata": {},
     "output_type": "execute_result"
    }
   ],
   "source": [
    "# faster than 96.68%, memory less than 91.35%\n",
    "def longestPalindrome(s: str) -> str:\n",
    "\n",
    "    if len(set(s)) == 1:\n",
    "        return s\n",
    "    \n",
    "    longest = s[0]\n",
    "\n",
    "    for i in range(1, len(s)):\n",
    "        if len(longest) >= (len(s)-i+1)*2:\n",
    "            return longest\n",
    "        for l in [i-1, i]:\n",
    "            r = i\n",
    "            while l >= 0 and r < len(s) and s[l] == s[r]:\n",
    "                if r+1-l > len(longest):\n",
    "                    longest = s[l:r+1]\n",
    "                l -= 1\n",
    "                r += 1\n",
    "\n",
    "    return longest\n",
    "            \n",
    "longestPalindrome(\"azwdzwmwcqzgcobeeiphemqbjtxzwkhiqpbrprocbppbxrnsxnwgikiaqutwpftbiinlnpyqstkiqzbggcsdzzjbrkfmhgtnbujzszxsycmvipjtktpebaafycngqasbbhxaeawwmkjcziybxowkaibqnndcjbsoehtamhspnidjylyisiaewmypfyiqtwlmejkpzlieolfdjnxntonnzfgcqlcfpoxcwqctalwrgwhvqvtrpwemxhirpgizjffqgntsmvzldpjfijdncexbwtxnmbnoykxshkqbounzrewkpqjxocvaufnhunsmsazgibxedtopnccriwcfzeomsrrangufkjfzipkmwfbmkarnyyrgdsooosgqlkzvorrrsaveuoxjeajvbdpgxlcrtqomliphnlehgrzgwujogxteyulphhuhwyoyvcxqatfkboahfqhjgujcaapoyqtsdqfwnijlkknuralezqmcryvkankszmzpgqutojoyzsnyfwsyeqqzrlhzbc\")\n"
   ]
  },
  {
   "attachments": {},
   "cell_type": "markdown",
   "metadata": {},
   "source": [
    "**6. Zigzag Conversion**\n",
    "\n",
    "The string \"PAYPALISHIRING\" is written in a zigzag pattern on a given number of rows like this: (you may want to display this pattern in a fixed font for better legibility)\n",
    "\n",
    "`P...A...H...N`<br>\n",
    "`A.P.L.S.I.I.G`<br>\n",
    "`Y...I...R`<br>\n",
    "\n",
    "And then read line by line: \"PAHNAPLSIIGYIR\"\n",
    "\n",
    "Write the code that will take a string and make this conversion given a number of rows:\n",
    "\n",
    "string convert(string s, int numRows);"
   ]
  },
  {
   "cell_type": "code",
   "execution_count": 35,
   "metadata": {},
   "outputs": [
    {
     "name": "stdout",
     "output_type": "stream",
     "text": [
      "PAHNAPLSIIGYIR\n",
      "PINALSIGYAHRPI\n",
      "PAYPALISHIRING\n"
     ]
    }
   ],
   "source": [
    "def convert(s: str, numRows: int) -> str:\n",
    "    if numRows == 1:\n",
    "        return s\n",
    "    strs = [\"\"] * numRows\n",
    "    counter = 0\n",
    "    ascending = True\n",
    "    for l in s:\n",
    "        strs[counter] += l\n",
    "        if counter == numRows - 1 and ascending:\n",
    "            ascending = False\n",
    "        elif counter == 0 and not ascending:\n",
    "            ascending = True\n",
    "        if ascending:\n",
    "            counter += 1\n",
    "        else:\n",
    "            counter -= 1\n",
    "\n",
    "    return \"\".join(strs)\n",
    "\n",
    "print(convert(\"PAYPALISHIRING\", 3)) # PAHNAPLSIIGYIR\n",
    "print(convert(\"PAYPALISHIRING\", 4)) # PINALSIGYAHRPI\n",
    "print(convert(\"PAYPALISHIRING\", 1)) # PAYPALISHIRING"
   ]
  },
  {
   "attachments": {},
   "cell_type": "markdown",
   "metadata": {},
   "source": [
    "**11. Container With Most Water**\n",
    "\n",
    "You are given an integer array height of length n. There are n vertical lines drawn such that the two endpoints of the ith line are (i, 0) and (i, height[i]).\n",
    "\n",
    "Find two lines that together with the x-axis form a container, such that the container contains the most water.\n",
    "\n",
    "Return the maximum amount of water a container can store."
   ]
  },
  {
   "cell_type": "code",
   "execution_count": 6,
   "metadata": {},
   "outputs": [
    {
     "name": "stdout",
     "output_type": "stream",
     "text": [
      "49\n",
      "1\n"
     ]
    }
   ],
   "source": [
    "def maxArea(height):\n",
    "    l = 0\n",
    "    r = len(height) - 1\n",
    "    currentMax = 0\n",
    "    while l < r:\n",
    "        area = (r-l) * min(height[l], height[r])\n",
    "        currentMax = max(currentMax, area)\n",
    "        if height[l] < height[r]:\n",
    "            l += 1\n",
    "        else:\n",
    "            r -= 1\n",
    "    return currentMax\n",
    "\n",
    "print(maxArea([1,8,6,2,5,4,8,3,7])) # 49\n",
    "print(maxArea([1,1])) # 1"
   ]
  },
  {
   "attachments": {},
   "cell_type": "markdown",
   "metadata": {},
   "source": [
    "**12. Integer to Roman**\n",
    "\n",
    "Given an integer, convert it to a roman numeral.\n",
    "\n"
   ]
  },
  {
   "cell_type": "code",
   "execution_count": 9,
   "metadata": {},
   "outputs": [
    {
     "name": "stdout",
     "output_type": "stream",
     "text": [
      "LVIII\n",
      "III\n",
      "CIX\n",
      "IV\n"
     ]
    }
   ],
   "source": [
    "def intToRoman(num: int) -> str:\n",
    "    dic = {\n",
    "        1: \"I\",\n",
    "        5: \"V\",\n",
    "        10: \"X\",\n",
    "        50: \"L\",\n",
    "        100: \"C\",\n",
    "        500: \"D\",\n",
    "        1000: \"M\"\n",
    "    }\n",
    "    out = []\n",
    "    level = 1\n",
    "\n",
    "    while num > 0:\n",
    "        r = num % 10\n",
    "        five = r >= 5\n",
    "        r %= 5\n",
    "        if five:\n",
    "            if not r:\n",
    "                out.append(dic[level * 5])\n",
    "            elif r < 4:\n",
    "                out.append(dic[level * 5] + r * dic[level])\n",
    "            else:\n",
    "                out.append(dic[level] + dic[level * 10])\n",
    "        else:\n",
    "            if r < 4:\n",
    "                out.append(r * dic[level])\n",
    "            else:\n",
    "                out.append(dic[level] + dic[level * 5])\n",
    "\n",
    "        num //= 10\n",
    "        level *= 10\n",
    "\n",
    "    return \"\".join(out[::-1])\n",
    "\n",
    "# another solution\n",
    "def intToRoman(num: int) -> str:\n",
    "    d = {1000: 'M', 900: 'CM', 500: 'D', 400: 'CD', 100: 'C', 90: 'XC', 50: 'L', 40: 'XL', 10: 'X', 9: 'IX', 5: 'V', 4: 'IV', 1: 'I'} \n",
    "    \n",
    "    res = \"\"\n",
    "    \n",
    "    # floor-dividing the number by the numbers in d, in decreasing order\n",
    "    for i in d:\n",
    "        res += (num//i) * d[i]\n",
    "        num %= i\n",
    "    \n",
    "    return res\n",
    "\n",
    "\n",
    "print(intToRoman(58))\n",
    "print(intToRoman(3))\n",
    "print(intToRoman(109))\n",
    "print(intToRoman(4))"
   ]
  },
  {
   "cell_type": "markdown",
   "metadata": {},
   "source": [
    "**15. 3Sum**\n",
    "\n",
    "Given an integer array nums, return all the triplets [nums[i], nums[j], nums[k]] such that i != j, i != k, and j != k, and nums[i] + nums[j] + nums[k] == 0.\n",
    "\n",
    "Notice that the solution set must not contain duplicate triplets."
   ]
  },
  {
   "cell_type": "code",
   "execution_count": 82,
   "metadata": {},
   "outputs": [
    {
     "data": {
      "text/plain": [
       "[[-2, 1, 1]]"
      ]
     },
     "execution_count": 82,
     "metadata": {},
     "output_type": "execute_result"
    }
   ],
   "source": [
    "# slow, but accepted. No initial sorting.\n",
    "def threeSum(nums):\n",
    "    out = set()\n",
    "    visited1 = set()\n",
    "    for p1 in range(len(nums)-2):\n",
    "        if nums[p1] in visited1:\n",
    "            continue\n",
    "        visited2 = set()\n",
    "        target = 0-nums[p1]\n",
    "        for p2 in range(p1+1, len(nums)):\n",
    "            if target - nums[p2] in visited2:\n",
    "                out.add(tuple(sorted([nums[p1], nums[p2], target - nums[p2]])))\n",
    "            visited2.add(nums[p2])\n",
    "\n",
    "    return [list(x) for x in out]\n",
    "\n",
    "# faster, sort the list first.\n",
    "def threeSum(nums):\n",
    "\n",
    "    length = len(nums)\n",
    "    out = []\n",
    "    nums.sort()\n",
    "\n",
    "    if nums[1] == nums[-1] == 0:\n",
    "        return [[0,0,0]]\n",
    "\n",
    "    for i in range(length-2):\n",
    "\n",
    "        if nums[i] == nums[i-1]:\n",
    "            continue\n",
    "        \n",
    "        target = 0-nums[i]\n",
    "        left = i+1\n",
    "        right = length-1\n",
    "\n",
    "        while left < right:\n",
    "            if nums[left] + nums[right] == target:\n",
    "                out.append([nums[i], nums[left], nums[right]])\n",
    "                left += 1\n",
    "                while nums[left] == nums[left-1] and left < right:\n",
    "                    left += 1\n",
    "                right -= 1\n",
    "            elif nums[left] + nums[right] < target:\n",
    "                left += 1\n",
    "            elif nums[left] + nums[right] > target:\n",
    "                right -= 1\n",
    "\n",
    "    return out\n",
    "    \n",
    "threeSum([1,1,-2])"
   ]
  },
  {
   "attachments": {},
   "cell_type": "markdown",
   "metadata": {},
   "source": [
    "**16. 3Sum Closest**\n",
    "\n",
    "Given an integer array nums of length n and an integer target, find three integers in nums such that the sum is closest to target.\n",
    "\n",
    "Return the sum of the three integers.\n",
    "\n",
    "You may assume that each input would have exactly one solution.\n",
    "\n",
    " "
   ]
  },
  {
   "cell_type": "code",
   "execution_count": 10,
   "metadata": {},
   "outputs": [],
   "source": [
    "# accepted but a bit slow\n",
    "def threeSumClosest(nums, target) -> int:\n",
    "    nums.sort()\n",
    "    n = len(nums)\n",
    "    closest = [float(\"inf\"), 0]\n",
    "    for x in range(n-2):\n",
    "        l = x+1\n",
    "        r = n-1\n",
    "        while l < r:\n",
    "            current_total = sum([nums[x], nums[l], nums[r]])\n",
    "            closest = min(closest, [abs(target - current_total), current_total])\n",
    "            if current_total > target:\n",
    "                r -= 1\n",
    "            elif current_total < target:\n",
    "                l += 1\n",
    "            else:\n",
    "                return target\n",
    "    return closest[1]\n",
    "\n",
    "assert threeSumClosest([-1,2,1,-4], 1) == 2\n",
    "assert threeSumClosest([0,0,0], 1) == 0"
   ]
  },
  {
   "attachments": {},
   "cell_type": "markdown",
   "metadata": {},
   "source": [
    "**17. Letter Combinations of a Phone Number**\n",
    "\n",
    "Given a string containing digits from 2-9 inclusive, return all possible letter combinations that the number could represent. Return the answer in any order.\n",
    "\n",
    "A mapping of digits to letters (just like on the telephone buttons) is given below. Note that 1 does not map to any letters."
   ]
  },
  {
   "cell_type": "code",
   "execution_count": 12,
   "metadata": {},
   "outputs": [
    {
     "name": "stdout",
     "output_type": "stream",
     "text": [
      "['ad', 'ae', 'af', 'bd', 'be', 'bf', 'cd', 'ce', 'cf']\n",
      "[]\n",
      "['a', 'b', 'c']\n"
     ]
    }
   ],
   "source": [
    "from collections import deque\n",
    "\n",
    "# bfs\n",
    "def letterCombinations(digits: str):\n",
    "    if not digits:\n",
    "        return []\n",
    "    letters = [None, None, \"abc\", \"def\", \"ghi\", \"jkl\", \"mno\", \"pqrs\", \"tuv\", \"wxyz\"]\n",
    "    digits = [int(x) for x in digits]\n",
    "    solution = []\n",
    "\n",
    "    q = deque([(0, \"\")])\n",
    "\n",
    "    while q:\n",
    "        i, s = q.pop()\n",
    "        n = digits[i]\n",
    "        for l in letters[n]:\n",
    "            ss = s[:]\n",
    "            ss += l\n",
    "            if len(ss) == len(digits):\n",
    "                solution.append(ss)\n",
    "            else:\n",
    "                q.appendleft((i+1, ss))\n",
    "        \n",
    "    return solution\n",
    "\n",
    "# recursive\n",
    "def letterCombinations(digits: str):\n",
    "    if not digits:\n",
    "        return []\n",
    "    letters = [None, None, \"abc\", \"def\", \"ghi\", \"jkl\", \"mno\", \"pqrs\", \"tuv\", \"wxyz\"]\n",
    "    digits = [int(x) for x in digits]\n",
    "    solution = []\n",
    "\n",
    "    def recursive(s, i):\n",
    "        if len(s) == len(digits):\n",
    "            solution.append(s)\n",
    "            return\n",
    "        n = digits[i]\n",
    "        for l in letters[n]:\n",
    "            ss = s+l\n",
    "            recursive(ss, i+1)\n",
    "\n",
    "    recursive(\"\", 0)\n",
    "\n",
    "    return solution\n",
    "\n",
    "print(letterCombinations(\"23\")) # [\"ad\",\"ae\",\"af\",\"bd\",\"be\",\"bf\",\"cd\",\"ce\",\"cf\"]\n",
    "print(letterCombinations(\"\")) # []\n",
    "print(letterCombinations(\"2\")) # [\"a\",\"b\",\"c\"]"
   ]
  },
  {
   "attachments": {},
   "cell_type": "markdown",
   "metadata": {},
   "source": [
    "**18. 4Sum**\n",
    "\n",
    "Given an array nums of n integers, return an array of all the unique quadruplets [nums[a], nums[b], nums[c], nums[d]] such that:\n",
    "\n",
    "* 0 <= a, b, c, d < n\n",
    "* a, b, c, and d are distinct.\n",
    "* nums[a] + nums[b] + nums[c] + nums[d] == target\n",
    "\n",
    "You may return the answer in any order."
   ]
  },
  {
   "cell_type": "code",
   "execution_count": 28,
   "metadata": {},
   "outputs": [
    {
     "name": "stdout",
     "output_type": "stream",
     "text": [
      "[[-2, -1, 1, 2], [-2, 0, 0, 2], [-1, 0, 0, 1]]\n",
      "[[2, 2, 2, 2]]\n",
      "[[-3, -2, 2, 3], [-3, -1, 1, 3], [-3, 0, 0, 3], [-3, 0, 1, 2], [-2, -1, 0, 3], [-2, -1, 1, 2], [-2, 0, 0, 2], [-1, 0, 0, 1]]\n"
     ]
    }
   ],
   "source": [
    "# slowish - O(n^3)\n",
    "def fourSum(nums: list[int], target: int) -> list[list[int]]:\n",
    "    # less than 4 elements in the array\n",
    "    if len(nums) < 4:\n",
    "        return []\n",
    "    nums.sort()\n",
    "    # target is positive and all elements are negative, or vice versa\n",
    "    if (target > 0 and nums[-1] < 0) or (target < 0 and nums[0] > 0):\n",
    "        return []\n",
    "    # all zeros\n",
    "    if nums[0] == nums[-1] == target == 0:\n",
    "        return[[0,0,0,0]]\n",
    "    solution = set()\n",
    "    for i in range(len(nums)-3):\n",
    "        for ii in range(i+1, len(nums)-2):\n",
    "            current_target = target - (nums[i] + nums[ii])\n",
    "            iii = ii + 1\n",
    "            iv = len(nums) - 1\n",
    "            while iii < iv:\n",
    "                s = nums[iii] + nums[iv]\n",
    "                if s == current_target:\n",
    "                    solution.add((nums[i], nums[ii], nums[iii], nums[iv]))\n",
    "                    iii += 1\n",
    "                    iv -= 1\n",
    "                elif s < current_target:\n",
    "                    iii += 1\n",
    "                else:\n",
    "                    iv -= 1\n",
    "    return solution\n",
    "\n",
    "# faster than 99.9%\n",
    "def fourSum(nums: list[int], target: int) -> list[list[int]]:\n",
    "    # less than 4 elements in the array\n",
    "    if len(nums) < 4:\n",
    "        return []\n",
    "    nums.sort()\n",
    "    # target is positive and all elements are negative, or vice versa\n",
    "    if (target > 0 and nums[-1] < 0) or (target < 0 and nums[0] > 0):\n",
    "        return []\n",
    "    # all zeros\n",
    "    if nums[0] == nums[-1] == target == 0:\n",
    "        return[[0,0,0,0]]\n",
    "    solution = []\n",
    "    i = 0\n",
    "    while i < len(nums) - 3:\n",
    "        target_i = target - nums[i]\n",
    "        # if 3 of the smallest remaining values are bigger than the target\n",
    "        # or 3 of the biggest remaining values are smaller than the target\n",
    "        # the target can't be reached, and thus i is incremented\n",
    "        if (target_i < 3 * nums[i+1]) or (target_i > 3 * nums[-1]):\n",
    "            # if the value at i+1 is the same as the value at i\n",
    "            # we increment i further\n",
    "            while (i < len(nums) - 4) and (nums[i] == nums[i+1]):\n",
    "                i += 1\n",
    "            i += 1\n",
    "            continue\n",
    "        ii = i+1\n",
    "        while ii < len(nums) - 2:\n",
    "            target_ii = target_i - nums[ii]\n",
    "            # if 2 of the smallest remaining values are bigger than the target\n",
    "            # or 2 of the biggest remaining values are smaller than the target\n",
    "            # the target can't be reached, and thus ii is incremented\n",
    "            if (target_ii < 2 * nums[ii+1]) or (target_ii > 2 * nums[-1]):\n",
    "                # if the value at ii+1 is the same as the value at ii\n",
    "                # we increment ii further\n",
    "                while (ii < len(nums) - 3) and (nums[ii] == nums[ii+1]):\n",
    "                        ii += 1\n",
    "                ii += 1\n",
    "                continue\n",
    "            # two pointers, starting from leftmost possible and rightmost indices respectively\n",
    "            iii = ii + 1\n",
    "            iv = len(nums) - 1\n",
    "            while iii < iv:\n",
    "                s = nums[iii] + nums[iv]\n",
    "                # four elements found\n",
    "                if s == target_ii:\n",
    "                    solution.append([nums[i], nums[ii], nums[iii], nums[iv]])\n",
    "                    temp_iii = nums[iii]\n",
    "                    temp_iv = nums[iv]\n",
    "                    # if the value at iii+1 is the same as the value at iii\n",
    "                    # we increment iii further\n",
    "                    while (iii < iv) and (nums[iii] == temp_iii):\n",
    "                        iii += 1\n",
    "                    # if the value at iv-1 is the same as the value at iv\n",
    "                    # we decrease iv further\n",
    "                    while (iii < iv) and (nums[iv] == temp_iv):\n",
    "                        iv -= 1\n",
    "                # the sum is too small, increase the left pointer\n",
    "                elif s < target_ii:\n",
    "                    iii += 1\n",
    "                # the sum is too big, decrease the right pointer\n",
    "                else:\n",
    "                    iv -= 1\n",
    "            # if the value at ii+1 is the same as the value at ii\n",
    "            # we increment ii further\n",
    "            while (ii < len(nums) - 3) and (nums[ii] == nums[ii+1]):\n",
    "                    ii += 1\n",
    "            ii += 1\n",
    "        # if the value at i+1 is the same as the value at i\n",
    "        # we increment i further\n",
    "        while (i < len(nums) - 4) and (nums[i] == nums[i+1]):\n",
    "            i += 1\n",
    "        i += 1\n",
    "    return solution\n",
    "\n",
    "\n",
    "print(fourSum(nums = [1,0,-1,0,-2,2], target = 0)) \n",
    "print(fourSum(nums = [2,2,2,2,2], target = 8)) \n",
    "print(fourSum(nums = [-3,-2,-1,0,0,1,2,3], target = 0)) "
   ]
  },
  {
   "attachments": {},
   "cell_type": "markdown",
   "metadata": {},
   "source": [
    "**22. Generate Parentheses**\n",
    "\n",
    "Given n pairs of parentheses, write a function to generate all combinations of well-formed parentheses.\n",
    "\n"
   ]
  },
  {
   "cell_type": "code",
   "execution_count": 2,
   "metadata": {},
   "outputs": [
    {
     "name": "stdout",
     "output_type": "stream",
     "text": [
      "['()()()', '()(())', '(())()', '(()())', '((()))']\n",
      "['()']\n"
     ]
    }
   ],
   "source": [
    "def generateParenthesis(n: int):\n",
    "    solution = []\n",
    "\n",
    "    def recursive(l, r, s):\n",
    "        if len(s) == n * 2:\n",
    "            solution.append(s)\n",
    "            return\n",
    "        if r > l:\n",
    "            ss = s[:]\n",
    "            ss += \")\"\n",
    "            recursive(l, r-1, ss)\n",
    "        if l > 0:\n",
    "            ss = s[:]\n",
    "            ss += \"(\"\n",
    "            recursive(l-1, r, ss)\n",
    "\n",
    "    recursive(n, n, \"\")\n",
    "\n",
    "    return solution\n",
    "\n",
    "\n",
    "\n",
    "print(generateParenthesis(3)) # [\"((()))\",\"(()())\",\"(())()\",\"()(())\",\"()()()\"]\n",
    "print(generateParenthesis(1)) # [\"()\"]"
   ]
  },
  {
   "attachments": {},
   "cell_type": "markdown",
   "metadata": {},
   "source": [
    "**24. Swap Nodes in Pairs**\n",
    "\n",
    "Given a linked list, swap every two adjacent nodes and return its head. You must solve the problem without modifying the values in the list's nodes (i.e., only nodes themselves may be changed.)"
   ]
  },
  {
   "cell_type": "code",
   "execution_count": 24,
   "metadata": {},
   "outputs": [
    {
     "name": "stdout",
     "output_type": "stream",
     "text": [
      "2 1 4 3 \n"
     ]
    }
   ],
   "source": [
    "# via neetcode\n",
    "def swapPairs(head: [ListNode]) -> [ListNode]:\n",
    "    dummy = ListNode(0, head)\n",
    "\n",
    "    prev, curr = dummy, head\n",
    "\n",
    "    while curr and curr.next:\n",
    "        next_node = curr.next.next\n",
    "        second = curr.next\n",
    "\n",
    "        curr.next = next_node\n",
    "        second.next = curr\n",
    "        prev.next = second\n",
    "\n",
    "        prev = curr\n",
    "        curr = next_node\n",
    "\n",
    "    return dummy.next\n",
    "\n",
    "# recursive\n",
    "def swapPairs(head: [ListNode]) -> [ListNode]:\n",
    "    if not (head and head.next):\n",
    "        return head\n",
    "    head.next.next, head.next, head = head, swapPairs(head.next.next), head.next\n",
    "    return head\n",
    "\n",
    "print_linked_list(swapPairs(make_linked_list([1,2,3,4])))\n",
    "# print_linked_list(swapPairs(make_linked_list([])))\n",
    "# print_linked_list(swapPairs(make_linked_list([1])))"
   ]
  },
  {
   "attachments": {},
   "cell_type": "markdown",
   "metadata": {},
   "source": [
    "**29. Divide Two Integers**\n",
    "\n",
    "Given two integers dividend and divisor, divide two integers without using multiplication, division, and mod operator.\n",
    "\n",
    "The integer division should truncate toward zero, which means losing its fractional part. For example, 8.345 would be truncated to 8, and -2.7335 would be truncated to -2.\n",
    "\n",
    "Return the quotient after dividing dividend by divisor.\n",
    "\n",
    "Note: Assume we are dealing with an environment that could only store integers within the 32-bit signed integer range: [−2^31, 2^31 − 1]. For this problem, if the quotient is strictly greater than 2^31 - 1, then return 2^31 - 1, and if the quotient is strictly less than -2^31, then return -2^31."
   ]
  },
  {
   "cell_type": "code",
   "execution_count": 12,
   "metadata": {},
   "outputs": [
    {
     "name": "stdout",
     "output_type": "stream",
     "text": [
      "3\n",
      "-2\n"
     ]
    }
   ],
   "source": [
    "# my solution - O(log n)\n",
    "def divide(dividend: int, divisor: int) -> int:\n",
    "    negative = (dividend < 0) != (divisor < 0)\n",
    "    dividend, divisor = abs(dividend), abs(divisor)\n",
    "    if dividend == 0:\n",
    "        return 0\n",
    "    dp = [(1, divisor)]\n",
    "    while dp[-1][1] < dividend:\n",
    "        dp.append((dp[-1][0] + dp[-1][0], dp[-1][1] + dp[-1][1]))\n",
    "    add, ans = 0, 0\n",
    "    for i in range(len(dp)-1, -1, -1):\n",
    "        if (a := add + dp[i][1]) <= dividend:\n",
    "            add = a\n",
    "            ans += dp[i][0]\n",
    "    if negative:\n",
    "        return max(-2147483648, -ans)\n",
    "    return min(2147483647, ans)\n",
    "\n",
    "print(divide(dividend = 10, divisor = 3)) # 3\n",
    "print(divide(dividend = 7, divisor = -3)) # -2"
   ]
  },
  {
   "attachments": {},
   "cell_type": "markdown",
   "metadata": {},
   "source": [
    "**31. Next Permutation**\n",
    "\n",
    "A permutation of an array of integers is an arrangement of its members into a sequence or linear order.\n",
    "\n",
    "For example, for arr = [1,2,3], the following are all the permutations of arr: [1,2,3], [1,3,2], [2, 1, 3], [2, 3, 1], [3,1,2], [3,2,1].\n",
    "The next permutation of an array of integers is the next lexicographically greater permutation of its integer. More formally, if all the permutations of the array are sorted in one container according to their lexicographical order, then the next permutation of that array is the permutation that follows it in the sorted container. If such arrangement is not possible, the array must be rearranged as the lowest possible order (i.e., sorted in ascending order).\n",
    "\n",
    "For example, the next permutation of arr = [1,2,3] is [1,3,2].\n",
    "Similarly, the next permutation of arr = [2,3,1] is [3,1,2].\n",
    "While the next permutation of arr = [3,2,1] is [1,2,3] because [3,2,1] does not have a lexicographical larger rearrangement.\n",
    "Given an array of integers nums, find the next permutation of nums.\n",
    "\n",
    "The replacement must be in place and use only constant extra memory."
   ]
  },
  {
   "cell_type": "code",
   "execution_count": 26,
   "metadata": {},
   "outputs": [
    {
     "name": "stdout",
     "output_type": "stream",
     "text": [
      "[1, 3, 2]\n",
      "[1, 2, 3]\n",
      "[1, 5, 1]\n",
      "[1, 1, 1]\n",
      "[1]\n"
     ]
    }
   ],
   "source": [
    "def nextPermutation(nums: list[int]) -> None:\n",
    "    i = len(nums) - 2\n",
    "    while i > -2 and nums[i] >= nums[i+1]:\n",
    "        i -= 1\n",
    "    if i >= 0:\n",
    "        j = len(nums) - 1\n",
    "        while nums[i] >= nums[j]:\n",
    "            j -= 1\n",
    "        nums[i], nums[j] = nums[j], nums[i]\n",
    "    i += 1\n",
    "    r = len(nums) - 1\n",
    "    while i < r:\n",
    "        nums[i], nums[r] = nums[r], nums[i]\n",
    "        i += 1\n",
    "        r -= 1\n",
    "\n",
    "nums = [[1,2,3], [3,2,1], [1,1,5], [1,1,1], [1]] # [1,3,2]  [1,2,3]  [1,5,1]\n",
    "for n in nums:\n",
    "    nextPermutation(n)\n",
    "    print(n)"
   ]
  },
  {
   "attachments": {},
   "cell_type": "markdown",
   "metadata": {},
   "source": [
    "**33. Search in Rotated Sorted Array**\n",
    "\n",
    "There is an integer array nums sorted in ascending order (with distinct values).\n",
    "\n",
    "Prior to being passed to your function, nums is possibly rotated at an unknown pivot index k (1 <= k < nums.length) such that the resulting array is [nums[k], nums[k+1], ..., nums[n-1], nums[0], nums[1], ..., nums[k-1]] (0-indexed). For example, [0,1,2,4,5,6,7] might be rotated at pivot index 3 and become [4,5,6,7,0,1,2].\n",
    "\n",
    "Given the array nums after the possible rotation and an integer target, return the index of target if it is in nums, or -1 if it is not in nums.\n",
    "\n",
    "You must write an algorithm with O(log n) runtime complexity."
   ]
  },
  {
   "cell_type": "code",
   "execution_count": 48,
   "metadata": {},
   "outputs": [
    {
     "name": "stdout",
     "output_type": "stream",
     "text": [
      "4\n",
      "-1\n",
      "-1\n",
      "0\n",
      "2\n",
      "1\n"
     ]
    }
   ],
   "source": [
    "def search(nums, target) -> int:\n",
    "    l = 0\n",
    "    r = len(nums) - 1\n",
    "    while l <= r:\n",
    "        m = (l+r) // 2\n",
    "        # target found\n",
    "        if target == nums[m]:\n",
    "            return m\n",
    "        # the number at left pointer is less or equal (if pointing at the same index) than the number at middle pointer\n",
    "        if nums[l] <= nums[m]:\n",
    "            if nums[l] <= target < nums[m]:\n",
    "                r = m - 1\n",
    "            else:\n",
    "                l = m + 1\n",
    "        # the number at left pointer is greater than the number at middle pointer\n",
    "        else:\n",
    "            if target >= nums[l] or target < nums[m]:\n",
    "                r = m - 1\n",
    "            else:\n",
    "                l = m + 1\n",
    "    return -1\n",
    "\n",
    "\n",
    "print(search(nums = [4,5,6,7,0,1,2], target = 0)) # 4\n",
    "print(search(nums = [4,5,6,7,0,1,2], target = 3)) # -1\n",
    "print(search(nums = [1], target = 0)) # -1\n",
    "print(search(nums = [5,1,3], target = 5)) # 0\n",
    "print(search(nums = [5,1,3], target = 3)) # 2\n",
    "print(search(nums = [1,3], target = 3)) # 1"
   ]
  },
  {
   "attachments": {},
   "cell_type": "markdown",
   "metadata": {},
   "source": [
    "**34. Find First and Last Position of Element in Sorted Array**\n",
    "\n",
    "Given an array of integers nums sorted in non-decreasing order, find the starting and ending position of a given target value.\n",
    "\n",
    "If target is not found in the array, return [-1, -1].\n",
    "\n",
    "You must write an algorithm with O(log n) runtime complexity."
   ]
  },
  {
   "cell_type": "code",
   "execution_count": 50,
   "metadata": {},
   "outputs": [
    {
     "name": "stdout",
     "output_type": "stream",
     "text": [
      "[3, 4]\n",
      "[-1, -1]\n",
      "[-1, -1]\n"
     ]
    }
   ],
   "source": [
    "def searchRange(nums, target):\n",
    "    if not nums:\n",
    "        return [-1,-1]\n",
    "    l = 0\n",
    "    r = len(nums) - 1\n",
    "    start = -1\n",
    "    while l <= r:\n",
    "        m = (l+r) // 2\n",
    "        if nums[m] == target and (m == 0 or nums[m-1] < target):\n",
    "            start = m\n",
    "            break\n",
    "        elif nums[m] >= target:\n",
    "            r = m-1\n",
    "        else:\n",
    "            l = m+1\n",
    "    if start == -1:\n",
    "        return [-1, -1]\n",
    "    r = len(nums) - 1\n",
    "    l = start \n",
    "    while l <= r:\n",
    "        m = (l+r) // 2\n",
    "        if nums[m] == target and (m == len(nums) - 1 or nums[m+1] > target):\n",
    "            return [start, m]\n",
    "        elif nums[m] <= target:\n",
    "            l = m+1\n",
    "        else:\n",
    "            r = m-1\n",
    "    \n",
    "\n",
    "print(searchRange(nums = [5,7,7,8,8,10], target = 8)) # [3,4]\n",
    "print(searchRange(nums = [5,7,7,8,8,10], target = 6)) # [-1,-1]\n",
    "print(searchRange([], target = 0)) # [-1,-1]"
   ]
  },
  {
   "attachments": {},
   "cell_type": "markdown",
   "metadata": {},
   "source": [
    "**42. Trapping Rain Water**\n",
    "\n",
    "Given n non-negative integers representing an elevation map where the width of each bar is 1, compute how much water it can trap after raining."
   ]
  },
  {
   "cell_type": "code",
   "execution_count": 9,
   "metadata": {},
   "outputs": [
    {
     "name": "stdout",
     "output_type": "stream",
     "text": [
      "6\n",
      "9\n"
     ]
    }
   ],
   "source": [
    "def trap(height) -> int:\n",
    "    highest = [height[0], 0]\n",
    "    stack = []\n",
    "    trapped = 0\n",
    "    for i in range(1, len(height)):\n",
    "        if height[i] > highest[0] and not stack:\n",
    "            highest = [height[i], i]\n",
    "        elif height[i] < height[i-1]:\n",
    "            stack.append([height[i], i])\n",
    "        else:\n",
    "            j = i\n",
    "            while stack and stack[-1][0] < height[i]:\n",
    "                hh, ii = stack.pop()\n",
    "                trapped += (j-ii) * (min(height[i], highest[0]) - hh)\n",
    "                j = ii\n",
    "            if height[i] < highest[0]:\n",
    "                stack.append([height[i], j])\n",
    "            else:\n",
    "                highest = [height[i], i]\n",
    "    return trapped\n",
    "\n",
    "\n",
    "print(trap(height = [0,1,0,2,1,0,1,3,2,1,2,1])) # 6\n",
    "print(trap(height = [4,2,0,3,2,5])) # 9"
   ]
  },
  {
   "attachments": {},
   "cell_type": "markdown",
   "metadata": {},
   "source": [
    "**46. Permutations**\n",
    "\n",
    "Given an array nums of distinct integers, return all the possible permutations. You can return the answer in any order.\n",
    "\n"
   ]
  },
  {
   "cell_type": "code",
   "execution_count": 10,
   "metadata": {},
   "outputs": [
    {
     "name": "stdout",
     "output_type": "stream",
     "text": [
      "[[1, 2, 3], [1, 3, 2], [2, 1, 3], [2, 3, 1], [3, 1, 2], [3, 2, 1]]\n",
      "[[0, 1], [1, 0]]\n",
      "[[1]]\n"
     ]
    }
   ],
   "source": [
    "# recursive\n",
    "def permute(nums):\n",
    "    n = len(nums)\n",
    "    nums = set(nums)\n",
    "    solution = []\n",
    "    def recursive(s, options):\n",
    "        if len(s) == n:\n",
    "            solution.append(s)\n",
    "            return\n",
    "        for o in options:\n",
    "            ss = s[:]\n",
    "            ss.append(o)\n",
    "            options2 = options.copy()\n",
    "            options2.remove(o)\n",
    "            recursive(ss, options2)\n",
    "    \n",
    "    recursive([], nums)\n",
    "\n",
    "    return solution\n",
    "\n",
    "\n",
    "print(permute([1,2,3])) # [[1,2,3],[1,3,2],[2,1,3],[2,3,1],[3,1,2],[3,2,1]]\n",
    "print(permute([0,1])) # [[0,1],[1,0]]\n",
    "print(permute([1])) # [[1]]"
   ]
  },
  {
   "cell_type": "markdown",
   "metadata": {},
   "source": [
    "**49. Group Anagrams**\n",
    "\n",
    "Given an array of strings strs, group the anagrams together. You can return the answer in any order."
   ]
  },
  {
   "cell_type": "code",
   "execution_count": 14,
   "metadata": {},
   "outputs": [
    {
     "name": "stdout",
     "output_type": "stream",
     "text": [
      "[['eat', 'tea', 'ate'], ['tan', 'nat'], ['bat']]\n",
      "[['']]\n",
      "[['a']]\n"
     ]
    }
   ],
   "source": [
    "def groupAnagrams(strs):\n",
    "    dct = {}\n",
    "    for s in strs:\n",
    "        dct.setdefault(tuple(sorted(list(s))), []).append(s)\n",
    "    return list(dct.values())\n",
    "\n",
    "s1 = [\"eat\",\"tea\",\"tan\",\"ate\",\"nat\",\"bat\"]\n",
    "s2 = [\"\"]\n",
    "s3 = [\"a\"]\n",
    "\n",
    "for s in [s1,s2,s3]:\n",
    "    print(groupAnagrams(s))"
   ]
  },
  {
   "attachments": {},
   "cell_type": "markdown",
   "metadata": {},
   "source": [
    "**50. Pow(x, n)**\n",
    "\n",
    "Implement pow(x, n), which calculates x raised to the power n (i.e., xn)."
   ]
  },
  {
   "cell_type": "code",
   "execution_count": 9,
   "metadata": {},
   "outputs": [
    {
     "name": "stdout",
     "output_type": "stream",
     "text": [
      "1024.0\n",
      "9.261000000000001\n",
      "0.25\n"
     ]
    }
   ],
   "source": [
    "# O(log n) - my solution\n",
    "def myPow(x: float, n: int) -> float:\n",
    "    dp = [(1, x)]\n",
    "    ans = [0, 1.0]\n",
    "    while dp[-1][0] < abs(n):\n",
    "        dp.append((dp[-1][0]*2, dp[-1][1]*dp[-1][1]))\n",
    "    for i in range(len(dp)-1, -1, -1):\n",
    "        if (a := ans[0] + dp[i][0]) <= abs(n):\n",
    "            ans[0] = a \n",
    "            ans[1] *= dp[i][1]\n",
    "            if a == abs(n):\n",
    "                return ans[1] if n > 0 else 1/ans[1]\n",
    "            \n",
    "# another O(log n) solution\n",
    "def myPow(x: float, n: int) -> float:\n",
    "    if n < 0:\n",
    "        n = -n\n",
    "        x = 1/x\n",
    "    ans = 1\n",
    "    while n:\n",
    "        if n % 2 == 1:\n",
    "            ans *= x\n",
    "        x *= x\n",
    "        n //= 2\n",
    "    return ans\n",
    "                \n",
    "print(myPow(x = 2.00000, n = 10)) # 1024.00000\n",
    "print(myPow(x = 2.10000, n = 3)) # 9.26100\n",
    "print(myPow(x = 2.00000, n = -2)) # 0.25000"
   ]
  },
  {
   "attachments": {},
   "cell_type": "markdown",
   "metadata": {},
   "source": [
    "**55. Jump Game**\n",
    "\n",
    "You are given an integer array nums. You are initially positioned at the array's first index, and each element in the array represents your maximum jump length at that position.\n",
    "\n",
    "Return true if you can reach the last index, or false otherwise.\n"
   ]
  },
  {
   "cell_type": "code",
   "execution_count": 2,
   "metadata": {},
   "outputs": [
    {
     "name": "stdout",
     "output_type": "stream",
     "text": [
      "True\n",
      "False\n"
     ]
    }
   ],
   "source": [
    "def canJump(nums) -> bool:\n",
    "    if len(nums) == 1:\n",
    "        return True\n",
    "    count = 0\n",
    "    for i in range(len(nums)-2, -1, -1):\n",
    "        count += 1\n",
    "        if nums[i] >= count:\n",
    "            count = 0\n",
    "    return True if count == 0 else False\n",
    "\n",
    "print(canJump([2,3,1,1,4]))\n",
    "print(canJump([3,2,1,0,4]))"
   ]
  },
  {
   "attachments": {},
   "cell_type": "markdown",
   "metadata": {},
   "source": [
    "**56. Merge Intervals**\n",
    "\n",
    "Given an array of intervals where `intervals[i] = [starti, endi]`, merge all overlapping intervals, and return an array of the non-overlapping intervals that cover all the intervals in the input."
   ]
  },
  {
   "cell_type": "code",
   "execution_count": 3,
   "metadata": {},
   "outputs": [
    {
     "name": "stdout",
     "output_type": "stream",
     "text": [
      "[[1, 6], [8, 10], [15, 18]]\n",
      "[[1, 5]]\n"
     ]
    }
   ],
   "source": [
    "def merge(intervals):\n",
    "    intervals.sort()\n",
    "    solution = []\n",
    "    start, stop = intervals[0]\n",
    "    for l,r in intervals[1:]:\n",
    "        if l <= stop:\n",
    "            stop = max(stop, r)\n",
    "        else:\n",
    "            solution.append([start, stop])\n",
    "            start, stop = l, r\n",
    "    solution.append([start, stop])\n",
    "    return solution\n",
    "\n",
    "\n",
    "print(merge([[1,3],[2,6],[8,10],[15,18]])) # [[1,6],[8,10],[15,18]]\n",
    "print(merge([[1,4],[4,5]])) # [[1,5]]"
   ]
  },
  {
   "attachments": {},
   "cell_type": "markdown",
   "metadata": {},
   "source": [
    "**62. Unique Paths**\n",
    "\n",
    "There is a robot on an m x n grid. The robot is initially located at the top-left corner (i.e., grid[0][0]). The robot tries to move to the bottom-right corner (i.e., grid[m - 1][n - 1]). The robot can only move either down or right at any point in time.\n",
    "\n",
    "Given the two integers m and n, return the number of possible unique paths that the robot can take to reach the bottom-right corner.\n",
    "\n",
    "The test cases are generated so that the answer will be less than or equal to 2 * 109."
   ]
  },
  {
   "cell_type": "code",
   "execution_count": 6,
   "metadata": {},
   "outputs": [
    {
     "data": {
      "text/plain": [
       "1"
      ]
     },
     "execution_count": 6,
     "metadata": {},
     "output_type": "execute_result"
    }
   ],
   "source": [
    "def uniquePaths(m, n):\n",
    "    grid = [1] * n\n",
    "    for _ in range(m-1):\n",
    "          for i in range(n-2, -1, -1):\n",
    "               grid[i] = grid[i] + grid[i+1]\n",
    "    return grid[0]\n",
    "               \n",
    "\n",
    "uniquePaths(7, 1) # 28"
   ]
  },
  {
   "attachments": {},
   "cell_type": "markdown",
   "metadata": {},
   "source": [
    "**64. Minimum Path Sum**\n",
    "\n",
    "Given a m x n grid filled with non-negative numbers, find a path from top left to bottom right, which minimizes the sum of all numbers along its path.\n",
    "\n",
    "Note: You can only move either down or right at any point in time."
   ]
  },
  {
   "cell_type": "code",
   "execution_count": 16,
   "metadata": {},
   "outputs": [
    {
     "data": {
      "text/plain": [
       "7"
      ]
     },
     "execution_count": 16,
     "metadata": {},
     "output_type": "execute_result"
    }
   ],
   "source": [
    "def minPathSum(grid):\n",
    "    height = len(grid)\n",
    "    width = len(grid[0])\n",
    "    for r in range(height-1, -1, -1):\n",
    "        for c in range(width-1, -1, -1):\n",
    "            if r < height-1:\n",
    "                if c < width-1:\n",
    "                    grid[r][c] = min((grid[r][c] + grid[r+1][c]), (grid[r][c] + grid[r][c+1]))\n",
    "                else:\n",
    "                    grid[r][c] = grid[r][c] + grid[r+1][c]\n",
    "            elif c < width-1:\n",
    "                grid[r][c] = grid[r][c] + grid[r][c+1]\n",
    "    return grid[0][0]\n",
    "\n",
    "\n",
    "minPathSum([[1,3,1],[1,5,1],[4,2,1]])"
   ]
  },
  {
   "cell_type": "markdown",
   "metadata": {},
   "source": [
    "**73. Set Matrix Zeroes**\n",
    "\n",
    "Given an m x n integer matrix matrix, if an element is 0, set its entire row and column to 0's.\n",
    "\n",
    "You must do it in place."
   ]
  },
  {
   "cell_type": "code",
   "execution_count": 23,
   "metadata": {},
   "outputs": [
    {
     "name": "stdout",
     "output_type": "stream",
     "text": [
      "[[1, 0, 1], [0, 0, 0], [1, 0, 1]]\n",
      "[[0, 0, 0, 0], [0, 4, 5, 0], [0, 3, 1, 0]]\n"
     ]
    }
   ],
   "source": [
    "def setZeroes(matrix) -> None:\n",
    "    height = len(matrix)\n",
    "    width = len(matrix[0])\n",
    "\n",
    "    rows = set()\n",
    "    cols = set()\n",
    "\n",
    "    for r in range(height):\n",
    "        for c in range(width):\n",
    "            if matrix[r][c] == 0:\n",
    "                rows.add(r)\n",
    "                cols.add(c)\n",
    "    \n",
    "    for r in range(height):\n",
    "        if r in rows:\n",
    "            matrix[r] = [0]*width\n",
    "        else:\n",
    "            for c in range(width):\n",
    "                if c in cols:\n",
    "                    matrix[r][c] = 0\n",
    "\n",
    "    print(matrix)\n",
    "\n",
    "m1 = [[1,1,1],[1,0,1],[1,1,1]]\n",
    "m2 = [[0,1,2,0],[3,4,5,2],[1,3,1,5]]\n",
    "\n",
    "for m in [m1, m2]:\n",
    "    setZeroes(m)"
   ]
  },
  {
   "attachments": {},
   "cell_type": "markdown",
   "metadata": {},
   "source": [
    "**75. Sort Colors**\n",
    "\n",
    "Given an array nums with n objects colored red, white, or blue, sort them in-place so that objects of the same color are adjacent, with the colors in the order red, white, and blue.\n",
    "\n",
    "We will use the integers 0, 1, and 2 to represent the color red, white, and blue, respectively.\n",
    "\n",
    "You must solve this problem without using the library's sort function."
   ]
  },
  {
   "cell_type": "code",
   "execution_count": 30,
   "metadata": {},
   "outputs": [
    {
     "name": "stdout",
     "output_type": "stream",
     "text": [
      "[0, 0, 1, 1, 2, 2]\n"
     ]
    }
   ],
   "source": [
    "# two passes\n",
    "def sortColors(nums):\n",
    "    r, w = 0, 0\n",
    "    for n in nums:\n",
    "        if n == 0:\n",
    "            r += 1\n",
    "        elif n == 1:\n",
    "            w += 1\n",
    "    for i in range(len(nums)):\n",
    "        if r > 0:\n",
    "            nums[i] = 0\n",
    "            r -= 1\n",
    "        elif w > 0:\n",
    "            nums[i] = 1\n",
    "            w -= 1\n",
    "        else:\n",
    "            nums[i] = 2\n",
    "\n",
    "# one pass\n",
    "def sortColors(nums):\n",
    "    r, w, b = 0, 0, len(nums)-1\n",
    "    while w <= b:\n",
    "        if nums[w] == 0:\n",
    "            nums[r], nums[w] = nums[w], nums[r] \n",
    "            r += 1\n",
    "            w += 1\n",
    "        elif nums[w] == 1:\n",
    "            w += 1\n",
    "        else:\n",
    "            nums[w], nums[b] = nums[b], nums[w]\n",
    "            b -= 1\n",
    "\n",
    "nums = [2,0,2,1,1,0]\n",
    "sortColors(nums)\n",
    "print(nums)"
   ]
  },
  {
   "attachments": {},
   "cell_type": "markdown",
   "metadata": {},
   "source": [
    "**78. Subsets**\n",
    "\n",
    "Given an integer array nums of unique elements, return all possible subsets (the power set).\n",
    "\n",
    "The solution set must not contain duplicate subsets. Return the solution in any order."
   ]
  },
  {
   "cell_type": "code",
   "execution_count": 6,
   "metadata": {},
   "outputs": [
    {
     "name": "stdout",
     "output_type": "stream",
     "text": [
      "[[], [1], [2], [3], [1, 2], [1, 3], [2, 3], [1, 2, 3]]\n",
      "[[], [0]]\n"
     ]
    }
   ],
   "source": [
    "def subsets(nums):\n",
    "    solution = [[]]\n",
    "    to_extend = [[[], -1]]\n",
    "\n",
    "    for _ in range(len(nums)):\n",
    "        temp = []\n",
    "        for arr, start in to_extend:\n",
    "            for i in range(start+1, len(nums)):\n",
    "                a = arr[:] + [nums[i]]\n",
    "                solution.append(a)\n",
    "                if i < len(nums)-1:\n",
    "                    temp.append([a, i])\n",
    "        to_extend = temp\n",
    "\n",
    "    return solution\n",
    "\n",
    "# this should be faster in theory, as it skips the comparison step\n",
    "def subsets(nums):\n",
    "    solution = [[]]\n",
    "    to_extend = [[[], -1]]\n",
    "\n",
    "    for _ in range(len(nums)):\n",
    "        temp = []\n",
    "        for arr, start in to_extend:\n",
    "            for i in range(start+1, len(nums)-1):\n",
    "                a = arr[:] + [nums[i]]\n",
    "                solution.append(a)\n",
    "                temp.append([a, i])\n",
    "            a = arr[:] + [nums[len(nums)-1]]\n",
    "            solution.append(a)\n",
    "        to_extend = temp\n",
    "\n",
    "    return solution\n",
    "\n",
    "\n",
    "print(subsets([1,2,3])) # [[],[1],[2],[1,2],[3],[1,3],[2,3],[1,2,3]]\n",
    "print(subsets([0])) # [[],[0]]"
   ]
  },
  {
   "cell_type": "markdown",
   "metadata": {},
   "source": [
    "**94. Binary Tree Inorder Traversal**\n",
    "\n",
    "Given the root of a binary tree, return the inorder traversal of its nodes' values."
   ]
  },
  {
   "cell_type": "code",
   "execution_count": 11,
   "metadata": {},
   "outputs": [],
   "source": [
    "# my recursive attempt\n",
    "def inorderTraversal(self, root: TreeNode):\n",
    "    def dfs(node, values=[]):\n",
    "        if node:\n",
    "            dfs(node.left, values)\n",
    "            values.append(node.val)\n",
    "            dfs(node.right, values)\n",
    "            return values\n",
    "    return dfs(root)\n",
    "\n",
    "# one-liner\n",
    "def inorderTraversal(self, root: TreeNode):\n",
    "    return  self.inorderTraversal(root.left) + [root.val] + self.inorderTraversal(root.right) if root else []\n",
    "\n",
    "# iterative\n",
    "def inorderTraversal(self, root: TreeNode):\n",
    "    values = []\n",
    "    from collections import deque\n",
    "    s = deque()\n",
    "    while s or root:\n",
    "        while root:\n",
    "            s.append(root)\n",
    "            root = root.left\n",
    "        root = s.pop()\n",
    "        values.append(root.val)\n",
    "        root = root.right\n",
    "    return values\n"
   ]
  },
  {
   "cell_type": "markdown",
   "metadata": {},
   "source": [
    "**103. Binary Tree Zigzag Level Order Traversal**\n",
    "\n",
    "Given the root of a binary tree, return the zigzag level order traversal of its nodes' values. (i.e., from left to right, then right to left for the next level and alternate between)."
   ]
  },
  {
   "cell_type": "code",
   "execution_count": 1,
   "metadata": {},
   "outputs": [],
   "source": [
    "def zigzagLevelOrder(root):\n",
    "    if not root:\n",
    "        return []\n",
    "\n",
    "    from collections import deque\n",
    "    output = []\n",
    "    right = True\n",
    "    current_level = deque()\n",
    "    next_level = deque([root])\n",
    "\n",
    "    while next_level:\n",
    "        out = []\n",
    "        current_level = next_level.copy()\n",
    "        next_level.clear()\n",
    "\n",
    "        while current_level:\n",
    "            if right:\n",
    "                node = current_level.popleft()\n",
    "                out.append(node.val)\n",
    "                if node.left:\n",
    "                    next_level.append(node.left)\n",
    "                if node.right:\n",
    "                    next_level.append(node.right)\n",
    "            else:\n",
    "                node = current_level.pop()\n",
    "                out.append(node.val)\n",
    "                if node.right:\n",
    "                    next_level.appendleft(node.right)\n",
    "                if node.left:\n",
    "                    next_level.appendleft(node.left)\n",
    "        \n",
    "        output.append(out)\n",
    "        right = not right\n",
    "\n",
    "    return output"
   ]
  },
  {
   "cell_type": "markdown",
   "metadata": {},
   "source": [
    "**105. Construct Binary Tree from Preorder and Inorder Traversal**\n",
    "\n",
    "Given two integer arrays preorder and inorder where preorder is the preorder traversal of a binary tree and inorder is the inorder traversal of the same tree, construct and return the binary tree."
   ]
  },
  {
   "cell_type": "code",
   "execution_count": 3,
   "metadata": {},
   "outputs": [],
   "source": [
    "def buildTree(preorder, inorder):\n",
    "    if not preorder or not inorder:\n",
    "        return None\n",
    "\n",
    "    root = TreeNode(preorder[0])\n",
    "    mid = inorder.index(preorder[0])\n",
    "    root.left = buildTree(preorder[1 : mid+1], inorder[:mid])\n",
    "    root.right = buildTree(preorder[mid+1:], inorder[mid+1:])\n",
    "\n",
    "    return root"
   ]
  },
  {
   "cell_type": "markdown",
   "metadata": {},
   "source": [
    "**160. Intersection of Two Linked Lists**\n",
    "\n",
    "Given the heads of two singly linked-lists headA and headB, return the node at which the two lists intersect. If the two linked lists have no intersection at all, return null."
   ]
  },
  {
   "cell_type": "code",
   "execution_count": null,
   "metadata": {},
   "outputs": [],
   "source": [
    "# solution 1, using set\n",
    "def getIntersectionNode(self, headA: ListNode, headB: ListNode):\n",
    "    visited = set()\n",
    "    while headA:\n",
    "        visited.add(headA)\n",
    "        headA = headA.next\n",
    "    while headB:\n",
    "        if headB in visited:\n",
    "            return headB \n",
    "        headB = headB.next \n",
    "    return None\n",
    "\n",
    "# solution 2, two pointer\n",
    "def getIntersectionNode(self, headA: ListNode, headB: ListNode):\n",
    "    pointA = headA\n",
    "    pointB = headB\n",
    "    while pointA != pointB:\n",
    "        pointA = headB if pointA == None else pointA.next\n",
    "        pointB = headA if pointB == None else pointB.next\n",
    "    return pointA"
   ]
  },
  {
   "attachments": {},
   "cell_type": "markdown",
   "metadata": {},
   "source": [
    "**162. Find Peak Element**\n",
    "\n",
    "A peak element is an element that is strictly greater than its neighbors.\n",
    "\n",
    "Given a 0-indexed integer array nums, find a peak element, and return its index. If the array contains multiple peaks, return the index to any of the peaks.\n",
    "\n",
    "You may imagine that nums[-1] = nums[n] = -∞. In other words, an element is always considered to be strictly greater than a neighbor that is outside the array.\n",
    "\n",
    "You must write an algorithm that runs in O(log n) time."
   ]
  },
  {
   "cell_type": "code",
   "execution_count": 39,
   "metadata": {},
   "outputs": [
    {
     "name": "stdout",
     "output_type": "stream",
     "text": [
      "2\n",
      "5\n",
      "0\n"
     ]
    }
   ],
   "source": [
    "# O(n)\n",
    "def findPeakElement(nums):\n",
    "    nums += [float(\"-inf\")]\n",
    "    for i in range(len(nums)):\n",
    "        if nums[i] < nums[i-1]:\n",
    "            return i-1\n",
    "\n",
    "# O(log n)\n",
    "def findPeakElement(nums):\n",
    "    nums += [float(\"-inf\")]\n",
    "    l = 0\n",
    "    r = len(nums)-1\n",
    "    while l <= r:\n",
    "        m = (l+r)//2\n",
    "        if nums[m-1] < nums[m]:\n",
    "            l = m + 1\n",
    "        else:\n",
    "            r = m - 1\n",
    "    return r\n",
    "\n",
    "# cleaner O(log n)\n",
    "def findPeakElement(nums):\n",
    "    if len(nums) == 1 or nums[0] > nums[1]:\n",
    "        return 0\n",
    "    r = len(nums)-1\n",
    "    if nums[r] > nums[r-1]:\n",
    "        return r\n",
    "    l = 1\n",
    "    r -= 1\n",
    "    while l <= r:\n",
    "        m = (l+r)//2\n",
    "        if nums[m] > nums[m-1]:\n",
    "            if nums[m] > nums[m+1]:\n",
    "                return m\n",
    "            l = m + 1\n",
    "        else:\n",
    "            r = m - 1\n",
    "\n",
    "print(findPeakElement([1,2,3,1])) # 2\n",
    "print(findPeakElement([1,2,1,3,5,6,4])) # 1 or 5\n",
    "print(findPeakElement([1])) # 0"
   ]
  },
  {
   "attachments": {},
   "cell_type": "markdown",
   "metadata": {},
   "source": [
    "**166. Fraction to Recurring Decimal**\n",
    "\n",
    "Given two integers representing the numerator and denominator of a fraction, return the fraction in string format.\n",
    "\n",
    "If the fractional part is repeating, enclose the repeating part in parentheses.\n",
    "\n",
    "If multiple answers are possible, return any of them.\n",
    "\n",
    "It is guaranteed that the length of the answer string is less than 10^4 for all the given inputs."
   ]
  },
  {
   "cell_type": "code",
   "execution_count": 39,
   "metadata": {},
   "outputs": [
    {
     "name": "stdout",
     "output_type": "stream",
     "text": [
      "0.5\n",
      "2\n",
      "0.(012)\n"
     ]
    }
   ],
   "source": [
    "# my solution\n",
    "def fractionToDecimal(numerator: int, denominator: int) -> str:\n",
    "    if not numerator:\n",
    "        return \"0\"\n",
    "    negative = (numerator < 0) != (denominator < 0)\n",
    "    numerator, denominator = abs(numerator), abs(denominator)\n",
    "    div = numerator/denominator\n",
    "    ans = str(int(div))\n",
    "    if not div.is_integer():\n",
    "        ans += \".\"\n",
    "    dot_ind = len(ans) \n",
    "    i = 0\n",
    "    mod = numerator%denominator\n",
    "    mod_dict = {mod: 0}\n",
    "    while mod:\n",
    "        i += 1\n",
    "        mod *= 10\n",
    "        ans += str(int(mod/denominator))\n",
    "        mod = mod%denominator\n",
    "        if mod in mod_dict:\n",
    "            ans = ans[:dot_ind+mod_dict[mod]] + \"(\" + ans[dot_ind+mod_dict[mod]:] + \")\"\n",
    "            return \"-\" + ans if negative else ans\n",
    "        mod_dict[mod] = i\n",
    "    return \"-\" + ans if negative else ans\n",
    "\n",
    "print(fractionToDecimal(numerator = 1, denominator = 2)) # \"0.5\"\n",
    "print(fractionToDecimal(numerator = 2, denominator = 1)) # \"2\"\n",
    "print(fractionToDecimal(numerator = 4, denominator = 333)) # \"0.(012)\""
   ]
  },
  {
   "attachments": {},
   "cell_type": "markdown",
   "metadata": {},
   "source": [
    "**169. Majority Element**\n",
    "\n",
    "Given an array nums of size n, return the majority element.\n",
    "\n",
    "The majority element is the element that appears more than ⌊n / 2⌋ times. You may assume that the majority element always exists in the array."
   ]
  },
  {
   "cell_type": "code",
   "execution_count": 13,
   "metadata": {},
   "outputs": [
    {
     "name": "stdout",
     "output_type": "stream",
     "text": [
      "3\n",
      "2\n"
     ]
    }
   ],
   "source": [
    "def majorityElement(nums) -> int:\n",
    "    stack = []\n",
    "    for n in nums:\n",
    "        if stack and stack[-1] != n:\n",
    "            stack.pop()\n",
    "        else:\n",
    "            stack.append(n)\n",
    "    return stack[-1]\n",
    "\n",
    "# O(1) space complexity\n",
    "def majorityElement(nums) -> int:\n",
    "    count = 1\n",
    "    candidate = nums[0]\n",
    "    for n in nums[1:]:\n",
    "        if count == 0:\n",
    "            candidate = n\n",
    "            count = 1\n",
    "        elif n == candidate:\n",
    "            count += 1\n",
    "        else:\n",
    "            count -= 1\n",
    "        \n",
    "    return candidate\n",
    "\n",
    "print(majorityElement([3,2,3])) # 3\n",
    "print(majorityElement([2,2,1,1,1,2,2])) # 2"
   ]
  },
  {
   "attachments": {},
   "cell_type": "markdown",
   "metadata": {},
   "source": [
    "**171. Excel Sheet Column Number**\n",
    "\n",
    "Given a string columnTitle that represents the column title as appears in an Excel sheet, return its corresponding column number."
   ]
  },
  {
   "cell_type": "code",
   "execution_count": 15,
   "metadata": {},
   "outputs": [
    {
     "name": "stdout",
     "output_type": "stream",
     "text": [
      "1\n",
      "28\n",
      "701\n"
     ]
    }
   ],
   "source": [
    "# my solution\n",
    "def titleToNumber(columnTitle: str) -> int:\n",
    "    ans = 0\n",
    "    multiplier = 1\n",
    "    for c in columnTitle[::-1]:\n",
    "        ans += (ord(c)%64) * multiplier\n",
    "        multiplier *= 26\n",
    "    return ans\n",
    "\n",
    "# shorter solution - going forward\n",
    "def titleToNumber(columnTitle: str) -> int:\n",
    "    ans = 0\n",
    "    for c in columnTitle:\n",
    "        ans = ans * 26 + ord(c)%64\n",
    "    return ans\n",
    "\n",
    "print(titleToNumber(columnTitle = \"A\")) # 1\n",
    "print(titleToNumber(columnTitle = \"AB\")) # 28\n",
    "print(titleToNumber(columnTitle = \"ZY\")) # 701"
   ]
  },
  {
   "attachments": {},
   "cell_type": "markdown",
   "metadata": {},
   "source": [
    "**172. Factorial Trailing Zeroes**\n",
    "\n",
    "Given an integer n, return the number of trailing zeroes in n!.\n",
    "\n",
    "Note that n! = n * (n - 1) * (n - 2) * ... * 3 * 2 * 1."
   ]
  },
  {
   "cell_type": "code",
   "execution_count": 37,
   "metadata": {},
   "outputs": [
    {
     "name": "stdout",
     "output_type": "stream",
     "text": [
      "10 2 2\n",
      "110 26 26\n",
      "210 51 51\n",
      "310 76 76\n",
      "410 101 101\n",
      "510 126 126\n",
      "610 150 150\n",
      "710 176 176\n",
      "810 201 201\n",
      "910 226 226\n"
     ]
    }
   ],
   "source": [
    "# linear\n",
    "def trailingZeroes(n: int) -> int:\n",
    "    k = 1\n",
    "    for f in range(1, n+1):\n",
    "        k *= f\n",
    "    k = str(k)\n",
    "    counter = 0\n",
    "    for c in k[::-1]:\n",
    "        if c == \"0\":\n",
    "            counter += 1\n",
    "        else:\n",
    "            return counter\n",
    "\n",
    "# O(1) almost\n",
    "def trailingZeroes1(n: int) -> int:\n",
    "    pow5 = []\n",
    "    p = 5\n",
    "    while p <= n:\n",
    "        pow5.append(p)\n",
    "        p *= 5\n",
    "    return sum([n//pp for pp in pow5])\n",
    "\n",
    "\n",
    "for n in range(10, 1000, 100):\n",
    "    print(n, trailingZeroes(n), trailingZeroes1(n))"
   ]
  },
  {
   "attachments": {},
   "cell_type": "markdown",
   "metadata": {},
   "source": [
    "**200. Number of Islands**\n",
    "\n",
    "Given an m x n 2D binary grid grid which represents a map of '1's (land) and '0's (water), return the number of islands.\n",
    "\n",
    "An island is surrounded by water and is formed by connecting adjacent lands horizontally or vertically. You may assume all four edges of the grid are all surrounded by water."
   ]
  },
  {
   "cell_type": "code",
   "execution_count": 7,
   "metadata": {},
   "outputs": [
    {
     "name": "stdout",
     "output_type": "stream",
     "text": [
      "1\n",
      "3\n"
     ]
    }
   ],
   "source": [
    "from collections import deque\n",
    "\n",
    "def numIslands(grid) -> int:\n",
    "    height = len(grid)\n",
    "    width = len(grid[0])\n",
    "\n",
    "    visited = [[False] * width for _ in range(height)]\n",
    "\n",
    "    def bfs(h, w):\n",
    "        q = deque([(h,w)])\n",
    "        visited[h][w] = True\n",
    "        while q:\n",
    "            x, y = q.popleft()\n",
    "            for nx, ny in [(x+1, y), (x-1, y), (x, y+1), (x, y-1)]:\n",
    "                if 0 <= nx < height and 0 <= ny < width and grid[nx][ny] == \"1\" and not visited[nx][ny]:\n",
    "                    q.append((nx, ny))\n",
    "                    visited[nx][ny] = True\n",
    "    \n",
    "    counter = 0\n",
    "\n",
    "    for h in range(height):\n",
    "        for w in range(width):\n",
    "            if grid[h][w] == \"1\" and not visited[h][w]:\n",
    "                counter += 1\n",
    "                bfs(h, w)\n",
    "\n",
    "    return counter\n",
    "\n",
    "grid1 = [\n",
    "  [\"1\",\"1\",\"1\",\"1\",\"0\"],\n",
    "  [\"1\",\"1\",\"0\",\"1\",\"0\"],\n",
    "  [\"1\",\"1\",\"0\",\"0\",\"0\"],\n",
    "  [\"0\",\"0\",\"0\",\"0\",\"0\"]\n",
    "]\n",
    "\n",
    "grid2 = [\n",
    "  [\"1\",\"1\",\"0\",\"0\",\"0\"],\n",
    "  [\"1\",\"1\",\"0\",\"0\",\"0\"],\n",
    "  [\"0\",\"0\",\"1\",\"0\",\"0\"],\n",
    "  [\"0\",\"0\",\"0\",\"1\",\"1\"]\n",
    "]\n",
    "\n",
    "print(numIslands(grid1)) # 1\n",
    "print(numIslands(grid2)) # 3"
   ]
  },
  {
   "attachments": {},
   "cell_type": "markdown",
   "metadata": {},
   "source": [
    "**202. Happy Number**\n",
    "\n",
    "Write an algorithm to determine if a number n is happy.\n",
    "\n",
    "A happy number is a number defined by the following process:\n",
    "\n",
    "Starting with any positive integer, replace the number by the sum of the squares of its digits.\n",
    "Repeat the process until the number equals 1 (where it will stay), or it loops endlessly in a cycle which does not include 1.\n",
    "Those numbers for which this process ends in 1 are happy.\n",
    "Return true if n is a happy number, and false if not."
   ]
  },
  {
   "cell_type": "code",
   "execution_count": 5,
   "metadata": {},
   "outputs": [
    {
     "name": "stdout",
     "output_type": "stream",
     "text": [
      "True\n",
      "False\n"
     ]
    }
   ],
   "source": [
    "def isHappy(n: int) -> bool:\n",
    "    visited = {n}\n",
    "    while n != 1:\n",
    "        digits = []\n",
    "        while n > 0:\n",
    "            digits.append(n%10)\n",
    "            n //= 10   \n",
    "        n = sum([x**2 for x in digits])\n",
    "        if n in visited:\n",
    "            return False\n",
    "        visited.add(n)\n",
    "    return True\n",
    "\n",
    "print(isHappy(19)) # True\n",
    "print(isHappy(2)) # False"
   ]
  },
  {
   "attachments": {},
   "cell_type": "markdown",
   "metadata": {},
   "source": [
    "**215. Kth Largest Element in an Array**\n",
    "\n",
    "Given an integer array nums and an integer k, return the kth largest element in the array.\n",
    "\n",
    "Note that it is the kth largest element in the sorted order, not the kth distinct element.\n",
    "\n",
    "You must solve it in O(n) time complexity."
   ]
  },
  {
   "cell_type": "code",
   "execution_count": 19,
   "metadata": {},
   "outputs": [
    {
     "name": "stdout",
     "output_type": "stream",
     "text": [
      "5\n",
      "4\n",
      "2\n"
     ]
    }
   ],
   "source": [
    "# O(n)\n",
    "def findKthLargest(nums, k):\n",
    "    d = dict.fromkeys(range(-10000, 10001), 0)\n",
    "    max_n = float(\"-inf\")\n",
    "    \n",
    "    for n in nums:\n",
    "        d[n] += 1\n",
    "        max_n = max(n, max_n)\n",
    "        \n",
    "    s = 0        \n",
    "    for i in range(max_n, -10001, -1):\n",
    "        s += d[i]\n",
    "        if s >= k:\n",
    "            return i\n",
    "\n",
    "\n",
    "# faster\n",
    "def findKthLargest(nums, k):\n",
    "    d = dict()\n",
    "\n",
    "    if k < len(nums)/2:\n",
    "        max_n = float(\"-inf\")\n",
    "    \n",
    "        for n in nums:\n",
    "            if n in d:\n",
    "                d[n] += 1\n",
    "            else:\n",
    "                d[n] = 1\n",
    "            max_n = max(n, max_n)\n",
    "        \n",
    "        s = 0\n",
    "        for i in range(max_n, -10001, -1):\n",
    "            if i in d:\n",
    "                s += d[i]\n",
    "            if s >= k:\n",
    "                return i\n",
    "    else:\n",
    "        k = len(nums) + 1 - k\n",
    "        min_n = float(\"inf\")\n",
    "        \n",
    "        for n in nums:\n",
    "            if n in d:\n",
    "                d[n] += 1\n",
    "            else:\n",
    "                d[n] = 1\n",
    "            min_n = min(n, min_n)\n",
    "        \n",
    "        s = 0\n",
    "        for i in range(min_n, 10001):\n",
    "            if i in d:\n",
    "                s += d[i]\n",
    "            if s >= k:\n",
    "                return i\n",
    "        \n",
    "print(findKthLargest(nums = [3,2,1,5,6,4], k = 2)) # 5\n",
    "print(findKthLargest(nums = [3,2,3,1,2,4,5,5,6], k = 4)) # 4\n",
    "print(findKthLargest(nums = [3,2,3,1,2,4,5,5,8], k = 8)) # 2"
   ]
  },
  {
   "attachments": {},
   "cell_type": "markdown",
   "metadata": {},
   "source": [
    "**240. Search a 2D Matrix II**\n",
    "\n",
    "Write an efficient algorithm that searches for a value target in an m x n integer matrix matrix. This matrix has the following properties:\n",
    "\n",
    "Integers in each row are sorted in ascending from left to right.\n",
    "Integers in each column are sorted in ascending from top to bottom."
   ]
  },
  {
   "cell_type": "code",
   "execution_count": 33,
   "metadata": {},
   "outputs": [
    {
     "name": "stdout",
     "output_type": "stream",
     "text": [
      "True\n",
      "False\n",
      "True\n"
     ]
    }
   ],
   "source": [
    "# O(log n * log n) - multiple binary searches\n",
    "def searchMatrix(matrix, target) -> bool:\n",
    "    # target is outside the range\n",
    "    if matrix[0][0] > target or matrix[-1][-1] < target:\n",
    "        return False\n",
    "    # determening the first row to consider\n",
    "    l = 0\n",
    "    r = len(matrix) - 1\n",
    "    while l <= r:\n",
    "        m = (l+r) // 2\n",
    "        # the final value in that row can't be lower than the target\n",
    "        if matrix[m][-1] == target:\n",
    "            return True\n",
    "        if matrix[m][-1] > target:\n",
    "            r = m - 1\n",
    "        else:\n",
    "            l = m + 1\n",
    "    first_row = l\n",
    "    # determening the last row to consider\n",
    "    # starting from the discovered first row\n",
    "    r = len(matrix) - 1\n",
    "    while l <= r:\n",
    "        m = (l+r) // 2\n",
    "        # the first value in that row can't be higher than the target\n",
    "        if matrix[m][0] == target:\n",
    "            return True\n",
    "        if matrix[m][0] > target:\n",
    "            r = m - 1\n",
    "        else:\n",
    "            l = m + 1\n",
    "    last_row = l\n",
    "    # binary search on each of the suitable rows\n",
    "    for row in range(first_row, last_row):\n",
    "        l = 0\n",
    "        r = len(matrix[0]) - 1\n",
    "        while l <= r:\n",
    "            m = (l+r) // 2\n",
    "            if matrix[row][m] == target:\n",
    "                return True\n",
    "            if matrix[row][m] > target:\n",
    "                r = m - 1\n",
    "            else:\n",
    "                l = m + 1\n",
    "    return False\n",
    "\n",
    "# another approach, moving from top right, to bottom left.\n",
    "def searchMatrix(matrix, target) -> bool:\n",
    "    if matrix[0][0] > target or matrix[-1][-1] < target:\n",
    "        return False\n",
    "    r, c = 0, len(matrix[0])-1\n",
    "    while r < len(matrix) and c >= 0:\n",
    "        if matrix[r][c] == target:\n",
    "            return True\n",
    "        if matrix[r][c] < target:\n",
    "            r += 1\n",
    "        else:\n",
    "            c -= 1\n",
    "    return False\n",
    "\n",
    "print(searchMatrix(matrix = [[1,4,7,11,15],[2,5,8,12,19],[3,6,9,16,22],[10,13,14,17,24],[18,21,23,26,30]], target = 5)) # True\n",
    "print(searchMatrix(matrix = [[1,4,7,11,15],[2,5,8,12,19],[3,6,9,16,22],[10,13,14,17,24],[18,21,23,26,30]], target = 20)) # False\n",
    "print(searchMatrix(matrix = [[-5]], target = -5)) # True"
   ]
  },
  {
   "attachments": {},
   "cell_type": "markdown",
   "metadata": {},
   "source": [
    "**300. Longest Increasing Subsequence**\n",
    "\n",
    "Given an integer array nums, return the length of the longest strictly increasing subsequence."
   ]
  },
  {
   "cell_type": "code",
   "execution_count": 58,
   "metadata": {},
   "outputs": [
    {
     "name": "stdout",
     "output_type": "stream",
     "text": [
      "4\n",
      "4\n",
      "1\n",
      "3\n",
      "3\n"
     ]
    }
   ],
   "source": [
    "# O(n^2) - slow\n",
    "def lengthOfLIS(nums):\n",
    "    longest = 1\n",
    "    dp = [1] * len(nums)\n",
    "    for i in range(len(nums)-2, -1, -1):\n",
    "        for j in range(i+1, len(nums)):\n",
    "            if nums[i] < nums[j]:\n",
    "                dp[i] = max(dp[i], dp[j]+1)\n",
    "                longest = max(longest, dp[i])\n",
    "    return longest\n",
    "\n",
    "# O(n^2) - faster\n",
    "def lengthOfLIS(nums):\n",
    "    dp = [1] * len(nums)\n",
    "    for i in range(len(nums)-2, -1, -1):\n",
    "        for j in range(i+1, len(nums)):\n",
    "            if nums[i] < nums[j]:\n",
    "                dp[i] = max(dp[i], dp[j]+1)\n",
    "    return max(dp)\n",
    "\n",
    "# O(n log n)\n",
    "def lengthOfLIS(nums):\n",
    "    piles = [[nums[0]]]\n",
    "    for n in nums[1:]:\n",
    "        l, r = 0, len(piles)-1\n",
    "        while l <= r:\n",
    "            m = (l + r)//2\n",
    "            if piles[m][-1] >= n:\n",
    "                r = m - 1\n",
    "            else:\n",
    "                l = m + 1\n",
    "        if l == len(piles):\n",
    "            piles.append([n])\n",
    "        else:\n",
    "            piles[l].append(n)\n",
    "    return len(piles)\n",
    "\n",
    "\n",
    "print(lengthOfLIS([10,9,2,5,3,7,101,18])) # 4\n",
    "print(lengthOfLIS([0,1,0,3,2,3])) # 4\n",
    "print(lengthOfLIS([7,7,7,7,7,7,7])) # 1\n",
    "print(lengthOfLIS([10,9,2,5,3,4])) # 3\n",
    "print(lengthOfLIS([4,10,4,3,8,9])) # 3"
   ]
  },
  {
   "attachments": {},
   "cell_type": "markdown",
   "metadata": {},
   "source": [
    "**322. Coin Change**\n",
    "\n",
    "You are given an integer array coins representing coins of different denominations and an integer amount representing a total amount of money.\n",
    "\n",
    "Return the fewest number of coins that you need to make up that amount. If that amount of money cannot be made up by any combination of the coins, return -1.\n",
    "\n",
    "You may assume that you have an infinite number of each kind of coin."
   ]
  },
  {
   "cell_type": "code",
   "execution_count": 38,
   "metadata": {},
   "outputs": [
    {
     "name": "stdout",
     "output_type": "stream",
     "text": [
      "3\n",
      "-1\n",
      "0\n"
     ]
    }
   ],
   "source": [
    "def coinChange(coins, amount):\n",
    "    dp = [0] + [float(\"inf\")] * amount\n",
    "    for n in range(1, amount+1):\n",
    "        for c in coins:\n",
    "            if c <= n:\n",
    "                dp[n] = min(dp[n], dp[n-c]+1)\n",
    "    return dp[amount] if dp[amount] != float(\"inf\") else -1\n",
    "\n",
    "print(coinChange([1,2,5], 11)) # 3\n",
    "print(coinChange([2], 3)) # -1\n",
    "print(coinChange([1], 0)) # 0"
   ]
  },
  {
   "cell_type": "markdown",
   "metadata": {},
   "source": [
    "**328. Odd Even Linked List**\n",
    "\n",
    "Given the head of a singly linked list, group all the nodes with odd indices together followed by the nodes with even indices, and return the reordered list.\n",
    "\n",
    "The first node is considered odd, and the second node is even, and so on.\n",
    "\n",
    "Note that the relative order inside both the even and odd groups should remain as it was in the input.\n",
    "\n",
    "You must solve the problem in O(1) extra space complexity and O(n) time complexity."
   ]
  },
  {
   "cell_type": "code",
   "execution_count": 37,
   "metadata": {},
   "outputs": [
    {
     "name": "stdout",
     "output_type": "stream",
     "text": [
      "1 3 5 2 4 6 \n"
     ]
    }
   ],
   "source": [
    "def oddEvenList(head):\n",
    "    if not head:\n",
    "        return head\n",
    "    odd = head\n",
    "    even = head_even = head.next\n",
    "    if even:\n",
    "        current = even.next\n",
    "        is_odd = True\n",
    "        while current:\n",
    "            if is_odd:\n",
    "                odd.next = current\n",
    "                odd = odd.next\n",
    "            else:\n",
    "                even.next = current\n",
    "                even = even.next\n",
    "            is_odd = not is_odd\n",
    "            current = current.next\n",
    "        even.next = None\n",
    "        odd.next = head_even\n",
    "    return head\n",
    "\n",
    "print_linked_list(oddEvenList(make_linked_list([1,2,3,4,5,6])))"
   ]
  },
  {
   "cell_type": "markdown",
   "metadata": {},
   "source": [
    "**334. Increasing Triplet Subsequence**\n",
    "\n",
    "Given an integer array nums, return true if there exists a triple of indices (i, j, k) such that i < j < k and nums[i] < nums[j] < nums[k]. If no such indices exists, return false."
   ]
  },
  {
   "cell_type": "code",
   "execution_count": 10,
   "metadata": {},
   "outputs": [
    {
     "name": "stdout",
     "output_type": "stream",
     "text": [
      "True\n",
      "False\n",
      "True\n",
      "False\n"
     ]
    }
   ],
   "source": [
    "# a bit slow\n",
    "def increasingTriplet(nums) -> bool:\n",
    "    i = nums[0]\n",
    "    ii = float(\"inf\")\n",
    "    for n in nums[1:]:\n",
    "        if n > ii:\n",
    "            return True\n",
    "        if n <= i:\n",
    "            i = n\n",
    "        elif n < ii:\n",
    "            ii = n\n",
    "\n",
    "    return False\n",
    "\n",
    "nums = [[1,2,3,4,5], [5,4,3,2,1], [2,1,5,0,4,6], [1,1,-2,6]] # TFTF\n",
    "\n",
    "for n in nums:\n",
    "    print(increasingTriplet(n))"
   ]
  },
  {
   "attachments": {},
   "cell_type": "markdown",
   "metadata": {},
   "source": [
    "**347. Top K Frequent Elements**\n",
    "\n",
    "Given an integer array nums and an integer k, return the k most frequent elements. You may return the answer in any order."
   ]
  },
  {
   "cell_type": "code",
   "execution_count": 27,
   "metadata": {},
   "outputs": [
    {
     "name": "stdout",
     "output_type": "stream",
     "text": [
      "[1, 2]\n",
      "[1]\n"
     ]
    }
   ],
   "source": [
    "# first solution\n",
    "def topKFrequent(nums, k):\n",
    "    dic = dict()\n",
    "    for n in nums:\n",
    "        if n in dic:\n",
    "            dic[n] += 1\n",
    "        else:\n",
    "            dic[n] = 1\n",
    "        \n",
    "    dic2 = dict()\n",
    "    for key, v in dic.items():\n",
    "        if v in dic2:\n",
    "            dic2[v].append(key)\n",
    "        else:\n",
    "            dic2[v] = [key]\n",
    "            \n",
    "    freqs = sorted(dic2.keys())\n",
    "    \n",
    "    solution = []\n",
    "    \n",
    "    i = -1\n",
    "    while True:\n",
    "        solution.extend(dic2[freqs[i]])\n",
    "        if len(solution) == k:\n",
    "            return solution\n",
    "        i -= 1\n",
    "\n",
    "# no sorting, slower?\n",
    "def topKFrequent(nums, k):\n",
    "    dic = dict()\n",
    "    max_f = float(\"-inf\")\n",
    "    for n in nums:\n",
    "        if n in dic:\n",
    "            dic[n] += 1\n",
    "        else:\n",
    "            dic[n] = 1\n",
    "        max_f = max(max_f, dic[n])\n",
    "    \n",
    "    freq_dic = dict()\n",
    "    for key, v in dic.items():\n",
    "        if v in freq_dic:\n",
    "            freq_dic[v].append(key)\n",
    "        else:\n",
    "            freq_dic[v] = [key]\n",
    "    \n",
    "    solution = []\n",
    "    \n",
    "    for f in range(max_f, 0, -1):\n",
    "        if f in freq_dic:\n",
    "            solution.extend(freq_dic[f])\n",
    "            if len(solution) == k:\n",
    "                return solution\n",
    "\n",
    "print(topKFrequent(nums = [1,1,1,2,2,3], k = 2)) # [1,2]\n",
    "print(topKFrequent(nums = [1], k = 1)) # [1]"
   ]
  },
  {
   "attachments": {},
   "cell_type": "markdown",
   "metadata": {},
   "source": [
    "**371. Sum of Two Integers**\n",
    "\n",
    "Given two integers a and b, return the sum of the two integers without using the operators + and -."
   ]
  },
  {
   "cell_type": "code",
   "execution_count": 4,
   "metadata": {},
   "outputs": [
    {
     "name": "stdout",
     "output_type": "stream",
     "text": [
      "3\n",
      "2000\n",
      "-2\n",
      "-1\n",
      "-2000\n",
      "-1999\n"
     ]
    }
   ],
   "source": [
    "# cool solution using logs\n",
    "# 2^a * 2^b = 2^(a+b)\n",
    "# log2(2^(a+b)) = a+b\n",
    "# doesn't work here, but accepted on leetcode\n",
    "def getSum(a: int, b: int) -> int:\n",
    "    from math import log2\n",
    "    return int(log2(2**a * 2**b))\n",
    "\n",
    "# works but very slow! Because of str conversion presumably\n",
    "def getSum(a: int, b: int) -> int:\n",
    "    a_neg = a < 0\n",
    "    b_neg = b < 0\n",
    "    a, b = [list(bin(abs(n))[2:].zfill(12)) for n in (a, b)]\n",
    "    bit_flip = {\"0\": \"1\", \"1\": \"0\"}\n",
    "    if a_neg:\n",
    "        for i in range(12):\n",
    "            a[i] = bit_flip[a[i]]\n",
    "    if b_neg:\n",
    "        for i in range(12):\n",
    "            b[i] = bit_flip[b[i]]\n",
    "    def add(a, b):\n",
    "        carry = False\n",
    "        ans = []\n",
    "        for i in range(11, -1, -1):\n",
    "            if a[i] != b[i]:\n",
    "                if not carry:\n",
    "                    ans.append(\"1\")\n",
    "                else:\n",
    "                    ans.append(\"0\")\n",
    "            elif a[i] == \"0\":\n",
    "                if carry:\n",
    "                    ans.append(\"1\")\n",
    "                    carry = False\n",
    "                else:\n",
    "                    ans.append(\"0\")\n",
    "            else:\n",
    "                if not carry:\n",
    "                    ans.append(\"0\")\n",
    "                    carry = True\n",
    "                else:\n",
    "                    ans.append(\"1\")\n",
    "        ans = ans[::-1]\n",
    "        if carry:\n",
    "            return add(ans, list(\"1\".zfill(12)))\n",
    "        return ans\n",
    "    ans = add(a, b)\n",
    "    if ans[0] == \"1\":\n",
    "        for i in range(len(ans)):\n",
    "            ans[i] = bit_flip[ans[i]]\n",
    "        return -int(\"\".join(ans), 2)\n",
    "    return int(\"\".join(ans), 2)\n",
    "\n",
    "print(getSum(a = 1, b = 2)) # 3\n",
    "print(getSum(a = 1000, b = 1000)) # 2000\n",
    "print(getSum(a = 0, b = -2)) # -2\n",
    "print(getSum(a = -4, b = 3)) # -1\n",
    "print(getSum(a = -1000, b = -1000)) # -2000\n",
    "print(getSum(a = -1000, b = -999)) # -1999"
   ]
  },
  {
   "attachments": {},
   "cell_type": "markdown",
   "metadata": {},
   "source": [
    "**380. Insert Delete GetRandom O(1)**\n",
    "\n",
    "Implement the RandomizedSet class:\n",
    "\n",
    "* `RandomizedSet()` Initializes the RandomizedSet object.\n",
    "* `bool insert(int val)` Inserts an item val into the set if not present. Returns true if the item was not present, false otherwise.\n",
    "* `bool remove(int val)` Removes an item val from the set if present. Returns true if the item was present, false otherwise.\n",
    "* `int getRandom()` Returns a random element from the current set of elements (it's guaranteed that at least one element exists when this method is called). Each element must have the same probability of being returned.\n",
    "\n",
    "You must implement the functions of the class such that each function works in average O(1) time complexity."
   ]
  },
  {
   "cell_type": "code",
   "execution_count": 3,
   "metadata": {},
   "outputs": [
    {
     "name": "stdout",
     "output_type": "stream",
     "text": [
      "False\n",
      "False\n",
      "True\n",
      "0\n",
      "True\n",
      "True\n"
     ]
    }
   ],
   "source": [
    "import random\n",
    "\n",
    "class RandomizedSet:\n",
    "\n",
    "    def __init__(self):\n",
    "        self.data = list()\n",
    "        self.data_map = dict()\n",
    "        \n",
    "    def insert(self, val: int) -> bool:\n",
    "        if val in self.data_map:\n",
    "            return False\n",
    "        self.data_map[val] = len(self.data)\n",
    "        self.data.append(val)\n",
    "        return True\n",
    "\n",
    "    def remove(self, val: int) -> bool:\n",
    "        if val not in self.data_map:\n",
    "            return False\n",
    "        last_elem_in_list = self.data[-1]\n",
    "        index_of_elem_to_remove = self.data_map[val]\n",
    "        self.data[index_of_elem_to_remove] = last_elem_in_list\n",
    "        self.data_map[last_elem_in_list] = index_of_elem_to_remove\n",
    "        self.data.pop()\n",
    "        del self.data_map[val]\n",
    "        return True\n",
    "\n",
    "    def getRandom(self) -> int:\n",
    "        return random.choice(self.data)\n",
    "\n",
    "\n",
    "# Your RandomizedSet object will be instantiated and called as such:\n",
    "obj = RandomizedSet()\n",
    "print(obj.remove(0))\n",
    "print(obj.remove(0))\n",
    "print(obj.insert(0))\n",
    "print(obj.getRandom())\n",
    "print(obj.remove(0))\n",
    "print(obj.insert(0))"
   ]
  },
  {
   "attachments": {},
   "cell_type": "markdown",
   "metadata": {},
   "source": [
    "**506. Relative Ranks**\n",
    "\n",
    "You are given an integer array score of size n, where score[i] is the score of the ith athlete in a competition. All the scores are guaranteed to be unique.\n",
    "\n",
    "The athletes are placed based on their scores, where the 1st place athlete has the highest score, the 2nd place athlete has the 2nd highest score, and so on. The placement of each athlete determines their rank:\n",
    "\n",
    "The 1st place athlete's rank is \"Gold Medal\".\n",
    "The 2nd place athlete's rank is \"Silver Medal\".\n",
    "The 3rd place athlete's rank is \"Bronze Medal\".\n",
    "For the 4th place to the nth place athlete, their rank is their placement number (i.e., the xth place athlete's rank is \"x\").\n",
    "Return an array answer of size n where answer[i] is the rank of the ith athlete."
   ]
  },
  {
   "cell_type": "code",
   "execution_count": 55,
   "metadata": {},
   "outputs": [
    {
     "name": "stdout",
     "output_type": "stream",
     "text": [
      "['Gold Medal', 'Silver Medal', 'Bronze Medal', '4', '5']\n",
      "['Gold Medal', '5', 'Bronze Medal', 'Silver Medal', '4']\n"
     ]
    }
   ],
   "source": [
    "def findRelativeRanks(score):\n",
    "    sorted_score = sorted(score, reverse=True)\n",
    "    dic = {sorted_score[i]:str(i+1) for i in range(len(score))}\n",
    "    dic[sorted_score[0]] = \"Gold Medal\"\n",
    "    if len(score) > 1:\n",
    "        dic[sorted_score[1]] = \"Silver Medal\"\n",
    "        if len(score) > 2:\n",
    "            dic[sorted_score[2]] = \"Bronze Medal\"\n",
    "    \n",
    "    ans = []\n",
    "    for s in score:\n",
    "        ans.append(dic[s])\n",
    "    return ans\n",
    "\n",
    "\n",
    "print(findRelativeRanks([5,4,3,2,1])) # [\"Gold Medal\",\"Silver Medal\",\"Bronze Medal\",\"4\",\"5\"]\n",
    "print(findRelativeRanks([10,3,8,9,4])) # [\"Gold Medal\",\"5\",\"Bronze Medal\",\"Silver Medal\",\"4\"]"
   ]
  },
  {
   "attachments": {},
   "cell_type": "markdown",
   "metadata": {},
   "source": [
    "**621. Task Scheduler**\n",
    "\n",
    "Given a characters array tasks, representing the tasks a CPU needs to do, where each letter represents a different task. Tasks could be done in any order. Each task is done in one unit of time. For each unit of time, the CPU could complete either one task or just be idle.\n",
    "\n",
    "However, there is a non-negative integer n that represents the cooldown period between two same tasks (the same letter in the array), that is that there must be at least n units of time between any two same tasks.\n",
    "\n",
    "Return the least number of units of times that the CPU will take to finish all the given tasks."
   ]
  },
  {
   "cell_type": "code",
   "execution_count": 118,
   "metadata": {},
   "outputs": [
    {
     "name": "stdout",
     "output_type": "stream",
     "text": [
      "8\n",
      "6\n",
      "16\n",
      "10\n",
      "12\n"
     ]
    }
   ],
   "source": [
    "# extremely slow!\n",
    "def leastInterval(tasks, n: int) -> int:\n",
    "    # no cooldown\n",
    "    if n == 0:\n",
    "        return len(tasks)\n",
    "    \n",
    "    counter = dict()\n",
    "    for t in tasks:\n",
    "        counter[t] = counter.get(t, 0) + 1\n",
    "\n",
    "    # all tasks are unique\n",
    "    if len(counter) == len(tasks):\n",
    "        return len(tasks)\n",
    "    \n",
    "    from collections import deque\n",
    "\n",
    "    q = deque([None] * (n + 1))\n",
    "    recent = set()\n",
    "    \n",
    "    counts = sorted([[v, k] for k, v in counter.items()], reverse = True)\n",
    "\n",
    "    solution = []\n",
    "\n",
    "    to_schedule = len(tasks)\n",
    "\n",
    "    while to_schedule > 0:\n",
    "        to_remove = q.pop()\n",
    "        if to_remove:\n",
    "            recent.remove(to_remove)\n",
    "        letter = None\n",
    "        index = -1\n",
    "        for i in range(len(counts)):\n",
    "            if counts[i][1] not in recent and counts[i][0] > 0:\n",
    "                letter = counts[i][1]\n",
    "                index = i\n",
    "                break\n",
    "        solution.append(letter)\n",
    "        q.appendleft(letter)\n",
    "        if index >= 0:\n",
    "            recent.add(letter)\n",
    "            counts[index][0] -= 1\n",
    "            to_schedule -= 1\n",
    "            counts.sort(reverse=True)\n",
    "\n",
    "    return len(solution)\n",
    "\n",
    "# neetcode - using minheap, faster. A similar algorithm to mine, just more efficient\n",
    "def leastInterval(tasks, n: int) -> int:\n",
    "    \n",
    "    # no cooldown\n",
    "    if n == 0:\n",
    "        return len(tasks)\n",
    "    \n",
    "    from collections import Counter, deque\n",
    "\n",
    "    count = Counter(tasks)\n",
    "    # all tasks are unique\n",
    "    if len(count) == len(tasks):\n",
    "        return len(tasks)\n",
    "\n",
    "    import heapq\n",
    "    max_heap = [-cnt for cnt in count.values()]\n",
    "    heapq.heapify(max_heap)\n",
    "\n",
    "    time = 0\n",
    "\n",
    "    q = deque()\n",
    "\n",
    "    while max_heap or q:\n",
    "        time += 1\n",
    "        if max_heap:\n",
    "            cnt = heapq.heappop(max_heap) + 1\n",
    "            if cnt:\n",
    "                q.append([cnt, time + n])\n",
    "\n",
    "        if q and q[0][1] == time:\n",
    "            heapq.heappush(max_heap, q.popleft()[0])\n",
    "    \n",
    "    return time\n",
    "\n",
    "# fastest\n",
    "def leastInterval(tasks, n: int) -> int:\n",
    "    # no cooldown\n",
    "    if n == 0:\n",
    "        return len(tasks)\n",
    "    \n",
    "    max_count = 0\n",
    "    num_of_max = 1\n",
    "    counter = dict()\n",
    "    for t in tasks:\n",
    "        counter[t] = counter.get(t, 0) + 1\n",
    "        if max_count == counter[t]:\n",
    "            num_of_max += 1\n",
    "        elif counter[t] > max_count:\n",
    "            max_count = counter[t]\n",
    "            num_of_max = 1\n",
    "\n",
    "    return max(len(tasks), (max_count - 1) * (n + 1) + num_of_max)\n",
    "\n",
    "\n",
    "\n",
    "print(leastInterval(tasks = [\"A\",\"A\",\"A\",\"B\",\"B\",\"B\"], n = 2)) # 8\n",
    "print(leastInterval(tasks = [\"A\",\"A\",\"A\",\"B\",\"B\",\"B\"], n = 0)) # 6\n",
    "print(leastInterval([\"A\",\"A\",\"A\",\"A\",\"A\",\"A\",\"B\",\"C\",\"D\",\"E\",\"F\",\"G\"], 2)) # 16\n",
    "print(leastInterval([\"A\",\"B\",\"C\",\"D\",\"E\",\"A\",\"B\",\"C\",\"D\",\"E\"], 4)) #10\n",
    "print(leastInterval([\"A\",\"A\",\"A\",\"B\",\"B\",\"B\",\"C\",\"C\",\"C\",\"D\",\"D\",\"E\"], 2)) #12"
   ]
  },
  {
   "attachments": {},
   "cell_type": "markdown",
   "metadata": {},
   "source": [
    "**881. Boats to Save People**\n",
    "\n",
    "You are given an array people where people[i] is the weight of the ith person, and an infinite number of boats where each boat can carry a maximum weight of limit. Each boat carries at most two people at the same time, provided the sum of the weight of those people is at most limit.\n",
    "\n",
    "Return the minimum number of boats to carry every given person."
   ]
  },
  {
   "cell_type": "code",
   "execution_count": 5,
   "metadata": {},
   "outputs": [
    {
     "name": "stdout",
     "output_type": "stream",
     "text": [
      "1\n",
      "3\n",
      "4\n"
     ]
    }
   ],
   "source": [
    "def numRescueBoats(people: list[int], limit: int) -> int:\n",
    "    counter = 0\n",
    "    people.sort()\n",
    "    l = 0\n",
    "    r = len(people) - 1\n",
    "    while l <= r:\n",
    "        counter += 1\n",
    "        if people[l] + people[r] <= limit:\n",
    "            l += 1\n",
    "        r -= 1\n",
    "    return counter\n",
    "\n",
    "print(numRescueBoats(people = [1,2], limit = 3)) # 1\n",
    "print(numRescueBoats(people = [3,2,2,1], limit = 3)) # 3\n",
    "print(numRescueBoats(people = [3,5,3,4], limit = 5)) # 4"
   ]
  },
  {
   "attachments": {},
   "cell_type": "markdown",
   "metadata": {},
   "source": [
    "**1254. Number of Closed Islands**\n",
    "\n",
    "Given a 2D grid consists of 0s (land) and 1s (water).  An island is a maximal 4-directionally connected group of 0s and a closed island is an island totally (all left, top, right, bottom) surrounded by 1s.\n",
    "\n",
    "Return the number of closed islands."
   ]
  },
  {
   "cell_type": "code",
   "execution_count": 38,
   "metadata": {},
   "outputs": [
    {
     "name": "stdout",
     "output_type": "stream",
     "text": [
      "2\n",
      "1\n",
      "2\n"
     ]
    }
   ],
   "source": [
    "# a bit slow\n",
    "def closedIsland(grid: list[list[int]]) -> int:\n",
    "    from collections import deque\n",
    "    counter = -1\n",
    "    \n",
    "    width = len(grid[0])\n",
    "    grid = [[0] * width] + grid + [[0] * width]\n",
    "    grid = [[0] + row + [0] for row in grid]\n",
    "    width = len(grid[0])\n",
    "    height = len(grid)\n",
    "\n",
    "    visited = set()\n",
    "    def bfs(h, w):\n",
    "        q = deque([(h,w)])\n",
    "        while q:\n",
    "            h, w = q.pop()\n",
    "            neigbours = [(h+1, w), (h-1, w), (h, w+1), (h, w-1)]\n",
    "            for hh, ww in neigbours:\n",
    "                if 0 <= hh < height and 0 <= ww < width and grid[hh][ww] == 0 and (hh, ww) not in visited:\n",
    "                    q.appendleft((hh,ww))\n",
    "                    visited.add((hh,ww))\n",
    "    \n",
    "    for h in range(height-2):\n",
    "        for w in range(width-2):\n",
    "            if grid[h][w] == 0 and (h,w) not in visited:\n",
    "                visited.add((h,w))\n",
    "                bfs(h,w)\n",
    "                counter += 1\n",
    "\n",
    "    return counter\n",
    "\n",
    "# a little faster\n",
    "def closedIsland(grid: list[list[int]]) -> int:\n",
    "    from collections import deque\n",
    "    counter = 0\n",
    "    height = len(grid)\n",
    "    width = len(grid[0])\n",
    "    not_closed = False\n",
    "\n",
    "    visited = set()\n",
    "\n",
    "    def bfs(h, w):\n",
    "        q = deque([(h,w)])\n",
    "        while q:\n",
    "            h, w = q.pop()\n",
    "            if h == 0 or w == 0 or h == height-1 or w == width-1:\n",
    "                nonlocal not_closed\n",
    "                not_closed = True\n",
    "            neigbours = [(h+1, w), (h-1, w), (h, w+1), (h, w-1)]\n",
    "            for hh, ww in neigbours:\n",
    "                if 0 <= hh < height and 0 <= ww < width and grid[hh][ww] == 0 and (hh, ww) not in visited:\n",
    "                    q.appendleft((hh,ww))\n",
    "                    visited.add((hh,ww))\n",
    "    \n",
    "    for h in range(height):\n",
    "        for w in range(width):\n",
    "            if grid[h][w] == 0 and (h,w) not in visited:\n",
    "                visited.add((h,w))\n",
    "                bfs(h,w)\n",
    "                if not not_closed:\n",
    "                    counter += 1\n",
    "                not_closed = False\n",
    "\n",
    "    return counter\n",
    "\n",
    "print(closedIsland(grid = [[1,1,1,1,1,1,1,0],[1,0,0,0,0,1,1,0],[1,0,1,0,1,1,1,0],[1,0,0,0,0,1,0,1],[1,1,1,1,1,1,1,0]])) # 2\n",
    "print(closedIsland(grid = [[0,0,1,0,0],[0,1,0,1,0],[0,1,1,1,0]])) # 1\n",
    "print(closedIsland(grid = [[1,1,1,1,1,1,1],\n",
    "               [1,0,0,0,0,0,1],\n",
    "               [1,0,1,1,1,0,1],\n",
    "               [1,0,1,0,1,0,1],\n",
    "               [1,0,1,1,1,0,1],\n",
    "               [1,0,0,0,0,0,1],\n",
    "               [1,1,1,1,1,1,1]])) # 2"
   ]
  },
  {
   "attachments": {},
   "cell_type": "markdown",
   "metadata": {},
   "source": [
    "**1305. All Elements in Two Binary Search Trees**\n",
    "\n",
    "Given two binary search trees root1 and root2, return a list containing all the integers from both trees sorted in ascending order."
   ]
  },
  {
   "cell_type": "code",
   "execution_count": 91,
   "metadata": {},
   "outputs": [
    {
     "name": "stdout",
     "output_type": "stream",
     "text": [
      "[0, 1, 1, 2, 3, 4]\n",
      "[1, 1, 8, 8]\n"
     ]
    }
   ],
   "source": [
    "# two traversals\n",
    "def getAllElements(root1: TreeNode, root2: TreeNode):\n",
    "    out1 = []\n",
    "    out2 = []\n",
    "\n",
    "    def dfs(root, out):\n",
    "        if root:\n",
    "            dfs(root.left, out)\n",
    "            if root.val is not None:\n",
    "                out.append(root.val)\n",
    "            dfs(root.right, out)\n",
    "\n",
    "    dfs(root1, out1)\n",
    "    dfs(root2, out2)\n",
    "\n",
    "    out = []\n",
    "        \n",
    "    i, j = 0, 0\n",
    "\n",
    "    while i < len(out1) and j < len(out2):\n",
    "        if out1[i] < out2[j]:\n",
    "            out.append(out1[i])\n",
    "            i += 1\n",
    "        else:\n",
    "            out.append(out2[j])\n",
    "            j += 1\n",
    "\n",
    "    if i < len(out1):\n",
    "        out.extend(out1[i:])\n",
    "\n",
    "    if j < len(out2):\n",
    "        out.extend(out2[j:])\n",
    "\n",
    "    return out\n",
    "\n",
    "# faster, because python sort is fast\n",
    "def getAllElements(root1: TreeNode, root2: TreeNode):\n",
    "    \n",
    "    out = []\n",
    "\n",
    "    def dfs(root, out):\n",
    "        if root:\n",
    "            dfs(root.left, out)\n",
    "            if root.val is not None:\n",
    "                out.append(root.val)\n",
    "            dfs(root.right, out)\n",
    "\n",
    "    dfs(root1, out)\n",
    "    dfs(root2, out)\n",
    "\n",
    "    return sorted(out)\n",
    "\n",
    "print(getAllElements(make_binary_tree([2,1,4]), make_binary_tree([1,0,3])))\n",
    "print(getAllElements(make_binary_tree([1,None,8]), make_binary_tree([8,1])))"
   ]
  },
  {
   "cell_type": "markdown",
   "metadata": {},
   "source": [
    "**1551. Minimum Operations to Make Array Equal**\n",
    "\n",
    "You have an array arr of length n where arr[i] = (2 * i) + 1 for all valid values of i (i.e., 0 <= i < n).\n",
    "\n",
    "In one operation, you can select two indices x and y where 0 <= x, y < n and subtract 1 from arr[x] and add 1 to arr[y] (i.e., perform arr[x] -=1 and arr[y] += 1). The goal is to make all the elements of the array equal. It is guaranteed that all the elements of the array can be made equal using some operations.\n",
    "\n",
    "Given an integer n, the length of the array, return the minimum number of operations needed to make all the elements of arr equal."
   ]
  },
  {
   "cell_type": "code",
   "execution_count": 25,
   "metadata": {},
   "outputs": [],
   "source": [
    "# works, but can be faster\n",
    "def minOperations(n: int) -> int:\n",
    "    arr = range(1, n, 2)\n",
    "    counter = 0\n",
    "    for num in arr:\n",
    "        counter += (n - num)\n",
    "\n",
    "    return counter\n",
    "\n",
    "# fast one liner\n",
    "def minOperations(n: int) -> int:\n",
    "    return (n//2)**2 + (n//2) * (n%2)\n"
   ]
  },
  {
   "attachments": {},
   "cell_type": "markdown",
   "metadata": {},
   "source": [
    "**2212. Maximum Points in an Archery Competition**\n",
    "\n",
    "Alice and Bob are opponents in an archery competition. The competition has set the following rules:\n",
    "\n",
    "Alice first shoots numArrows arrows and then Bob shoots numArrows arrows.\n",
    "The points are then calculated as follows:\n",
    "The target has integer scoring sections ranging from 0 to 11 inclusive.\n",
    "For each section of the target with score k (in between 0 to 11), say Alice and Bob have shot ak and bk arrows on that section respectively. If ak >= bk, then Alice takes k points. If ak < bk, then Bob takes k points.\n",
    "However, if ak == bk == 0, then nobody takes k points.\n",
    "For example, if Alice and Bob both shot 2 arrows on the section with score 11, then Alice takes 11 points. On the other hand, if Alice shot 0 arrows on the section with score 11 and Bob shot 2 arrows on that same section, then Bob takes 11 points.\n",
    "\n",
    "You are given the integer numArrows and an integer array aliceArrows of size 12, which represents the number of arrows Alice shot on each scoring section from 0 to 11. Now, Bob wants to maximize the total number of points he can obtain.\n",
    "\n",
    "Return the array bobArrows which represents the number of arrows Bob shot on each scoring section from 0 to 11. The sum of the values in bobArrows should equal numArrows.\n",
    "\n",
    "If there are multiple ways for Bob to earn the maximum total points, return any one of them."
   ]
  },
  {
   "cell_type": "code",
   "execution_count": 37,
   "metadata": {},
   "outputs": [
    {
     "name": "stdout",
     "output_type": "stream",
     "text": [
      "[0, 0, 0, 0, 1, 1, 0, 0, 1, 2, 3, 1]\n",
      "[0, 0, 0, 0, 0, 0, 0, 0, 1, 1, 1, 0]\n",
      "[0, 0, 0, 0, 0, 0, 0, 1, 1, 1, 2, 1]\n"
     ]
    }
   ],
   "source": [
    "# DP - times out!!!\n",
    "def maximumBobPoints(numArrows, aliceArrows):\n",
    "    sectors = len(aliceArrows)\n",
    "    cost = [n+1 for n in aliceArrows]\n",
    "\n",
    "    dp = [[0] * (numArrows+1) for _ in range(sectors)]\n",
    "\n",
    "    for s in range(1, sectors):\n",
    "        for a in range(1, numArrows+1):\n",
    "            if cost[s] <= a:\n",
    "                dp[s][a] = max((dp[s-1][a]), dp[s-1][a-cost[s]] + s)\n",
    "            else:\n",
    "                dp[s][a] = dp[s-1][a]\n",
    "\n",
    "    solution = [0]*sectors\n",
    "\n",
    "    s = sectors-1\n",
    "    a = numArrows\n",
    "\n",
    "    while s > 0:\n",
    "        temp_s = s-1\n",
    "        if dp[s][a] > dp[temp_s][a]:\n",
    "            solution[s] = cost[s]\n",
    "            a -= cost[s]\n",
    "        s = temp_s\n",
    "\n",
    "    solution[0] = numArrows - sum(solution)\n",
    "\n",
    "    return solution\n",
    "\n",
    "# BFS - works\n",
    "from collections import deque\n",
    "\n",
    "def maximumBobPoints(numArrows, aliceArrows):\n",
    "    sectors = len(aliceArrows)\n",
    "    cost = [n+1 for n in aliceArrows]\n",
    "\n",
    "    q = deque([[[0] * sectors, sectors-1, 0]])\n",
    "\n",
    "    max_score = 0\n",
    "    result = []\n",
    "\n",
    "    while q:\n",
    "        bobArrows, current_sector, current_score = q.popleft()\n",
    "        current_sum = sum(bobArrows)\n",
    "        if current_score > max_score and current_sum <= numArrows:\n",
    "            max_score = current_score\n",
    "            result = bobArrows.copy()\n",
    "        if current_sum < numArrows:\n",
    "            score_with_sector = bobArrows.copy()\n",
    "            score_with_sector[current_sector] = cost[current_sector]\n",
    "            if current_sector > 0:\n",
    "                q.extend([[score_with_sector, current_sector-1, current_score+current_sector], [bobArrows, current_sector-1, current_score]])\n",
    "            \n",
    "    result[0] = numArrows - sum(result)\n",
    "\n",
    "    return result\n",
    "\n",
    "\n",
    "print(maximumBobPoints(numArrows = 9, aliceArrows = [1,1,0,1,0,0,2,1,0,1,2,0])) # [0,0,0,0,1,1,0,0,1,2,3,1]\n",
    "print(maximumBobPoints(numArrows = 3, aliceArrows = [0,0,1,0,0,0,0,0,0,0,0,2])) # [0,0,0,0,0,0,0,0,1,1,1,0]\n",
    "print(maximumBobPoints(numArrows = 6, aliceArrows = [0,0,1,1,2,1,0,0,0,0,1,0])) # [0,0,0,0,0,0,0,1,1,1,2,1]"
   ]
  },
  {
   "attachments": {},
   "cell_type": "markdown",
   "metadata": {},
   "source": [
    "**2260. Minimum Consecutive Cards to Pick Up**\n",
    "\n",
    "You are given an integer array cards where cards[i] represents the value of the ith card. A pair of cards are matching if the cards have the same value.\n",
    "\n",
    "Return the minimum number of consecutive cards you have to pick up to have a pair of matching cards among the picked cards. If it is impossible to have matching cards, return -1."
   ]
  },
  {
   "cell_type": "code",
   "execution_count": 1,
   "metadata": {},
   "outputs": [
    {
     "name": "stdout",
     "output_type": "stream",
     "text": [
      "4\n",
      "-1\n"
     ]
    }
   ],
   "source": [
    "def minimumCardPickup(cards) -> int:\n",
    "    min_dist = float(\"inf\")\n",
    "    dic = dict()\n",
    "    for i in range(len(cards)):\n",
    "        if cards[i] in dic:\n",
    "            min_dist = min(min_dist, i - dic[cards[i]] + 1)\n",
    "            if min_dist == 2:\n",
    "                return min_dist\n",
    "            dic[cards[i]] = i\n",
    "        else:\n",
    "            dic[cards[i]] = i\n",
    "    return -1 if min_dist == float(\"inf\") else min_dist\n",
    "\n",
    "print(minimumCardPickup([3,4,2,3,4,7])) # 4\n",
    "print(minimumCardPickup([1,0,5,3])) # -1"
   ]
  },
  {
   "attachments": {},
   "cell_type": "markdown",
   "metadata": {},
   "source": [
    "**2300. Successful Pairs of Spells and Potions**\n",
    "\n",
    "You are given two positive integer arrays spells and potions, of length n and m respectively, where spells[i] represents the strength of the ith spell and potions[j] represents the strength of the jth potion.\n",
    "\n",
    "You are also given an integer success. A spell and potion pair is considered successful if the product of their strengths is at least success.\n",
    "\n",
    "Return an integer array pairs of length n where pairs[i] is the number of potions that will form a successful pair with the ith spell."
   ]
  },
  {
   "cell_type": "code",
   "execution_count": 43,
   "metadata": {},
   "outputs": [
    {
     "name": "stdout",
     "output_type": "stream",
     "text": [
      "[4, 0, 3]\n",
      "[2, 0, 2]\n"
     ]
    }
   ],
   "source": [
    "# lots of binary searches on potions\n",
    "def successfulPairs(spells: list[int], potions: list[int], success: int) -> list[int]:\n",
    "    from math import ceil\n",
    "    potions.sort()\n",
    "    n = len(spells)\n",
    "    m = len(potions)\n",
    "    out = [0] * n\n",
    "    least_strength = [ceil(success/spells[i]) for i in range(n)]\n",
    "    for i in range(n):\n",
    "        target = least_strength[i]\n",
    "        l = 0\n",
    "        r = m - 1\n",
    "        while l <= r:\n",
    "            mid = (l+r)//2\n",
    "            if potions[mid] < target:\n",
    "                l = mid + 1\n",
    "            else:\n",
    "                r = mid - 1\n",
    "        out[i] = m - l\n",
    "    return out\n",
    "\n",
    "# another solution - faster?\n",
    "def successfulPairs(spells: list[int], potions: list[int], success: int) -> list[int]:\n",
    "    from math import ceil\n",
    "    n = len(spells)\n",
    "    m = len(potions)\n",
    "    out = [0] * n\n",
    "    least_strength = [ceil(success/spells[i]) for i in range(n)]\n",
    "    potion_strengths = [0] * 100001\n",
    "    for p in potions:\n",
    "        potion_strengths[p] += 1\n",
    "    for i in range(len(potion_strengths)-2, -1, -1):\n",
    "        potion_strengths[i] += potion_strengths[i+1]\n",
    "    for i in range(n):\n",
    "        if least_strength[i] < 100001:\n",
    "            out[i] = potion_strengths[least_strength[i]]\n",
    "    return out\n",
    "\n",
    "print(successfulPairs(spells = [5,1,3], potions = [1,2,3,4,5], success = 7))\n",
    "print(successfulPairs(spells = [3,1,2], potions = [8,5,8], success = 16))"
   ]
  },
  {
   "attachments": {},
   "cell_type": "markdown",
   "metadata": {},
   "source": [
    "**2327. Number of People Aware of a Secret**\n",
    "\n",
    "On day 1, one person discovers a secret.\n",
    "\n",
    "You are given an integer delay, which means that each person will share the secret with a new person every day, starting from delay days after discovering the secret. You are also given an integer forget, which means that each person will forget the secret forget days after discovering it. A person cannot share the secret on the same day they forgot it, or on any day afterwards.\n",
    "\n",
    "Given an integer n, return the number of people who know the secret at the end of day n. Since the answer may be very large, return it modulo 109 + 7."
   ]
  },
  {
   "cell_type": "code",
   "execution_count": 105,
   "metadata": {},
   "outputs": [
    {
     "name": "stdout",
     "output_type": "stream",
     "text": [
      "5\n",
      "6\n"
     ]
    }
   ],
   "source": [
    "# a little slow, because sum of people sharing is recalculated every day\n",
    "def peopleAwareOfSecret(n: int, delay: int, forget: int) -> int:\n",
    "    loop = [1] + [0] * (forget-1)\n",
    "    f = 0\n",
    "    for d in range(n):\n",
    "        i = -d % forget\n",
    "        loop[i] -= f\n",
    "        x, y = (i+delay)%forget, i%forget\n",
    "        if x < y:\n",
    "            loop[i] += sum(loop[x:y])\n",
    "        else:\n",
    "            loop[i] += sum(loop[x:] + loop[:y])\n",
    "        f = loop[(i-1)%forget]\n",
    "    return sum(loop) % (10**9 + 7)\n",
    "\n",
    "# faster\n",
    "def peopleAwareOfSecret(n: int, delay: int, forget: int) -> int:\n",
    "    loop = [1] + [0] * (forget-1)\n",
    "    sharing = 0\n",
    "    f = 0\n",
    "    for d in range(n):\n",
    "        i = -d % forget\n",
    "        loop[i] -= f\n",
    "        sharing += loop[(i+delay)%forget] - f\n",
    "        loop[i] += sharing\n",
    "        f = loop[(i-1)%forget]\n",
    "    return sum(loop) % (10**9 + 7)\n",
    "\n",
    "# fastest!\n",
    "def peopleAwareOfSecret(n: int, delay: int, forget: int) -> int:\n",
    "    loop = [1] + [0] * (forget-1)\n",
    "    sharing = 0\n",
    "    f = 0\n",
    "    for d in range(1, n):\n",
    "        i = -d % forget\n",
    "        sharing += loop[(i+delay)%forget] - f\n",
    "        loop[i] = sharing\n",
    "        f = loop[(i-1)%forget]\n",
    "    return sum(loop) % (10**9 + 7)\n",
    "\n",
    "print(peopleAwareOfSecret(6, 2, 4)) # 5\n",
    "print(peopleAwareOfSecret(4, 1, 3)) # 6"
   ]
  },
  {
   "attachments": {},
   "cell_type": "markdown",
   "metadata": {},
   "source": [
    "**2405. Optimal Partition of String**\n",
    "\n",
    "Given a string s, partition the string into one or more substrings such that the characters in each substring are unique. That is, no letter appears in a single substring more than once.\n",
    "\n",
    "Return the minimum number of substrings in such a partition.\n",
    "\n",
    "Note that each character should belong to exactly one substring in a partition."
   ]
  },
  {
   "cell_type": "code",
   "execution_count": 1,
   "metadata": {},
   "outputs": [
    {
     "data": {
      "text/plain": [
       "4"
      ]
     },
     "execution_count": 1,
     "metadata": {},
     "output_type": "execute_result"
    }
   ],
   "source": [
    "def partitionString(s: str) -> int:\n",
    "    counter = 1\n",
    "    subset = set()\n",
    "    for c in s:\n",
    "        if c in subset:\n",
    "            subset = {c} \n",
    "            counter += 1\n",
    "        else:\n",
    "            subset.add(c)\n",
    "    return counter\n",
    "\n",
    "partitionString(\"abacaba\")"
   ]
  },
  {
   "attachments": {},
   "cell_type": "markdown",
   "metadata": {},
   "source": [
    "**2439. Minimize Maximum of Array**\n",
    "\n",
    "You are given a 0-indexed array nums comprising of n non-negative integers.\n",
    "\n",
    "In one operation, you must:\n",
    "\n",
    "Choose an integer i such that 1 <= i < n and nums[i] > 0.\n",
    "Decrease nums[i] by 1.\n",
    "Increase nums[i - 1] by 1.\n",
    "Return the minimum possible value of the maximum integer of nums after performing any number of operations."
   ]
  },
  {
   "cell_type": "code",
   "execution_count": 74,
   "metadata": {},
   "outputs": [
    {
     "name": "stdout",
     "output_type": "stream",
     "text": [
      "5\n",
      "10\n",
      "16\n",
      "8\n"
     ]
    }
   ],
   "source": [
    "def minimizeArrayValue(nums: list[int]) -> int:\n",
    "    current_max = 0\n",
    "    average = 0\n",
    "    count = 0\n",
    "    for n in nums:\n",
    "        if n >= average:\n",
    "            average = (average * count + n) / (count + 1)\n",
    "            count += 1\n",
    "            current_max = max(current_max, average)\n",
    "        else:\n",
    "            average = (average * count + n) / (count + 1)\n",
    "            count += 1\n",
    "    return int(current_max + 1) if current_max % 1 else int(current_max)\n",
    "\n",
    "# same, but better maths\n",
    "def minimizeArrayValue(nums: list[int]) -> int:\n",
    "    current_max = 0\n",
    "    average = 0\n",
    "    count = 0\n",
    "    for n in nums:\n",
    "        count += 1\n",
    "        if n > average:\n",
    "            average += (n - average) / count\n",
    "            current_max = max(current_max, average)\n",
    "        else:\n",
    "            average += (n - average) / count\n",
    "    return int(current_max + 1) if current_max % 1 else int(current_max)\n",
    "\n",
    "print(minimizeArrayValue([3,7,1,6])) # 5\n",
    "print(minimizeArrayValue([10,1])) # 10\n",
    "print(minimizeArrayValue([13,13,20,0,8,9,9])) # 16\n",
    "print(minimizeArrayValue([6,9,3,8,14])) # 8"
   ]
  }
 ],
 "metadata": {
  "kernelspec": {
   "display_name": "Python 3",
   "language": "python",
   "name": "python3"
  },
  "language_info": {
   "codemirror_mode": {
    "name": "ipython",
    "version": 3
   },
   "file_extension": ".py",
   "mimetype": "text/x-python",
   "name": "python",
   "nbconvert_exporter": "python",
   "pygments_lexer": "ipython3",
   "version": "3.11.1"
  },
  "orig_nbformat": 4,
  "vscode": {
   "interpreter": {
    "hash": "284a54327780f6c007f4aad64d9a33d5190d4bf050ef483f4897af3688e59b5a"
   }
  }
 },
 "nbformat": 4,
 "nbformat_minor": 2
}
