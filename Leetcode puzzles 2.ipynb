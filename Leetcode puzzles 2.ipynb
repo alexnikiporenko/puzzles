{
 "cells": [
  {
   "cell_type": "code",
   "execution_count": 1,
   "metadata": {},
   "outputs": [
    {
     "name": "stdout",
     "output_type": "stream",
     "text": [
      "2 4 3 \n",
      "5 6 4 \n"
     ]
    }
   ],
   "source": [
    "# Definition for singly-linked list.\n",
    "class ListNode:\n",
    "    def __init__(self, val=0, next=None):\n",
    "        self.val = val\n",
    "        self.next = next\n",
    "\n",
    "def make_linked_list(nums):\n",
    "    linked_list = ListNode(val=nums[0])\n",
    "    node = linked_list\n",
    "    for n in nums[1:]:\n",
    "        node.next = ListNode(val=n)\n",
    "        node = node.next\n",
    "    return linked_list\n",
    "\n",
    "def print_linked_list(node):\n",
    "    while node:\n",
    "        print(node.val, end=\" \")\n",
    "        node = node.next\n",
    "    print()\n",
    "\n",
    "print_linked_list(make_linked_list([2,4,3]))\n",
    "print_linked_list(make_linked_list([5,6,4]))"
   ]
  },
  {
   "cell_type": "code",
   "execution_count": 1,
   "metadata": {},
   "outputs": [],
   "source": [
    "# Definition for a binary tree node.\n",
    "class TreeNode:\n",
    "    def __init__(self, val=0, left=None, right=None):\n",
    "        self.val = val\n",
    "        self.left = left\n",
    "        self.right = right"
   ]
  },
  {
   "cell_type": "markdown",
   "metadata": {},
   "source": [
    "**1. Two Sum**\n",
    "\n",
    "Given an array of integers nums and an integer target, return indices of the two numbers such that they add up to target.\n",
    "\n",
    "You may assume that each input would have exactly one solution, and you may not use the same element twice.\n",
    "\n",
    "You can return the answer in any order."
   ]
  },
  {
   "cell_type": "code",
   "execution_count": 83,
   "metadata": {},
   "outputs": [
    {
     "data": {
      "text/plain": [
       "[1, 0]"
      ]
     },
     "execution_count": 83,
     "metadata": {},
     "output_type": "execute_result"
    }
   ],
   "source": [
    "def twoSum(nums, target):\n",
    "    visited = {}\n",
    "    for i in range(len(nums)):\n",
    "        if target - nums[i] in visited:\n",
    "            return [i, visited[target - nums[i]]]\n",
    "        visited[nums[i]] = i\n",
    "\n",
    "twoSum([2,7,11,15], 9)"
   ]
  },
  {
   "cell_type": "markdown",
   "metadata": {},
   "source": [
    "**2. Add Two Numbers**\n",
    "\n",
    "You are given two non-empty linked lists representing two non-negative integers. The digits are stored in reverse order, and each of their nodes contains a single digit. Add the two numbers and return the sum as a linked list.\n",
    "\n",
    "You may assume the two numbers do not contain any leading zero, except the number 0 itself."
   ]
  },
  {
   "cell_type": "code",
   "execution_count": 2,
   "metadata": {},
   "outputs": [
    {
     "name": "stdout",
     "output_type": "stream",
     "text": [
      "8 1 \n"
     ]
    }
   ],
   "source": [
    "# a bit slow, try again later\n",
    "def addTwoNumbers(l1: ListNode, l2: ListNode) -> ListNode:\n",
    "    add = 0\n",
    "    last = None\n",
    "    n1, n2 = l1, l2\n",
    "    while n1:\n",
    "        num = n1.val + n2.val + add\n",
    "        n1.val = num % 10 \n",
    "        add = num // 10\n",
    "        # create 0 nodes if one number is shorter\n",
    "        if n2.next and not n1.next:\n",
    "            n1.next = ListNode()\n",
    "        elif n1.next and not n2.next:\n",
    "            n2.next = ListNode()\n",
    "        last = n1\n",
    "        n1, n2 = n1.next, n2.next\n",
    "    if add:\n",
    "        last.next = ListNode(val=1)\n",
    "    return l1\n",
    "\n",
    "l1 = make_linked_list([9]) \n",
    "l2 = make_linked_list([9])\n",
    "\n",
    "print_linked_list(addTwoNumbers(l1, l2))"
   ]
  },
  {
   "cell_type": "markdown",
   "metadata": {},
   "source": [
    "**5. Longest Palindromic Substring**\n",
    "\n",
    "Given a string s, return the longest palindromic substring in s."
   ]
  },
  {
   "cell_type": "code",
   "execution_count": 48,
   "metadata": {},
   "outputs": [
    {
     "data": {
      "text/plain": [
       "'sooos'"
      ]
     },
     "execution_count": 48,
     "metadata": {},
     "output_type": "execute_result"
    }
   ],
   "source": [
    "# faster than 96.68%, memory less than 91.35%\n",
    "def longestPalindrome(s: str) -> str:\n",
    "\n",
    "    if len(set(s)) == 1:\n",
    "        return s\n",
    "    \n",
    "    longest = s[0]\n",
    "\n",
    "    for i in range(1, len(s)):\n",
    "        if len(longest) >= (len(s)-i+1)*2:\n",
    "            return longest\n",
    "        for l in [i-1, i]:\n",
    "            r = i\n",
    "            while l >= 0 and r < len(s) and s[l] == s[r]:\n",
    "                if r+1-l > len(longest):\n",
    "                    longest = s[l:r+1]\n",
    "                l -= 1\n",
    "                r += 1\n",
    "\n",
    "    return longest\n",
    "            \n",
    "longestPalindrome(\"azwdzwmwcqzgcobeeiphemqbjtxzwkhiqpbrprocbppbxrnsxnwgikiaqutwpftbiinlnpyqstkiqzbggcsdzzjbrkfmhgtnbujzszxsycmvipjtktpebaafycngqasbbhxaeawwmkjcziybxowkaibqnndcjbsoehtamhspnidjylyisiaewmypfyiqtwlmejkpzlieolfdjnxntonnzfgcqlcfpoxcwqctalwrgwhvqvtrpwemxhirpgizjffqgntsmvzldpjfijdncexbwtxnmbnoykxshkqbounzrewkpqjxocvaufnhunsmsazgibxedtopnccriwcfzeomsrrangufkjfzipkmwfbmkarnyyrgdsooosgqlkzvorrrsaveuoxjeajvbdpgxlcrtqomliphnlehgrzgwujogxteyulphhuhwyoyvcxqatfkboahfqhjgujcaapoyqtsdqfwnijlkknuralezqmcryvkankszmzpgqutojoyzsnyfwsyeqqzrlhzbc\")\n"
   ]
  },
  {
   "attachments": {},
   "cell_type": "markdown",
   "metadata": {},
   "source": [
    "**6. Zigzag Conversion**\n",
    "\n",
    "The string \"PAYPALISHIRING\" is written in a zigzag pattern on a given number of rows like this: (you may want to display this pattern in a fixed font for better legibility)\n",
    "\n",
    "`P...A...H...N`<br>\n",
    "`A.P.L.S.I.I.G`<br>\n",
    "`Y...I...R`<br>\n",
    "\n",
    "And then read line by line: \"PAHNAPLSIIGYIR\"\n",
    "\n",
    "Write the code that will take a string and make this conversion given a number of rows:\n",
    "\n",
    "string convert(string s, int numRows);"
   ]
  },
  {
   "cell_type": "code",
   "execution_count": 35,
   "metadata": {},
   "outputs": [
    {
     "name": "stdout",
     "output_type": "stream",
     "text": [
      "PAHNAPLSIIGYIR\n",
      "PINALSIGYAHRPI\n",
      "PAYPALISHIRING\n"
     ]
    }
   ],
   "source": [
    "def convert(s: str, numRows: int) -> str:\n",
    "    if numRows == 1:\n",
    "        return s\n",
    "    strs = [\"\"] * numRows\n",
    "    counter = 0\n",
    "    ascending = True\n",
    "    for l in s:\n",
    "        strs[counter] += l\n",
    "        if counter == numRows - 1 and ascending:\n",
    "            ascending = False\n",
    "        elif counter == 0 and not ascending:\n",
    "            ascending = True\n",
    "        if ascending:\n",
    "            counter += 1\n",
    "        else:\n",
    "            counter -= 1\n",
    "\n",
    "    return \"\".join(strs)\n",
    "\n",
    "print(convert(\"PAYPALISHIRING\", 3)) # PAHNAPLSIIGYIR\n",
    "print(convert(\"PAYPALISHIRING\", 4)) # PINALSIGYAHRPI\n",
    "print(convert(\"PAYPALISHIRING\", 1)) # PAYPALISHIRING"
   ]
  },
  {
   "attachments": {},
   "cell_type": "markdown",
   "metadata": {},
   "source": [
    "**11. Container With Most Water**\n",
    "\n",
    "You are given an integer array height of length n. There are n vertical lines drawn such that the two endpoints of the ith line are (i, 0) and (i, height[i]).\n",
    "\n",
    "Find two lines that together with the x-axis form a container, such that the container contains the most water.\n",
    "\n",
    "Return the maximum amount of water a container can store."
   ]
  },
  {
   "cell_type": "code",
   "execution_count": 6,
   "metadata": {},
   "outputs": [
    {
     "name": "stdout",
     "output_type": "stream",
     "text": [
      "49\n",
      "1\n"
     ]
    }
   ],
   "source": [
    "def maxArea(height):\n",
    "    l = 0\n",
    "    r = len(height) - 1\n",
    "    currentMax = 0\n",
    "    while l < r:\n",
    "        area = (r-l) * min(height[l], height[r])\n",
    "        currentMax = max(currentMax, area)\n",
    "        if height[l] < height[r]:\n",
    "            l += 1\n",
    "        else:\n",
    "            r -= 1\n",
    "    return currentMax\n",
    "\n",
    "print(maxArea([1,8,6,2,5,4,8,3,7])) # 49\n",
    "print(maxArea([1,1])) # 1"
   ]
  },
  {
   "cell_type": "markdown",
   "metadata": {},
   "source": [
    "**15. 3Sum**\n",
    "\n",
    "Given an integer array nums, return all the triplets [nums[i], nums[j], nums[k]] such that i != j, i != k, and j != k, and nums[i] + nums[j] + nums[k] == 0.\n",
    "\n",
    "Notice that the solution set must not contain duplicate triplets."
   ]
  },
  {
   "cell_type": "code",
   "execution_count": 82,
   "metadata": {},
   "outputs": [
    {
     "data": {
      "text/plain": [
       "[[-2, 1, 1]]"
      ]
     },
     "execution_count": 82,
     "metadata": {},
     "output_type": "execute_result"
    }
   ],
   "source": [
    "# slow, but accepted. No initial sorting.\n",
    "def threeSum(nums):\n",
    "    out = set()\n",
    "    visited1 = set()\n",
    "    for p1 in range(len(nums)-2):\n",
    "        if nums[p1] in visited1:\n",
    "            continue\n",
    "        visited2 = set()\n",
    "        target = 0-nums[p1]\n",
    "        for p2 in range(p1+1, len(nums)):\n",
    "            if target - nums[p2] in visited2:\n",
    "                out.add(tuple(sorted([nums[p1], nums[p2], target - nums[p2]])))\n",
    "            visited2.add(nums[p2])\n",
    "\n",
    "    return [list(x) for x in out]\n",
    "\n",
    "# faster, sort the list first.\n",
    "def threeSum(nums):\n",
    "\n",
    "    length = len(nums)\n",
    "    out = []\n",
    "    nums.sort()\n",
    "\n",
    "    if nums[1] == nums[-1] == 0:\n",
    "        return [[0,0,0]]\n",
    "\n",
    "    for i in range(length-2):\n",
    "\n",
    "        if nums[i] == nums[i-1]:\n",
    "            continue\n",
    "        \n",
    "        target = 0-nums[i]\n",
    "        left = i+1\n",
    "        right = length-1\n",
    "\n",
    "        while left < right:\n",
    "            if nums[left] + nums[right] == target:\n",
    "                out.append([nums[i], nums[left], nums[right]])\n",
    "                left += 1\n",
    "                while nums[left] == nums[left-1] and left < right:\n",
    "                    left += 1\n",
    "                right -= 1\n",
    "            elif nums[left] + nums[right] < target:\n",
    "                left += 1\n",
    "            elif nums[left] + nums[right] > target:\n",
    "                right -= 1\n",
    "\n",
    "    return out\n",
    "    \n",
    "threeSum([1,1,-2])"
   ]
  },
  {
   "attachments": {},
   "cell_type": "markdown",
   "metadata": {},
   "source": [
    "**16. 3Sum Closest**\n",
    "\n",
    "Given an integer array nums of length n and an integer target, find three integers in nums such that the sum is closest to target.\n",
    "\n",
    "Return the sum of the three integers.\n",
    "\n",
    "You may assume that each input would have exactly one solution.\n",
    "\n",
    " "
   ]
  },
  {
   "cell_type": "code",
   "execution_count": 10,
   "metadata": {},
   "outputs": [],
   "source": [
    "# accepted but a bit slow\n",
    "def threeSumClosest(nums, target) -> int:\n",
    "    nums.sort()\n",
    "    n = len(nums)\n",
    "    closest = [float(\"inf\"), 0]\n",
    "    for x in range(n-2):\n",
    "        l = x+1\n",
    "        r = n-1\n",
    "        while l < r:\n",
    "            current_total = sum([nums[x], nums[l], nums[r]])\n",
    "            closest = min(closest, [abs(target - current_total), current_total])\n",
    "            if current_total > target:\n",
    "                r -= 1\n",
    "            elif current_total < target:\n",
    "                l += 1\n",
    "            else:\n",
    "                return target\n",
    "    return closest[1]\n",
    "\n",
    "assert threeSumClosest([-1,2,1,-4], 1) == 2\n",
    "assert threeSumClosest([0,0,0], 1) == 0"
   ]
  },
  {
   "cell_type": "markdown",
   "metadata": {},
   "source": [
    "**49. Group Anagrams**\n",
    "\n",
    "Given an array of strings strs, group the anagrams together. You can return the answer in any order."
   ]
  },
  {
   "cell_type": "code",
   "execution_count": 14,
   "metadata": {},
   "outputs": [
    {
     "name": "stdout",
     "output_type": "stream",
     "text": [
      "[['eat', 'tea', 'ate'], ['tan', 'nat'], ['bat']]\n",
      "[['']]\n",
      "[['a']]\n"
     ]
    }
   ],
   "source": [
    "def groupAnagrams(strs):\n",
    "    dct = {}\n",
    "    for s in strs:\n",
    "        dct.setdefault(tuple(sorted(list(s))), []).append(s)\n",
    "    return list(dct.values())\n",
    "\n",
    "s1 = [\"eat\",\"tea\",\"tan\",\"ate\",\"nat\",\"bat\"]\n",
    "s2 = [\"\"]\n",
    "s3 = [\"a\"]\n",
    "\n",
    "for s in [s1,s2,s3]:\n",
    "    print(groupAnagrams(s))"
   ]
  },
  {
   "attachments": {},
   "cell_type": "markdown",
   "metadata": {},
   "source": [
    "**55. Jump Game**\n",
    "\n",
    "You are given an integer array nums. You are initially positioned at the array's first index, and each element in the array represents your maximum jump length at that position.\n",
    "\n",
    "Return true if you can reach the last index, or false otherwise.\n"
   ]
  },
  {
   "cell_type": "code",
   "execution_count": 2,
   "metadata": {},
   "outputs": [
    {
     "name": "stdout",
     "output_type": "stream",
     "text": [
      "True\n",
      "False\n"
     ]
    }
   ],
   "source": [
    "def canJump(nums) -> bool:\n",
    "    if len(nums) == 1:\n",
    "        return True\n",
    "    count = 0\n",
    "    for i in range(len(nums)-2, -1, -1):\n",
    "        count += 1\n",
    "        if nums[i] >= count:\n",
    "            count = 0\n",
    "    return True if count == 0 else False\n",
    "\n",
    "print(canJump([2,3,1,1,4]))\n",
    "print(canJump([3,2,1,0,4]))"
   ]
  },
  {
   "attachments": {},
   "cell_type": "markdown",
   "metadata": {},
   "source": [
    "**62. Unique Paths**\n",
    "\n",
    "There is a robot on an m x n grid. The robot is initially located at the top-left corner (i.e., grid[0][0]). The robot tries to move to the bottom-right corner (i.e., grid[m - 1][n - 1]). The robot can only move either down or right at any point in time.\n",
    "\n",
    "Given the two integers m and n, return the number of possible unique paths that the robot can take to reach the bottom-right corner.\n",
    "\n",
    "The test cases are generated so that the answer will be less than or equal to 2 * 109."
   ]
  },
  {
   "cell_type": "code",
   "execution_count": 6,
   "metadata": {},
   "outputs": [
    {
     "data": {
      "text/plain": [
       "1"
      ]
     },
     "execution_count": 6,
     "metadata": {},
     "output_type": "execute_result"
    }
   ],
   "source": [
    "def uniquePaths(m, n):\n",
    "    grid = [1] * n\n",
    "    for _ in range(m-1):\n",
    "          for i in range(n-2, -1, -1):\n",
    "               grid[i] = grid[i] + grid[i+1]\n",
    "    return grid[0]\n",
    "               \n",
    "\n",
    "uniquePaths(7, 1) # 28"
   ]
  },
  {
   "attachments": {},
   "cell_type": "markdown",
   "metadata": {},
   "source": [
    "**64. Minimum Path Sum**\n",
    "\n",
    "Given a m x n grid filled with non-negative numbers, find a path from top left to bottom right, which minimizes the sum of all numbers along its path.\n",
    "\n",
    "Note: You can only move either down or right at any point in time."
   ]
  },
  {
   "cell_type": "code",
   "execution_count": 16,
   "metadata": {},
   "outputs": [
    {
     "data": {
      "text/plain": [
       "7"
      ]
     },
     "execution_count": 16,
     "metadata": {},
     "output_type": "execute_result"
    }
   ],
   "source": [
    "def minPathSum(grid):\n",
    "    height = len(grid)\n",
    "    width = len(grid[0])\n",
    "    for r in range(height-1, -1, -1):\n",
    "        for c in range(width-1, -1, -1):\n",
    "            if r < height-1:\n",
    "                if c < width-1:\n",
    "                    grid[r][c] = min((grid[r][c] + grid[r+1][c]), (grid[r][c] + grid[r][c+1]))\n",
    "                else:\n",
    "                    grid[r][c] = grid[r][c] + grid[r+1][c]\n",
    "            elif c < width-1:\n",
    "                grid[r][c] = grid[r][c] + grid[r][c+1]\n",
    "    return grid[0][0]\n",
    "\n",
    "\n",
    "minPathSum([[1,3,1],[1,5,1],[4,2,1]])"
   ]
  },
  {
   "cell_type": "markdown",
   "metadata": {},
   "source": [
    "**73. Set Matrix Zeroes**\n",
    "\n",
    "Given an m x n integer matrix matrix, if an element is 0, set its entire row and column to 0's.\n",
    "\n",
    "You must do it in place."
   ]
  },
  {
   "cell_type": "code",
   "execution_count": 23,
   "metadata": {},
   "outputs": [
    {
     "name": "stdout",
     "output_type": "stream",
     "text": [
      "[[1, 0, 1], [0, 0, 0], [1, 0, 1]]\n",
      "[[0, 0, 0, 0], [0, 4, 5, 0], [0, 3, 1, 0]]\n"
     ]
    }
   ],
   "source": [
    "def setZeroes(matrix) -> None:\n",
    "    height = len(matrix)\n",
    "    width = len(matrix[0])\n",
    "\n",
    "    rows = set()\n",
    "    cols = set()\n",
    "\n",
    "    for r in range(height):\n",
    "        for c in range(width):\n",
    "            if matrix[r][c] == 0:\n",
    "                rows.add(r)\n",
    "                cols.add(c)\n",
    "    \n",
    "    for r in range(height):\n",
    "        if r in rows:\n",
    "            matrix[r] = [0]*width\n",
    "        else:\n",
    "            for c in range(width):\n",
    "                if c in cols:\n",
    "                    matrix[r][c] = 0\n",
    "\n",
    "    print(matrix)\n",
    "\n",
    "m1 = [[1,1,1],[1,0,1],[1,1,1]]\n",
    "m2 = [[0,1,2,0],[3,4,5,2],[1,3,1,5]]\n",
    "\n",
    "for m in [m1, m2]:\n",
    "    setZeroes(m)"
   ]
  },
  {
   "attachments": {},
   "cell_type": "markdown",
   "metadata": {},
   "source": [
    "**75. Sort Colors**\n",
    "\n",
    "Given an array nums with n objects colored red, white, or blue, sort them in-place so that objects of the same color are adjacent, with the colors in the order red, white, and blue.\n",
    "\n",
    "We will use the integers 0, 1, and 2 to represent the color red, white, and blue, respectively.\n",
    "\n",
    "You must solve this problem without using the library's sort function."
   ]
  },
  {
   "cell_type": "code",
   "execution_count": 30,
   "metadata": {},
   "outputs": [
    {
     "name": "stdout",
     "output_type": "stream",
     "text": [
      "[0, 0, 1, 1, 2, 2]\n"
     ]
    }
   ],
   "source": [
    "# two passes\n",
    "def sortColors(nums):\n",
    "    r, w = 0, 0\n",
    "    for n in nums:\n",
    "        if n == 0:\n",
    "            r += 1\n",
    "        elif n == 1:\n",
    "            w += 1\n",
    "    for i in range(len(nums)):\n",
    "        if r > 0:\n",
    "            nums[i] = 0\n",
    "            r -= 1\n",
    "        elif w > 0:\n",
    "            nums[i] = 1\n",
    "            w -= 1\n",
    "        else:\n",
    "            nums[i] = 2\n",
    "\n",
    "# one pass\n",
    "def sortColors(nums):\n",
    "    r, w, b = 0, 0, len(nums)-1\n",
    "    while w <= b:\n",
    "        if nums[w] == 0:\n",
    "            nums[r], nums[w] = nums[w], nums[r] \n",
    "            r += 1\n",
    "            w += 1\n",
    "        elif nums[w] == 1:\n",
    "            w += 1\n",
    "        else:\n",
    "            nums[w], nums[b] = nums[b], nums[w]\n",
    "            b -= 1\n",
    "\n",
    "nums = [2,0,2,1,1,0]\n",
    "sortColors(nums)\n",
    "print(nums)"
   ]
  },
  {
   "cell_type": "markdown",
   "metadata": {},
   "source": [
    "**94. Binary Tree Inorder Traversal**\n",
    "\n",
    "Given the root of a binary tree, return the inorder traversal of its nodes' values."
   ]
  },
  {
   "cell_type": "code",
   "execution_count": 11,
   "metadata": {},
   "outputs": [],
   "source": [
    "# my recursive attempt\n",
    "def inorderTraversal(self, root: TreeNode):\n",
    "    def dfs(node, values=[]):\n",
    "        if node:\n",
    "            dfs(node.left, values)\n",
    "            values.append(node.val)\n",
    "            dfs(node.right, values)\n",
    "            return values\n",
    "    return dfs(root)\n",
    "\n",
    "# one-liner\n",
    "def inorderTraversal(self, root: TreeNode):\n",
    "    return  self.inorderTraversal(root.left) + [root.val] + self.inorderTraversal(root.right) if root else []\n",
    "\n",
    "# iterative\n",
    "def inorderTraversal(self, root: TreeNode):\n",
    "    values = []\n",
    "    from collections import deque\n",
    "    s = deque()\n",
    "    while s or root:\n",
    "        while root:\n",
    "            s.append(root)\n",
    "            root = root.left\n",
    "        root = s.pop()\n",
    "        values.append(root.val)\n",
    "        root = root.right\n",
    "    return values\n"
   ]
  },
  {
   "cell_type": "markdown",
   "metadata": {},
   "source": [
    "**103. Binary Tree Zigzag Level Order Traversal**\n",
    "\n",
    "Given the root of a binary tree, return the zigzag level order traversal of its nodes' values. (i.e., from left to right, then right to left for the next level and alternate between)."
   ]
  },
  {
   "cell_type": "code",
   "execution_count": 1,
   "metadata": {},
   "outputs": [],
   "source": [
    "def zigzagLevelOrder(root):\n",
    "    if not root:\n",
    "        return []\n",
    "\n",
    "    from collections import deque\n",
    "    output = []\n",
    "    right = True\n",
    "    current_level = deque()\n",
    "    next_level = deque([root])\n",
    "\n",
    "    while next_level:\n",
    "        out = []\n",
    "        current_level = next_level.copy()\n",
    "        next_level.clear()\n",
    "\n",
    "        while current_level:\n",
    "            if right:\n",
    "                node = current_level.popleft()\n",
    "                out.append(node.val)\n",
    "                if node.left:\n",
    "                    next_level.append(node.left)\n",
    "                if node.right:\n",
    "                    next_level.append(node.right)\n",
    "            else:\n",
    "                node = current_level.pop()\n",
    "                out.append(node.val)\n",
    "                if node.right:\n",
    "                    next_level.appendleft(node.right)\n",
    "                if node.left:\n",
    "                    next_level.appendleft(node.left)\n",
    "        \n",
    "        output.append(out)\n",
    "        right = not right\n",
    "\n",
    "    return output"
   ]
  },
  {
   "cell_type": "markdown",
   "metadata": {},
   "source": [
    "**105. Construct Binary Tree from Preorder and Inorder Traversal**\n",
    "\n",
    "Given two integer arrays preorder and inorder where preorder is the preorder traversal of a binary tree and inorder is the inorder traversal of the same tree, construct and return the binary tree."
   ]
  },
  {
   "cell_type": "code",
   "execution_count": 3,
   "metadata": {},
   "outputs": [],
   "source": [
    "def buildTree(preorder, inorder):\n",
    "    if not preorder or not inorder:\n",
    "        return None\n",
    "\n",
    "    root = TreeNode(preorder[0])\n",
    "    mid = inorder.index(preorder[0])\n",
    "    root.left = buildTree(preorder[1 : mid+1], inorder[:mid])\n",
    "    root.right = buildTree(preorder[mid+1:], inorder[mid+1:])\n",
    "\n",
    "    return root"
   ]
  },
  {
   "cell_type": "markdown",
   "metadata": {},
   "source": [
    "**160. Intersection of Two Linked Lists**\n",
    "\n",
    "Given the heads of two singly linked-lists headA and headB, return the node at which the two lists intersect. If the two linked lists have no intersection at all, return null."
   ]
  },
  {
   "cell_type": "code",
   "execution_count": null,
   "metadata": {},
   "outputs": [],
   "source": [
    "# solution 1, using set\n",
    "def getIntersectionNode(self, headA: ListNode, headB: ListNode):\n",
    "    visited = set()\n",
    "    while headA:\n",
    "        visited.add(headA)\n",
    "        headA = headA.next\n",
    "    while headB:\n",
    "        if headB in visited:\n",
    "            return headB \n",
    "        headB = headB.next \n",
    "    return None\n",
    "\n",
    "# solution 2, two pointer\n",
    "def getIntersectionNode(self, headA: ListNode, headB: ListNode):\n",
    "    pointA = headA\n",
    "    pointB = headB\n",
    "    while pointA != pointB:\n",
    "        pointA = headB if pointA == None else pointA.next\n",
    "        pointB = headA if pointB == None else pointB.next\n",
    "    return pointA"
   ]
  },
  {
   "attachments": {},
   "cell_type": "markdown",
   "metadata": {},
   "source": [
    "**300. Longest Increasing Subsequence**\n",
    "\n",
    "Given an integer array nums, return the length of the longest strictly increasing subsequence."
   ]
  },
  {
   "cell_type": "code",
   "execution_count": 58,
   "metadata": {},
   "outputs": [
    {
     "name": "stdout",
     "output_type": "stream",
     "text": [
      "4\n",
      "4\n",
      "1\n",
      "3\n",
      "3\n"
     ]
    }
   ],
   "source": [
    "# O(n^2) - slow\n",
    "def lengthOfLIS(nums):\n",
    "    longest = 1\n",
    "    dp = [1] * len(nums)\n",
    "    for i in range(len(nums)-2, -1, -1):\n",
    "        for j in range(i+1, len(nums)):\n",
    "            if nums[i] < nums[j]:\n",
    "                dp[i] = max(dp[i], dp[j]+1)\n",
    "                longest = max(longest, dp[i])\n",
    "    return longest\n",
    "\n",
    "# O(n^2) - faster\n",
    "def lengthOfLIS(nums):\n",
    "    dp = [1] * len(nums)\n",
    "    for i in range(len(nums)-2, -1, -1):\n",
    "        for j in range(i+1, len(nums)):\n",
    "            if nums[i] < nums[j]:\n",
    "                dp[i] = max(dp[i], dp[j]+1)\n",
    "    return max(dp)\n",
    "\n",
    "# O(n log n)\n",
    "def lengthOfLIS(nums):\n",
    "    piles = [[nums[0]]]\n",
    "    for n in nums[1:]:\n",
    "        l, r = 0, len(piles)-1\n",
    "        while l <= r:\n",
    "            m = (l + r)//2\n",
    "            if piles[m][-1] >= n:\n",
    "                r = m - 1\n",
    "            else:\n",
    "                l = m + 1\n",
    "        if l == len(piles):\n",
    "            piles.append([n])\n",
    "        else:\n",
    "            piles[l].append(n)\n",
    "    return len(piles)\n",
    "\n",
    "\n",
    "print(lengthOfLIS([10,9,2,5,3,7,101,18])) # 4\n",
    "print(lengthOfLIS([0,1,0,3,2,3])) # 4\n",
    "print(lengthOfLIS([7,7,7,7,7,7,7])) # 1\n",
    "print(lengthOfLIS([10,9,2,5,3,4])) # 3\n",
    "print(lengthOfLIS([4,10,4,3,8,9])) # 3"
   ]
  },
  {
   "attachments": {},
   "cell_type": "markdown",
   "metadata": {},
   "source": [
    "**322. Coin Change**\n",
    "\n",
    "You are given an integer array coins representing coins of different denominations and an integer amount representing a total amount of money.\n",
    "\n",
    "Return the fewest number of coins that you need to make up that amount. If that amount of money cannot be made up by any combination of the coins, return -1.\n",
    "\n",
    "You may assume that you have an infinite number of each kind of coin."
   ]
  },
  {
   "cell_type": "code",
   "execution_count": 38,
   "metadata": {},
   "outputs": [
    {
     "name": "stdout",
     "output_type": "stream",
     "text": [
      "3\n",
      "-1\n",
      "0\n"
     ]
    }
   ],
   "source": [
    "def coinChange(coins, amount):\n",
    "    dp = [0] + [float(\"inf\")] * amount\n",
    "    for n in range(1, amount+1):\n",
    "        for c in coins:\n",
    "            if c <= n:\n",
    "                dp[n] = min(dp[n], dp[n-c]+1)\n",
    "    return dp[amount] if dp[amount] != float(\"inf\") else -1\n",
    "\n",
    "print(coinChange([1,2,5], 11)) # 3\n",
    "print(coinChange([2], 3)) # -1\n",
    "print(coinChange([1], 0)) # 0"
   ]
  },
  {
   "cell_type": "markdown",
   "metadata": {},
   "source": [
    "**328. Odd Even Linked List**\n",
    "\n",
    "Given the head of a singly linked list, group all the nodes with odd indices together followed by the nodes with even indices, and return the reordered list.\n",
    "\n",
    "The first node is considered odd, and the second node is even, and so on.\n",
    "\n",
    "Note that the relative order inside both the even and odd groups should remain as it was in the input.\n",
    "\n",
    "You must solve the problem in O(1) extra space complexity and O(n) time complexity."
   ]
  },
  {
   "cell_type": "code",
   "execution_count": 37,
   "metadata": {},
   "outputs": [
    {
     "name": "stdout",
     "output_type": "stream",
     "text": [
      "1 3 5 2 4 6 \n"
     ]
    }
   ],
   "source": [
    "def oddEvenList(head):\n",
    "    if not head:\n",
    "        return head\n",
    "    odd = head\n",
    "    even = head_even = head.next\n",
    "    if even:\n",
    "        current = even.next\n",
    "        is_odd = True\n",
    "        while current:\n",
    "            if is_odd:\n",
    "                odd.next = current\n",
    "                odd = odd.next\n",
    "            else:\n",
    "                even.next = current\n",
    "                even = even.next\n",
    "            is_odd = not is_odd\n",
    "            current = current.next\n",
    "        even.next = None\n",
    "        odd.next = head_even\n",
    "    return head\n",
    "\n",
    "print_linked_list(oddEvenList(make_linked_list([1,2,3,4,5,6])))"
   ]
  },
  {
   "cell_type": "markdown",
   "metadata": {},
   "source": [
    "**334. Increasing Triplet Subsequence**\n",
    "\n",
    "Given an integer array nums, return true if there exists a triple of indices (i, j, k) such that i < j < k and nums[i] < nums[j] < nums[k]. If no such indices exists, return false."
   ]
  },
  {
   "cell_type": "code",
   "execution_count": 10,
   "metadata": {},
   "outputs": [
    {
     "name": "stdout",
     "output_type": "stream",
     "text": [
      "True\n",
      "False\n",
      "True\n",
      "False\n"
     ]
    }
   ],
   "source": [
    "# a bit slow\n",
    "def increasingTriplet(nums) -> bool:\n",
    "    i = nums[0]\n",
    "    ii = float(\"inf\")\n",
    "    for n in nums[1:]:\n",
    "        if n > ii:\n",
    "            return True\n",
    "        if n <= i:\n",
    "            i = n\n",
    "        elif n < ii:\n",
    "            ii = n\n",
    "\n",
    "    return False\n",
    "\n",
    "nums = [[1,2,3,4,5], [5,4,3,2,1], [2,1,5,0,4,6], [1,1,-2,6]] # TFTF\n",
    "\n",
    "for n in nums:\n",
    "    print(increasingTriplet(n))"
   ]
  },
  {
   "cell_type": "markdown",
   "metadata": {},
   "source": [
    "**1551. Minimum Operations to Make Array Equal**\n",
    "\n",
    "You have an array arr of length n where arr[i] = (2 * i) + 1 for all valid values of i (i.e., 0 <= i < n).\n",
    "\n",
    "In one operation, you can select two indices x and y where 0 <= x, y < n and subtract 1 from arr[x] and add 1 to arr[y] (i.e., perform arr[x] -=1 and arr[y] += 1). The goal is to make all the elements of the array equal. It is guaranteed that all the elements of the array can be made equal using some operations.\n",
    "\n",
    "Given an integer n, the length of the array, return the minimum number of operations needed to make all the elements of arr equal."
   ]
  },
  {
   "cell_type": "code",
   "execution_count": 25,
   "metadata": {},
   "outputs": [],
   "source": [
    "# works, but can be faster\n",
    "def minOperations(n: int) -> int:\n",
    "    arr = range(1, n, 2)\n",
    "    counter = 0\n",
    "    for num in arr:\n",
    "        counter += (n - num)\n",
    "\n",
    "    return counter\n",
    "\n",
    "# fast one liner\n",
    "def minOperations(n: int) -> int:\n",
    "    return (n//2)**2 + (n//2) * (n%2)\n"
   ]
  }
 ],
 "metadata": {
  "kernelspec": {
   "display_name": "Python 3",
   "language": "python",
   "name": "python3"
  },
  "language_info": {
   "codemirror_mode": {
    "name": "ipython",
    "version": 3
   },
   "file_extension": ".py",
   "mimetype": "text/x-python",
   "name": "python",
   "nbconvert_exporter": "python",
   "pygments_lexer": "ipython3",
   "version": "3.11.1"
  },
  "orig_nbformat": 4,
  "vscode": {
   "interpreter": {
    "hash": "284a54327780f6c007f4aad64d9a33d5190d4bf050ef483f4897af3688e59b5a"
   }
  }
 },
 "nbformat": 4,
 "nbformat_minor": 2
}
