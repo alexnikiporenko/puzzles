{
 "cells": [
  {
   "cell_type": "markdown",
   "metadata": {},
   "source": [
    "**1. Two Sum**\n",
    "\n",
    "Given an array of integers nums and an integer target, return indices of the two numbers such that they add up to target.\n",
    "\n",
    "You may assume that each input would have exactly one solution, and you may not use the same element twice.\n",
    "\n",
    "You can return the answer in any order."
   ]
  },
  {
   "cell_type": "code",
   "execution_count": 83,
   "metadata": {},
   "outputs": [
    {
     "data": {
      "text/plain": [
       "[1, 0]"
      ]
     },
     "execution_count": 83,
     "metadata": {},
     "output_type": "execute_result"
    }
   ],
   "source": [
    "def twoSum(nums, target):\n",
    "    visited = {}\n",
    "    for i in range(len(nums)):\n",
    "        if target - nums[i] in visited:\n",
    "            return [i, visited[target - nums[i]]]\n",
    "        visited[nums[i]] = i\n",
    "\n",
    "twoSum([2,7,11,15], 9)"
   ]
  },
  {
   "cell_type": "markdown",
   "metadata": {},
   "source": [
    "**5. Longest Palindromic Substring**\n",
    "\n",
    "Given a string s, return the longest palindromic substring in s."
   ]
  },
  {
   "cell_type": "code",
   "execution_count": 48,
   "metadata": {},
   "outputs": [
    {
     "data": {
      "text/plain": [
       "'sooos'"
      ]
     },
     "execution_count": 48,
     "metadata": {},
     "output_type": "execute_result"
    }
   ],
   "source": [
    "# faster than 96.68%, memory less than 91.35%\n",
    "def longestPalindrome(s: str) -> str:\n",
    "\n",
    "    if len(set(s)) == 1:\n",
    "        return s\n",
    "    \n",
    "    longest = s[0]\n",
    "\n",
    "    for i in range(1, len(s)):\n",
    "        if len(longest) >= (len(s)-i+1)*2:\n",
    "            return longest\n",
    "        for l in [i-1, i]:\n",
    "            r = i\n",
    "            while l >= 0 and r < len(s) and s[l] == s[r]:\n",
    "                if r+1-l > len(longest):\n",
    "                    longest = s[l:r+1]\n",
    "                l -= 1\n",
    "                r += 1\n",
    "\n",
    "    return longest\n",
    "            \n",
    "longestPalindrome(\"azwdzwmwcqzgcobeeiphemqbjtxzwkhiqpbrprocbppbxrnsxnwgikiaqutwpftbiinlnpyqstkiqzbggcsdzzjbrkfmhgtnbujzszxsycmvipjtktpebaafycngqasbbhxaeawwmkjcziybxowkaibqnndcjbsoehtamhspnidjylyisiaewmypfyiqtwlmejkpzlieolfdjnxntonnzfgcqlcfpoxcwqctalwrgwhvqvtrpwemxhirpgizjffqgntsmvzldpjfijdncexbwtxnmbnoykxshkqbounzrewkpqjxocvaufnhunsmsazgibxedtopnccriwcfzeomsrrangufkjfzipkmwfbmkarnyyrgdsooosgqlkzvorrrsaveuoxjeajvbdpgxlcrtqomliphnlehgrzgwujogxteyulphhuhwyoyvcxqatfkboahfqhjgujcaapoyqtsdqfwnijlkknuralezqmcryvkankszmzpgqutojoyzsnyfwsyeqqzrlhzbc\")\n"
   ]
  },
  {
   "cell_type": "markdown",
   "metadata": {},
   "source": [
    "**15. 3Sum**\n",
    "\n",
    "Given an integer array nums, return all the triplets [nums[i], nums[j], nums[k]] such that i != j, i != k, and j != k, and nums[i] + nums[j] + nums[k] == 0.\n",
    "\n",
    "Notice that the solution set must not contain duplicate triplets."
   ]
  },
  {
   "cell_type": "code",
   "execution_count": 82,
   "metadata": {},
   "outputs": [
    {
     "data": {
      "text/plain": [
       "[[-2, 1, 1]]"
      ]
     },
     "execution_count": 82,
     "metadata": {},
     "output_type": "execute_result"
    }
   ],
   "source": [
    "# slow, but accepted. No initial sorting.\n",
    "def threeSum(nums):\n",
    "    out = set()\n",
    "    visited1 = set()\n",
    "    for p1 in range(len(nums)-2):\n",
    "        if nums[p1] in visited1:\n",
    "            continue\n",
    "        visited2 = set()\n",
    "        target = 0-nums[p1]\n",
    "        for p2 in range(p1+1, len(nums)):\n",
    "            if target - nums[p2] in visited2:\n",
    "                out.add(tuple(sorted([nums[p1], nums[p2], target - nums[p2]])))\n",
    "            visited2.add(nums[p2])\n",
    "\n",
    "    return [list(x) for x in out]\n",
    "\n",
    "# faster, sort the list first.\n",
    "def threeSum(nums):\n",
    "\n",
    "    length = len(nums)\n",
    "    out = []\n",
    "    nums.sort()\n",
    "\n",
    "    if nums[1] == nums[-1] == 0:\n",
    "        return [[0,0,0]]\n",
    "\n",
    "    for i in range(length-2):\n",
    "\n",
    "        if nums[i] == nums[i-1]:\n",
    "            continue\n",
    "        \n",
    "        target = 0-nums[i]\n",
    "        left = i+1\n",
    "        right = length-1\n",
    "\n",
    "        while left < right:\n",
    "            if nums[left] + nums[right] == target:\n",
    "                out.append([nums[i], nums[left], nums[right]])\n",
    "                left += 1\n",
    "                while nums[left] == nums[left-1] and left < right:\n",
    "                    left += 1\n",
    "                right -= 1\n",
    "            elif nums[left] + nums[right] < target:\n",
    "                left += 1\n",
    "            elif nums[left] + nums[right] > target:\n",
    "                right -= 1\n",
    "\n",
    "    return out\n",
    "    \n",
    "threeSum([1,1,-2])"
   ]
  },
  {
   "cell_type": "markdown",
   "metadata": {},
   "source": [
    "**49. Group Anagrams**\n",
    "\n",
    "Given an array of strings strs, group the anagrams together. You can return the answer in any order."
   ]
  },
  {
   "cell_type": "code",
   "execution_count": 14,
   "metadata": {},
   "outputs": [
    {
     "name": "stdout",
     "output_type": "stream",
     "text": [
      "[['eat', 'tea', 'ate'], ['tan', 'nat'], ['bat']]\n",
      "[['']]\n",
      "[['a']]\n"
     ]
    }
   ],
   "source": [
    "def groupAnagrams(strs):\n",
    "    dct = {}\n",
    "    for s in strs:\n",
    "        dct.setdefault(tuple(sorted(list(s))), []).append(s)\n",
    "    return list(dct.values())\n",
    "\n",
    "s1 = [\"eat\",\"tea\",\"tan\",\"ate\",\"nat\",\"bat\"]\n",
    "s2 = [\"\"]\n",
    "s3 = [\"a\"]\n",
    "\n",
    "for s in [s1,s2,s3]:\n",
    "    print(groupAnagrams(s))"
   ]
  },
  {
   "cell_type": "markdown",
   "metadata": {},
   "source": [
    "**73. Set Matrix Zeroes**\n",
    "\n",
    "Given an m x n integer matrix matrix, if an element is 0, set its entire row and column to 0's.\n",
    "\n",
    "You must do it in place."
   ]
  },
  {
   "cell_type": "code",
   "execution_count": 23,
   "metadata": {},
   "outputs": [
    {
     "name": "stdout",
     "output_type": "stream",
     "text": [
      "[[1, 0, 1], [0, 0, 0], [1, 0, 1]]\n",
      "[[0, 0, 0, 0], [0, 4, 5, 0], [0, 3, 1, 0]]\n"
     ]
    }
   ],
   "source": [
    "def setZeroes(matrix) -> None:\n",
    "    height = len(matrix)\n",
    "    width = len(matrix[0])\n",
    "\n",
    "    rows = set()\n",
    "    cols = set()\n",
    "\n",
    "    for r in range(height):\n",
    "        for c in range(width):\n",
    "            if matrix[r][c] == 0:\n",
    "                rows.add(r)\n",
    "                cols.add(c)\n",
    "    \n",
    "    for r in range(height):\n",
    "        if r in rows:\n",
    "            matrix[r] = [0]*width\n",
    "        else:\n",
    "            for c in range(width):\n",
    "                if c in cols:\n",
    "                    matrix[r][c] = 0\n",
    "\n",
    "    print(matrix)\n",
    "\n",
    "m1 = [[1,1,1],[1,0,1],[1,1,1]]\n",
    "m2 = [[0,1,2,0],[3,4,5,2],[1,3,1,5]]\n",
    "\n",
    "for m in [m1, m2]:\n",
    "    setZeroes(m)"
   ]
  },
  {
   "cell_type": "markdown",
   "metadata": {},
   "source": [
    "**334. Increasing Triplet Subsequence**\n",
    "\n",
    "Given an integer array nums, return true if there exists a triple of indices (i, j, k) such that i < j < k and nums[i] < nums[j] < nums[k]. If no such indices exists, return false."
   ]
  },
  {
   "cell_type": "code",
   "execution_count": 10,
   "metadata": {},
   "outputs": [
    {
     "name": "stdout",
     "output_type": "stream",
     "text": [
      "True\n",
      "False\n",
      "True\n",
      "False\n"
     ]
    }
   ],
   "source": [
    "# a bit slow\n",
    "def increasingTriplet(nums) -> bool:\n",
    "    i = nums[0]\n",
    "    ii = float(\"inf\")\n",
    "    for n in nums[1:]:\n",
    "        if n > ii:\n",
    "            return True\n",
    "        if n <= i:\n",
    "            i = n\n",
    "        elif n < ii:\n",
    "            ii = n\n",
    "\n",
    "    return False\n",
    "\n",
    "nums = [[1,2,3,4,5], [5,4,3,2,1], [2,1,5,0,4,6], [1,1,-2,6]] # TFTF\n",
    "\n",
    "for n in nums:\n",
    "    print(increasingTriplet(n))"
   ]
  }
 ],
 "metadata": {
  "kernelspec": {
   "display_name": "Python 3.10.1 64-bit",
   "language": "python",
   "name": "python3"
  },
  "language_info": {
   "codemirror_mode": {
    "name": "ipython",
    "version": 3
   },
   "file_extension": ".py",
   "mimetype": "text/x-python",
   "name": "python",
   "nbconvert_exporter": "python",
   "pygments_lexer": "ipython3",
   "version": "3.10.6"
  },
  "orig_nbformat": 4,
  "vscode": {
   "interpreter": {
    "hash": "35d7e08f1f98ee58e9edced7a1043a5fc18613eb6991aa1cd3ec2f710d69752e"
   }
  }
 },
 "nbformat": 4,
 "nbformat_minor": 2
}
