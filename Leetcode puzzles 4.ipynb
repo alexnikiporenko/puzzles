{
 "cells": [
  {
   "attachments": {},
   "cell_type": "markdown",
   "metadata": {},
   "source": [
    "**1137. N-th Tribonacci Number**\n",
    "\n",
    "The Tribonacci sequence Tn is defined as follows: \n",
    "\n",
    "T0 = 0, T1 = 1, T2 = 1, and Tn+3 = Tn + Tn+1 + Tn+2 for n >= 0.\n",
    "\n",
    "Given n, return the value of Tn.\n",
    "\n",
    "https://leetcode.com/problems/n-th-tribonacci-number/"
   ]
  },
  {
   "cell_type": "code",
   "execution_count": 2,
   "metadata": {},
   "outputs": [
    {
     "name": "stdout",
     "output_type": "stream",
     "text": [
      "4\n",
      "1389537\n"
     ]
    }
   ],
   "source": [
    "def tribonacci(n: int) -> int:\n",
    "    trib = [0,1,1]\n",
    "    if n < 3:\n",
    "        return trib[n]\n",
    "    for _ in range(n-2):\n",
    "        trib = [trib[1], trib[2], sum(trib)]\n",
    "    return trib[-1]\n",
    "\n",
    "print(tribonacci(4)) # 4\n",
    "print(tribonacci(25)) # 1389537"
   ]
  },
  {
   "attachments": {},
   "cell_type": "markdown",
   "metadata": {},
   "source": [
    "**1222. Queens That Can Attack the King**\n",
    "\n",
    "On a 0-indexed 8 x 8 chessboard, there can be multiple black queens ad one white king.\n",
    "\n",
    "You are given a 2D integer array queens where queens[i] = [xQueeni, yQueeni] represents the position of the ith black queen on the chessboard. You are also given an integer array king of length 2 where king = [xKing, yKing] represents the position of the white king.\n",
    "\n",
    "Return the coordinates of the black queens that can directly attack the king. You may return the answer in any order.\n",
    "\n",
    "https://leetcode.com/problems/queens-that-can-attack-the-king/"
   ]
  },
  {
   "cell_type": "code",
   "execution_count": 5,
   "metadata": {},
   "outputs": [
    {
     "name": "stdout",
     "output_type": "stream",
     "text": [
      "[[0, 1], [3, 3], [1, 0]]\n",
      "[[3, 4], [4, 4], [2, 2]]\n"
     ]
    }
   ],
   "source": [
    "def queensAttacktheKing(queens: list[list[int]], king: list[int]) -> list[list[int]]:\n",
    "    queens = set(map(tuple, queens))\n",
    "    directions = [(0,1), (1,1), (1,0), (0,-1), (-1,-1), (-1,0), (1,-1), (-1,1)]\n",
    "    ans = []\n",
    "    for x,y in directions:\n",
    "        r,c = king\n",
    "        while 0 <= r < 8 and 0 <= c < 8:\n",
    "            r += x\n",
    "            c += y\n",
    "            if (r,c) in queens:\n",
    "                ans.append([r,c])\n",
    "                break\n",
    "    return ans\n",
    "\n",
    "print(queensAttacktheKing(queens = [[0,1],[1,0],[4,0],[0,4],[3,3],[2,4]], king = [0,0])) # [[0,1],[1,0],[3,3]]\n",
    "print(queensAttacktheKing(queens = [[0,0],[1,1],[2,2],[3,4],[3,5],[4,4],[4,5]], king = [3,3])) # [[2,2],[3,4],[4,4]]"
   ]
  },
  {
   "attachments": {},
   "cell_type": "markdown",
   "metadata": {},
   "source": [
    "**1456. Maximum Number of Vowels in a Substring of Given Length**\n",
    "\n",
    "Given a string s and an integer k, return the maximum number of vowel letters in any substring of s with length k.\n",
    "\n",
    "Vowel letters in English are 'a', 'e', 'i', 'o', and 'u'.\n",
    "\n",
    "https://leetcode.com/problems/maximum-number-of-vowels-in-a-substring-of-given-length/"
   ]
  },
  {
   "cell_type": "code",
   "execution_count": 8,
   "metadata": {},
   "outputs": [
    {
     "name": "stdout",
     "output_type": "stream",
     "text": [
      "3\n",
      "2\n",
      "2\n"
     ]
    }
   ],
   "source": [
    "from collections import deque\n",
    "def maxVowels(s: str, k: int) -> int:\n",
    "    maximum = 0\n",
    "    current = 0\n",
    "    vowels = {\"a\", \"e\", \"i\", \"o\", \"u\"}\n",
    "    q = deque([])\n",
    "    for c in s:\n",
    "        if len(q) == k:\n",
    "            l = q.popleft()\n",
    "            if l in vowels:\n",
    "                current -= 1\n",
    "        q.append(c)\n",
    "        if c in vowels:\n",
    "            current += 1\n",
    "            maximum = max(maximum, current)\n",
    "    return maximum\n",
    "\n",
    "print(maxVowels(s = \"abciiidef\", k = 3)) # 3\n",
    "print(maxVowels(s = \"aeiou\", k = 2)) # 2\n",
    "print(maxVowels(s = \"leetcode\", k = 3)) # 2"
   ]
  },
  {
   "attachments": {},
   "cell_type": "markdown",
   "metadata": {},
   "source": [
    "**1498. Number of Subsequences That Satisfy the Given Sum Condition**\n",
    "\n",
    "You are given an array of integers nums and an integer target.\n",
    "\n",
    "Return the number of non-empty subsequences of nums such that the sum of the minimum and maximum element on it is less or equal to target. Since the answer may be too large, return it modulo 10^9 + 7.\n",
    "\n",
    "https://leetcode.com/problems/number-of-subsequences-that-satisfy-the-given-sum-condition/"
   ]
  },
  {
   "cell_type": "code",
   "execution_count": 34,
   "metadata": {},
   "outputs": [
    {
     "name": "stdout",
     "output_type": "stream",
     "text": [
      "4\n",
      "6\n",
      "61\n",
      "127\n"
     ]
    }
   ],
   "source": [
    "# quite slow\n",
    "def numSubseq(nums: list[int], target: int) -> int:\n",
    "    nums.sort()\n",
    "    \n",
    "    sum_target = target - nums[0]\n",
    "    l = 0\n",
    "    r = len(nums) - 1\n",
    "    while l <= r:\n",
    "        m = (l+r) // 2\n",
    "        if nums[m] <= sum_target:\n",
    "            l = m + 1\n",
    "        else:\n",
    "            r = m - 1\n",
    "    \n",
    "    out = 0\n",
    "\n",
    "    l = 0\n",
    "    while l <= r:\n",
    "        out += 2**(r-l)\n",
    "        l += 1\n",
    "        while l < len(nums) and nums[l] + nums[r] > target:\n",
    "            r -= 1\n",
    "\n",
    "    return out % (10**9 + 7)\n",
    "\n",
    "# as slow\n",
    "def numSubseq(nums: list[int], target: int) -> int:\n",
    "    nums.sort()\n",
    "\n",
    "    def binary(l, r, t):\n",
    "        while l <= r:\n",
    "            m = (l+r) // 2\n",
    "            if nums[m] <= t:\n",
    "                l = m + 1\n",
    "            else:\n",
    "                r = m - 1\n",
    "        return r\n",
    "\n",
    "    out = 0\n",
    "    l = 0\n",
    "    r = binary(0, len(nums)-1, target-nums[0])\n",
    "\n",
    "    while l <= r:\n",
    "        out += 2**(r-l)\n",
    "        l += 1\n",
    "        if l < len(nums):\n",
    "            r = binary(l, r, target - nums[l])\n",
    "\n",
    "    return out % (10**9 + 7)\n",
    "\n",
    "print(numSubseq(nums = [3,5,6,7], target = 9)) # 4\n",
    "print(numSubseq(nums = [3,3,6,8], target = 10)) # 6\n",
    "print(numSubseq(nums = [2,3,3,4,6,7], target = 12)) # 61\n",
    "print(numSubseq(nums = [5,2,4,1,7,6,8], target = 16)) # 127"
   ]
  },
  {
   "attachments": {},
   "cell_type": "markdown",
   "metadata": {},
   "source": [
    "**1964. Find the Longest Valid Obstacle Course at Each Position**\n",
    "\n",
    "You want to build some obstacle courses. You are given a 0-indexed integer array obstacles of length n, where obstacles[i] describes the height of the ith obstacle.\n",
    "\n",
    "For every index i between 0 and n - 1 (inclusive), find the length of the longest obstacle course in obstacles such that:\n",
    "\n",
    "* You choose any number of obstacles between 0 and i inclusive.\n",
    "* You must include the ith obstacle in the course.\n",
    "* You must put the chosen obstacles in the same order as they appear in obstacles.\n",
    "* Every obstacle (except the first) is taller than or the same height as the obstacle immediately before it.\n",
    "\n",
    "Return an array ans of length n, where ans[i] is the length of the longest obstacle course for index i as described above.\n",
    "\n",
    "https://leetcode.com/problems/find-the-longest-valid-obstacle-course-at-each-position/"
   ]
  },
  {
   "cell_type": "code",
   "execution_count": 42,
   "metadata": {},
   "outputs": [
    {
     "name": "stdout",
     "output_type": "stream",
     "text": [
      "[1, 2, 3, 3]\n",
      "[1, 2, 1]\n",
      "[1, 1, 2, 3, 2, 2]\n"
     ]
    }
   ],
   "source": [
    "def longestObstacleCourseAtEachPosition(obstacles: list[int]) -> list[int]:\n",
    "    ans = []\n",
    "    stacks = []\n",
    "    for n in obstacles:\n",
    "        l = 0\n",
    "        r = len(stacks)-1\n",
    "        while l <= r:\n",
    "            m = (l+r) // 2\n",
    "            if stacks[m][-1] <= n:\n",
    "                l = m + 1\n",
    "            else:\n",
    "                r = m - 1\n",
    "        if l == len(stacks):\n",
    "            stacks.append([n])\n",
    "        else:\n",
    "            stacks[l].append(n)\n",
    "        ans.append(l+1)\n",
    "    return ans\n",
    "\n",
    "print(longestObstacleCourseAtEachPosition([1,2,3,2])) # [1,2,3,3]\n",
    "print(longestObstacleCourseAtEachPosition([2,2,1])) # [1,2,1]\n",
    "print(longestObstacleCourseAtEachPosition([3,1,5,6,4,2])) # [1,1,2,3,2,2]"
   ]
  },
  {
   "attachments": {},
   "cell_type": "markdown",
   "metadata": {},
   "source": [
    "**2079. Watering Plants**\n",
    "\n",
    "You want to water n plants in your garden with a watering can. The plants are arranged in a row and are labeled from 0 to n - 1 from left to right where the ith plant is located at x = i. There is a river at x = -1 that you can refill your watering can at.\n",
    "\n",
    "Each plant needs a specific amount of water. You will water the plants in the following way:\n",
    "\n",
    "* Water the plants in order from left to right.\n",
    "* After watering the current plant, if you do not have enough water to completely water the next plant, return to the river to fully refill the watering can.\n",
    "* You cannot refill the watering can early.\n",
    "\n",
    "You are initially at the river (i.e., x = -1). It takes one step to move one unit on the x-axis.\n",
    "\n",
    "Given a 0-indexed integer array plants of n integers, where plants[i] is the amount of water the ith plant needs, and an integer capacity representing the watering can capacity, return the number of steps needed to water all the plants.\n",
    "\n",
    "https://leetcode.com/problems/watering-plants/"
   ]
  },
  {
   "cell_type": "code",
   "execution_count": 3,
   "metadata": {},
   "outputs": [
    {
     "name": "stdout",
     "output_type": "stream",
     "text": [
      "14\n",
      "30\n",
      "49\n"
     ]
    }
   ],
   "source": [
    "def wateringPlants(plants: list[int], capacity: int) -> int:\n",
    "    counter = len(plants)\n",
    "    current = capacity\n",
    "    for i in range(len(plants)):\n",
    "        current -= plants[i]\n",
    "        if current < 0:\n",
    "            current = capacity - plants[i]\n",
    "            counter += 2 * i\n",
    "    return counter\n",
    "\n",
    "print(wateringPlants(plants = [2,2,3,3], capacity = 5)) # 14\n",
    "print(wateringPlants(plants = [1,1,1,4,2,3], capacity = 4)) # 30\n",
    "print(wateringPlants(plants = [7,7,7,7,7,7,7], capacity = 8)) # 49"
   ]
  }
 ],
 "metadata": {
  "kernelspec": {
   "display_name": "Python 3",
   "language": "python",
   "name": "python3"
  },
  "language_info": {
   "codemirror_mode": {
    "name": "ipython",
    "version": 3
   },
   "file_extension": ".py",
   "mimetype": "text/x-python",
   "name": "python",
   "nbconvert_exporter": "python",
   "pygments_lexer": "ipython3",
   "version": "3.11.1"
  },
  "orig_nbformat": 4
 },
 "nbformat": 4,
 "nbformat_minor": 2
}
