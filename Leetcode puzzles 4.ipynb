{
 "cells": [
  {
   "attachments": {},
   "cell_type": "markdown",
   "metadata": {},
   "source": [
    "**128. Longest Consecutive Sequence**\n",
    "\n",
    "Given an unsorted array of integers nums, return the length of the longest consecutive elements sequence.\n",
    "\n",
    "You must write an algorithm that runs in O(n) time.\n",
    "\n",
    "https://leetcode.com/problems/longest-consecutive-sequence/"
   ]
  },
  {
   "cell_type": "code",
   "execution_count": 58,
   "metadata": {},
   "outputs": [
    {
     "name": "stdout",
     "output_type": "stream",
     "text": [
      "4\n",
      "9\n",
      "3\n",
      "5\n"
     ]
    }
   ],
   "source": [
    "# union find - O(n log n)\n",
    "def longestConsecutive(nums: list[int]) -> int:\n",
    "    if not nums: \n",
    "        return 0\n",
    "\n",
    "    max_l = 1\n",
    "    parents = {n:[n,1] for n in nums}\n",
    "    \n",
    "    def find(n):\n",
    "        nn = n\n",
    "        while nn != parents[nn][0]:\n",
    "            nn = parents[nn][0]\n",
    "        parents[n] = parents[nn]\n",
    "        return parents[n]\n",
    "        \n",
    "    def union(m, n):\n",
    "        pm, lm = find(m)\n",
    "        pn, ln = find(n)\n",
    "        parents[pm][0] = pn\n",
    "        parents[n][1] = lm+ln\n",
    "        nonlocal max_l\n",
    "        max_l = max(max_l, parents[n][1])\n",
    "        \n",
    "    for n in parents.keys():\n",
    "        if n+1 in parents:\n",
    "            union(n, n+1)\n",
    "            \n",
    "    return max_l\n",
    "\n",
    "# sorting - O(n log n)\n",
    "def longestConsecutive(nums: list[int]) -> int:\n",
    "    if not nums: \n",
    "        return 0\n",
    "    \n",
    "    nums.sort()\n",
    "    current = 1\n",
    "    longest = 1\n",
    "    for i in range(1, len(nums)):\n",
    "        if nums[i] - 1 == nums[i-1]:\n",
    "            current += 1\n",
    "            longest = max(longest, current)\n",
    "        elif nums[i] != nums[i-1]:\n",
    "            current = 1\n",
    "\n",
    "    return longest\n",
    "\n",
    "# O(n)\n",
    "def longestConsecutive(nums: list[int]) -> int:\n",
    "    nums = set(nums)\n",
    "    longest = 0\n",
    "\n",
    "    for n in nums:\n",
    "        if n-1 not in nums:\n",
    "            length = 0\n",
    "            while n + length in nums:\n",
    "                length += 1\n",
    "            longest = max(longest, length)\n",
    "\n",
    "    return longest\n",
    "\n",
    "\n",
    "print(longestConsecutive([100,4,200,1,3,2])) # 4\n",
    "print(longestConsecutive([0,3,7,2,5,8,4,6,0,1])) # 9\n",
    "print(longestConsecutive([1,2,0,1])) # 3\n",
    "print(longestConsecutive([4,0,-4,-2,2,5,2,0,-8,-8,-8,-8,-1,7,4,5,5,-4,6,6,-3])) # 5"
   ]
  },
  {
   "attachments": {},
   "cell_type": "markdown",
   "metadata": {},
   "source": [
    "**318. Maximum Product of Word Lengths**\n",
    "\n",
    "Given a string array words, return the maximum value of length(word[i]) * length(word[j]) where the two words do not share common letters. If no such two words exist, return 0.\n",
    "\n",
    " https://leetcode.com/problems/maximum-product-of-word-lengths/"
   ]
  },
  {
   "cell_type": "code",
   "execution_count": 8,
   "metadata": {},
   "outputs": [
    {
     "name": "stdout",
     "output_type": "stream",
     "text": [
      "16\n",
      "4\n",
      "0\n"
     ]
    }
   ],
   "source": [
    "def maxProduct(words: list[str]) -> int:\n",
    "    d = {}\n",
    "    for w in words:\n",
    "        t = tuple(sorted(set(w)))\n",
    "        d[t] = max(d.get(t,0), len(w))\n",
    "    maximum = 0\n",
    "    arr = [[set(k), v] for k, v in d.items()]\n",
    "    for i in range(len(arr)-1):\n",
    "        for j in range(i+1, len(arr)):\n",
    "            if not (arr[i][0] & arr[j][0]):\n",
    "                maximum = max(maximum, arr[i][1]*arr[j][1])\n",
    "    return maximum\n",
    "\n",
    "print(maxProduct([\"abcw\",\"baz\",\"foo\",\"bar\",\"xtfn\",\"abcdef\"])) # 16\n",
    "print(maxProduct([\"a\",\"ab\",\"abc\",\"d\",\"cd\",\"bcd\",\"abcd\"])) # 4\n",
    "print(maxProduct([\"a\",\"aa\",\"aaa\",\"aaaa\"])) # 0"
   ]
  },
  {
   "attachments": {},
   "cell_type": "markdown",
   "metadata": {},
   "source": [
    "**481. Magical String**\n",
    "\n",
    "A magical string s consists of only '1' and '2' and obeys the following rules:\n",
    "\n",
    "The string s is magical because concatenating the number of contiguous occurrences of characters '1' and '2' generates the string s itself.\n",
    "The first few elements of s is s = \"1221121221221121122……\". If we group the consecutive 1's and 2's in s, it will be \"1 22 11 2 1 22 1 22 11 2 11 22 ......\" and the occurrences of 1's or 2's in each group are \"1 2 2 1 1 2 1 2 2 1 2 2 ......\". You can see that the occurrence sequence is s itself.\n",
    "\n",
    "Given an integer n, return the number of 1's in the first n number in the magical string s.\n",
    "\n",
    "https://leetcode.com/problems/magical-string/"
   ]
  },
  {
   "cell_type": "code",
   "execution_count": 4,
   "metadata": {},
   "outputs": [
    {
     "name": "stdout",
     "output_type": "stream",
     "text": [
      "3\n",
      "1\n"
     ]
    }
   ],
   "source": [
    "def magicalString(n: int) -> int:\n",
    "    arr = [1, 2, 2]\n",
    "    i = 2\n",
    "    while len(arr) < n:\n",
    "        arr.extend([2 - (i+1) % 2] * arr[i])\n",
    "        i += 1\n",
    "    return arr[:n].count(1)\n",
    "\n",
    "print(magicalString(6)) # 3\n",
    "print(magicalString(1)) # 1"
   ]
  },
  {
   "attachments": {},
   "cell_type": "markdown",
   "metadata": {},
   "source": [
    "**682. Baseball Game**\n",
    "\n",
    "You are keeping the scores for a baseball game with strange rules. At the beginning of the game, you start with an empty record.\n",
    "\n",
    "You are given a list of strings operations, where operations[i] is the ith operation you must apply to the record and is one of the following:\n",
    "\n",
    "* An integer x.\n",
    "Record a new score of x.\n",
    "* '+'.\n",
    "Record a new score that is the sum of the previous two scores.\n",
    "* 'D'.\n",
    "Record a new score that is the double of the previous score.\n",
    "* 'C'.\n",
    "Invalidate the previous score, removing it from the record.\n",
    "\n",
    "Return the sum of all the scores on the record after applying all the operations.\n",
    "\n",
    "https://leetcode.com/problems/baseball-game/"
   ]
  },
  {
   "cell_type": "code",
   "execution_count": 3,
   "metadata": {},
   "outputs": [
    {
     "name": "stdout",
     "output_type": "stream",
     "text": [
      "27\n",
      "0\n",
      "30\n"
     ]
    }
   ],
   "source": [
    "def calPoints(operations: list[str]) -> int:\n",
    "    ans = []\n",
    "    for o in operations:\n",
    "        if o == \"+\":\n",
    "            ans.append(ans[-1] + ans[-2])\n",
    "        elif o == \"D\":\n",
    "            ans.append(ans[-1] * 2)\n",
    "        elif o == \"C\":\n",
    "            ans.pop()\n",
    "        else:\n",
    "            ans.append(int(o))\n",
    "    return sum(ans)\n",
    "\n",
    "print(calPoints([\"5\",\"-2\",\"4\",\"C\",\"D\",\"9\",\"+\",\"+\"])) # 27\n",
    "print(calPoints([\"1\",\"C\"])) # 0\n",
    "print(calPoints([\"5\",\"2\",\"C\",\"D\",\"+\"])) # 30"
   ]
  },
  {
   "attachments": {},
   "cell_type": "markdown",
   "metadata": {},
   "source": [
    "**692. Top K Frequent Words**\n",
    "\n",
    "Given an array of strings words and an integer k, return the k most frequent strings.\n",
    "\n",
    "Return the answer sorted by the frequency from highest to lowest. Sort the words with the same frequency by their lexicographical order.\n",
    "\n",
    "https://leetcode.com/problems/top-k-frequent-words/"
   ]
  },
  {
   "cell_type": "code",
   "execution_count": 25,
   "metadata": {},
   "outputs": [
    {
     "name": "stdout",
     "output_type": "stream",
     "text": [
      "['i', 'love']\n",
      "['the', 'is', 'sunny', 'day']\n"
     ]
    }
   ],
   "source": [
    "# one-liner, but slow\n",
    "from collections import Counter\n",
    "def topKFrequent(words: list[str], k: int) -> list[str]:\n",
    "    return [item[0] for item in Counter(sorted(words)).most_common(k)]\n",
    "\n",
    "# equally slow\n",
    "def topKFrequent(words: list[str], k: int) -> list[str]:\n",
    "    counted = {}\n",
    "    for w in words:\n",
    "        counted[w] = counted.get(w, 0) + 1\n",
    "        \n",
    "    counted = [(k,v) for k,v in counted.items()]\n",
    "    counted.sort(key = lambda x: (-x[1], x[0]))\n",
    "    return [item[0] for item in counted[:k]]\n",
    "\n",
    "# using heap - seemingly as slow as the above\n",
    "import heapq\n",
    "def topKFrequent(words: list[str], k: int) -> list[str]:\n",
    "    counted = Counter(words)\n",
    "    heap = [(-count, word) for word, count in counted.items()]\n",
    "    heapq.heapify(heap)\n",
    "    return [heapq.heappop(heap)[1] for _ in range(k)]\n",
    "\n",
    "print(topKFrequent(words = [\"i\",\"love\",\"leetcode\",\"i\",\"love\",\"coding\"], k = 2)) # [\"i\",\"love\"]\n",
    "print(topKFrequent(words = [\"the\",\"day\",\"is\",\"sunny\",\"the\",\"the\",\"the\",\"sunny\",\"is\",\"is\"], k = 4)) # [\"the\",\"is\",\"sunny\",\"day\"]"
   ]
  },
  {
   "attachments": {},
   "cell_type": "markdown",
   "metadata": {},
   "source": [
    "**841. Keys and Rooms**\n",
    "\n",
    "There are n rooms labeled from 0 to n - 1 and all the rooms are locked except for room 0. Your goal is to visit all the rooms. However, you cannot enter a locked room without having its key.\n",
    "\n",
    "When you visit a room, you may find a set of distinct keys in it. Each key has a number on it, denoting which room it unlocks, and you can take all of them with you to unlock the other rooms.\n",
    "\n",
    "Given an array rooms where rooms[i] is the set of keys that you can obtain if you visited room i, return true if you can visit all the rooms, or false otherwise.\n",
    "\n",
    "https://leetcode.com/problems/keys-and-rooms/"
   ]
  },
  {
   "cell_type": "code",
   "execution_count": 9,
   "metadata": {},
   "outputs": [
    {
     "name": "stdout",
     "output_type": "stream",
     "text": [
      "True\n",
      "False\n"
     ]
    }
   ],
   "source": [
    "def canVisitAllRooms(rooms: list[list[int]]) -> bool:\n",
    "    stack = [0]\n",
    "    visited = {0}\n",
    "    while stack:\n",
    "        r = stack.pop()\n",
    "        for k in rooms[r]:\n",
    "            if k not in visited:\n",
    "                stack.append(k)\n",
    "                visited.add(k)\n",
    "    return len(visited) == len(rooms)\n",
    "\n",
    "print(canVisitAllRooms(rooms = [[1],[2],[3],[]])) # True\n",
    "print(canVisitAllRooms(rooms = [[1,3],[3,0,1],[2],[0]])) # False"
   ]
  },
  {
   "attachments": {},
   "cell_type": "markdown",
   "metadata": {},
   "source": [
    "**1035. Uncrossed Lines**\n",
    "\n",
    "You are given two integer arrays nums1 and nums2. We write the integers of nums1 and nums2 (in the order they are given) on two separate horizontal lines.\n",
    "\n",
    "We may draw connecting lines: a straight line connecting two numbers nums1[i] and nums2[j] such that:\n",
    "\n",
    "* nums1[i] == nums2[j], and\n",
    "* the line we draw does not intersect any other connecting (non-horizontal) line.\n",
    "\n",
    "Note that a connecting line cannot intersect even at the endpoints (i.e., each number can only belong to one connecting line).\n",
    "\n",
    "Return the maximum number of connecting lines we can draw in this way.\n",
    "\n",
    "https://leetcode.com/problems/uncrossed-lines/"
   ]
  },
  {
   "cell_type": "code",
   "execution_count": 8,
   "metadata": {},
   "outputs": [
    {
     "name": "stdout",
     "output_type": "stream",
     "text": [
      "2\n",
      "3\n",
      "2\n"
     ]
    }
   ],
   "source": [
    "# longest common subsequence\n",
    "def maxUncrossedLines(nums1: list[int], nums2: list[int]) -> int:\n",
    "    dp = [[0] * (len(nums1) + 1) for _ in range(len(nums2) + 1)]\n",
    "    \n",
    "    for r in range(len(nums2)-1, -1, -1):\n",
    "        for c in range(len(nums1)-1, -1, -1):\n",
    "            if nums1[c] == nums2[r]:\n",
    "                dp[r][c] = dp[r+1][c+1] + 1\n",
    "            else:\n",
    "                dp[r][c] = max(dp[r+1][c], dp[r][c+1])\n",
    "    \n",
    "    return dp[0][0]\n",
    "\n",
    "\n",
    "print(maxUncrossedLines(nums1 = [1,4,2], nums2 = [1,2,4])) # 2\n",
    "print(maxUncrossedLines(nums1 = [2,5,1,2,5], nums2 = [10,5,2,1,5,2])) # 3\n",
    "print(maxUncrossedLines(nums1 = [1,3,7,1,7,5], nums2 = [1,9,2,5,1])) # 2"
   ]
  },
  {
   "attachments": {},
   "cell_type": "markdown",
   "metadata": {},
   "source": [
    "**1137. N-th Tribonacci Number**\n",
    "\n",
    "The Tribonacci sequence Tn is defined as follows: \n",
    "\n",
    "T0 = 0, T1 = 1, T2 = 1, and Tn+3 = Tn + Tn+1 + Tn+2 for n >= 0.\n",
    "\n",
    "Given n, return the value of Tn.\n",
    "\n",
    "https://leetcode.com/problems/n-th-tribonacci-number/"
   ]
  },
  {
   "cell_type": "code",
   "execution_count": 2,
   "metadata": {},
   "outputs": [
    {
     "name": "stdout",
     "output_type": "stream",
     "text": [
      "4\n",
      "1389537\n"
     ]
    }
   ],
   "source": [
    "def tribonacci(n: int) -> int:\n",
    "    trib = [0,1,1]\n",
    "    if n < 3:\n",
    "        return trib[n]\n",
    "    for _ in range(n-2):\n",
    "        trib = [trib[1], trib[2], sum(trib)]\n",
    "    return trib[-1]\n",
    "\n",
    "print(tribonacci(4)) # 4\n",
    "print(tribonacci(25)) # 1389537"
   ]
  },
  {
   "attachments": {},
   "cell_type": "markdown",
   "metadata": {},
   "source": [
    "**1222. Queens That Can Attack the King**\n",
    "\n",
    "On a 0-indexed 8 x 8 chessboard, there can be multiple black queens ad one white king.\n",
    "\n",
    "You are given a 2D integer array queens where queens[i] = [xQueeni, yQueeni] represents the position of the ith black queen on the chessboard. You are also given an integer array king of length 2 where king = [xKing, yKing] represents the position of the white king.\n",
    "\n",
    "Return the coordinates of the black queens that can directly attack the king. You may return the answer in any order.\n",
    "\n",
    "https://leetcode.com/problems/queens-that-can-attack-the-king/"
   ]
  },
  {
   "cell_type": "code",
   "execution_count": 5,
   "metadata": {},
   "outputs": [
    {
     "name": "stdout",
     "output_type": "stream",
     "text": [
      "[[0, 1], [3, 3], [1, 0]]\n",
      "[[3, 4], [4, 4], [2, 2]]\n"
     ]
    }
   ],
   "source": [
    "def queensAttacktheKing(queens: list[list[int]], king: list[int]) -> list[list[int]]:\n",
    "    queens = set(map(tuple, queens))\n",
    "    directions = [(0,1), (1,1), (1,0), (0,-1), (-1,-1), (-1,0), (1,-1), (-1,1)]\n",
    "    ans = []\n",
    "    for x,y in directions:\n",
    "        r,c = king\n",
    "        while 0 <= r < 8 and 0 <= c < 8:\n",
    "            r += x\n",
    "            c += y\n",
    "            if (r,c) in queens:\n",
    "                ans.append([r,c])\n",
    "                break\n",
    "    return ans\n",
    "\n",
    "print(queensAttacktheKing(queens = [[0,1],[1,0],[4,0],[0,4],[3,3],[2,4]], king = [0,0])) # [[0,1],[1,0],[3,3]]\n",
    "print(queensAttacktheKing(queens = [[0,0],[1,1],[2,2],[3,4],[3,5],[4,4],[4,5]], king = [3,3])) # [[2,2],[3,4],[4,4]]"
   ]
  },
  {
   "attachments": {},
   "cell_type": "markdown",
   "metadata": {},
   "source": [
    "**1456. Maximum Number of Vowels in a Substring of Given Length**\n",
    "\n",
    "Given a string s and an integer k, return the maximum number of vowel letters in any substring of s with length k.\n",
    "\n",
    "Vowel letters in English are 'a', 'e', 'i', 'o', and 'u'.\n",
    "\n",
    "https://leetcode.com/problems/maximum-number-of-vowels-in-a-substring-of-given-length/"
   ]
  },
  {
   "cell_type": "code",
   "execution_count": 8,
   "metadata": {},
   "outputs": [
    {
     "name": "stdout",
     "output_type": "stream",
     "text": [
      "3\n",
      "2\n",
      "2\n"
     ]
    }
   ],
   "source": [
    "from collections import deque\n",
    "def maxVowels(s: str, k: int) -> int:\n",
    "    maximum = 0\n",
    "    current = 0\n",
    "    vowels = {\"a\", \"e\", \"i\", \"o\", \"u\"}\n",
    "    q = deque([])\n",
    "    for c in s:\n",
    "        if len(q) == k:\n",
    "            l = q.popleft()\n",
    "            if l in vowels:\n",
    "                current -= 1\n",
    "        q.append(c)\n",
    "        if c in vowels:\n",
    "            current += 1\n",
    "            maximum = max(maximum, current)\n",
    "    return maximum\n",
    "\n",
    "print(maxVowels(s = \"abciiidef\", k = 3)) # 3\n",
    "print(maxVowels(s = \"aeiou\", k = 2)) # 2\n",
    "print(maxVowels(s = \"leetcode\", k = 3)) # 2"
   ]
  },
  {
   "attachments": {},
   "cell_type": "markdown",
   "metadata": {},
   "source": [
    "**1498. Number of Subsequences That Satisfy the Given Sum Condition**\n",
    "\n",
    "You are given an array of integers nums and an integer target.\n",
    "\n",
    "Return the number of non-empty subsequences of nums such that the sum of the minimum and maximum element on it is less or equal to target. Since the answer may be too large, return it modulo 10^9 + 7.\n",
    "\n",
    "https://leetcode.com/problems/number-of-subsequences-that-satisfy-the-given-sum-condition/"
   ]
  },
  {
   "cell_type": "code",
   "execution_count": 34,
   "metadata": {},
   "outputs": [
    {
     "name": "stdout",
     "output_type": "stream",
     "text": [
      "4\n",
      "6\n",
      "61\n",
      "127\n"
     ]
    }
   ],
   "source": [
    "# quite slow\n",
    "def numSubseq(nums: list[int], target: int) -> int:\n",
    "    nums.sort()\n",
    "    \n",
    "    sum_target = target - nums[0]\n",
    "    l = 0\n",
    "    r = len(nums) - 1\n",
    "    while l <= r:\n",
    "        m = (l+r) // 2\n",
    "        if nums[m] <= sum_target:\n",
    "            l = m + 1\n",
    "        else:\n",
    "            r = m - 1\n",
    "    \n",
    "    out = 0\n",
    "\n",
    "    l = 0\n",
    "    while l <= r:\n",
    "        out += 2**(r-l)\n",
    "        l += 1\n",
    "        while l < len(nums) and nums[l] + nums[r] > target:\n",
    "            r -= 1\n",
    "\n",
    "    return out % (10**9 + 7)\n",
    "\n",
    "# as slow\n",
    "def numSubseq(nums: list[int], target: int) -> int:\n",
    "    nums.sort()\n",
    "\n",
    "    def binary(l, r, t):\n",
    "        while l <= r:\n",
    "            m = (l+r) // 2\n",
    "            if nums[m] <= t:\n",
    "                l = m + 1\n",
    "            else:\n",
    "                r = m - 1\n",
    "        return r\n",
    "\n",
    "    out = 0\n",
    "    l = 0\n",
    "    r = binary(0, len(nums)-1, target-nums[0])\n",
    "\n",
    "    while l <= r:\n",
    "        out += 2**(r-l)\n",
    "        l += 1\n",
    "        if l < len(nums):\n",
    "            r = binary(l, r, target - nums[l])\n",
    "\n",
    "    return out % (10**9 + 7)\n",
    "\n",
    "print(numSubseq(nums = [3,5,6,7], target = 9)) # 4\n",
    "print(numSubseq(nums = [3,3,6,8], target = 10)) # 6\n",
    "print(numSubseq(nums = [2,3,3,4,6,7], target = 12)) # 61\n",
    "print(numSubseq(nums = [5,2,4,1,7,6,8], target = 16)) # 127"
   ]
  },
  {
   "attachments": {},
   "cell_type": "markdown",
   "metadata": {},
   "source": [
    "**1518. Water Bottles**\n",
    "\n",
    "There are numBottles water bottles that are initially full of water. You can exchange numExchange empty water bottles from the market with one full water bottle.\n",
    "\n",
    "The operation of drinking a full water bottle turns it into an empty bottle.\n",
    "\n",
    "Given the two integers numBottles and numExchange, return the maximum number of water bottles you can drink.\n",
    "\n",
    "https://leetcode.com/problems/water-bottles/"
   ]
  },
  {
   "cell_type": "code",
   "execution_count": 12,
   "metadata": {},
   "outputs": [
    {
     "name": "stdout",
     "output_type": "stream",
     "text": [
      "13\n",
      "19\n"
     ]
    }
   ],
   "source": [
    "def numWaterBottles(numBottles: int, numExchange: int) -> int:\n",
    "    ans = numBottles\n",
    "    rem = 0\n",
    "    while numBottles > 0:\n",
    "        numBottles += rem\n",
    "        rem = numBottles % numExchange\n",
    "        numBottles //= numExchange\n",
    "        ans += numBottles\n",
    "    return ans\n",
    "\n",
    "print(numWaterBottles(numBottles = 9, numExchange = 3)) # 13\n",
    "print(numWaterBottles(numBottles = 15, numExchange = 4)) # 19"
   ]
  },
  {
   "attachments": {},
   "cell_type": "markdown",
   "metadata": {},
   "source": [
    "**1572. Matrix Diagonal Sum**\n",
    "\n",
    "Given a square matrix mat, return the sum of the matrix diagonals.\n",
    "\n",
    "Only include the sum of all the elements on the primary diagonal and all the elements on the secondary diagonal that are not part of the primary diagonal.\n",
    "\n",
    "https://leetcode.com/problems/matrix-diagonal-sum/"
   ]
  },
  {
   "cell_type": "code",
   "execution_count": 2,
   "metadata": {},
   "outputs": [
    {
     "name": "stdout",
     "output_type": "stream",
     "text": [
      "25\n",
      "8\n",
      "5\n"
     ]
    }
   ],
   "source": [
    "def diagonalSum(mat: list[list[int]]) -> int:\n",
    "    l = 0\n",
    "    r = len(mat[0]) - 1\n",
    "    ans = 0\n",
    "    for i in range(len(mat)):\n",
    "        ll = l+i\n",
    "        rr = r-i\n",
    "        ans += mat[i][ll]\n",
    "        if ll != rr:\n",
    "            ans += mat[i][rr]\n",
    "    return ans\n",
    "\n",
    "print(diagonalSum(mat = [[1,2,3],\n",
    "              [4,5,6],\n",
    "              [7,8,9]])) # 25\n",
    "print(diagonalSum(mat = [[1,1,1,1],\n",
    "              [1,1,1,1],\n",
    "              [1,1,1,1],\n",
    "              [1,1,1,1]])) # 8\n",
    "print(diagonalSum(mat = [[5]])) # 5"
   ]
  },
  {
   "attachments": {},
   "cell_type": "markdown",
   "metadata": {},
   "source": [
    "**1964. Find the Longest Valid Obstacle Course at Each Position**\n",
    "\n",
    "You want to build some obstacle courses. You are given a 0-indexed integer array obstacles of length n, where obstacles[i] describes the height of the ith obstacle.\n",
    "\n",
    "For every index i between 0 and n - 1 (inclusive), find the length of the longest obstacle course in obstacles such that:\n",
    "\n",
    "* You choose any number of obstacles between 0 and i inclusive.\n",
    "* You must include the ith obstacle in the course.\n",
    "* You must put the chosen obstacles in the same order as they appear in obstacles.\n",
    "* Every obstacle (except the first) is taller than or the same height as the obstacle immediately before it.\n",
    "\n",
    "Return an array ans of length n, where ans[i] is the length of the longest obstacle course for index i as described above.\n",
    "\n",
    "https://leetcode.com/problems/find-the-longest-valid-obstacle-course-at-each-position/"
   ]
  },
  {
   "cell_type": "code",
   "execution_count": 6,
   "metadata": {},
   "outputs": [
    {
     "name": "stdout",
     "output_type": "stream",
     "text": [
      "[1, 2, 3, 3]\n",
      "[1, 2, 1]\n",
      "[1, 1, 2, 3, 2, 2]\n"
     ]
    }
   ],
   "source": [
    "# a little slow\n",
    "def longestObstacleCourseAtEachPosition(obstacles: list[int]) -> list[int]:\n",
    "    ans = []\n",
    "    stacks = []\n",
    "    for n in obstacles:\n",
    "        l = 0\n",
    "        r = len(stacks)-1\n",
    "        while l <= r:\n",
    "            m = (l+r) // 2\n",
    "            if stacks[m][-1] <= n:\n",
    "                l = m + 1\n",
    "            else:\n",
    "                r = m - 1\n",
    "        if l == len(stacks):\n",
    "            stacks.append([n])\n",
    "        else:\n",
    "            stacks[l].append(n)\n",
    "        ans.append(l+1)\n",
    "    return ans\n",
    "\n",
    "# optimised\n",
    "def longestObstacleCourseAtEachPosition(obstacles: list[int]) -> list[int]:\n",
    "    ans = []\n",
    "    dp = []\n",
    "    for n in obstacles:\n",
    "        if not dp or n >= dp[-1]:\n",
    "            dp.append(n)\n",
    "            ans.append(len(dp))\n",
    "        else:\n",
    "            l = 0\n",
    "            r = len(dp)-1\n",
    "            while l <= r:\n",
    "                m = (l+r) // 2\n",
    "                if dp[m] <= n:\n",
    "                    l = m + 1\n",
    "                else:\n",
    "                    r = m - 1\n",
    "            dp[l] = n\n",
    "            ans.append(l+1)\n",
    "    return ans\n",
    "\n",
    "print(longestObstacleCourseAtEachPosition([1,2,3,2])) # [1,2,3,3]\n",
    "print(longestObstacleCourseAtEachPosition([2,2,1])) # [1,2,1]\n",
    "print(longestObstacleCourseAtEachPosition([3,1,5,6,4,2])) # [1,1,2,3,2,2]"
   ]
  },
  {
   "attachments": {},
   "cell_type": "markdown",
   "metadata": {},
   "source": [
    "**2006. Count Number of Pairs With Absolute Difference K**\n",
    "\n",
    "Given an integer array nums and an integer k, return the number of pairs (i, j) where i < j such that |nums[i] - nums[j]| == k.\n",
    "\n",
    "https://leetcode.com/problems/count-number-of-pairs-with-absolute-difference-k/"
   ]
  },
  {
   "cell_type": "code",
   "execution_count": 2,
   "metadata": {},
   "outputs": [
    {
     "name": "stdout",
     "output_type": "stream",
     "text": [
      "4\n",
      "0\n"
     ]
    }
   ],
   "source": [
    "from collections import Counter\n",
    "def countKDifference(nums: list[int], k: int) -> int:\n",
    "    counter = Counter(nums)\n",
    "    ans = 0\n",
    "    for n in counter.keys():\n",
    "        if n-k in counter:\n",
    "            ans += counter[n] * counter[n-k]\n",
    "    return ans\n",
    "\n",
    "print(countKDifference(nums = [1,2,2,1], k = 1)) # 4\n",
    "print(countKDifference(nums = [1,3], k = 3)) # 0"
   ]
  },
  {
   "attachments": {},
   "cell_type": "markdown",
   "metadata": {},
   "source": [
    "**2079. Watering Plants**\n",
    "\n",
    "You want to water n plants in your garden with a watering can. The plants are arranged in a row and are labeled from 0 to n - 1 from left to right where the ith plant is located at x = i. There is a river at x = -1 that you can refill your watering can at.\n",
    "\n",
    "Each plant needs a specific amount of water. You will water the plants in the following way:\n",
    "\n",
    "* Water the plants in order from left to right.\n",
    "* After watering the current plant, if you do not have enough water to completely water the next plant, return to the river to fully refill the watering can.\n",
    "* You cannot refill the watering can early.\n",
    "\n",
    "You are initially at the river (i.e., x = -1). It takes one step to move one unit on the x-axis.\n",
    "\n",
    "Given a 0-indexed integer array plants of n integers, where plants[i] is the amount of water the ith plant needs, and an integer capacity representing the watering can capacity, return the number of steps needed to water all the plants.\n",
    "\n",
    "https://leetcode.com/problems/watering-plants/"
   ]
  },
  {
   "cell_type": "code",
   "execution_count": 3,
   "metadata": {},
   "outputs": [
    {
     "name": "stdout",
     "output_type": "stream",
     "text": [
      "14\n",
      "30\n",
      "49\n"
     ]
    }
   ],
   "source": [
    "def wateringPlants(plants: list[int], capacity: int) -> int:\n",
    "    counter = len(plants)\n",
    "    current = capacity\n",
    "    for i in range(len(plants)):\n",
    "        current -= plants[i]\n",
    "        if current < 0:\n",
    "            current = capacity - plants[i]\n",
    "            counter += 2 * i\n",
    "    return counter\n",
    "\n",
    "print(wateringPlants(plants = [2,2,3,3], capacity = 5)) # 14\n",
    "print(wateringPlants(plants = [1,1,1,4,2,3], capacity = 4)) # 30\n",
    "print(wateringPlants(plants = [7,7,7,7,7,7,7], capacity = 8)) # 49"
   ]
  },
  {
   "attachments": {},
   "cell_type": "markdown",
   "metadata": {},
   "source": [
    "**2114. Maximum Number of Words Found in Sentences**\n",
    "\n",
    "A sentence is a list of words that are separated by a single space with no leading or trailing spaces.\n",
    "\n",
    "You are given an array of strings sentences, where each sentences[i] represents a single sentence.\n",
    "\n",
    "Return the maximum number of words that appear in a single sentence.\n",
    "\n",
    "https://leetcode.com/problems/maximum-number-of-words-found-in-sentences/"
   ]
  },
  {
   "cell_type": "code",
   "execution_count": 1,
   "metadata": {},
   "outputs": [
    {
     "name": "stdout",
     "output_type": "stream",
     "text": [
      "6\n",
      "3\n"
     ]
    }
   ],
   "source": [
    "def mostWordsFound(sentences: list[str]) -> int:\n",
    "    return max([len(s.split()) for s in sentences])\n",
    "\n",
    "print(mostWordsFound([\"alice and bob love leetcode\", \"i think so too\", \"this is great thanks very much\"])) # 6\n",
    "print(mostWordsFound([\"please wait\", \"continue to fight\", \"continue to win\"])) # 3"
   ]
  },
  {
   "attachments": {},
   "cell_type": "markdown",
   "metadata": {},
   "source": [
    "**2140. Solving Questions With Brainpower**\n",
    "\n",
    "You are given a 0-indexed 2D integer array questions where questions[i] = [pointsi, brainpoweri].\n",
    "\n",
    "The array describes the questions of an exam, where you have to process the questions in order (i.e., starting from question 0) and make a decision whether to solve or skip each question. Solving question i will earn you pointsi points but you will be unable to solve each of the next brainpoweri questions. If you skip question i, you get to make the decision on the next question.\n",
    "\n",
    "For example, given questions = [[3, 2], [4, 3], [4, 4], [2, 5]]:\n",
    "If question 0 is solved, you will earn 3 points but you will be unable to solve questions 1 and 2.\n",
    "If instead, question 0 is skipped and question 1 is solved, you will earn 4 points but you will be unable to solve questions 2 and 3.\n",
    "Return the maximum points you can earn for the exam.\n",
    "\n",
    "https://leetcode.com/problems/solving-questions-with-brainpower/"
   ]
  },
  {
   "cell_type": "code",
   "execution_count": 11,
   "metadata": {},
   "outputs": [
    {
     "name": "stdout",
     "output_type": "stream",
     "text": [
      "5\n",
      "7\n"
     ]
    }
   ],
   "source": [
    "def mostPoints(questions: list[list[int]]) -> int:\n",
    "    l = len(questions)\n",
    "    dp = [0] * (l + 1)\n",
    "    for i in range(l-1,-1,-1):\n",
    "        if i + questions[i][1] < l:\n",
    "            dp[i] = max(questions[i][0] + dp[i + questions[i][1] + 1], dp[i+1])\n",
    "        else:\n",
    "            dp[i] = max(questions[i][0], dp[i+1])\n",
    "    return dp[0]\n",
    "\n",
    "print(mostPoints([[3,2],[4,3],[4,4],[2,5]])) # 5\n",
    "print(mostPoints([[1,1],[2,2],[3,3],[4,4],[5,5]])) # 7"
   ]
  },
  {
   "attachments": {},
   "cell_type": "markdown",
   "metadata": {},
   "source": [
    "**2640. Find the Score of All Prefixes of an Array**\n",
    "\n",
    "We define the conversion array conver of an array arr as follows:\n",
    "\n",
    "conver[i] = arr[i] + max(arr[0..i]) where max(arr[0..i]) is the maximum value of arr[j] over 0 <= j <= i.\n",
    "We also define the score of an array arr as the sum of the values of the conversion array of arr.\n",
    "\n",
    "Given a 0-indexed integer array nums of length n, return an array ans of length n where ans[i] is the score of the prefix nums[0..i].\n",
    "\n",
    " https://leetcode.com/problems/find-the-score-of-all-prefixes-of-an-array/"
   ]
  },
  {
   "cell_type": "code",
   "execution_count": 11,
   "metadata": {},
   "outputs": [
    {
     "name": "stdout",
     "output_type": "stream",
     "text": [
      "[4, 10, 24, 36, 56]\n",
      "[2, 4, 8, 16, 32, 64]\n"
     ]
    }
   ],
   "source": [
    "def findPrefixScore(nums: list[int]) -> list[int]:\n",
    "    maximum = 0\n",
    "    total = 0\n",
    "    ans = []\n",
    "    for n in nums:\n",
    "        maximum = max(n, maximum)\n",
    "        n += maximum\n",
    "        total += n\n",
    "        ans.append(total)\n",
    "    return ans\n",
    "\n",
    "print(findPrefixScore(nums = [2,3,7,5,10])) # [4,10,24,36,56]\n",
    "print(findPrefixScore(nums = [1,1,2,4,8,16])) # [2,4,8,16,32,64]"
   ]
  }
 ],
 "metadata": {
  "kernelspec": {
   "display_name": "Python 3",
   "language": "python",
   "name": "python3"
  },
  "language_info": {
   "codemirror_mode": {
    "name": "ipython",
    "version": 3
   },
   "file_extension": ".py",
   "mimetype": "text/x-python",
   "name": "python",
   "nbconvert_exporter": "python",
   "pygments_lexer": "ipython3",
   "version": "3.11.1"
  },
  "orig_nbformat": 4
 },
 "nbformat": 4,
 "nbformat_minor": 2
}
