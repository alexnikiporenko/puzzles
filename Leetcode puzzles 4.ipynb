{
 "cells": [
  {
   "cell_type": "code",
   "execution_count": 2,
   "metadata": {},
   "outputs": [
    {
     "name": "stdout",
     "output_type": "stream",
     "text": [
      "2 1 4 \n",
      "1 None 8 \n",
      "3 9 None None 20 15 7 "
     ]
    }
   ],
   "source": [
    "# Definition for a binary tree node.\n",
    "class TreeNode:\n",
    "    def __init__(self, val=0, left=None, right=None):\n",
    "        self.val = val\n",
    "        self.left = left\n",
    "        self.right = right\n",
    "\n",
    "from collections import deque\n",
    "\n",
    "def make_binary_tree(nums):\n",
    "    if not nums:\n",
    "        return TreeNode(None)\n",
    "    \n",
    "    tree = TreeNode(nums[0])\n",
    "    q = deque([tree])\n",
    "    i = 1\n",
    "    while i < len(nums):\n",
    "        node = q.popleft()\n",
    "        node.left = TreeNode(val=nums[i])\n",
    "        q.append(node.left)\n",
    "        if i + 1 < len(nums):\n",
    "            node.right = TreeNode(val=nums[i+1])\n",
    "            q.append(node.right)\n",
    "        i += 2\n",
    "\n",
    "    return tree\n",
    "\n",
    "def print_binary_tree(root):\n",
    "    if root:\n",
    "        print(root.val, end=\" \")\n",
    "        print_binary_tree(root.left)\n",
    "        print_binary_tree(root.right)\n",
    "\n",
    "print_binary_tree(make_binary_tree([2,1,4]))\n",
    "print()\n",
    "print_binary_tree(make_binary_tree([1,None,8]))\n",
    "print()\n",
    "print_binary_tree(make_binary_tree([3,9,20,None,None,15,7]))"
   ]
  },
  {
   "cell_type": "code",
   "execution_count": 4,
   "metadata": {},
   "outputs": [
    {
     "name": "stdout",
     "output_type": "stream",
     "text": [
      "2 4 3 \n",
      "5 6 4 \n"
     ]
    }
   ],
   "source": [
    "# Definition for singly-linked list.\n",
    "class ListNode:\n",
    "    def __init__(self, val=0, next=None):\n",
    "        self.val = val\n",
    "        self.next = next\n",
    "\n",
    "def make_linked_list(nums):\n",
    "    linked_list = ListNode(val=nums[0])\n",
    "    node = linked_list\n",
    "    for n in nums[1:]:\n",
    "        node.next = ListNode(val=n)\n",
    "        node = node.next\n",
    "    return linked_list\n",
    "\n",
    "def print_linked_list(node):\n",
    "    while node:\n",
    "        print(node.val, end=\" \")\n",
    "        node = node.next\n",
    "    print()\n",
    "\n",
    "print_linked_list(make_linked_list([2,4,3]))\n",
    "print_linked_list(make_linked_list([5,6,4]))"
   ]
  },
  {
   "attachments": {},
   "cell_type": "markdown",
   "metadata": {},
   "source": [
    "**95. Unique Binary Search Trees II**\n",
    "\n",
    "Given an integer n, return all the structurally unique BST's (binary search trees), which has exactly n nodes of unique values from 1 to n. Return the answer in any order.\n",
    "\n",
    "https://leetcode.com/problems/unique-binary-search-trees-ii/"
   ]
  },
  {
   "cell_type": "code",
   "execution_count": 98,
   "metadata": {},
   "outputs": [],
   "source": [
    "# slow recursive, via https://www.youtube.com/watch?v=A7OII4X4cw0&ab_channel=HappyCoding\n",
    "# easy to make faster using cache\n",
    "from functools import cache\n",
    "def generateTrees(n: int) -> list[TreeNode]:\n",
    "    @cache\n",
    "    def dfs(nums): \n",
    "        if not nums:\n",
    "            return [None]\n",
    "        \n",
    "        ans = []\n",
    "\n",
    "        for i in range(len(nums)):\n",
    "            left_trees = dfs(nums[:i])\n",
    "            right_trees = dfs(nums[i+1:])\n",
    "\n",
    "            for l in left_trees:\n",
    "                for r in right_trees:\n",
    "                    root = TreeNode(nums[i])\n",
    "                    root.left = l\n",
    "                    root.right = r\n",
    "                    ans.append(root)\n",
    "\n",
    "        return ans\n",
    "    nums = tuple(range(1, n+1))\n",
    "\n",
    "    return dfs(nums)\n",
    "\n",
    "# iterative, via https://leetcode.com/problems/unique-binary-search-trees-ii/discuss/31586/Iterative-Python-solution-DP-76-ms\n",
    "def generateTrees(n: int) -> list[TreeNode]:\n",
    "    if not n:\n",
    "        return []\n",
    "    \n",
    "    dp = [[[None] for _ in range(n+1)] for _ in range(n+2)]\n",
    "\n",
    "    for l in range(1, n+1):\n",
    "        for i in range(1, n-l+2):\n",
    "            j = i + l - 1\n",
    "            dp[i][j] = []\n",
    "            for k in range(i, j+1):\n",
    "                left = dp[i][k-1]\n",
    "                right = dp[k+1][j]\n",
    "                for lt in left:\n",
    "                    for rt in right:\n",
    "                        root = TreeNode(k, left=lt, right=rt)\n",
    "                        dp[i][j].append(root)\n",
    "    \n",
    "    return dp[1][n]\n"
   ]
  },
  {
   "attachments": {},
   "cell_type": "markdown",
   "metadata": {},
   "source": [
    "**110. Balanced Binary Tree**\n",
    "\n",
    "Given a binary tree, determine if it is height-balanced.\n",
    "\n",
    "https://leetcode.com/problems/balanced-binary-tree/"
   ]
  },
  {
   "cell_type": "code",
   "execution_count": 7,
   "metadata": {},
   "outputs": [
    {
     "name": "stdout",
     "output_type": "stream",
     "text": [
      "True\n"
     ]
    }
   ],
   "source": [
    "# via neetcode https://www.youtube.com/watch?v=QfJsau0ItOY&t=282s&ab_channel=NeetCode\n",
    "def isBalanced(root: TreeNode) -> bool:\n",
    "    def dfs(node):\n",
    "        if not node:\n",
    "            return True, 0\n",
    "\n",
    "        right = dfs(node.right)\n",
    "        left = dfs(node.left)\n",
    "\n",
    "        return right[0] and left[0] and abs(right[1] - left[1]) <= 1, max(right[1], left[1]) + 1\n",
    "\n",
    "    return dfs(root)[0]\n",
    "\n",
    "print(isBalanced(make_binary_tree([3,9,20,None,None,15,7])))\n"
   ]
  },
  {
   "attachments": {},
   "cell_type": "markdown",
   "metadata": {},
   "source": [
    "**113. Path Sum II**\n",
    "\n",
    "Given the root of a binary tree and an integer targetSum, return all root-to-leaf paths where the sum of the node values in the path equals targetSum. Each path should be returned as a list of the node values, not node references.\n",
    "\n",
    "A root-to-leaf path is a path starting from the root and ending at any leaf node. A leaf is a node with no children.\n",
    "\n",
    "https://leetcode.com/problems/path-sum-ii/"
   ]
  },
  {
   "cell_type": "code",
   "execution_count": 7,
   "metadata": {},
   "outputs": [],
   "source": [
    "def pathSum(root: TreeNode, targetSum: int) -> list[list[int]]:\n",
    "    if not root:\n",
    "        return []\n",
    "    ans = []\n",
    "    def helper(node, total, arr):\n",
    "        if not node.left and not node.right:\n",
    "            if total + node.val == targetSum:\n",
    "                ans.append(arr + [node.val])\n",
    "    \n",
    "        else:\n",
    "            if node.left:\n",
    "                helper(node.left, total + node.val, arr + [node.val])\n",
    "            if node.right:\n",
    "                helper(node.right, total + node.val, arr + [node.val])\n",
    "\n",
    "    helper(root, 0, [])\n",
    "\n",
    "    return ans"
   ]
  },
  {
   "attachments": {},
   "cell_type": "markdown",
   "metadata": {},
   "source": [
    "**114. Flatten Binary Tree to Linked List**\n",
    "\n",
    "Given the root of a binary tree, flatten the tree into a \"linked list\":\n",
    "\n",
    "* The \"linked list\" should use the same TreeNode class where the right child pointer points to the next node in the list and the left child pointer is always null.\n",
    "* The \"linked list\" should be in the same order as a pre-order traversal of the binary tree.\n",
    "\n",
    "https://leetcode.com/problems/flatten-binary-tree-to-linked-list/"
   ]
  },
  {
   "cell_type": "code",
   "execution_count": 2,
   "metadata": {},
   "outputs": [],
   "source": [
    "# my solution, a little slow as it's done in two passes with an auxillary queue.\n",
    "def flatten(root: TreeNode) -> None:\n",
    "    \"\"\"\n",
    "    Do not return anything, modify root in-place instead.\n",
    "    \"\"\"\n",
    "    if not root:\n",
    "        return root\n",
    "    q = deque([])\n",
    "    def preorder(node):\n",
    "        if not node:\n",
    "            return\n",
    "        \n",
    "        q.append(node)\n",
    "        preorder(node.left)\n",
    "        preorder(node.right)\n",
    "    \n",
    "    preorder(root)\n",
    "    \n",
    "    node = q.popleft()\n",
    "    node.left = None\n",
    "    while q:\n",
    "        node.right = q.popleft()\n",
    "        node = node.right\n",
    "        node.left = None\n",
    "        \n",
    "    return root"
   ]
  },
  {
   "attachments": {},
   "cell_type": "markdown",
   "metadata": {},
   "source": [
    "**128. Longest Consecutive Sequence**\n",
    "\n",
    "Given an unsorted array of integers nums, return the length of the longest consecutive elements sequence.\n",
    "\n",
    "You must write an algorithm that runs in O(n) time.\n",
    "\n",
    "https://leetcode.com/problems/longest-consecutive-sequence/"
   ]
  },
  {
   "cell_type": "code",
   "execution_count": 58,
   "metadata": {},
   "outputs": [
    {
     "name": "stdout",
     "output_type": "stream",
     "text": [
      "4\n",
      "9\n",
      "3\n",
      "5\n"
     ]
    }
   ],
   "source": [
    "# union find - O(n log n)\n",
    "def longestConsecutive(nums: list[int]) -> int:\n",
    "    if not nums: \n",
    "        return 0\n",
    "\n",
    "    max_l = 1\n",
    "    parents = {n:[n,1] for n in nums}\n",
    "    \n",
    "    def find(n):\n",
    "        nn = n\n",
    "        while nn != parents[nn][0]:\n",
    "            nn = parents[nn][0]\n",
    "        parents[n] = parents[nn]\n",
    "        return parents[n]\n",
    "        \n",
    "    def union(m, n):\n",
    "        pm, lm = find(m)\n",
    "        pn, ln = find(n)\n",
    "        parents[pm][0] = pn\n",
    "        parents[n][1] = lm+ln\n",
    "        nonlocal max_l\n",
    "        max_l = max(max_l, parents[n][1])\n",
    "        \n",
    "    for n in parents.keys():\n",
    "        if n+1 in parents:\n",
    "            union(n, n+1)\n",
    "            \n",
    "    return max_l\n",
    "\n",
    "# sorting - O(n log n)\n",
    "def longestConsecutive(nums: list[int]) -> int:\n",
    "    if not nums: \n",
    "        return 0\n",
    "    \n",
    "    nums.sort()\n",
    "    current = 1\n",
    "    longest = 1\n",
    "    for i in range(1, len(nums)):\n",
    "        if nums[i] - 1 == nums[i-1]:\n",
    "            current += 1\n",
    "            longest = max(longest, current)\n",
    "        elif nums[i] != nums[i-1]:\n",
    "            current = 1\n",
    "\n",
    "    return longest\n",
    "\n",
    "# O(n)\n",
    "def longestConsecutive(nums: list[int]) -> int:\n",
    "    nums = set(nums)\n",
    "    longest = 0\n",
    "\n",
    "    for n in nums:\n",
    "        if n-1 not in nums:\n",
    "            length = 0\n",
    "            while n + length in nums:\n",
    "                length += 1\n",
    "            longest = max(longest, length)\n",
    "\n",
    "    return longest\n",
    "\n",
    "\n",
    "print(longestConsecutive([100,4,200,1,3,2])) # 4\n",
    "print(longestConsecutive([0,3,7,2,5,8,4,6,0,1])) # 9\n",
    "print(longestConsecutive([1,2,0,1])) # 3\n",
    "print(longestConsecutive([4,0,-4,-2,2,5,2,0,-8,-8,-8,-8,-1,7,4,5,5,-4,6,6,-3])) # 5"
   ]
  },
  {
   "attachments": {},
   "cell_type": "markdown",
   "metadata": {},
   "source": [
    "**318. Maximum Product of Word Lengths**\n",
    "\n",
    "Given a string array words, return the maximum value of length(word[i]) * length(word[j]) where the two words do not share common letters. If no such two words exist, return 0.\n",
    "\n",
    " https://leetcode.com/problems/maximum-product-of-word-lengths/"
   ]
  },
  {
   "cell_type": "code",
   "execution_count": 8,
   "metadata": {},
   "outputs": [
    {
     "name": "stdout",
     "output_type": "stream",
     "text": [
      "16\n",
      "4\n",
      "0\n"
     ]
    }
   ],
   "source": [
    "def maxProduct(words: list[str]) -> int:\n",
    "    d = {}\n",
    "    for w in words:\n",
    "        t = tuple(sorted(set(w)))\n",
    "        d[t] = max(d.get(t,0), len(w))\n",
    "    maximum = 0\n",
    "    arr = [[set(k), v] for k, v in d.items()]\n",
    "    for i in range(len(arr)-1):\n",
    "        for j in range(i+1, len(arr)):\n",
    "            if not (arr[i][0] & arr[j][0]):\n",
    "                maximum = max(maximum, arr[i][1]*arr[j][1])\n",
    "    return maximum\n",
    "\n",
    "print(maxProduct([\"abcw\",\"baz\",\"foo\",\"bar\",\"xtfn\",\"abcdef\"])) # 16\n",
    "print(maxProduct([\"a\",\"ab\",\"abc\",\"d\",\"cd\",\"bcd\",\"abcd\"])) # 4\n",
    "print(maxProduct([\"a\",\"aa\",\"aaa\",\"aaaa\"])) # 0"
   ]
  },
  {
   "attachments": {},
   "cell_type": "markdown",
   "metadata": {},
   "source": [
    "**399. Evaluate Division**\n",
    "\n",
    "You are given an array of variable pairs equations and an array of real numbers values, where equations[i] = [Ai, Bi] and values[i] represent the equation Ai / Bi = values[i]. Each Ai or Bi is a string that represents a single variable.\n",
    "\n",
    "You are also given some queries, where queries[j] = [Cj, Dj] represents the jth query where you must find the answer for Cj / Dj = ?.\n",
    "\n",
    "Return the answers to all queries. If a single answer cannot be determined, return -1.0.\n",
    "\n",
    "Note: The input is always valid. You may assume that evaluating the queries will not result in division by zero and that there is no contradiction.\n",
    "\n",
    "https://leetcode.com/problems/evaluate-division/"
   ]
  },
  {
   "cell_type": "code",
   "execution_count": 31,
   "metadata": {},
   "outputs": [
    {
     "name": "stdout",
     "output_type": "stream",
     "text": [
      "[6.0, 0.5, -1, 1.0, -1]\n",
      "[3.75, 0.4, 5.0, 0.2]\n",
      "[0.5, 2.0, -1, -1]\n"
     ]
    }
   ],
   "source": [
    "# dfs\n",
    "def calcEquation(equations: list[list[str]], values: list[float], queries: list[list[str]]) -> list[float]:\n",
    "    unique = set([v for e in equations for v in e])\n",
    "    d = {}\n",
    "    for v in unique:\n",
    "        d[v] = {v:1}\n",
    "\n",
    "    for i in range(len(equations)):\n",
    "        d[equations[i][0]][equations[i][1]] = values[i]\n",
    "        d[equations[i][1]][equations[i][0]] = 1/values[i]\n",
    "\n",
    "\n",
    "    ans = []\n",
    "\n",
    "    def dfs(start, end):\n",
    "        nonlocal d\n",
    "        visited = {start}\n",
    "        stack = [(start, 1)]\n",
    "        while stack:\n",
    "            v, m = stack.pop()\n",
    "            if v not in d:\n",
    "                return -1\n",
    "            for k, mm in d[v].items():\n",
    "                if k == end:\n",
    "                    return m * mm\n",
    "                else:\n",
    "                    if k not in visited:\n",
    "                        stack.append((k, m*mm))\n",
    "                    visited.add(k)\n",
    "        return -1\n",
    "    \n",
    "    for q in queries:\n",
    "        ans.append(dfs(q[0], q[1]))\n",
    "\n",
    "    return ans\n",
    "\n",
    "# Floyd–Warshall - via https://leetcode.com/problems/evaluate-division/discuss/3544428/Python-Elegant-and-Short-or-FloydWarshall\n",
    "from collections import defaultdict\n",
    "def calcEquation(equations: list[list[str]], values: list[float], queries: list[list[str]]) -> list[float]:\n",
    "    graph = defaultdict(dict)\n",
    "\n",
    "    for (u, v), val in zip(equations, values):\n",
    "        graph[u][u] = graph[v][v] = 1\n",
    "        graph[u][v] = val\n",
    "        graph[v][u] = 1 / val\n",
    "\n",
    "    for k in graph:\n",
    "        for i in graph[k]:\n",
    "            for j in graph[k]:\n",
    "                graph[i][j] = graph[i][k] * graph[k][j]\n",
    "\n",
    "    return [graph[u].get(v, -1) for u, v in queries]\n",
    "\n",
    "\n",
    "\n",
    "print(calcEquation(equations = [[\"a\",\"b\"],[\"b\",\"c\"]], values = [2.0,3.0], queries = [[\"a\",\"c\"],[\"b\",\"a\"],[\"a\",\"e\"],[\"a\",\"a\"],[\"x\",\"x\"]])) # [6.00000,0.50000,-1.00000,1.00000,-1.00000]\n",
    "print(calcEquation(equations = [[\"a\",\"b\"],[\"b\",\"c\"],[\"bc\",\"cd\"]], values = [1.5,2.5,5.0], queries = [[\"a\",\"c\"],[\"c\",\"b\"],[\"bc\",\"cd\"],[\"cd\",\"bc\"]])) # [3.75000,0.40000,5.00000,0.20000]\n",
    "print(calcEquation(equations = [[\"a\",\"b\"]], values = [0.5], queries = [[\"a\",\"b\"],[\"b\",\"a\"],[\"a\",\"c\"],[\"x\",\"y\"]])) # [0.50000,2.00000,-1.00000,-1.00000]"
   ]
  },
  {
   "attachments": {},
   "cell_type": "markdown",
   "metadata": {},
   "source": [
    "**481. Magical String**\n",
    "\n",
    "A magical string s consists of only '1' and '2' and obeys the following rules:\n",
    "\n",
    "The string s is magical because concatenating the number of contiguous occurrences of characters '1' and '2' generates the string s itself.\n",
    "The first few elements of s is s = \"1221121221221121122……\". If we group the consecutive 1's and 2's in s, it will be \"1 22 11 2 1 22 1 22 11 2 11 22 ......\" and the occurrences of 1's or 2's in each group are \"1 2 2 1 1 2 1 2 2 1 2 2 ......\". You can see that the occurrence sequence is s itself.\n",
    "\n",
    "Given an integer n, return the number of 1's in the first n number in the magical string s.\n",
    "\n",
    "https://leetcode.com/problems/magical-string/"
   ]
  },
  {
   "cell_type": "code",
   "execution_count": 4,
   "metadata": {},
   "outputs": [
    {
     "name": "stdout",
     "output_type": "stream",
     "text": [
      "3\n",
      "1\n"
     ]
    }
   ],
   "source": [
    "def magicalString(n: int) -> int:\n",
    "    arr = [1, 2, 2]\n",
    "    i = 2\n",
    "    while len(arr) < n:\n",
    "        arr.extend([2 - (i+1) % 2] * arr[i])\n",
    "        i += 1\n",
    "    return arr[:n].count(1)\n",
    "\n",
    "print(magicalString(6)) # 3\n",
    "print(magicalString(1)) # 1"
   ]
  },
  {
   "attachments": {},
   "cell_type": "markdown",
   "metadata": {},
   "source": [
    "**682. Baseball Game**\n",
    "\n",
    "You are keeping the scores for a baseball game with strange rules. At the beginning of the game, you start with an empty record.\n",
    "\n",
    "You are given a list of strings operations, where operations[i] is the ith operation you must apply to the record and is one of the following:\n",
    "\n",
    "* An integer x.\n",
    "Record a new score of x.\n",
    "* '+'.\n",
    "Record a new score that is the sum of the previous two scores.\n",
    "* 'D'.\n",
    "Record a new score that is the double of the previous score.\n",
    "* 'C'.\n",
    "Invalidate the previous score, removing it from the record.\n",
    "\n",
    "Return the sum of all the scores on the record after applying all the operations.\n",
    "\n",
    "https://leetcode.com/problems/baseball-game/"
   ]
  },
  {
   "cell_type": "code",
   "execution_count": 3,
   "metadata": {},
   "outputs": [
    {
     "name": "stdout",
     "output_type": "stream",
     "text": [
      "27\n",
      "0\n",
      "30\n"
     ]
    }
   ],
   "source": [
    "def calPoints(operations: list[str]) -> int:\n",
    "    ans = []\n",
    "    for o in operations:\n",
    "        if o == \"+\":\n",
    "            ans.append(ans[-1] + ans[-2])\n",
    "        elif o == \"D\":\n",
    "            ans.append(ans[-1] * 2)\n",
    "        elif o == \"C\":\n",
    "            ans.pop()\n",
    "        else:\n",
    "            ans.append(int(o))\n",
    "    return sum(ans)\n",
    "\n",
    "print(calPoints([\"5\",\"-2\",\"4\",\"C\",\"D\",\"9\",\"+\",\"+\"])) # 27\n",
    "print(calPoints([\"1\",\"C\"])) # 0\n",
    "print(calPoints([\"5\",\"2\",\"C\",\"D\",\"+\"])) # 30"
   ]
  },
  {
   "attachments": {},
   "cell_type": "markdown",
   "metadata": {},
   "source": [
    "**692. Top K Frequent Words**\n",
    "\n",
    "Given an array of strings words and an integer k, return the k most frequent strings.\n",
    "\n",
    "Return the answer sorted by the frequency from highest to lowest. Sort the words with the same frequency by their lexicographical order.\n",
    "\n",
    "https://leetcode.com/problems/top-k-frequent-words/"
   ]
  },
  {
   "cell_type": "code",
   "execution_count": 25,
   "metadata": {},
   "outputs": [
    {
     "name": "stdout",
     "output_type": "stream",
     "text": [
      "['i', 'love']\n",
      "['the', 'is', 'sunny', 'day']\n"
     ]
    }
   ],
   "source": [
    "# one-liner, but slow\n",
    "from collections import Counter\n",
    "def topKFrequent(words: list[str], k: int) -> list[str]:\n",
    "    return [item[0] for item in Counter(sorted(words)).most_common(k)]\n",
    "\n",
    "# equally slow\n",
    "def topKFrequent(words: list[str], k: int) -> list[str]:\n",
    "    counted = {}\n",
    "    for w in words:\n",
    "        counted[w] = counted.get(w, 0) + 1\n",
    "        \n",
    "    counted = [(k,v) for k,v in counted.items()]\n",
    "    counted.sort(key = lambda x: (-x[1], x[0]))\n",
    "    return [item[0] for item in counted[:k]]\n",
    "\n",
    "# using heap - seemingly as slow as the above\n",
    "import heapq\n",
    "def topKFrequent(words: list[str], k: int) -> list[str]:\n",
    "    counted = Counter(words)\n",
    "    heap = [(-count, word) for word, count in counted.items()]\n",
    "    heapq.heapify(heap)\n",
    "    return [heapq.heappop(heap)[1] for _ in range(k)]\n",
    "\n",
    "print(topKFrequent(words = [\"i\",\"love\",\"leetcode\",\"i\",\"love\",\"coding\"], k = 2)) # [\"i\",\"love\"]\n",
    "print(topKFrequent(words = [\"the\",\"day\",\"is\",\"sunny\",\"the\",\"the\",\"the\",\"sunny\",\"is\",\"is\"], k = 4)) # [\"the\",\"is\",\"sunny\",\"day\"]"
   ]
  },
  {
   "attachments": {},
   "cell_type": "markdown",
   "metadata": {},
   "source": [
    "**785. Is Graph Bipartite?**\n",
    "\n",
    "There is an undirected graph with n nodes, where each node is numbered between 0 and n - 1. You are given a 2D array graph, where graph[u] is an array of nodes that node u is adjacent to. More formally, for each v in graph[u], there is an undirected edge between node u and node v. The graph has the following properties:\n",
    "\n",
    "* There are no self-edges (graph[u] does not contain u).\n",
    "* There are no parallel edges (graph[u] does not contain duplicate values).\n",
    "* If v is in graph[u], then u is in graph[v] (the graph is undirected).\n",
    "* The graph may not be connected, meaning there may be two nodes u and v such that there is no path between them.\n",
    "\n",
    "A graph is bipartite if the nodes can be partitioned into two independent sets A and B such that every edge in the graph connects a node in set A and a node in set B.\n",
    "\n",
    "Return true if and only if it is bipartite.\n",
    "\n",
    "https://leetcode.com/problems/is-graph-bipartite/"
   ]
  },
  {
   "cell_type": "code",
   "execution_count": 20,
   "metadata": {},
   "outputs": [
    {
     "name": "stdout",
     "output_type": "stream",
     "text": [
      "False\n",
      "True\n",
      "False\n"
     ]
    }
   ],
   "source": [
    "def isBipartite(graph: list[list[int]]) -> bool:\n",
    "    colours = [-1] * len(graph)\n",
    "\n",
    "    def dfs(n):\n",
    "        colours[n] = 0\n",
    "        stack = [n]\n",
    "        while stack:\n",
    "            node = stack.pop()\n",
    "            for edge in graph[node]:\n",
    "                if colours[edge] == colours[node]:\n",
    "                    return False\n",
    "                if colours[edge] == -1:\n",
    "                    colours[edge] = (colours[node] + 1) % 2\n",
    "                    stack.append(edge)\n",
    "        return True\n",
    "\n",
    "    for i in range(len(graph)):\n",
    "        if colours[i] == -1:\n",
    "            if not dfs(i):\n",
    "                return False\n",
    "\n",
    "    return True\n",
    "\n",
    "\n",
    "print(isBipartite(graph = [[1,2,3],[0,2],[0,1,3],[0,2]])) # False\n",
    "print(isBipartite(graph = [[1,3],[0,2],[1,3],[0,2]])) # True\n",
    "print(isBipartite([[],[2,4,6],[1,4,8,9],[7,8],[1,2,8,9],[6,9],[1,5,7,8,9],[3,6,9],[2,3,4,6,9],[2,4,5,6,7,8]])) # False"
   ]
  },
  {
   "attachments": {},
   "cell_type": "markdown",
   "metadata": {},
   "source": [
    "**813. Largest Sum of Averages**\n",
    "\n",
    "You are given an integer array nums and an integer k. You can partition the array into at most k non-empty adjacent subarrays. The score of a partition is the sum of the averages of each subarray.\n",
    "\n",
    "Note that the partition must use every integer in nums, and that the score is not necessarily an integer.\n",
    "\n",
    "Return the maximum score you can achieve of all the possible partitions. Answers within 10^-6 of the actual answer will be accepted.\n",
    "\n",
    "https://leetcode.com/problems/largest-sum-of-averages/"
   ]
  },
  {
   "cell_type": "code",
   "execution_count": 97,
   "metadata": {},
   "outputs": [
    {
     "name": "stdout",
     "output_type": "stream",
     "text": [
      "20.0\n",
      "20.5\n",
      "18.166666666666664\n"
     ]
    }
   ],
   "source": [
    "# times out\n",
    "def largestSumOfAverages(nums: list[int], k: int) -> float:\n",
    "    cache = {}\n",
    "    largest_sum = 0\n",
    "    l = len(nums)\n",
    "\n",
    "    def calculate(start_ind, end_ind):\n",
    "        if (start_ind, end_ind) not in cache:\n",
    "            cache[(start_ind, end_ind)] = sum(nums[start_ind:end_ind]) / (end_ind - start_ind)\n",
    "        return cache[(start_ind, end_ind)]\n",
    "\n",
    "    def helper(total, index, remaining):\n",
    "        if remaining == 1:\n",
    "            nonlocal largest_sum\n",
    "            largest_sum = max(largest_sum, total+calculate(index, l))\n",
    "        else:\n",
    "            for i in range(index+1, l-remaining+2):\n",
    "                helper(total+calculate(index, i), i, remaining-1)\n",
    "\n",
    "    helper(0, 0, k)\n",
    "\n",
    "    return largest_sum\n",
    "\n",
    "\n",
    "def largestSumOfAverages(nums: list[int], k: int) -> float:\n",
    "    l = len(nums)\n",
    "\n",
    "    dp = [[float(\"-inf\")] * (l+1)] + [[0] * (l+1) for _ in range(k)]\n",
    "    dp[0][-1] = 0\n",
    "\n",
    "    def mean(arr):\n",
    "        return sum(arr) / len(arr)\n",
    "\n",
    "    for i in range(1, k+1):\n",
    "        for j in range(l-i, k-1-i, -1):\n",
    "            maximum = 0\n",
    "            for r in range(j+1, l+2-i):\n",
    "                maximum = max(maximum, mean(nums[j:r]) + dp[i-1][r])\n",
    "            dp[i][j] = maximum\n",
    "\n",
    "    return dp[-1][0]\n",
    "\n",
    "\n",
    "\n",
    "\n",
    "print(largestSumOfAverages(nums = [9,1,2,3,9], k = 3)) # 20.00000\n",
    "print(largestSumOfAverages(nums = [1,2,3,4,5,6,7], k = 4)) # 20.50000\n",
    "print(largestSumOfAverages(nums = [4,1,7,5,6,2,3], k = 4)) # 18.16667\n",
    "long_nums = [4663,3020,7789,1627,9668,1356,4207,1133,8765,4649,205,6455,8864,3554,3916,5925,3995,4540,3487,5444,8259,8802,6777,7306,989,4958,2921,8155,4922,2469,6923,776,9777,1796,708,786,3158,7369,8715,2136,2510,3739,6411,7996,6211,8282,4805,236,1489,7698]\n",
    "# print(largestSumOfAverages(nums = long_nums, k = 27)) # shouldn't time out"
   ]
  },
  {
   "attachments": {},
   "cell_type": "markdown",
   "metadata": {},
   "source": [
    "**841. Keys and Rooms**\n",
    "\n",
    "There are n rooms labeled from 0 to n - 1 and all the rooms are locked except for room 0. Your goal is to visit all the rooms. However, you cannot enter a locked room without having its key.\n",
    "\n",
    "When you visit a room, you may find a set of distinct keys in it. Each key has a number on it, denoting which room it unlocks, and you can take all of them with you to unlock the other rooms.\n",
    "\n",
    "Given an array rooms where rooms[i] is the set of keys that you can obtain if you visited room i, return true if you can visit all the rooms, or false otherwise.\n",
    "\n",
    "https://leetcode.com/problems/keys-and-rooms/"
   ]
  },
  {
   "cell_type": "code",
   "execution_count": 9,
   "metadata": {},
   "outputs": [
    {
     "name": "stdout",
     "output_type": "stream",
     "text": [
      "True\n",
      "False\n"
     ]
    }
   ],
   "source": [
    "def canVisitAllRooms(rooms: list[list[int]]) -> bool:\n",
    "    stack = [0]\n",
    "    visited = {0}\n",
    "    while stack:\n",
    "        r = stack.pop()\n",
    "        for k in rooms[r]:\n",
    "            if k not in visited:\n",
    "                stack.append(k)\n",
    "                visited.add(k)\n",
    "    return len(visited) == len(rooms)\n",
    "\n",
    "print(canVisitAllRooms(rooms = [[1],[2],[3],[]])) # True\n",
    "print(canVisitAllRooms(rooms = [[1,3],[3,0,1],[2],[0]])) # False"
   ]
  },
  {
   "attachments": {},
   "cell_type": "markdown",
   "metadata": {},
   "source": [
    "**1035. Uncrossed Lines**\n",
    "\n",
    "You are given two integer arrays nums1 and nums2. We write the integers of nums1 and nums2 (in the order they are given) on two separate horizontal lines.\n",
    "\n",
    "We may draw connecting lines: a straight line connecting two numbers nums1[i] and nums2[j] such that:\n",
    "\n",
    "* nums1[i] == nums2[j], and\n",
    "* the line we draw does not intersect any other connecting (non-horizontal) line.\n",
    "\n",
    "Note that a connecting line cannot intersect even at the endpoints (i.e., each number can only belong to one connecting line).\n",
    "\n",
    "Return the maximum number of connecting lines we can draw in this way.\n",
    "\n",
    "https://leetcode.com/problems/uncrossed-lines/"
   ]
  },
  {
   "cell_type": "code",
   "execution_count": 8,
   "metadata": {},
   "outputs": [
    {
     "name": "stdout",
     "output_type": "stream",
     "text": [
      "2\n",
      "3\n",
      "2\n"
     ]
    }
   ],
   "source": [
    "# longest common subsequence\n",
    "def maxUncrossedLines(nums1: list[int], nums2: list[int]) -> int:\n",
    "    dp = [[0] * (len(nums1) + 1) for _ in range(len(nums2) + 1)]\n",
    "    \n",
    "    for r in range(len(nums2)-1, -1, -1):\n",
    "        for c in range(len(nums1)-1, -1, -1):\n",
    "            if nums1[c] == nums2[r]:\n",
    "                dp[r][c] = dp[r+1][c+1] + 1\n",
    "            else:\n",
    "                dp[r][c] = max(dp[r+1][c], dp[r][c+1])\n",
    "    \n",
    "    return dp[0][0]\n",
    "\n",
    "\n",
    "print(maxUncrossedLines(nums1 = [1,4,2], nums2 = [1,2,4])) # 2\n",
    "print(maxUncrossedLines(nums1 = [2,5,1,2,5], nums2 = [10,5,2,1,5,2])) # 3\n",
    "print(maxUncrossedLines(nums1 = [1,3,7,1,7,5], nums2 = [1,9,2,5,1])) # 2"
   ]
  },
  {
   "attachments": {},
   "cell_type": "markdown",
   "metadata": {},
   "source": [
    "**1137. N-th Tribonacci Number**\n",
    "\n",
    "The Tribonacci sequence Tn is defined as follows: \n",
    "\n",
    "T0 = 0, T1 = 1, T2 = 1, and Tn+3 = Tn + Tn+1 + Tn+2 for n >= 0.\n",
    "\n",
    "Given n, return the value of Tn.\n",
    "\n",
    "https://leetcode.com/problems/n-th-tribonacci-number/"
   ]
  },
  {
   "cell_type": "code",
   "execution_count": 2,
   "metadata": {},
   "outputs": [
    {
     "name": "stdout",
     "output_type": "stream",
     "text": [
      "4\n",
      "1389537\n"
     ]
    }
   ],
   "source": [
    "def tribonacci(n: int) -> int:\n",
    "    trib = [0,1,1]\n",
    "    if n < 3:\n",
    "        return trib[n]\n",
    "    for _ in range(n-2):\n",
    "        trib = [trib[1], trib[2], sum(trib)]\n",
    "    return trib[-1]\n",
    "\n",
    "print(tribonacci(4)) # 4\n",
    "print(tribonacci(25)) # 1389537"
   ]
  },
  {
   "attachments": {},
   "cell_type": "markdown",
   "metadata": {},
   "source": [
    "**1222. Queens That Can Attack the King**\n",
    "\n",
    "On a 0-indexed 8 x 8 chessboard, there can be multiple black queens ad one white king.\n",
    "\n",
    "You are given a 2D integer array queens where queens[i] = [xQueeni, yQueeni] represents the position of the ith black queen on the chessboard. You are also given an integer array king of length 2 where king = [xKing, yKing] represents the position of the white king.\n",
    "\n",
    "Return the coordinates of the black queens that can directly attack the king. You may return the answer in any order.\n",
    "\n",
    "https://leetcode.com/problems/queens-that-can-attack-the-king/"
   ]
  },
  {
   "cell_type": "code",
   "execution_count": 5,
   "metadata": {},
   "outputs": [
    {
     "name": "stdout",
     "output_type": "stream",
     "text": [
      "[[0, 1], [3, 3], [1, 0]]\n",
      "[[3, 4], [4, 4], [2, 2]]\n"
     ]
    }
   ],
   "source": [
    "def queensAttacktheKing(queens: list[list[int]], king: list[int]) -> list[list[int]]:\n",
    "    queens = set(map(tuple, queens))\n",
    "    directions = [(0,1), (1,1), (1,0), (0,-1), (-1,-1), (-1,0), (1,-1), (-1,1)]\n",
    "    ans = []\n",
    "    for x,y in directions:\n",
    "        r,c = king\n",
    "        while 0 <= r < 8 and 0 <= c < 8:\n",
    "            r += x\n",
    "            c += y\n",
    "            if (r,c) in queens:\n",
    "                ans.append([r,c])\n",
    "                break\n",
    "    return ans\n",
    "\n",
    "print(queensAttacktheKing(queens = [[0,1],[1,0],[4,0],[0,4],[3,3],[2,4]], king = [0,0])) # [[0,1],[1,0],[3,3]]\n",
    "print(queensAttacktheKing(queens = [[0,0],[1,1],[2,2],[3,4],[3,5],[4,4],[4,5]], king = [3,3])) # [[2,2],[3,4],[4,4]]"
   ]
  },
  {
   "attachments": {},
   "cell_type": "markdown",
   "metadata": {},
   "source": [
    "**1456. Maximum Number of Vowels in a Substring of Given Length**\n",
    "\n",
    "Given a string s and an integer k, return the maximum number of vowel letters in any substring of s with length k.\n",
    "\n",
    "Vowel letters in English are 'a', 'e', 'i', 'o', and 'u'.\n",
    "\n",
    "https://leetcode.com/problems/maximum-number-of-vowels-in-a-substring-of-given-length/"
   ]
  },
  {
   "cell_type": "code",
   "execution_count": 8,
   "metadata": {},
   "outputs": [
    {
     "name": "stdout",
     "output_type": "stream",
     "text": [
      "3\n",
      "2\n",
      "2\n"
     ]
    }
   ],
   "source": [
    "from collections import deque\n",
    "def maxVowels(s: str, k: int) -> int:\n",
    "    maximum = 0\n",
    "    current = 0\n",
    "    vowels = {\"a\", \"e\", \"i\", \"o\", \"u\"}\n",
    "    q = deque([])\n",
    "    for c in s:\n",
    "        if len(q) == k:\n",
    "            l = q.popleft()\n",
    "            if l in vowels:\n",
    "                current -= 1\n",
    "        q.append(c)\n",
    "        if c in vowels:\n",
    "            current += 1\n",
    "            maximum = max(maximum, current)\n",
    "    return maximum\n",
    "\n",
    "print(maxVowels(s = \"abciiidef\", k = 3)) # 3\n",
    "print(maxVowels(s = \"aeiou\", k = 2)) # 2\n",
    "print(maxVowels(s = \"leetcode\", k = 3)) # 2"
   ]
  },
  {
   "attachments": {},
   "cell_type": "markdown",
   "metadata": {},
   "source": [
    "**1498. Number of Subsequences That Satisfy the Given Sum Condition**\n",
    "\n",
    "You are given an array of integers nums and an integer target.\n",
    "\n",
    "Return the number of non-empty subsequences of nums such that the sum of the minimum and maximum element on it is less or equal to target. Since the answer may be too large, return it modulo 10^9 + 7.\n",
    "\n",
    "https://leetcode.com/problems/number-of-subsequences-that-satisfy-the-given-sum-condition/"
   ]
  },
  {
   "cell_type": "code",
   "execution_count": 34,
   "metadata": {},
   "outputs": [
    {
     "name": "stdout",
     "output_type": "stream",
     "text": [
      "4\n",
      "6\n",
      "61\n",
      "127\n"
     ]
    }
   ],
   "source": [
    "# quite slow\n",
    "def numSubseq(nums: list[int], target: int) -> int:\n",
    "    nums.sort()\n",
    "    \n",
    "    sum_target = target - nums[0]\n",
    "    l = 0\n",
    "    r = len(nums) - 1\n",
    "    while l <= r:\n",
    "        m = (l+r) // 2\n",
    "        if nums[m] <= sum_target:\n",
    "            l = m + 1\n",
    "        else:\n",
    "            r = m - 1\n",
    "    \n",
    "    out = 0\n",
    "\n",
    "    l = 0\n",
    "    while l <= r:\n",
    "        out += 2**(r-l)\n",
    "        l += 1\n",
    "        while l < len(nums) and nums[l] + nums[r] > target:\n",
    "            r -= 1\n",
    "\n",
    "    return out % (10**9 + 7)\n",
    "\n",
    "# as slow\n",
    "def numSubseq(nums: list[int], target: int) -> int:\n",
    "    nums.sort()\n",
    "\n",
    "    def binary(l, r, t):\n",
    "        while l <= r:\n",
    "            m = (l+r) // 2\n",
    "            if nums[m] <= t:\n",
    "                l = m + 1\n",
    "            else:\n",
    "                r = m - 1\n",
    "        return r\n",
    "\n",
    "    out = 0\n",
    "    l = 0\n",
    "    r = binary(0, len(nums)-1, target-nums[0])\n",
    "\n",
    "    while l <= r:\n",
    "        out += 2**(r-l)\n",
    "        l += 1\n",
    "        if l < len(nums):\n",
    "            r = binary(l, r, target - nums[l])\n",
    "\n",
    "    return out % (10**9 + 7)\n",
    "\n",
    "print(numSubseq(nums = [3,5,6,7], target = 9)) # 4\n",
    "print(numSubseq(nums = [3,3,6,8], target = 10)) # 6\n",
    "print(numSubseq(nums = [2,3,3,4,6,7], target = 12)) # 61\n",
    "print(numSubseq(nums = [5,2,4,1,7,6,8], target = 16)) # 127"
   ]
  },
  {
   "attachments": {},
   "cell_type": "markdown",
   "metadata": {},
   "source": [
    "**1518. Water Bottles**\n",
    "\n",
    "There are numBottles water bottles that are initially full of water. You can exchange numExchange empty water bottles from the market with one full water bottle.\n",
    "\n",
    "The operation of drinking a full water bottle turns it into an empty bottle.\n",
    "\n",
    "Given the two integers numBottles and numExchange, return the maximum number of water bottles you can drink.\n",
    "\n",
    "https://leetcode.com/problems/water-bottles/"
   ]
  },
  {
   "cell_type": "code",
   "execution_count": 12,
   "metadata": {},
   "outputs": [
    {
     "name": "stdout",
     "output_type": "stream",
     "text": [
      "13\n",
      "19\n"
     ]
    }
   ],
   "source": [
    "def numWaterBottles(numBottles: int, numExchange: int) -> int:\n",
    "    ans = numBottles\n",
    "    rem = 0\n",
    "    while numBottles > 0:\n",
    "        numBottles += rem\n",
    "        rem = numBottles % numExchange\n",
    "        numBottles //= numExchange\n",
    "        ans += numBottles\n",
    "    return ans\n",
    "\n",
    "print(numWaterBottles(numBottles = 9, numExchange = 3)) # 13\n",
    "print(numWaterBottles(numBottles = 15, numExchange = 4)) # 19"
   ]
  },
  {
   "attachments": {},
   "cell_type": "markdown",
   "metadata": {},
   "source": [
    "**1557. Minimum Number of Vertices to Reach All Nodes**\n",
    "\n",
    "Given a directed acyclic graph, with n vertices numbered from 0 to n-1, and an array edges where edges[i] = [fromi, toi] represents a directed edge from node fromi to node toi.\n",
    "\n",
    "Find the smallest set of vertices from which all nodes in the graph are reachable. It's guaranteed that a unique solution exists.\n",
    "\n",
    "Notice that you can return the vertices in any order.\n",
    "\n",
    "https://leetcode.com/problems/minimum-number-of-vertices-to-reach-all-nodes/"
   ]
  },
  {
   "cell_type": "code",
   "execution_count": 3,
   "metadata": {},
   "outputs": [
    {
     "name": "stdout",
     "output_type": "stream",
     "text": [
      "[0, 3]\n",
      "[0, 2, 3]\n"
     ]
    }
   ],
   "source": [
    "def findSmallestSetOfVertices(n: int, edges: list[list[int]]) -> list[int]:\n",
    "    return list(set(range(n)) - {e[1] for e in edges})\n",
    "\n",
    "print(findSmallestSetOfVertices(n = 6, edges = [[0,1],[0,2],[2,5],[3,4],[4,2]])) # [0,3]\n",
    "print(findSmallestSetOfVertices(n = 5, edges = [[0,1],[2,1],[3,1],[1,4],[2,4]])) # [0,2,3]"
   ]
  },
  {
   "attachments": {},
   "cell_type": "markdown",
   "metadata": {},
   "source": [
    "**1572. Matrix Diagonal Sum**\n",
    "\n",
    "Given a square matrix mat, return the sum of the matrix diagonals.\n",
    "\n",
    "Only include the sum of all the elements on the primary diagonal and all the elements on the secondary diagonal that are not part of the primary diagonal.\n",
    "\n",
    "https://leetcode.com/problems/matrix-diagonal-sum/"
   ]
  },
  {
   "cell_type": "code",
   "execution_count": 2,
   "metadata": {},
   "outputs": [
    {
     "name": "stdout",
     "output_type": "stream",
     "text": [
      "25\n",
      "8\n",
      "5\n"
     ]
    }
   ],
   "source": [
    "def diagonalSum(mat: list[list[int]]) -> int:\n",
    "    l = 0\n",
    "    r = len(mat[0]) - 1\n",
    "    ans = 0\n",
    "    for i in range(len(mat)):\n",
    "        ll = l+i\n",
    "        rr = r-i\n",
    "        ans += mat[i][ll]\n",
    "        if ll != rr:\n",
    "            ans += mat[i][rr]\n",
    "    return ans\n",
    "\n",
    "print(diagonalSum(mat = [[1,2,3],\n",
    "              [4,5,6],\n",
    "              [7,8,9]])) # 25\n",
    "print(diagonalSum(mat = [[1,1,1,1],\n",
    "              [1,1,1,1],\n",
    "              [1,1,1,1],\n",
    "              [1,1,1,1]])) # 8\n",
    "print(diagonalSum(mat = [[5]])) # 5"
   ]
  },
  {
   "attachments": {},
   "cell_type": "markdown",
   "metadata": {},
   "source": [
    "**1721. Swapping Nodes in a Linked List**\n",
    "\n",
    "You are given the head of a linked list, and an integer k.\n",
    "\n",
    "Return the head of the linked list after swapping the values of the kth node from the beginning and the kth node from the end (the list is 1-indexed).\n",
    "\n",
    "https://leetcode.com/problems/swapping-nodes-in-a-linked-list/"
   ]
  },
  {
   "cell_type": "code",
   "execution_count": 26,
   "metadata": {},
   "outputs": [
    {
     "name": "stdout",
     "output_type": "stream",
     "text": [
      "1 4 3 2 5 \n",
      "1 2 3 4 5 \n",
      "7 9 6 6 8 7 3 0 9 5 \n",
      "90 100 \n"
     ]
    }
   ],
   "source": [
    "def swapNodes(head: ListNode, k: int) -> ListNode:\n",
    "    if not head.next:\n",
    "        return head\n",
    "    slow = head\n",
    "    fast = head.next\n",
    "    counter = 1\n",
    "    while fast and fast.next:\n",
    "        slow = slow.next\n",
    "        fast = fast.next.next\n",
    "        counter += 1\n",
    "    if fast:\n",
    "        length = counter * 2\n",
    "    else:\n",
    "        length = counter * 2 - 1\n",
    "        if k == counter:\n",
    "            return head\n",
    "        \n",
    "    if k < counter:\n",
    "        left = head\n",
    "        left_counter = 1\n",
    "        right = slow\n",
    "        right_counter = counter\n",
    "\n",
    "    else:\n",
    "        left = slow\n",
    "        left_counter = counter\n",
    "        right = head\n",
    "        right_counter = 1\n",
    "\n",
    "    while left_counter < k:\n",
    "        left = left.next\n",
    "        left_counter += 1\n",
    "        \n",
    "    while right_counter < (length - k + 1):\n",
    "        right = right.next\n",
    "        right_counter += 1\n",
    "\n",
    "    left.val, right.val = right.val, left.val\n",
    "\n",
    "    return head\n",
    "\n",
    "\n",
    "print_linked_list(swapNodes(make_linked_list([1,2,3,4,5]), 2)) # [1,4,3,2,5]\n",
    "print_linked_list(swapNodes(make_linked_list([1,2,3,4,5]), 3)) # [1,2,3,4,5]\n",
    "print_linked_list(swapNodes(make_linked_list([7,9,6,6,7,8,3,0,9,5]), 5)) # [7,9,6,6,8,7,3,0,9,5]\n",
    "print_linked_list(swapNodes(make_linked_list([100,90]), 2)) # [90,100]"
   ]
  },
  {
   "attachments": {},
   "cell_type": "markdown",
   "metadata": {},
   "source": [
    "**1799. Maximize Score After N Operations**\n",
    "\n",
    "You are given nums, an array of positive integers of size 2 * n. You must perform n operations on this array.\n",
    "\n",
    "In the ith operation (1-indexed), you will:\n",
    "\n",
    "* Choose two elements, x and y.\n",
    "* Receive a score of i * gcd(x, y).\n",
    "* Remove x and y from nums.\n",
    "\n",
    "Return the maximum score you can receive after performing n operations.\n",
    "\n",
    "The function gcd(x, y) is the greatest common divisor of x and y.\n",
    "\n",
    " https://leetcode.com/problems/maximize-score-after-n-operations/"
   ]
  },
  {
   "cell_type": "code",
   "execution_count": 51,
   "metadata": {},
   "outputs": [
    {
     "name": "stdout",
     "output_type": "stream",
     "text": [
      "1\n",
      "11\n",
      "14\n"
     ]
    }
   ],
   "source": [
    "# via https://leetcode.com/problems/maximize-score-after-n-operations/discuss/3521561/PythonJavaC%2B%2BSimple-SolutionEasy-to-Understand\n",
    "def maxScore(nums: list[int]) -> int:\n",
    "\n",
    "    def gcd(x, y):\n",
    "        while y:\n",
    "            x, y = y, x%y\n",
    "        return x\n",
    "    \n",
    "    l = len(nums)\n",
    "    gcds = [[0] * l for _ in range(l)]\n",
    "    for i in range(l-1):\n",
    "        for j in range(i+1, l):\n",
    "            gcds[i][j] = gcd(nums[i], nums[j])\n",
    "\n",
    "\n",
    "    # here we'll keep the maximum score achieved for each combination\n",
    "    # 1 << l = 2 ** l\n",
    "    dp = [0] * (1 << l)\n",
    "\n",
    "    # iterating through every bitmap between 1 and 2**l\n",
    "    for state in range(1, 1 << l):\n",
    "\n",
    "        # if there is an odd number of 1s in the bitmap, we skip this step\n",
    "        # because we must have an even number of candidates\n",
    "        cnt = bin(state).count('1')\n",
    "\n",
    "        if cnt % 2:\n",
    "            continue\n",
    "\n",
    "        for i in range(l):\n",
    "            # this would only evaluate to 0 if 1 isn't yet at the position i\n",
    "            # this means this candidate has already been used\n",
    "            if not (state & (1 << i)):\n",
    "                continue\n",
    "            for j in range(i+1, l):\n",
    "                # this would only evaluate to 0 if 1 isn't yet at the position j\n",
    "                # this means this candidate has already been used\n",
    "                if not (state & (1 << j)):\n",
    "                    continue\n",
    "\n",
    "                # ^ xor operator\n",
    "                # e.g.: 01110 ^ 01000 ^ 00010 = 00100\n",
    "                # in decimal: 14 ^ 8 ^ 2 = 4\n",
    "                # we replace 1s in the current state with 0s at positions i and j\n",
    "                prevState = state ^ (1 << i) ^ (1 << j)\n",
    "                \n",
    "                # print(bin(state), bin(prevState))\n",
    "\n",
    "                # here we update the dp with \n",
    "                dp[state] = max(dp[state], \n",
    "                                # cnt // 2 = the number of 1s remaining. \n",
    "                                # dividing this number by 2 gives us the number of the operation\n",
    "                                dp[prevState] + cnt // 2 * gcds[i][j])\n",
    "                \n",
    "                # print(*dp, sep=\"  \") \n",
    "\n",
    "    # (1 << l) - 1 will evaluate to 1 * len(nums)\n",
    "    # e.g. (1 << 6) - 1 = 111111 (63 in decimal)\n",
    "    return dp[(1 << l) - 1]\n",
    "\n",
    "print(maxScore([1,2])) # 1\n",
    "print(maxScore([3,4,6,8])) # 11\n",
    "print(maxScore([1,2,3,4,5,6])) # 14"
   ]
  },
  {
   "attachments": {},
   "cell_type": "markdown",
   "metadata": {},
   "source": [
    "**1964. Find the Longest Valid Obstacle Course at Each Position**\n",
    "\n",
    "You want to build some obstacle courses. You are given a 0-indexed integer array obstacles of length n, where obstacles[i] describes the height of the ith obstacle.\n",
    "\n",
    "For every index i between 0 and n - 1 (inclusive), find the length of the longest obstacle course in obstacles such that:\n",
    "\n",
    "* You choose any number of obstacles between 0 and i inclusive.\n",
    "* You must include the ith obstacle in the course.\n",
    "* You must put the chosen obstacles in the same order as they appear in obstacles.\n",
    "* Every obstacle (except the first) is taller than or the same height as the obstacle immediately before it.\n",
    "\n",
    "Return an array ans of length n, where ans[i] is the length of the longest obstacle course for index i as described above.\n",
    "\n",
    "https://leetcode.com/problems/find-the-longest-valid-obstacle-course-at-each-position/"
   ]
  },
  {
   "cell_type": "code",
   "execution_count": 6,
   "metadata": {},
   "outputs": [
    {
     "name": "stdout",
     "output_type": "stream",
     "text": [
      "[1, 2, 3, 3]\n",
      "[1, 2, 1]\n",
      "[1, 1, 2, 3, 2, 2]\n"
     ]
    }
   ],
   "source": [
    "# a little slow\n",
    "def longestObstacleCourseAtEachPosition(obstacles: list[int]) -> list[int]:\n",
    "    ans = []\n",
    "    stacks = []\n",
    "    for n in obstacles:\n",
    "        l = 0\n",
    "        r = len(stacks)-1\n",
    "        while l <= r:\n",
    "            m = (l+r) // 2\n",
    "            if stacks[m][-1] <= n:\n",
    "                l = m + 1\n",
    "            else:\n",
    "                r = m - 1\n",
    "        if l == len(stacks):\n",
    "            stacks.append([n])\n",
    "        else:\n",
    "            stacks[l].append(n)\n",
    "        ans.append(l+1)\n",
    "    return ans\n",
    "\n",
    "# optimised\n",
    "def longestObstacleCourseAtEachPosition(obstacles: list[int]) -> list[int]:\n",
    "    ans = []\n",
    "    dp = []\n",
    "    for n in obstacles:\n",
    "        if not dp or n >= dp[-1]:\n",
    "            dp.append(n)\n",
    "            ans.append(len(dp))\n",
    "        else:\n",
    "            l = 0\n",
    "            r = len(dp)-1\n",
    "            while l <= r:\n",
    "                m = (l+r) // 2\n",
    "                if dp[m] <= n:\n",
    "                    l = m + 1\n",
    "                else:\n",
    "                    r = m - 1\n",
    "            dp[l] = n\n",
    "            ans.append(l+1)\n",
    "    return ans\n",
    "\n",
    "print(longestObstacleCourseAtEachPosition([1,2,3,2])) # [1,2,3,3]\n",
    "print(longestObstacleCourseAtEachPosition([2,2,1])) # [1,2,1]\n",
    "print(longestObstacleCourseAtEachPosition([3,1,5,6,4,2])) # [1,1,2,3,2,2]"
   ]
  },
  {
   "attachments": {},
   "cell_type": "markdown",
   "metadata": {},
   "source": [
    "**2006. Count Number of Pairs With Absolute Difference K**\n",
    "\n",
    "Given an integer array nums and an integer k, return the number of pairs (i, j) where i < j such that |nums[i] - nums[j]| == k.\n",
    "\n",
    "https://leetcode.com/problems/count-number-of-pairs-with-absolute-difference-k/"
   ]
  },
  {
   "cell_type": "code",
   "execution_count": 2,
   "metadata": {},
   "outputs": [
    {
     "name": "stdout",
     "output_type": "stream",
     "text": [
      "4\n",
      "0\n"
     ]
    }
   ],
   "source": [
    "from collections import Counter\n",
    "def countKDifference(nums: list[int], k: int) -> int:\n",
    "    counter = Counter(nums)\n",
    "    ans = 0\n",
    "    for n in counter.keys():\n",
    "        if n-k in counter:\n",
    "            ans += counter[n] * counter[n-k]\n",
    "    return ans\n",
    "\n",
    "print(countKDifference(nums = [1,2,2,1], k = 1)) # 4\n",
    "print(countKDifference(nums = [1,3], k = 3)) # 0"
   ]
  },
  {
   "attachments": {},
   "cell_type": "markdown",
   "metadata": {},
   "source": [
    "**2079. Watering Plants**\n",
    "\n",
    "You want to water n plants in your garden with a watering can. The plants are arranged in a row and are labeled from 0 to n - 1 from left to right where the ith plant is located at x = i. There is a river at x = -1 that you can refill your watering can at.\n",
    "\n",
    "Each plant needs a specific amount of water. You will water the plants in the following way:\n",
    "\n",
    "* Water the plants in order from left to right.\n",
    "* After watering the current plant, if you do not have enough water to completely water the next plant, return to the river to fully refill the watering can.\n",
    "* You cannot refill the watering can early.\n",
    "\n",
    "You are initially at the river (i.e., x = -1). It takes one step to move one unit on the x-axis.\n",
    "\n",
    "Given a 0-indexed integer array plants of n integers, where plants[i] is the amount of water the ith plant needs, and an integer capacity representing the watering can capacity, return the number of steps needed to water all the plants.\n",
    "\n",
    "https://leetcode.com/problems/watering-plants/"
   ]
  },
  {
   "cell_type": "code",
   "execution_count": 3,
   "metadata": {},
   "outputs": [
    {
     "name": "stdout",
     "output_type": "stream",
     "text": [
      "14\n",
      "30\n",
      "49\n"
     ]
    }
   ],
   "source": [
    "def wateringPlants(plants: list[int], capacity: int) -> int:\n",
    "    counter = len(plants)\n",
    "    current = capacity\n",
    "    for i in range(len(plants)):\n",
    "        current -= plants[i]\n",
    "        if current < 0:\n",
    "            current = capacity - plants[i]\n",
    "            counter += 2 * i\n",
    "    return counter\n",
    "\n",
    "print(wateringPlants(plants = [2,2,3,3], capacity = 5)) # 14\n",
    "print(wateringPlants(plants = [1,1,1,4,2,3], capacity = 4)) # 30\n",
    "print(wateringPlants(plants = [7,7,7,7,7,7,7], capacity = 8)) # 49"
   ]
  },
  {
   "attachments": {},
   "cell_type": "markdown",
   "metadata": {},
   "source": [
    "**2114. Maximum Number of Words Found in Sentences**\n",
    "\n",
    "A sentence is a list of words that are separated by a single space with no leading or trailing spaces.\n",
    "\n",
    "You are given an array of strings sentences, where each sentences[i] represents a single sentence.\n",
    "\n",
    "Return the maximum number of words that appear in a single sentence.\n",
    "\n",
    "https://leetcode.com/problems/maximum-number-of-words-found-in-sentences/"
   ]
  },
  {
   "cell_type": "code",
   "execution_count": 1,
   "metadata": {},
   "outputs": [
    {
     "name": "stdout",
     "output_type": "stream",
     "text": [
      "6\n",
      "3\n"
     ]
    }
   ],
   "source": [
    "def mostWordsFound(sentences: list[str]) -> int:\n",
    "    return max([len(s.split()) for s in sentences])\n",
    "\n",
    "print(mostWordsFound([\"alice and bob love leetcode\", \"i think so too\", \"this is great thanks very much\"])) # 6\n",
    "print(mostWordsFound([\"please wait\", \"continue to fight\", \"continue to win\"])) # 3"
   ]
  },
  {
   "attachments": {},
   "cell_type": "markdown",
   "metadata": {},
   "source": [
    "**2130. Maximum Twin Sum of a Linked List**\n",
    "\n",
    "In a linked list of size n, where n is even, the ith node (0-indexed) of the linked list is known as the twin of the (n-1-i)th node, if 0 <= i <= (n / 2) - 1.\n",
    "\n",
    "For example, if n = 4, then node 0 is the twin of node 3, and node 1 is the twin of node 2. These are the only nodes with twins for n = 4.\n",
    "\n",
    "The twin sum is defined as the sum of a node and its twin.\n",
    "\n",
    "Given the head of a linked list with even length, return the maximum twin sum of the linked list.\n",
    "\n",
    "https://leetcode.com/problems/maximum-twin-sum-of-a-linked-list/"
   ]
  },
  {
   "cell_type": "code",
   "execution_count": 5,
   "metadata": {},
   "outputs": [],
   "source": [
    "def pairSum(head: ListNode) -> int:\n",
    "    sums = [head.val]\n",
    "    slow = head\n",
    "    fast = head.next\n",
    "    while fast.next:\n",
    "        slow = slow.next\n",
    "        fast = fast.next.next\n",
    "        sums.append(slow.val)\n",
    "    \n",
    "    maximum = 0\n",
    "    i = len(sums)-1\n",
    "    \n",
    "    slow = slow.next\n",
    "    while slow:\n",
    "        sums[i] += slow.val\n",
    "        maximum = max(maximum, sums[i])\n",
    "        i -= 1\n",
    "        slow = slow.next\n",
    "        \n",
    "    return maximum"
   ]
  },
  {
   "attachments": {},
   "cell_type": "markdown",
   "metadata": {},
   "source": [
    "**2140. Solving Questions With Brainpower**\n",
    "\n",
    "You are given a 0-indexed 2D integer array questions where questions[i] = [pointsi, brainpoweri].\n",
    "\n",
    "The array describes the questions of an exam, where you have to process the questions in order (i.e., starting from question 0) and make a decision whether to solve or skip each question. Solving question i will earn you pointsi points but you will be unable to solve each of the next brainpoweri questions. If you skip question i, you get to make the decision on the next question.\n",
    "\n",
    "For example, given questions = [[3, 2], [4, 3], [4, 4], [2, 5]]:\n",
    "If question 0 is solved, you will earn 3 points but you will be unable to solve questions 1 and 2.\n",
    "If instead, question 0 is skipped and question 1 is solved, you will earn 4 points but you will be unable to solve questions 2 and 3.\n",
    "Return the maximum points you can earn for the exam.\n",
    "\n",
    "https://leetcode.com/problems/solving-questions-with-brainpower/"
   ]
  },
  {
   "cell_type": "code",
   "execution_count": 11,
   "metadata": {},
   "outputs": [
    {
     "name": "stdout",
     "output_type": "stream",
     "text": [
      "5\n",
      "7\n"
     ]
    }
   ],
   "source": [
    "def mostPoints(questions: list[list[int]]) -> int:\n",
    "    l = len(questions)\n",
    "    dp = [0] * (l + 1)\n",
    "    for i in range(l-1,-1,-1):\n",
    "        if i + questions[i][1] < l:\n",
    "            dp[i] = max(questions[i][0] + dp[i + questions[i][1] + 1], dp[i+1])\n",
    "        else:\n",
    "            dp[i] = max(questions[i][0], dp[i+1])\n",
    "    return dp[0]\n",
    "\n",
    "print(mostPoints([[3,2],[4,3],[4,4],[2,5]])) # 5\n",
    "print(mostPoints([[1,1],[2,2],[3,3],[4,4],[5,5]])) # 7"
   ]
  },
  {
   "attachments": {},
   "cell_type": "markdown",
   "metadata": {},
   "source": [
    "**2466. Count Ways To Build Good Strings**\n",
    "\n",
    "Given the integers zero, one, low, and high, we can construct a string by starting with an empty string, and then at each step perform either of the following:\n",
    "\n",
    "* Append the character '0' zero times.\n",
    "* Append the character '1' one times.\n",
    "\n",
    "This can be performed any number of times.\n",
    "\n",
    "A good string is a string constructed by the above process having a length between low and high (inclusive).\n",
    "\n",
    "Return the number of different good strings that can be constructed satisfying these properties. Since the answer can be large, return it modulo 10^9 + 7.\n",
    "\n",
    "https://leetcode.com/problems/count-ways-to-build-good-strings/"
   ]
  },
  {
   "cell_type": "code",
   "execution_count": 7,
   "metadata": {},
   "outputs": [
    {
     "name": "stdout",
     "output_type": "stream",
     "text": [
      "[1, 2, 4, 8]\n",
      "8\n",
      "[1, 1, 2, 3]\n",
      "5\n"
     ]
    }
   ],
   "source": [
    "def countGoodStrings(low: int, high: int, zero: int, one: int) -> int:\n",
    "    dp = [1] + [0] * (high)\n",
    "    for i in range(1, len(dp)):\n",
    "        if i >= zero:\n",
    "            dp[i] += (dp[i-zero])           \n",
    "        if i >= one:\n",
    "            dp[i] += (dp[i-one])\n",
    "    print(dp)\n",
    "    return sum(dp[low:]) % (10**9 + 7)\n",
    "\n",
    "print(countGoodStrings(low = 3, high = 3, zero = 1, one = 1)) # 8\n",
    "print(countGoodStrings(low = 2, high = 3, zero = 1, one = 2)) # 5"
   ]
  },
  {
   "attachments": {},
   "cell_type": "markdown",
   "metadata": {},
   "source": [
    "**2540. Minimum Common Value**\n",
    "\n",
    "Given two integer arrays nums1 and nums2, sorted in non-decreasing order, return the minimum integer common to both arrays. If there is no common integer amongst nums1 and nums2, return -1.\n",
    "\n",
    "Note that an integer is said to be common to nums1 and nums2 if both arrays have at least one occurrence of that integer.\n",
    "\n",
    "https://leetcode.com/problems/minimum-common-value/"
   ]
  },
  {
   "cell_type": "code",
   "execution_count": 15,
   "metadata": {},
   "outputs": [
    {
     "name": "stdout",
     "output_type": "stream",
     "text": [
      "2\n",
      "2\n"
     ]
    }
   ],
   "source": [
    "# one liner\n",
    "def getCommon(nums1: list[int], nums2: list[int]) -> int:\n",
    "    return min((set(nums1) & set(nums2)) or [-1])\n",
    "\n",
    "def getCommon(nums1: list[int], nums2: list[int]) -> int:\n",
    "    nums1 = set(nums1)\n",
    "    for n in nums2:\n",
    "        if n in nums1:\n",
    "            return n\n",
    "    return -1\n",
    "\n",
    "print(getCommon(nums1 = [1,2,3], nums2 = [2,4])) # 2\n",
    "print(getCommon(nums1 = [1,2,3,6], nums2 = [2,3,4,5])) # 2"
   ]
  },
  {
   "attachments": {},
   "cell_type": "markdown",
   "metadata": {},
   "source": [
    "**2582. Pass the Pillow**\n",
    "\n",
    "There are n people standing in a line labeled from 1 to n. The first person in the line is holding a pillow initially. Every second, the person holding the pillow passes it to the next person standing in the line. Once the pillow reaches the end of the line, the direction changes, and people continue passing the pillow in the opposite direction.\n",
    "\n",
    "For example, once the pillow reaches the nth person they pass it to the n - 1th person, then to the n - 2th person and so on.\n",
    "\n",
    "Given the two positive integers n and time, return the index of the person holding the pillow after time seconds.\n",
    "\n",
    "https://leetcode.com/problems/pass-the-pillow/"
   ]
  },
  {
   "cell_type": "code",
   "execution_count": 28,
   "metadata": {},
   "outputs": [
    {
     "name": "stdout",
     "output_type": "stream",
     "text": [
      "2\n",
      "3\n"
     ]
    }
   ],
   "source": [
    "def passThePillow(n: int, time: int) -> int:\n",
    "    k = time % ((n-1) * 2) + 1\n",
    "    return k if k <= n else n - (k-n)\n",
    "\n",
    "print(passThePillow(4,5)) # 2\n",
    "print(passThePillow(3,2)) # 3"
   ]
  },
  {
   "attachments": {},
   "cell_type": "markdown",
   "metadata": {},
   "source": [
    "**2598. Smallest Missing Non-negative Integer After Operations**\n",
    "\n",
    "You are given a 0-indexed integer array nums and an integer value.\n",
    "\n",
    "In one operation, you can add or subtract value from any element of nums.\n",
    "\n",
    "* For example, if nums = [1,2,3] and value = 2, you can choose to subtract value from nums[0] to make nums = [-1,2,3].\n",
    "\n",
    "The MEX (minimum excluded) of an array is the smallest missing non-negative integer in it.\n",
    "\n",
    "* For example, the MEX of [-1,2,3] is 0 while the MEX of [1,0,3] is 2.\n",
    "\n",
    "Return the maximum MEX of nums after applying the mentioned operation any number of times.\n",
    "\n",
    "https://leetcode.com/problems/smallest-missing-non-negative-integer-after-operations/"
   ]
  },
  {
   "cell_type": "code",
   "execution_count": 46,
   "metadata": {},
   "outputs": [
    {
     "name": "stdout",
     "output_type": "stream",
     "text": [
      "4\n",
      "2\n",
      "10\n"
     ]
    }
   ],
   "source": [
    "# slowish\n",
    "def findSmallestInteger(nums: list[int], value: int) -> int:\n",
    "    bools = [[False, i] for i in range (len(nums) + 1)]\n",
    "    for n in nums:\n",
    "        m = n % value\n",
    "        if m <= len(nums):\n",
    "            if not bools[m][0]:\n",
    "                bools[m][0] = True\n",
    "            else:\n",
    "                bools[m][1] += value\n",
    "                if bools[m][1] <= len(nums):\n",
    "                    bools[bools[m][1]][0] = True\n",
    "    for i in range(len(bools)):\n",
    "        if not bools[i][0]:\n",
    "            return i\n",
    "        \n",
    "# another solution\n",
    "from collections import Counter\n",
    "def findSmallestInteger(nums: list[int], value: int) -> int:\n",
    "    counts = Counter([n%value for n in nums])\n",
    "    for i in range(len(nums) + 1):\n",
    "        if counts[m := i % value] == 0:\n",
    "            return i\n",
    "        else:\n",
    "            counts[m] -= 1\n",
    "        \n",
    "print(findSmallestInteger(nums = [1,-10,7,13,6,8], value = 5)) # 4\n",
    "print(findSmallestInteger(nums = [1,-10,7,13,6,8], value = 7)) # 2\n",
    "print(findSmallestInteger(nums = [3,0,3,2,4,2,1,1,0,4], value = 5)) # 10"
   ]
  },
  {
   "attachments": {},
   "cell_type": "markdown",
   "metadata": {},
   "source": [
    "**2640. Find the Score of All Prefixes of an Array**\n",
    "\n",
    "We define the conversion array conver of an array arr as follows:\n",
    "\n",
    "conver[i] = arr[i] + max(arr[0..i]) where max(arr[0..i]) is the maximum value of arr[j] over 0 <= j <= i.\n",
    "We also define the score of an array arr as the sum of the values of the conversion array of arr.\n",
    "\n",
    "Given a 0-indexed integer array nums of length n, return an array ans of length n where ans[i] is the score of the prefix nums[0..i].\n",
    "\n",
    " https://leetcode.com/problems/find-the-score-of-all-prefixes-of-an-array/"
   ]
  },
  {
   "cell_type": "code",
   "execution_count": 11,
   "metadata": {},
   "outputs": [
    {
     "name": "stdout",
     "output_type": "stream",
     "text": [
      "[4, 10, 24, 36, 56]\n",
      "[2, 4, 8, 16, 32, 64]\n"
     ]
    }
   ],
   "source": [
    "def findPrefixScore(nums: list[int]) -> list[int]:\n",
    "    maximum = 0\n",
    "    total = 0\n",
    "    ans = []\n",
    "    for n in nums:\n",
    "        maximum = max(n, maximum)\n",
    "        n += maximum\n",
    "        total += n\n",
    "        ans.append(total)\n",
    "    return ans\n",
    "\n",
    "print(findPrefixScore(nums = [2,3,7,5,10])) # [4,10,24,36,56]\n",
    "print(findPrefixScore(nums = [1,1,2,4,8,16])) # [2,4,8,16,32,64]"
   ]
  },
  {
   "attachments": {},
   "cell_type": "markdown",
   "metadata": {},
   "source": [
    "**2643. Row With Maximum Ones**\n",
    "\n",
    "Given a m x n binary matrix mat, find the 0-indexed position of the row that contains the maximum count of ones, and the number of ones in that row.\n",
    "\n",
    "In case there are multiple rows that have the maximum count of ones, the row with the smallest row number should be selected.\n",
    "\n",
    "Return an array containing the index of the row, and the number of ones in it.\n",
    "\n",
    "https://leetcode.com/problems/row-with-maximum-ones/"
   ]
  },
  {
   "cell_type": "code",
   "execution_count": 17,
   "metadata": {},
   "outputs": [
    {
     "name": "stdout",
     "output_type": "stream",
     "text": [
      "[0, 1]\n",
      "[1, 2]\n",
      "[1, 2]\n"
     ]
    }
   ],
   "source": [
    "def rowAndMaximumOnes(mat: list[list[int]]) -> list[int]:\n",
    "    l = len(mat)\n",
    "    row = 0\n",
    "    maximum = 0\n",
    "    for i in range(l):\n",
    "        if (s := sum(mat[i])) > maximum:\n",
    "            maximum = s\n",
    "            row = i\n",
    "    return [row, maximum]\n",
    "\n",
    "print(rowAndMaximumOnes([[0,1],[1,0]])) # [0,1]\n",
    "print(rowAndMaximumOnes([[0,0,0],[0,1,1]])) # [1,2]\n",
    "print(rowAndMaximumOnes([[0,0],[1,1],[0,0]])) # [1,2]"
   ]
  },
  {
   "attachments": {},
   "cell_type": "markdown",
   "metadata": {},
   "source": [
    "**2644. Find the Maximum Divisibility Score**\n",
    "\n",
    "You are given two 0-indexed integer arrays nums and divisors.\n",
    "\n",
    "The divisibility score of divisors[i] is the number of indices j such that nums[j] is divisible by divisors[i].\n",
    "\n",
    "Return the integer divisors[i] with the maximum divisibility score. If there is more than one integer with the maximum score, return the minimum of them.\n",
    "\n",
    "https://leetcode.com/problems/find-the-maximum-divisibility-score/"
   ]
  },
  {
   "cell_type": "code",
   "execution_count": 16,
   "metadata": {},
   "outputs": [
    {
     "name": "stdout",
     "output_type": "stream",
     "text": [
      "3\n",
      "5\n",
      "10\n"
     ]
    }
   ],
   "source": [
    "from collections import Counter\n",
    "def maxDivScore(nums: list[int], divs: list[int]) -> int:\n",
    "    nums = Counter(nums)\n",
    "    divs = {d:0 for d in divs}\n",
    "    maxscore = 0\n",
    "    mindiv = min(divs.keys())\n",
    "    for n in nums.keys():\n",
    "        for d in divs.keys():\n",
    "            if not n % d:\n",
    "                divs[d] += nums[n]\n",
    "                if maxscore == divs[d]:\n",
    "                    mindiv = min(mindiv, d)\n",
    "                elif maxscore < divs[d]:\n",
    "                    maxscore = divs[d]\n",
    "                    mindiv = d\n",
    "    return mindiv\n",
    "\n",
    "print(maxDivScore(nums = [4,7,9,3,9], divs = [5,2,3])) # 3\n",
    "print(maxDivScore(nums = [20,14,21,10], divs = [5,7,5])) # 5\n",
    "print(maxDivScore(nums = [12], divs = [10,16])) # 10"
   ]
  },
  {
   "attachments": {},
   "cell_type": "markdown",
   "metadata": {},
   "source": [
    "**2651. Calculate Delayed Arrival Time**\n",
    "\n",
    "You are given a positive integer arrivalTime denoting the arrival time of a train in hours, and another positive integer delayedTime denoting the amount of delay in hours.\n",
    "\n",
    "Return the time when the train will arrive at the station.\n",
    "\n",
    "Note that the time in this problem is in 24-hours format.\n",
    "\n",
    "https://leetcode.com/problems/calculate-delayed-arrival-time/"
   ]
  },
  {
   "cell_type": "code",
   "execution_count": 13,
   "metadata": {},
   "outputs": [
    {
     "name": "stdout",
     "output_type": "stream",
     "text": [
      "20\n",
      "0\n"
     ]
    }
   ],
   "source": [
    "def findDelayedArrivalTime(a: int, d: int) -> int:\n",
    "    return (a+d) % 24\n",
    "\n",
    "print(findDelayedArrivalTime(a = 15, d = 5 )) # 20\n",
    "print(findDelayedArrivalTime(a = 13, d = 11)) # 0"
   ]
  },
  {
   "attachments": {},
   "cell_type": "markdown",
   "metadata": {},
   "source": [
    "**2652. Sum Multiples**\n",
    "\n",
    "Given a positive integer n, find the sum of all integers in the range [1, n] inclusive that are divisible by 3, 5, or 7.\n",
    "\n",
    "Return an integer denoting the sum of all numbers in the given range satisfying the constraint.\n",
    "\n",
    "https://leetcode.com/problems/sum-multiples/"
   ]
  },
  {
   "cell_type": "code",
   "execution_count": 26,
   "metadata": {},
   "outputs": [
    {
     "name": "stdout",
     "output_type": "stream",
     "text": [
      "21\n",
      "40\n",
      "30\n"
     ]
    }
   ],
   "source": [
    "def sumOfMultiples(n: int) -> int:\n",
    "    ans = 0\n",
    "    s = set()\n",
    "    for m in [3,5,7]:\n",
    "        for k in range(m, n+1, m):\n",
    "            if k not in s:\n",
    "                s.add(k)\n",
    "                ans += k\n",
    "    return ans\n",
    "        \n",
    "print(sumOfMultiples(7)) # 21\n",
    "print(sumOfMultiples(10)) # 40\n",
    "print(sumOfMultiples(9)) # 30"
   ]
  },
  {
   "attachments": {},
   "cell_type": "markdown",
   "metadata": {},
   "source": [
    "**2656. Maximum Sum With Exactly K Elements**\n",
    "\n",
    "You are given a 0-indexed integer array nums and an integer k. Your task is to perform the following operation exactly k times in order to maximize your score:\n",
    "\n",
    "1. Select an element m from nums.\n",
    "2. Remove the selected element m from the array.\n",
    "3. Add a new element with a value of m + 1 to the array.\n",
    "4. Increase your score by m.\n",
    "\n",
    "Return the maximum score you can achieve after performing the operation exactly k times.\n",
    "\n",
    "https://leetcode.com/problems/maximum-sum-with-exactly-k-elements/"
   ]
  },
  {
   "cell_type": "code",
   "execution_count": 11,
   "metadata": {},
   "outputs": [
    {
     "name": "stdout",
     "output_type": "stream",
     "text": [
      "18\n",
      "11\n"
     ]
    }
   ],
   "source": [
    "def maximizeSum(nums: list[int], k: int) -> int:\n",
    "    m = max(nums)\n",
    "    return sum([m+n for n in range(k)])\n",
    "\n",
    "print(maximizeSum(nums = [1,2,3,4,5], k = 3)) # 18\n",
    "print(maximizeSum(nums = [5,5,5], k = 2)) # 11"
   ]
  },
  {
   "attachments": {},
   "cell_type": "markdown",
   "metadata": {},
   "source": [
    "**2660. Determine the Winner of a Bowling Game**\n",
    "\n",
    "You are given two 0-indexed integer arrays player1 and player2, that represent the number of pins that player 1 and player 2 hit in a bowling game, respectively.\n",
    "\n",
    "The bowling game consists of n turns, and the number of pins in each turn is exactly 10.\n",
    "\n",
    "Assume a player hit xi pins in the ith turn. The value of the ith turn for the player is:\n",
    "\n",
    "* 2*xi if the player hit 10 pins in any of the previous two turns.\n",
    "* Otherwise, It is xi.\n",
    "\n",
    "The score of the player is the sum of the values of their n turns.\n",
    "\n",
    "Return\n",
    "\n",
    "* 1 if the score of player 1 is more than the score of player 2,\n",
    "* 2 if the score of player 2 is more than the score of player 1, and\n",
    "* 0 in case of a draw.\n",
    "\n",
    "https://leetcode.com/problems/determine-the-winner-of-a-bowling-game/"
   ]
  },
  {
   "cell_type": "code",
   "execution_count": 11,
   "metadata": {},
   "outputs": [
    {
     "name": "stdout",
     "output_type": "stream",
     "text": [
      "1\n",
      "2\n",
      "0\n"
     ]
    }
   ],
   "source": [
    "def isWinner(player1: list[int], player2: list[int]) -> int:\n",
    "    def calculate(arr):\n",
    "        score = 0\n",
    "        doubles = 0\n",
    "        for n in arr:\n",
    "            score += 2 * n if doubles > 0 else n\n",
    "            doubles -= 1\n",
    "            if n == 10:\n",
    "                doubles = 2\n",
    "        return score\n",
    "    score1 = calculate(player1)\n",
    "    score2 = calculate(player2)\n",
    "    if score1 == score2:\n",
    "        return 0\n",
    "    return 1 if score1 > score2 else 2\n",
    "\n",
    "print(isWinner(player1 = [4,10,7,9], player2 = [6,5,2,3])) # 1\n",
    "print(isWinner(player1 = [3,5,7,6], player2 = [8,10,10,2])) # 2\n",
    "print(isWinner(player1 = [2,3], player2 = [4,1])) # 0"
   ]
  },
  {
   "attachments": {},
   "cell_type": "markdown",
   "metadata": {},
   "source": [
    "**2670. Find the Distinct Difference Array**\n",
    "\n",
    "You are given a 0-indexed array nums of length n.\n",
    "\n",
    "The distinct difference array of nums is an array diff of length n such that diff[i] is equal to the number of distinct elements in the suffix nums[i + 1, ..., n - 1] subtracted from the number of distinct elements in the prefix nums[0, ..., i].\n",
    "\n",
    "Return the distinct difference array of nums.\n",
    "\n",
    "Note that nums[i, ..., j] denotes the subarray of nums starting at index i and ending at index j inclusive. Particularly, if i > j then nums[i, ..., j] denotes an empty subarray.\n",
    "\n",
    "https://leetcode.com/problems/find-the-distinct-difference-array/"
   ]
  },
  {
   "cell_type": "code",
   "execution_count": 25,
   "metadata": {},
   "outputs": [
    {
     "name": "stdout",
     "output_type": "stream",
     "text": [
      "[-3, -1, 1, 3, 5]\n",
      "[-2, -1, 0, 2, 3]\n"
     ]
    }
   ],
   "source": [
    "from collections import Counter\n",
    "def distinctDifferenceArray(nums: list[int]) -> list[int]:\n",
    "    counts = Counter(nums)\n",
    "    r = len(counts)\n",
    "    ans = []\n",
    "    s = set()\n",
    "    for i in range(len(nums)):\n",
    "        counts[nums[i]] -= 1\n",
    "        if counts[nums[i]] == 0:\n",
    "            r -= 1\n",
    "        s.add(nums[i])\n",
    "        ans.append(len(s)-r)\n",
    "    return ans\n",
    "\n",
    "print(distinctDifferenceArray(nums = [1,2,3,4,5])) # [-3,-1,1,3,5]\n",
    "print(distinctDifferenceArray(nums = [3,2,3,4,2])) # [-2,-1,0,2,3]"
   ]
  },
  {
   "attachments": {},
   "cell_type": "markdown",
   "metadata": {},
   "source": [
    "**2678. Number of Senior Citizens**\n",
    "\n",
    "You are given a 0-indexed array of strings details. Each element of details provides information about a given passenger compressed into a string of length 15. The system is such that:\n",
    "\n",
    "* The first ten characters consist of the phone number of passengers.\n",
    "* The next character denotes the gender of the person.\n",
    "* The following two characters are used to indicate the age of the person.\n",
    "* The last two characters determine the seat allotted to that person.\n",
    "\n",
    "Return the number of passengers who are strictly more than 60 years old.\n",
    "\n",
    "https://leetcode.com/problems/number-of-senior-citizens/"
   ]
  },
  {
   "cell_type": "code",
   "execution_count": 22,
   "metadata": {},
   "outputs": [
    {
     "name": "stdout",
     "output_type": "stream",
     "text": [
      "2\n"
     ]
    }
   ],
   "source": [
    "def countSeniors(details: list[str]) -> int:\n",
    "    return sum([s[-4:-2] > \"60\" for s in details])\n",
    "\n",
    "print(countSeniors(details = [\"7868190130M7522\",\"5303914400F9211\",\"9273338290F4010\"])) # 2"
   ]
  },
  {
   "attachments": {},
   "cell_type": "markdown",
   "metadata": {},
   "source": [
    "**2682. Find the Losers of the Circular Game**\n",
    "\n",
    "There are n friends that are playing a game. The friends are sitting in a circle and are numbered from 1 to n in clockwise order. More formally, moving clockwise from the ith friend brings you to the (i+1)th friend for 1 <= i < n, and moving clockwise from the nth friend brings you to the 1st friend.\n",
    "\n",
    "The rules of the game are as follows:\n",
    "\n",
    "1st friend receives the ball.\n",
    "\n",
    "* After that, 1st friend passes it to the friend who is k steps away from them in the clockwise direction.\n",
    "* After that, the friend who receives the ball should pass it to the friend who is 2 * k steps away from them in the clockwise direction.\n",
    "* After that, the friend who receives the ball should pass it to the friend who is 3 * k steps away from them in the clockwise direction, and so on and so forth.\n",
    "\n",
    "In other words, on the ith turn, the friend holding the ball should pass it to the friend who is i * k steps away from them in the clockwise direction.\n",
    "\n",
    "The game is finished when some friend receives the ball for the second time.\n",
    "\n",
    "The losers of the game are friends who did not receive the ball in the entire game.\n",
    "\n",
    "Given the number of friends, n, and an integer k, return the array answer, which contains the losers of the game in the ascending order.\n",
    "\n",
    "https://leetcode.com/problems/find-the-losers-of-the-circular-game/"
   ]
  },
  {
   "cell_type": "code",
   "execution_count": 2,
   "metadata": {},
   "outputs": [
    {
     "name": "stdout",
     "output_type": "stream",
     "text": [
      "[4, 5]\n",
      "[2, 3, 4]\n"
     ]
    }
   ],
   "source": [
    "def circularGameLosers(n: int, k: int) -> list[int]:\n",
    "    friends = set(range(1, n+1))\n",
    "    turn = 1\n",
    "    kk = k\n",
    "    while True:\n",
    "        if turn in friends:\n",
    "            friends.remove(turn)\n",
    "        else:\n",
    "            return list(friends)\n",
    "        turn = (turn + kk) % n or n\n",
    "        kk += k\n",
    "\n",
    "print(circularGameLosers(n = 5, k = 2)) # [4,5]\n",
    "print(circularGameLosers(n = 4, k = 4)) # [2,3,4]"
   ]
  },
  {
   "attachments": {},
   "cell_type": "markdown",
   "metadata": {},
   "source": [
    "**2696. Minimum String Length After Removing Substrings**\n",
    "\n",
    "You are given a string s consisting only of uppercase English letters.\n",
    "\n",
    "You can apply some operations to this string where, in one operation, you can remove any occurrence of one of the substrings \"AB\" or \"CD\" from s.\n",
    "\n",
    "Return the minimum possible length of the resulting string that you can obtain.\n",
    "\n",
    "Note that the string concatenates after removing the substring and could produce new \"AB\" or \"CD\" substrings.\n",
    "\n",
    "https://leetcode.com/problems/minimum-string-length-after-removing-substrings/"
   ]
  },
  {
   "cell_type": "code",
   "execution_count": 10,
   "metadata": {},
   "outputs": [
    {
     "name": "stdout",
     "output_type": "stream",
     "text": [
      "2\n",
      "5\n"
     ]
    }
   ],
   "source": [
    "def minLength(s: str) -> int:\n",
    "    stack = []\n",
    "    for c in s:\n",
    "        if (stack and \n",
    "            ((c == \"B\" and stack[-1] == \"A\") or \n",
    "                (c == \"D\" and stack[-1] == \"C\"))):\n",
    "            stack.pop()\n",
    "        else:\n",
    "            stack.append(c)\n",
    "    return len(stack)\n",
    "\n",
    "print(minLength(\"ABFCACDB\")) # 2\n",
    "print(minLength(\"ACBBD\")) # 5"
   ]
  },
  {
   "attachments": {},
   "cell_type": "markdown",
   "metadata": {},
   "source": [
    "**2697. Lexicographically Smallest Palindrome**\n",
    "\n",
    "You are given a string s consisting of lowercase English letters, and you are allowed to perform operations on it. In one operation, you can replace a character in s with another lowercase English letter.\n",
    "\n",
    "Your task is to make s a palindrome with the minimum number of operations possible. If there are multiple palindromes that can be made using the minimum number of operations, make the lexicographically smallest one.\n",
    "\n",
    "A string a is lexicographically smaller than a string b (of the same length) if in the first position where a and b differ, string a has a letter that appears earlier in the alphabet than the corresponding letter in b.\n",
    "\n",
    "Return the resulting palindrome string.\n",
    "\n",
    "https://leetcode.com/problems/lexicographically-smallest-palindrome/"
   ]
  },
  {
   "cell_type": "code",
   "execution_count": 8,
   "metadata": {},
   "outputs": [
    {
     "name": "stdout",
     "output_type": "stream",
     "text": [
      "efcfe\n",
      "abba\n",
      "neven\n"
     ]
    }
   ],
   "source": [
    "def makeSmallestPalindrome(s: str) -> str:\n",
    "    s = list(s)\n",
    "    l = 0\n",
    "    r = len(s) - 1\n",
    "    while l < r:\n",
    "        s[l] = s[r] = min(s[l], s[r])\n",
    "        l += 1\n",
    "        r -= 1\n",
    "    return \"\".join(s)\n",
    "\n",
    "print(makeSmallestPalindrome(\"egcfe\")) # \"efcfe\"\n",
    "print(makeSmallestPalindrome(\"abcd\")) # \"abba\"\n",
    "print(makeSmallestPalindrome(\"seven\")) # \"neven\""
   ]
  }
 ],
 "metadata": {
  "kernelspec": {
   "display_name": "Python 3",
   "language": "python",
   "name": "python3"
  },
  "language_info": {
   "codemirror_mode": {
    "name": "ipython",
    "version": 3
   },
   "file_extension": ".py",
   "mimetype": "text/x-python",
   "name": "python",
   "nbconvert_exporter": "python",
   "pygments_lexer": "ipython3",
   "version": "3.11.1"
  },
  "orig_nbformat": 4
 },
 "nbformat": 4,
 "nbformat_minor": 2
}
