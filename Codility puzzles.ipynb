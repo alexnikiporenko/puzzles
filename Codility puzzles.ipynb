{
 "cells": [
  {
   "cell_type": "markdown",
   "metadata": {},
   "source": [
    "**Codility - TapeEquilibrium**\n",
    "\n",
    "via https://app.codility.com/programmers/lessons/3-time_complexity/"
   ]
  },
  {
   "cell_type": "code",
   "execution_count": 16,
   "metadata": {},
   "outputs": [
    {
     "data": {
      "text/plain": [
       "2000"
      ]
     },
     "execution_count": 16,
     "metadata": {},
     "output_type": "execute_result"
    }
   ],
   "source": [
    "def solution(A):\n",
    "\n",
    "    l = A[0]\n",
    "    r = sum(A[1:])\n",
    "    min_diff = abs(r-l)\n",
    "\n",
    "    for i in range(1, len(A)-1):\n",
    "        l += A[i]\n",
    "        r -= A[i]\n",
    "        min_diff = min(min_diff, abs(r-l))\n",
    "    \n",
    "    return min_diff\n",
    "\n",
    "solution([1000, -1000])"
   ]
  },
  {
   "cell_type": "markdown",
   "metadata": {},
   "source": [
    "**Codility - Swap the elements**\n",
    "\n",
    "via https://codility.com/media/train/2-CountingElements.pdf"
   ]
  },
  {
   "cell_type": "code",
   "execution_count": 9,
   "metadata": {},
   "outputs": [
    {
     "data": {
      "text/plain": [
       "True"
      ]
     },
     "execution_count": 9,
     "metadata": {},
     "output_type": "execute_result"
    }
   ],
   "source": [
    "def solution(A, B):\n",
    "    sum_a, sum_b  = sum(A), sum(B)\n",
    "    d = sum_a - sum_b\n",
    "    if d%2 == 1:\n",
    "        return False\n",
    "    d //= 2 \n",
    "    set_a, set_b = set(A), set(B)\n",
    "    for a in set_a:\n",
    "        if (a - d) in set_b:\n",
    "            return True\n",
    "    return False\n",
    "\n",
    "arr1 = [1, 3, 3, 7]\n",
    "arr2 = [1, 5, 5, 7]\n",
    "\n",
    "solution(arr1, arr2)"
   ]
  },
  {
   "cell_type": "markdown",
   "metadata": {},
   "source": [
    "**Codility - FrogRiverOne**\n",
    "\n",
    "via https://app.codility.com/programmers/lessons/4-counting_elements/frog_river_one/"
   ]
  },
  {
   "cell_type": "code",
   "execution_count": 11,
   "metadata": {},
   "outputs": [
    {
     "data": {
      "text/plain": [
       "6"
      ]
     },
     "execution_count": 11,
     "metadata": {},
     "output_type": "execute_result"
    }
   ],
   "source": [
    "def solution(X, A):\n",
    "    s = set(range(1, X+1))\n",
    "\n",
    "    for i in range(len(A)):\n",
    "        if A[i] in s:\n",
    "            s.remove(A[i])\n",
    "            if not s:\n",
    "                return i\n",
    "    \n",
    "    return -1\n",
    "\n",
    "s = [1,3,1,4,2,3,5,4]\n",
    "\n",
    "solution(5, s)"
   ]
  },
  {
   "cell_type": "markdown",
   "metadata": {},
   "source": [
    "**Codility - MaxCounters**\n",
    "\n",
    "via https://app.codility.com/programmers/lessons/4-counting_elements/max_counters/"
   ]
  },
  {
   "cell_type": "code",
   "execution_count": 35,
   "metadata": {},
   "outputs": [
    {
     "data": {
      "text/plain": [
       "[3, 2, 2, 4, 2]"
      ]
     },
     "execution_count": 35,
     "metadata": {},
     "output_type": "execute_result"
    }
   ],
   "source": [
    "# times out\n",
    "def solution(N, A):\n",
    "    counters = [0 for x in range(N)]\n",
    "\n",
    "    for op in A:\n",
    "        if op > N:\n",
    "            m = max(counters)\n",
    "            counters = [m for x in range(N)]\n",
    "        else:\n",
    "            counters[op-1] += 1\n",
    "\n",
    "    return counters\n",
    "\n",
    "# faster\n",
    "def solution(N, A):\n",
    "    counters = [0 for x in range(N)]\n",
    "\n",
    "    current_max = 0\n",
    "    maxcounter = 0\n",
    "\n",
    "    for op in A:\n",
    "        if op <= N:\n",
    "            counters[op-1] = max(maxcounter, counters[op-1]) + 1\n",
    "            current_max = max(current_max, counters[op-1])\n",
    "        else:\n",
    "            maxcounter = current_max\n",
    "            \n",
    "    for i in range(N):\n",
    "        counters[i] = max(counters[i], maxcounter)\n",
    "\n",
    "    return counters\n",
    "\n",
    "solution(5, [3, 4, 4, 6, 1, 4, 4])"
   ]
  },
  {
   "cell_type": "markdown",
   "metadata": {},
   "source": [
    "**Codility - MissingInteger**\n",
    "\n",
    "via - https://app.codility.com/programmers/lessons/4-counting_elements/missing_integer/"
   ]
  },
  {
   "cell_type": "code",
   "execution_count": 37,
   "metadata": {},
   "outputs": [],
   "source": [
    "def solution(A):\n",
    "    # write your code in Python 3.8.10\n",
    "    visited = set()\n",
    "    min_int = 1\n",
    "    for a in A:\n",
    "        visited.add(a)\n",
    "        if a == min_int:\n",
    "            while min_int in visited:\n",
    "                min_int += 1\n",
    "    return min_int"
   ]
  },
  {
   "cell_type": "markdown",
   "metadata": {},
   "source": [
    "**Codility - PassingCars**\n",
    "\n",
    "via https://app.codility.com/programmers/lessons/5-prefix_sums/passing_cars/"
   ]
  },
  {
   "cell_type": "code",
   "execution_count": null,
   "metadata": {},
   "outputs": [],
   "source": [
    "def solution(A):\n",
    "    passed = 0\n",
    "    total = sum(A)\n",
    "    for n in A:\n",
    "        if n == 0:\n",
    "            passed += total\n",
    "            if passed > 1000000000:\n",
    "                return -1\n",
    "        else:\n",
    "            total -= 1\n",
    "    return passed"
   ]
  },
  {
   "cell_type": "markdown",
   "metadata": {},
   "source": [
    "**Codility - CountDiv**\n",
    "\n",
    "via https://app.codility.com/programmers/lessons/5-prefix_sums/count_div/"
   ]
  },
  {
   "cell_type": "code",
   "execution_count": 5,
   "metadata": {},
   "outputs": [
    {
     "data": {
      "text/plain": [
       "20"
      ]
     },
     "execution_count": 5,
     "metadata": {},
     "output_type": "execute_result"
    }
   ],
   "source": [
    "# slow!\n",
    "def solution(A, B, K):\n",
    "    out = B - A + 1\n",
    "\n",
    "    for n in range(A, B+1):\n",
    "        if n % K != 0:\n",
    "            out -= 1\n",
    "\n",
    "    return out\n",
    "\n",
    "# better \n",
    "def solution(A, B, K):\n",
    "    for n in range(A, B+1):\n",
    "        if n % K == 0:\n",
    "            return len(range(n, B+1, K))\n",
    "    return 0\n",
    "\n",
    "solution(A = 11, B = 345, K = 17)"
   ]
  },
  {
   "cell_type": "markdown",
   "metadata": {},
   "source": [
    "**Codility - GenomicRangeQuery**\n",
    "\n",
    "via https://app.codility.com/programmers/lessons/5-prefix_sums/genomic_range_query/"
   ]
  },
  {
   "cell_type": "code",
   "execution_count": 2,
   "metadata": {},
   "outputs": [
    {
     "data": {
      "text/plain": [
       "[2, 4, 1]"
      ]
     },
     "execution_count": 2,
     "metadata": {},
     "output_type": "execute_result"
    }
   ],
   "source": [
    "# slow\n",
    "def solution(S, P, Q):\n",
    "    d = {\n",
    "        \"A\" : 1,\n",
    "        \"C\" : 2,\n",
    "        \"G\" : 3,\n",
    "        \"T\" : 4\n",
    "    }\n",
    "\n",
    "    nums = [d[c] for c in S]\n",
    "\n",
    "    l = len(P)\n",
    "    out = [0] * l\n",
    "\n",
    "    for i in range(l):\n",
    "        out[i] = min(nums[P[i] : Q[i]+1])\n",
    "\n",
    "    return out\n",
    "\n",
    "# still slow\n",
    "def solution(S, P, Q):\n",
    "    d = {\n",
    "        \"A\" : 1,\n",
    "        \"C\" : 2,\n",
    "        \"G\" : 3,\n",
    "        \"T\" : 4\n",
    "    }\n",
    "\n",
    "    nums = [d[c] for c in S]\n",
    "\n",
    "    l = len(P)\n",
    "    out = [4] * l\n",
    "\n",
    "    for i in range(l):\n",
    "        for n in nums[P[i] : Q[i]+1]:\n",
    "            if n == 1:\n",
    "                out[i] = 1\n",
    "                break\n",
    "            out[i] = min(out[i], n)\n",
    "\n",
    "    return out\n",
    "\n",
    "# better, but still times out\n",
    "def solution(S, P, Q):\n",
    "\n",
    "    out = []\n",
    "\n",
    "    for (p, q) in zip(P, Q):\n",
    "        if \"A\" in S[p: q+1]:\n",
    "            out.append(1)\n",
    "        elif \"C\" in S[p: q+1]:\n",
    "            out.append(2)\n",
    "        elif \"G\" in S[p: q+1]:\n",
    "            out.append(3)\n",
    "        else:\n",
    "            out.append(4)\n",
    "\n",
    "    return out\n",
    "\n",
    "# accepted\n",
    "def solution(S, P, Q):\n",
    "\n",
    "    s_len = len(S)\n",
    "\n",
    "    d = {\n",
    "        \"A\" : [0] * s_len,\n",
    "        \"C\" : [0] * s_len,\n",
    "        \"G\" : [0] * s_len,\n",
    "        \"T\" : [0] * s_len\n",
    "    }\n",
    "\n",
    "    for i in range(s_len):\n",
    "        d[S[i]][i] = 1\n",
    "\n",
    "    for l in d.values():\n",
    "        for i in range(1, s_len):\n",
    "            l[i] = l[i] + l[i-1]\n",
    "        l += [0]\n",
    "\n",
    "    out = []\n",
    "\n",
    "    for i in range(len(P)):\n",
    "        if d[\"A\"][P[i]-1] < d[\"A\"][Q[i]]:\n",
    "            out.append(1)\n",
    "        elif d[\"C\"][P[i]-1] < d[\"C\"][Q[i]]:\n",
    "            out.append(2)\n",
    "        elif d[\"G\"][P[i]-1] < d[\"G\"][Q[i]]:\n",
    "            out.append(3)\n",
    "        else:\n",
    "            out.append(4)            \n",
    "\n",
    "    return out\n",
    "\n",
    "solution(\"CAGCCTA\", [2,5,0], [4,5,6])\n",
    "# solution('A', [0], [0])"
   ]
  },
  {
   "cell_type": "markdown",
   "metadata": {},
   "source": [
    "**Codility - MinAvgTwoSlice**\n",
    "\n",
    "via https://app.codility.com/programmers/lessons/5-prefix_sums/min_avg_two_slice/"
   ]
  },
  {
   "cell_type": "code",
   "execution_count": 82,
   "metadata": {},
   "outputs": [
    {
     "data": {
      "text/plain": [
       "3"
      ]
     },
     "execution_count": 82,
     "metadata": {},
     "output_type": "execute_result"
    }
   ],
   "source": [
    "# two pointers\n",
    "def solution(A):\n",
    "    min_avg = [(A[0]+A[1])/2, 0]\n",
    "    l = 0\n",
    "    r = 2\n",
    "    while r < len(A):\n",
    "        ls = [l, l+1]\n",
    "        for ll in ls:\n",
    "            current_avg = sum(A[ll:r+1])/(r+1-ll)\n",
    "            if current_avg < min_avg[0]:\n",
    "                min_avg = [current_avg, ll]\n",
    "        r += 1\n",
    "        l += 1\n",
    "    \n",
    "    return min_avg[1]\n",
    "\n",
    "# solution([5,2,2,2,5,1,3,1,5]) # 5\n",
    "# solution( [10, 10, -1, 2, 4, -1, 2, -1]) # 5\n",
    "# solution([10000, -10000]) # 0\n",
    "# solution([8, 6, 3, 7, 1]) # 2\n",
    "solution([5,4,3,2,1]) # 3"
   ]
  },
  {
   "cell_type": "markdown",
   "metadata": {},
   "source": [
    "**Codility - MaxProductOfThree**\n",
    "\n",
    "via https://app.codility.com/programmers/lessons/6-sorting/max_product_of_three/"
   ]
  },
  {
   "cell_type": "code",
   "execution_count": 11,
   "metadata": {},
   "outputs": [
    {
     "data": {
      "text/plain": [
       "105"
      ]
     },
     "execution_count": 11,
     "metadata": {},
     "output_type": "execute_result"
    }
   ],
   "source": [
    "def solution(A):\n",
    "    A.sort()\n",
    "    return max((A[-1]*A[-2]*A[-3]), (A[0]*A[1]*A[-1]))\n",
    "\n",
    "# solution([-5, -6, -4, -7, -10]) # -120\n",
    "# solution([-3, 1, 2, -2, 5, 6]) # 60\n",
    "solution([4, 7, 3, 2, 1, -3, -5]) # 105"
   ]
  },
  {
   "cell_type": "markdown",
   "metadata": {},
   "source": [
    "**Codility - Triangle**\n",
    "\n",
    "via https://app.codility.com/programmers/lessons/6-sorting/triangle/"
   ]
  },
  {
   "cell_type": "code",
   "execution_count": 27,
   "metadata": {},
   "outputs": [
    {
     "data": {
      "text/plain": [
       "0"
      ]
     },
     "execution_count": 27,
     "metadata": {},
     "output_type": "execute_result"
    }
   ],
   "source": [
    "def solution(A):\n",
    "    A.sort()\n",
    "    if len(A) < 3:\n",
    "        return 0\n",
    "    elif A[-3] <= 0:\n",
    "        return 0\n",
    "    else:\n",
    "        for i in range(len(A)-2):\n",
    "            if (A[i] + A[i+1]) > A[i+2]:\n",
    "                return 1\n",
    "    return 0\n",
    "\n",
    "# solution([10, 2, 5, 1, 8, 20])\n",
    "# solution([10, 50, 5, 1])\n",
    "solution([0])"
   ]
  },
  {
   "cell_type": "markdown",
   "metadata": {},
   "source": [
    "**Codility  NumberOfDiscIntersections**\n",
    "\n",
    "via https://app.codility.com/programmers/lessons/6-sorting/number_of_disc_intersections/"
   ]
  },
  {
   "cell_type": "code",
   "execution_count": 4,
   "metadata": {},
   "outputs": [
    {
     "data": {
      "text/plain": [
       "6"
      ]
     },
     "execution_count": 4,
     "metadata": {},
     "output_type": "execute_result"
    }
   ],
   "source": [
    "# correct, but slow O(n**2)\n",
    "def solution(A):\n",
    "    lines = []\n",
    "    for i in range(len(A)):\n",
    "        lines.append((i-A[i], i+A[i]))\n",
    "    lines.sort()\n",
    "\n",
    "    edges = []\n",
    "    intersections = 0\n",
    "\n",
    "    for start, stop in lines:\n",
    "        count = 0\n",
    "        new_edges = []\n",
    "        for edge in edges:\n",
    "            if start <= edge:\n",
    "                count += 1\n",
    "                new_edges.append(edge)\n",
    "        edges = new_edges\n",
    "        intersections += count\n",
    "        if intersections > 10000000:\n",
    "            return -1\n",
    "        edges.append(stop)\n",
    "\n",
    "    return intersections\n",
    "\n",
    "# fast solution\n",
    "def solution(A):\n",
    "    starts = []\n",
    "    ends = []\n",
    "    for i in range(len(A)):\n",
    "        starts.append(i-A[i])\n",
    "        ends.append(i+A[i])\n",
    "    starts.sort()\n",
    "    ends.sort()\n",
    "\n",
    "    current = 0\n",
    "    intersections = 0\n",
    "\n",
    "    i = 0\n",
    "\n",
    "    for s in starts:\n",
    "        while s > ends[i]:\n",
    "            current -= 1\n",
    "            i += 1\n",
    "        if s <= ends[i]:\n",
    "            intersections += current\n",
    "            if intersections > 10000000:\n",
    "                return -1\n",
    "            current += 1\n",
    "\n",
    "    return intersections\n",
    "\n",
    "# solution([1,5,2,1,4,0]) # 11\n",
    "# solution([1, 2147483647, 0]) # 2\n",
    "solution([1, 0, 1, 0, 1]) # 6"
   ]
  },
  {
   "cell_type": "markdown",
   "metadata": {},
   "source": [
    "**Codility - Brackets** and **Codility - Nesting**\n",
    "\n",
    "via https://app.codility.com/programmers/lessons/7-stacks_and_queues/brackets/\n",
    "via https://app.codility.com/programmers/lessons/7-stacks_and_queues/nesting/"
   ]
  },
  {
   "cell_type": "code",
   "execution_count": 10,
   "metadata": {},
   "outputs": [
    {
     "data": {
      "text/plain": [
       "0"
      ]
     },
     "execution_count": 10,
     "metadata": {},
     "output_type": "execute_result"
    }
   ],
   "source": [
    "from collections import deque\n",
    "\n",
    "def solution(S):\n",
    "    pairs = {\")\": \"(\", \"}\":\"{\", \"]\":\"[\"}\n",
    "    stack = deque()\n",
    "\n",
    "    for b in S:\n",
    "        if b not in pairs:\n",
    "            stack.append(b)\n",
    "        elif stack and pairs[b] == stack[-1]:\n",
    "            stack.pop()\n",
    "        else:\n",
    "            return 0\n",
    "    \n",
    "    return 0 if stack else 1\n",
    "\n",
    "solution(\"{{{{\")"
   ]
  },
  {
   "cell_type": "markdown",
   "metadata": {},
   "source": [
    "**Codility - Fish**\n",
    "\n",
    "via https://app.codility.com/programmers/lessons/7-stacks_and_queues/fish/"
   ]
  },
  {
   "cell_type": "code",
   "execution_count": 22,
   "metadata": {},
   "outputs": [
    {
     "data": {
      "text/plain": [
       "2"
      ]
     },
     "execution_count": 22,
     "metadata": {},
     "output_type": "execute_result"
    }
   ],
   "source": [
    "def solution(A, B):\n",
    "    from collections import deque\n",
    "    alive = len(A)\n",
    "    stack = deque()\n",
    "\n",
    "    for i in range(len(A)):\n",
    "        if B[i] == 1:\n",
    "            stack.append(A[i])\n",
    "        elif not stack:\n",
    "            continue\n",
    "        else:\n",
    "            while stack and A[i] > stack[-1]:\n",
    "                stack.pop()\n",
    "                alive -= 1\n",
    "            if stack:\n",
    "                alive -=1\n",
    "\n",
    "    return alive\n",
    "\n",
    "solution([4,3,2,1,5], [0,1,0,0,0])"
   ]
  },
  {
   "cell_type": "markdown",
   "metadata": {},
   "source": [
    "**Codility - StoneWall**\n",
    "\n",
    "via https://app.codility.com/programmers/lessons/7-stacks_and_queues/stone_wall/"
   ]
  },
  {
   "cell_type": "code",
   "execution_count": 14,
   "metadata": {},
   "outputs": [
    {
     "data": {
      "text/plain": [
       "7"
      ]
     },
     "execution_count": 14,
     "metadata": {},
     "output_type": "execute_result"
    }
   ],
   "source": [
    "def solution(H):\n",
    "    from collections import deque\n",
    "    s = deque([H[0]])\n",
    "    counter = 1\n",
    "\n",
    "    for n in H[1:]:\n",
    "        if not s or n > s[-1]:\n",
    "            s.append(n)\n",
    "            counter += 1\n",
    "        elif n < s[-1]:\n",
    "            while s and n < s[-1]:\n",
    "                s.pop()\n",
    "                if not s or n > s[-1]:\n",
    "                    s.append(n)\n",
    "                    counter += 1\n",
    "\n",
    "    return counter\n",
    "\n",
    "\n",
    "solution([8,8,5,7,9,8,7,4,8]) # 7\n",
    "# solution([2, 3, 2, 1]) # 3"
   ]
  },
  {
   "cell_type": "markdown",
   "metadata": {},
   "source": [
    "**Codility - Dominator**\n",
    "\n",
    "https://app.codility.com/programmers/lessons/8-leader/dominator/"
   ]
  },
  {
   "cell_type": "code",
   "execution_count": 26,
   "metadata": {},
   "outputs": [
    {
     "data": {
      "text/plain": [
       "5"
      ]
     },
     "execution_count": 26,
     "metadata": {},
     "output_type": "execute_result"
    }
   ],
   "source": [
    "def solution(A):\n",
    "    if not A:\n",
    "        return -1\n",
    "    \n",
    "    d = dict()\n",
    "\n",
    "    for i in range(len(A)):\n",
    "        if A[i] not in d:\n",
    "            d[A[i]] = [1, i]\n",
    "        else:\n",
    "            d[A[i]][0] += 1\n",
    "\n",
    "    if len(d.keys()) > len(A)//2 + 1:\n",
    "        return -1\n",
    "    else:\n",
    "        m = max(d.values())\n",
    "        if m[0] < (len(A)//2 + 1):\n",
    "            return -1\n",
    "        else:\n",
    "            return m[1]\n",
    "\n",
    "# solution([3, 4, 3, 2, 3, -1, 3, 3])\n",
    "solution([0,1,2,3,4,5,5,5,5,5,5])"
   ]
  },
  {
   "cell_type": "markdown",
   "metadata": {},
   "source": [
    "**Codesignal - almostIncreasingSequence**\n",
    "\n",
    "via https://app.codesignal.com/arcade/intro/level-2/2mxbGwLzvkTCKAJMG"
   ]
  },
  {
   "cell_type": "code",
   "execution_count": 26,
   "metadata": {},
   "outputs": [
    {
     "data": {
      "text/plain": [
       "True"
      ]
     },
     "execution_count": 26,
     "metadata": {},
     "output_type": "execute_result"
    }
   ],
   "source": [
    "def solution(sequence):\n",
    "    left = 0\n",
    "    right = len(sequence) - 1\n",
    "    \n",
    "    while left < right and sequence[left] < sequence[left+1]:\n",
    "        left += 1\n",
    "        \n",
    "    while left < right and sequence[right-1] < sequence[right]:\n",
    "        right -= 1\n",
    "\n",
    "    if right-left > 1:\n",
    "        return False\n",
    "    elif right == left:\n",
    "        return True\n",
    "    elif left == 0 or right == len(sequence) - 1:\n",
    "        return True\n",
    "    elif sequence[left-1] < sequence[right] or sequence[left] < sequence[right+1]:\n",
    "        return True\n",
    "    else:\n",
    "        return False\n",
    "\n",
    "test_case = [10, 1, 2, 3, 4, 5]\n",
    "\n",
    "solution(test_case)"
   ]
  },
  {
   "cell_type": "markdown",
   "metadata": {},
   "source": [
    "**Codesignal - reverseInParentheses**\n",
    "\n",
    "via https://app.codesignal.com/arcade/intro/level-3/9DgaPsE2a7M6M2Hu6"
   ]
  },
  {
   "cell_type": "code",
   "execution_count": 13,
   "metadata": {},
   "outputs": [],
   "source": [
    "def solution(inputString):\n",
    "    while \"(\" in inputString:\n",
    "        left = 0\n",
    "        right = 0\n",
    "        for i in range(len(inputString)):\n",
    "            if inputString[i] == \"(\":\n",
    "                left = i\n",
    "            elif inputString[i] == \")\":\n",
    "                right = i\n",
    "                inputString = inputString[:left] + inputString[right-1:left:-1] + inputString[right+1:]\n",
    "                break\n",
    "        \n",
    "    return inputString"
   ]
  }
 ],
 "metadata": {
  "kernelspec": {
   "display_name": "Python 3.8.10 64-bit",
   "language": "python",
   "name": "python3"
  },
  "language_info": {
   "codemirror_mode": {
    "name": "ipython",
    "version": 3
   },
   "file_extension": ".py",
   "mimetype": "text/x-python",
   "name": "python",
   "nbconvert_exporter": "python",
   "pygments_lexer": "ipython3",
   "version": "3.8.10"
  },
  "vscode": {
   "interpreter": {
    "hash": "203fa3e50d6f05104a04f5691b03f115dbe32d046f15f03dd2f773ab23fb121b"
   }
  }
 },
 "nbformat": 4,
 "nbformat_minor": 4
}
