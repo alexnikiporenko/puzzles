{
 "cells": [
  {
   "attachments": {},
   "cell_type": "markdown",
   "metadata": {},
   "source": [
    "**Codility - BinaryGap**\n",
    "\n",
    "https://app.codility.com/programmers/lessons/1-iterations/binary_gap/"
   ]
  },
  {
   "cell_type": "code",
   "execution_count": 5,
   "metadata": {},
   "outputs": [
    {
     "data": {
      "text/plain": [
       "0"
      ]
     },
     "execution_count": 5,
     "metadata": {},
     "output_type": "execute_result"
    }
   ],
   "source": [
    "def solution(N):\n",
    "    b = bin(N)[2:]\n",
    "    max_gap = 0\n",
    "    curr_gap = 0\n",
    "    for c in b:\n",
    "        if c == \"1\":\n",
    "            max_gap = max(max_gap, curr_gap)\n",
    "            curr_gap = 0\n",
    "        else:\n",
    "            curr_gap += 1\n",
    "    return max_gap\n",
    "\n",
    "solution(32)"
   ]
  },
  {
   "attachments": {},
   "cell_type": "markdown",
   "metadata": {},
   "source": [
    "**Codility - CyclicRotation**\n",
    "\n",
    "https://app.codility.com/programmers/lessons/2-arrays/cyclic_rotation/"
   ]
  },
  {
   "cell_type": "code",
   "execution_count": 15,
   "metadata": {},
   "outputs": [
    {
     "name": "stdout",
     "output_type": "stream",
     "text": [
      "[9, 7, 6, 3, 8]\n",
      "[1, 2, 3, 4]\n",
      "[3, 5, 1, 1, 2]\n",
      "[]\n"
     ]
    }
   ],
   "source": [
    "def solution(A, K):\n",
    "    if not A:\n",
    "        return A\n",
    "    K = K%(len(A))\n",
    "    return A[-K:] + A[:-K]\n",
    "\n",
    "print(solution([3, 8, 9, 7, 6], 3))\n",
    "print(solution([1, 2, 3, 4], 4))\n",
    "print(solution([1, 1, 2, 3, 5], 42))\n",
    "print(solution([], 0))"
   ]
  },
  {
   "attachments": {},
   "cell_type": "markdown",
   "metadata": {},
   "source": [
    "**Codility - OddOccurrencesInArray**\n",
    "\n",
    "https://app.codility.com/programmers/lessons/2-arrays/odd_occurrences_in_array/"
   ]
  },
  {
   "cell_type": "code",
   "execution_count": 21,
   "metadata": {},
   "outputs": [
    {
     "data": {
      "text/plain": [
       "7"
      ]
     },
     "execution_count": 21,
     "metadata": {},
     "output_type": "execute_result"
    }
   ],
   "source": [
    "def solution(A):\n",
    "    s = set()\n",
    "    for a in A:\n",
    "        if a not in s:\n",
    "            s.add(a)\n",
    "        else:\n",
    "            s.remove(a)\n",
    "    return s.pop()\n",
    "\n",
    "solution([9,3,9,3,9,7,9])"
   ]
  },
  {
   "attachments": {},
   "cell_type": "markdown",
   "metadata": {},
   "source": [
    "**Codility - FrogJmp**\n",
    "\n",
    "https://app.codility.com/programmers/lessons/3-time_complexity/frog_jmp/"
   ]
  },
  {
   "cell_type": "code",
   "execution_count": 25,
   "metadata": {},
   "outputs": [
    {
     "data": {
      "text/plain": [
       "3"
      ]
     },
     "execution_count": 25,
     "metadata": {},
     "output_type": "execute_result"
    }
   ],
   "source": [
    "def solution(X, Y, D):\n",
    "    from math import ceil\n",
    "    return ceil((Y-X)/D)\n",
    "\n",
    "solution(10, 85, 30)"
   ]
  },
  {
   "attachments": {},
   "cell_type": "markdown",
   "metadata": {},
   "source": [
    "**Codility - PermMissingElem**\n",
    "\n",
    "https://app.codility.com/programmers/lessons/3-time_complexity/perm_missing_elem/"
   ]
  },
  {
   "cell_type": "code",
   "execution_count": 30,
   "metadata": {},
   "outputs": [
    {
     "data": {
      "text/plain": [
       "4"
      ]
     },
     "execution_count": 30,
     "metadata": {},
     "output_type": "execute_result"
    }
   ],
   "source": [
    "def solution(A):\n",
    "    return sum(range(len(A)+2)) - sum(A)\n",
    "\n",
    "solution([2,3,1,5])"
   ]
  },
  {
   "cell_type": "markdown",
   "metadata": {},
   "source": [
    "**Codility - TapeEquilibrium**\n",
    "\n",
    "via https://app.codility.com/programmers/lessons/3-time_complexity/"
   ]
  },
  {
   "cell_type": "code",
   "execution_count": 16,
   "metadata": {},
   "outputs": [
    {
     "data": {
      "text/plain": [
       "2000"
      ]
     },
     "execution_count": 16,
     "metadata": {},
     "output_type": "execute_result"
    }
   ],
   "source": [
    "def solution(A):\n",
    "\n",
    "    l = A[0]\n",
    "    r = sum(A[1:])\n",
    "    min_diff = abs(r-l)\n",
    "\n",
    "    for i in range(1, len(A)-1):\n",
    "        l += A[i]\n",
    "        r -= A[i]\n",
    "        min_diff = min(min_diff, abs(r-l))\n",
    "    \n",
    "    return min_diff\n",
    "\n",
    "solution([1000, -1000])"
   ]
  },
  {
   "cell_type": "markdown",
   "metadata": {},
   "source": [
    "**Codility - Swap the elements**\n",
    "\n",
    "via https://codility.com/media/train/2-CountingElements.pdf"
   ]
  },
  {
   "cell_type": "code",
   "execution_count": 9,
   "metadata": {},
   "outputs": [
    {
     "data": {
      "text/plain": [
       "True"
      ]
     },
     "execution_count": 9,
     "metadata": {},
     "output_type": "execute_result"
    }
   ],
   "source": [
    "def solution(A, B):\n",
    "    sum_a, sum_b  = sum(A), sum(B)\n",
    "    d = sum_a - sum_b\n",
    "    if d%2 == 1:\n",
    "        return False\n",
    "    d //= 2 \n",
    "    set_a, set_b = set(A), set(B)\n",
    "    for a in set_a:\n",
    "        if (a - d) in set_b:\n",
    "            return True\n",
    "    return False\n",
    "\n",
    "arr1 = [1, 3, 3, 7]\n",
    "arr2 = [1, 5, 5, 7]\n",
    "\n",
    "solution(arr1, arr2)"
   ]
  },
  {
   "cell_type": "markdown",
   "metadata": {},
   "source": [
    "**Codility - FrogRiverOne**\n",
    "\n",
    "via https://app.codility.com/programmers/lessons/4-counting_elements/frog_river_one/"
   ]
  },
  {
   "cell_type": "code",
   "execution_count": 11,
   "metadata": {},
   "outputs": [
    {
     "data": {
      "text/plain": [
       "6"
      ]
     },
     "execution_count": 11,
     "metadata": {},
     "output_type": "execute_result"
    }
   ],
   "source": [
    "def solution(X, A):\n",
    "    s = set(range(1, X+1))\n",
    "\n",
    "    for i in range(len(A)):\n",
    "        if A[i] in s:\n",
    "            s.remove(A[i])\n",
    "            if not s:\n",
    "                return i\n",
    "    \n",
    "    return -1\n",
    "\n",
    "s = [1,3,1,4,2,3,5,4]\n",
    "\n",
    "solution(5, s)"
   ]
  },
  {
   "attachments": {},
   "cell_type": "markdown",
   "metadata": {},
   "source": [
    "**Codility - PermCheck**\n",
    "\n",
    "https://app.codility.com/programmers/lessons/4-counting_elements/perm_check/"
   ]
  },
  {
   "cell_type": "code",
   "execution_count": 35,
   "metadata": {},
   "outputs": [
    {
     "data": {
      "text/plain": [
       "0"
      ]
     },
     "execution_count": 35,
     "metadata": {},
     "output_type": "execute_result"
    }
   ],
   "source": [
    "def solution(A):\n",
    "    return 1 if set(range(1,len(A)+1)) == set(A) else 0\n",
    "\n",
    "solution([4,1,3])"
   ]
  },
  {
   "cell_type": "markdown",
   "metadata": {},
   "source": [
    "**Codility - MaxCounters**\n",
    "\n",
    "via https://app.codility.com/programmers/lessons/4-counting_elements/max_counters/"
   ]
  },
  {
   "cell_type": "code",
   "execution_count": 35,
   "metadata": {},
   "outputs": [
    {
     "data": {
      "text/plain": [
       "[3, 2, 2, 4, 2]"
      ]
     },
     "execution_count": 35,
     "metadata": {},
     "output_type": "execute_result"
    }
   ],
   "source": [
    "# times out\n",
    "def solution(N, A):\n",
    "    counters = [0 for x in range(N)]\n",
    "\n",
    "    for op in A:\n",
    "        if op > N:\n",
    "            m = max(counters)\n",
    "            counters = [m for x in range(N)]\n",
    "        else:\n",
    "            counters[op-1] += 1\n",
    "\n",
    "    return counters\n",
    "\n",
    "# faster\n",
    "def solution(N, A):\n",
    "    counters = [0 for x in range(N)]\n",
    "\n",
    "    current_max = 0\n",
    "    maxcounter = 0\n",
    "\n",
    "    for op in A:\n",
    "        if op <= N:\n",
    "            counters[op-1] = max(maxcounter, counters[op-1]) + 1\n",
    "            current_max = max(current_max, counters[op-1])\n",
    "        else:\n",
    "            maxcounter = current_max\n",
    "            \n",
    "    for i in range(N):\n",
    "        counters[i] = max(counters[i], maxcounter)\n",
    "\n",
    "    return counters\n",
    "\n",
    "solution(5, [3, 4, 4, 6, 1, 4, 4])"
   ]
  },
  {
   "cell_type": "markdown",
   "metadata": {},
   "source": [
    "**Codility - MissingInteger**\n",
    "\n",
    "via - https://app.codility.com/programmers/lessons/4-counting_elements/missing_integer/"
   ]
  },
  {
   "cell_type": "code",
   "execution_count": 37,
   "metadata": {},
   "outputs": [],
   "source": [
    "def solution(A):\n",
    "    # write your code in Python 3.8.10\n",
    "    visited = set()\n",
    "    min_int = 1\n",
    "    for a in A:\n",
    "        visited.add(a)\n",
    "        if a == min_int:\n",
    "            while min_int in visited:\n",
    "                min_int += 1\n",
    "    return min_int"
   ]
  },
  {
   "cell_type": "markdown",
   "metadata": {},
   "source": [
    "**Codility - PassingCars**\n",
    "\n",
    "via https://app.codility.com/programmers/lessons/5-prefix_sums/passing_cars/"
   ]
  },
  {
   "cell_type": "code",
   "execution_count": null,
   "metadata": {},
   "outputs": [],
   "source": [
    "def solution(A):\n",
    "    passed = 0\n",
    "    total = sum(A)\n",
    "    for n in A:\n",
    "        if n == 0:\n",
    "            passed += total\n",
    "            if passed > 1000000000:\n",
    "                return -1\n",
    "        else:\n",
    "            total -= 1\n",
    "    return passed"
   ]
  },
  {
   "cell_type": "markdown",
   "metadata": {},
   "source": [
    "**Codility - CountDiv**\n",
    "\n",
    "via https://app.codility.com/programmers/lessons/5-prefix_sums/count_div/"
   ]
  },
  {
   "cell_type": "code",
   "execution_count": 5,
   "metadata": {},
   "outputs": [
    {
     "data": {
      "text/plain": [
       "20"
      ]
     },
     "execution_count": 5,
     "metadata": {},
     "output_type": "execute_result"
    }
   ],
   "source": [
    "# slow!\n",
    "def solution(A, B, K):\n",
    "    out = B - A + 1\n",
    "\n",
    "    for n in range(A, B+1):\n",
    "        if n % K != 0:\n",
    "            out -= 1\n",
    "\n",
    "    return out\n",
    "\n",
    "# better \n",
    "def solution(A, B, K):\n",
    "    for n in range(A, B+1):\n",
    "        if n % K == 0:\n",
    "            return len(range(n, B+1, K))\n",
    "    return 0\n",
    "\n",
    "solution(A = 11, B = 345, K = 17)"
   ]
  },
  {
   "cell_type": "markdown",
   "metadata": {},
   "source": [
    "**Codility - GenomicRangeQuery**\n",
    "\n",
    "via https://app.codility.com/programmers/lessons/5-prefix_sums/genomic_range_query/"
   ]
  },
  {
   "cell_type": "code",
   "execution_count": 2,
   "metadata": {},
   "outputs": [
    {
     "data": {
      "text/plain": [
       "[2, 4, 1]"
      ]
     },
     "execution_count": 2,
     "metadata": {},
     "output_type": "execute_result"
    }
   ],
   "source": [
    "# slow\n",
    "def solution(S, P, Q):\n",
    "    d = {\n",
    "        \"A\" : 1,\n",
    "        \"C\" : 2,\n",
    "        \"G\" : 3,\n",
    "        \"T\" : 4\n",
    "    }\n",
    "\n",
    "    nums = [d[c] for c in S]\n",
    "\n",
    "    l = len(P)\n",
    "    out = [0] * l\n",
    "\n",
    "    for i in range(l):\n",
    "        out[i] = min(nums[P[i] : Q[i]+1])\n",
    "\n",
    "    return out\n",
    "\n",
    "# still slow\n",
    "def solution(S, P, Q):\n",
    "    d = {\n",
    "        \"A\" : 1,\n",
    "        \"C\" : 2,\n",
    "        \"G\" : 3,\n",
    "        \"T\" : 4\n",
    "    }\n",
    "\n",
    "    nums = [d[c] for c in S]\n",
    "\n",
    "    l = len(P)\n",
    "    out = [4] * l\n",
    "\n",
    "    for i in range(l):\n",
    "        for n in nums[P[i] : Q[i]+1]:\n",
    "            if n == 1:\n",
    "                out[i] = 1\n",
    "                break\n",
    "            out[i] = min(out[i], n)\n",
    "\n",
    "    return out\n",
    "\n",
    "# better, but still times out\n",
    "def solution(S, P, Q):\n",
    "\n",
    "    out = []\n",
    "\n",
    "    for (p, q) in zip(P, Q):\n",
    "        if \"A\" in S[p: q+1]:\n",
    "            out.append(1)\n",
    "        elif \"C\" in S[p: q+1]:\n",
    "            out.append(2)\n",
    "        elif \"G\" in S[p: q+1]:\n",
    "            out.append(3)\n",
    "        else:\n",
    "            out.append(4)\n",
    "\n",
    "    return out\n",
    "\n",
    "# accepted\n",
    "def solution(S, P, Q):\n",
    "\n",
    "    s_len = len(S)\n",
    "\n",
    "    d = {\n",
    "        \"A\" : [0] * s_len,\n",
    "        \"C\" : [0] * s_len,\n",
    "        \"G\" : [0] * s_len,\n",
    "        \"T\" : [0] * s_len\n",
    "    }\n",
    "\n",
    "    for i in range(s_len):\n",
    "        d[S[i]][i] = 1\n",
    "\n",
    "    for l in d.values():\n",
    "        for i in range(1, s_len):\n",
    "            l[i] = l[i] + l[i-1]\n",
    "        l += [0]\n",
    "\n",
    "    out = []\n",
    "\n",
    "    for i in range(len(P)):\n",
    "        if d[\"A\"][P[i]-1] < d[\"A\"][Q[i]]:\n",
    "            out.append(1)\n",
    "        elif d[\"C\"][P[i]-1] < d[\"C\"][Q[i]]:\n",
    "            out.append(2)\n",
    "        elif d[\"G\"][P[i]-1] < d[\"G\"][Q[i]]:\n",
    "            out.append(3)\n",
    "        else:\n",
    "            out.append(4)            \n",
    "\n",
    "    return out\n",
    "\n",
    "solution(\"CAGCCTA\", [2,5,0], [4,5,6])\n",
    "# solution('A', [0], [0])"
   ]
  },
  {
   "cell_type": "markdown",
   "metadata": {},
   "source": [
    "**Codility - MinAvgTwoSlice**\n",
    "\n",
    "via https://app.codility.com/programmers/lessons/5-prefix_sums/min_avg_two_slice/"
   ]
  },
  {
   "cell_type": "code",
   "execution_count": 82,
   "metadata": {},
   "outputs": [
    {
     "data": {
      "text/plain": [
       "3"
      ]
     },
     "execution_count": 82,
     "metadata": {},
     "output_type": "execute_result"
    }
   ],
   "source": [
    "# two pointers\n",
    "def solution(A):\n",
    "    min_avg = [(A[0]+A[1])/2, 0]\n",
    "    l = 0\n",
    "    r = 2\n",
    "    while r < len(A):\n",
    "        ls = [l, l+1]\n",
    "        for ll in ls:\n",
    "            current_avg = sum(A[ll:r+1])/(r+1-ll)\n",
    "            if current_avg < min_avg[0]:\n",
    "                min_avg = [current_avg, ll]\n",
    "        r += 1\n",
    "        l += 1\n",
    "    \n",
    "    return min_avg[1]\n",
    "\n",
    "# solution([5,2,2,2,5,1,3,1,5]) # 5\n",
    "# solution( [10, 10, -1, 2, 4, -1, 2, -1]) # 5\n",
    "# solution([10000, -10000]) # 0\n",
    "# solution([8, 6, 3, 7, 1]) # 2\n",
    "solution([5,4,3,2,1]) # 3"
   ]
  },
  {
   "cell_type": "markdown",
   "metadata": {},
   "source": [
    "**Codility - MaxProductOfThree**\n",
    "\n",
    "via https://app.codility.com/programmers/lessons/6-sorting/max_product_of_three/"
   ]
  },
  {
   "cell_type": "code",
   "execution_count": 11,
   "metadata": {},
   "outputs": [
    {
     "data": {
      "text/plain": [
       "105"
      ]
     },
     "execution_count": 11,
     "metadata": {},
     "output_type": "execute_result"
    }
   ],
   "source": [
    "def solution(A):\n",
    "    A.sort()\n",
    "    return max((A[-1]*A[-2]*A[-3]), (A[0]*A[1]*A[-1]))\n",
    "\n",
    "# solution([-5, -6, -4, -7, -10]) # -120\n",
    "# solution([-3, 1, 2, -2, 5, 6]) # 60\n",
    "solution([4, 7, 3, 2, 1, -3, -5]) # 105"
   ]
  },
  {
   "cell_type": "markdown",
   "metadata": {},
   "source": [
    "**Codility - Triangle**\n",
    "\n",
    "via https://app.codility.com/programmers/lessons/6-sorting/triangle/"
   ]
  },
  {
   "cell_type": "code",
   "execution_count": 27,
   "metadata": {},
   "outputs": [
    {
     "data": {
      "text/plain": [
       "0"
      ]
     },
     "execution_count": 27,
     "metadata": {},
     "output_type": "execute_result"
    }
   ],
   "source": [
    "def solution(A):\n",
    "    A.sort()\n",
    "    if len(A) < 3:\n",
    "        return 0\n",
    "    elif A[-3] <= 0:\n",
    "        return 0\n",
    "    else:\n",
    "        for i in range(len(A)-2):\n",
    "            if (A[i] + A[i+1]) > A[i+2]:\n",
    "                return 1\n",
    "    return 0\n",
    "\n",
    "# solution([10, 2, 5, 1, 8, 20])\n",
    "# solution([10, 50, 5, 1])\n",
    "solution([0])"
   ]
  },
  {
   "cell_type": "markdown",
   "metadata": {},
   "source": [
    "**Codility  NumberOfDiscIntersections**\n",
    "\n",
    "via https://app.codility.com/programmers/lessons/6-sorting/number_of_disc_intersections/"
   ]
  },
  {
   "cell_type": "code",
   "execution_count": 4,
   "metadata": {},
   "outputs": [
    {
     "data": {
      "text/plain": [
       "6"
      ]
     },
     "execution_count": 4,
     "metadata": {},
     "output_type": "execute_result"
    }
   ],
   "source": [
    "# correct, but slow O(n**2)\n",
    "def solution(A):\n",
    "    lines = []\n",
    "    for i in range(len(A)):\n",
    "        lines.append((i-A[i], i+A[i]))\n",
    "    lines.sort()\n",
    "\n",
    "    edges = []\n",
    "    intersections = 0\n",
    "\n",
    "    for start, stop in lines:\n",
    "        count = 0\n",
    "        new_edges = []\n",
    "        for edge in edges:\n",
    "            if start <= edge:\n",
    "                count += 1\n",
    "                new_edges.append(edge)\n",
    "        edges = new_edges\n",
    "        intersections += count\n",
    "        if intersections > 10000000:\n",
    "            return -1\n",
    "        edges.append(stop)\n",
    "\n",
    "    return intersections\n",
    "\n",
    "# fast solution\n",
    "def solution(A):\n",
    "    starts = []\n",
    "    ends = []\n",
    "    for i in range(len(A)):\n",
    "        starts.append(i-A[i])\n",
    "        ends.append(i+A[i])\n",
    "    starts.sort()\n",
    "    ends.sort()\n",
    "\n",
    "    current = 0\n",
    "    intersections = 0\n",
    "\n",
    "    i = 0\n",
    "\n",
    "    for s in starts:\n",
    "        while s > ends[i]:\n",
    "            current -= 1\n",
    "            i += 1\n",
    "        if s <= ends[i]:\n",
    "            intersections += current\n",
    "            if intersections > 10000000:\n",
    "                return -1\n",
    "            current += 1\n",
    "\n",
    "    return intersections\n",
    "\n",
    "# solution([1,5,2,1,4,0]) # 11\n",
    "# solution([1, 2147483647, 0]) # 2\n",
    "solution([1, 0, 1, 0, 1]) # 6"
   ]
  },
  {
   "cell_type": "markdown",
   "metadata": {},
   "source": [
    "**Codility - Brackets** and **Codility - Nesting**\n",
    "\n",
    "via https://app.codility.com/programmers/lessons/7-stacks_and_queues/brackets/\n",
    "via https://app.codility.com/programmers/lessons/7-stacks_and_queues/nesting/"
   ]
  },
  {
   "cell_type": "code",
   "execution_count": 10,
   "metadata": {},
   "outputs": [
    {
     "data": {
      "text/plain": [
       "0"
      ]
     },
     "execution_count": 10,
     "metadata": {},
     "output_type": "execute_result"
    }
   ],
   "source": [
    "from collections import deque\n",
    "\n",
    "def solution(S):\n",
    "    pairs = {\")\": \"(\", \"}\":\"{\", \"]\":\"[\"}\n",
    "    stack = deque()\n",
    "\n",
    "    for b in S:\n",
    "        if b not in pairs:\n",
    "            stack.append(b)\n",
    "        elif stack and pairs[b] == stack[-1]:\n",
    "            stack.pop()\n",
    "        else:\n",
    "            return 0\n",
    "    \n",
    "    return 0 if stack else 1\n",
    "\n",
    "solution(\"{{{{\")"
   ]
  },
  {
   "cell_type": "markdown",
   "metadata": {},
   "source": [
    "**Codility - Fish**\n",
    "\n",
    "via https://app.codility.com/programmers/lessons/7-stacks_and_queues/fish/"
   ]
  },
  {
   "cell_type": "code",
   "execution_count": 22,
   "metadata": {},
   "outputs": [
    {
     "data": {
      "text/plain": [
       "2"
      ]
     },
     "execution_count": 22,
     "metadata": {},
     "output_type": "execute_result"
    }
   ],
   "source": [
    "def solution(A, B):\n",
    "    from collections import deque\n",
    "    alive = len(A)\n",
    "    stack = deque()\n",
    "\n",
    "    for i in range(len(A)):\n",
    "        if B[i] == 1:\n",
    "            stack.append(A[i])\n",
    "        elif not stack:\n",
    "            continue\n",
    "        else:\n",
    "            while stack and A[i] > stack[-1]:\n",
    "                stack.pop()\n",
    "                alive -= 1\n",
    "            if stack:\n",
    "                alive -=1\n",
    "\n",
    "    return alive\n",
    "\n",
    "solution([4,3,2,1,5], [0,1,0,0,0])"
   ]
  },
  {
   "cell_type": "markdown",
   "metadata": {},
   "source": [
    "**Codility - StoneWall**\n",
    "\n",
    "via https://app.codility.com/programmers/lessons/7-stacks_and_queues/stone_wall/"
   ]
  },
  {
   "cell_type": "code",
   "execution_count": 14,
   "metadata": {},
   "outputs": [
    {
     "data": {
      "text/plain": [
       "7"
      ]
     },
     "execution_count": 14,
     "metadata": {},
     "output_type": "execute_result"
    }
   ],
   "source": [
    "def solution(H):\n",
    "    from collections import deque\n",
    "    s = deque([H[0]])\n",
    "    counter = 1\n",
    "\n",
    "    for n in H[1:]:\n",
    "        if not s or n > s[-1]:\n",
    "            s.append(n)\n",
    "            counter += 1\n",
    "        elif n < s[-1]:\n",
    "            while s and n < s[-1]:\n",
    "                s.pop()\n",
    "                if not s or n > s[-1]:\n",
    "                    s.append(n)\n",
    "                    counter += 1\n",
    "\n",
    "    return counter\n",
    "\n",
    "\n",
    "solution([8,8,5,7,9,8,7,4,8]) # 7\n",
    "# solution([2, 3, 2, 1]) # 3"
   ]
  },
  {
   "cell_type": "markdown",
   "metadata": {},
   "source": [
    "**Codility - Dominator**\n",
    "\n",
    "https://app.codility.com/programmers/lessons/8-leader/dominator/"
   ]
  },
  {
   "cell_type": "code",
   "execution_count": 26,
   "metadata": {},
   "outputs": [
    {
     "data": {
      "text/plain": [
       "5"
      ]
     },
     "execution_count": 26,
     "metadata": {},
     "output_type": "execute_result"
    }
   ],
   "source": [
    "def solution(A):\n",
    "    if not A:\n",
    "        return -1\n",
    "    \n",
    "    d = dict()\n",
    "\n",
    "    for i in range(len(A)):\n",
    "        if A[i] not in d:\n",
    "            d[A[i]] = [1, i]\n",
    "        else:\n",
    "            d[A[i]][0] += 1\n",
    "\n",
    "    if len(d.keys()) > len(A)//2 + 1:\n",
    "        return -1\n",
    "    else:\n",
    "        m = max(d.values())\n",
    "        if m[0] < (len(A)//2 + 1):\n",
    "            return -1\n",
    "        else:\n",
    "            return m[1]\n",
    "\n",
    "# solution([3, 4, 3, 2, 3, -1, 3, 3])\n",
    "solution([0,1,2,3,4,5,5,5,5,5,5])"
   ]
  },
  {
   "cell_type": "markdown",
   "metadata": {},
   "source": [
    "**Codility - EquiLeader**\n",
    "\n",
    "https://app.codility.com/programmers/lessons/8-leader/equi_leader/"
   ]
  },
  {
   "cell_type": "code",
   "execution_count": 26,
   "metadata": {},
   "outputs": [
    {
     "data": {
      "text/plain": [
       "2"
      ]
     },
     "execution_count": 26,
     "metadata": {},
     "output_type": "execute_result"
    }
   ],
   "source": [
    "def solution(A):\n",
    "    counts = dict()\n",
    "    max_count = 0\n",
    "\n",
    "    for n in A:\n",
    "        if n in counts:\n",
    "            counts[n] += 1\n",
    "            if counts[n] > max_count:\n",
    "                max_count = counts[n]\n",
    "                leader = n\n",
    "        else:\n",
    "            counts[n] = 1\n",
    "    \n",
    "    if max_count <= len(A)//2:\n",
    "        return 0\n",
    "\n",
    "    equileaders = 0\n",
    "    \n",
    "    left_leaders = 0\n",
    "    right_leaders = max_count\n",
    "\n",
    "    for i in range(1, len(A)):\n",
    "        left_min_required = i//2 + 1\n",
    "        right_min_required = (len(A)-i)//2 + 1\n",
    "        if A[i-1] == leader:\n",
    "            left_leaders += 1\n",
    "            right_leaders -= 1\n",
    "\n",
    "        if left_leaders >= left_min_required and right_leaders >= right_min_required:\n",
    "            equileaders += 1\n",
    "\n",
    "    return equileaders\n",
    "\n",
    "solution([4,3,4,4,4,2]) # 2"
   ]
  },
  {
   "attachments": {},
   "cell_type": "markdown",
   "metadata": {},
   "source": [
    "**Codility - MaxProfit**\n",
    "\n",
    "https://app.codility.com/programmers/lessons/9-maximum_slice_problem/max_profit/"
   ]
  },
  {
   "cell_type": "code",
   "execution_count": 3,
   "metadata": {},
   "outputs": [
    {
     "data": {
      "text/plain": [
       "356"
      ]
     },
     "execution_count": 3,
     "metadata": {},
     "output_type": "execute_result"
    }
   ],
   "source": [
    "def solution(A):\n",
    "    profit = 0\n",
    "    current_min = float(\"inf\")\n",
    "\n",
    "    for a in A:\n",
    "        current_min = min(current_min, a)\n",
    "        profit = max(profit, (a - current_min))\n",
    "\n",
    "    return profit\n",
    "\n",
    "solution([23171,21011,21123,21366,21013,21367]) # 356"
   ]
  },
  {
   "attachments": {},
   "cell_type": "markdown",
   "metadata": {},
   "source": [
    "**Codility - MaxSliceSum**\n",
    "\n",
    "https://app.codility.com/programmers/lessons/9-maximum_slice_problem/max_slice_sum/"
   ]
  },
  {
   "cell_type": "code",
   "execution_count": 12,
   "metadata": {},
   "outputs": [
    {
     "data": {
      "text/plain": [
       "5"
      ]
     },
     "execution_count": 12,
     "metadata": {},
     "output_type": "execute_result"
    }
   ],
   "source": [
    "def solution(A):\n",
    "    current_max = float(\"-inf\")\n",
    "    current_slice = 0\n",
    "\n",
    "    for a in A:\n",
    "        current_slice = max(a, (current_slice + a))\n",
    "        current_max = max(current_max, current_slice)\n",
    "\n",
    "    return current_max\n",
    "    \n",
    "solution([3,2,-6,4,0]) # 5\n",
    "# solution([-10]) # -10"
   ]
  },
  {
   "attachments": {},
   "cell_type": "markdown",
   "metadata": {},
   "source": [
    "**Codility - MaxDoubleSliceSum**\n",
    "\n",
    "https://app.codility.com/programmers/lessons/9-maximum_slice_problem/max_double_slice_sum/"
   ]
  },
  {
   "cell_type": "code",
   "execution_count": 63,
   "metadata": {},
   "outputs": [
    {
     "name": "stdout",
     "output_type": "stream",
     "text": [
      "17\n",
      "10\n",
      "26\n",
      "0\n",
      "0\n"
     ]
    }
   ],
   "source": [
    "def solution(A):\n",
    "    if len(A) <=3:\n",
    "        return 0\n",
    "\n",
    "    from collections import deque\n",
    "\n",
    "    LR_slice = 0\n",
    "    LR = [0]\n",
    "    for a in A[1:-1]:\n",
    "        LR_slice = max(0, (LR_slice + a))\n",
    "        LR.append(LR_slice)\n",
    "    LR.append(0)\n",
    "\n",
    "    RL_slice = 0\n",
    "    RL = deque([0])\n",
    "    for a in A[-2:0:-1]:\n",
    "        RL_slice = max(0, (RL_slice + a))\n",
    "        RL.appendleft(RL_slice)\n",
    "    RL.appendleft(0)\n",
    "\n",
    "    current_max = float(\"-inf\")\n",
    "    for i in range(len(LR)-2):\n",
    "        current_max = max(current_max, (LR[i] + RL[i+2]))\n",
    "\n",
    "    return current_max\n",
    "\n",
    "print(solution([3,2,6,-1,4,5,-1,2])) # 17\n",
    "print(solution([0, 10, -5, -2, 0])) #10\n",
    "print(solution([6, 1, 5, 6, 4, 2, 9, 4])) #26\n",
    "print(solution([-1, -4, -5, -1])) # 0\n",
    "print(solution([[5, 5, 5]])) #0"
   ]
  },
  {
   "attachments": {},
   "cell_type": "markdown",
   "metadata": {},
   "source": [
    "**Codility - CountFactors**\n",
    "\n",
    "https://app.codility.com/programmers/lessons/10-prime_and_composite_numbers/count_factors/"
   ]
  },
  {
   "cell_type": "code",
   "execution_count": 11,
   "metadata": {},
   "outputs": [
    {
     "data": {
      "text/plain": [
       "3"
      ]
     },
     "execution_count": 11,
     "metadata": {},
     "output_type": "execute_result"
    }
   ],
   "source": [
    "def solution(N):\n",
    "    out = 0\n",
    "    f = 1\n",
    "    while (f * f) < N:\n",
    "        if (N / f).is_integer():\n",
    "            out += 2\n",
    "        f += 1\n",
    "    if f * f == N:\n",
    "        out += 1\n",
    "    return out\n",
    "\n",
    "solution(9)"
   ]
  },
  {
   "attachments": {},
   "cell_type": "markdown",
   "metadata": {},
   "source": [
    "**Codility - MinPerimeterRectangle**\n",
    "\n",
    "https://app.codility.com/programmers/lessons/10-prime_and_composite_numbers/min_perimeter_rectangle/"
   ]
  },
  {
   "cell_type": "code",
   "execution_count": 17,
   "metadata": {},
   "outputs": [
    {
     "data": {
      "text/plain": [
       "22"
      ]
     },
     "execution_count": 17,
     "metadata": {},
     "output_type": "execute_result"
    }
   ],
   "source": [
    "def solution(N):\n",
    "\n",
    "    from math import sqrt, floor\n",
    "\n",
    "    a = floor(sqrt(N))\n",
    "\n",
    "    while not (b := N/a).is_integer():\n",
    "        a -= 1\n",
    "\n",
    "    return int((a + b)*2)\n",
    "\n",
    "solution(30)"
   ]
  },
  {
   "attachments": {},
   "cell_type": "markdown",
   "metadata": {},
   "source": [
    "**Codility - Flags**\n",
    "\n",
    "https://app.codility.com/programmers/lessons/10-prime_and_composite_numbers/flags/"
   ]
  },
  {
   "cell_type": "code",
   "execution_count": 44,
   "metadata": {},
   "outputs": [
    {
     "data": {
      "text/plain": [
       "3"
      ]
     },
     "execution_count": 44,
     "metadata": {},
     "output_type": "execute_result"
    }
   ],
   "source": [
    "def solution(A):\n",
    "    N = len(A)\n",
    "    if N < 3:\n",
    "        return 0\n",
    "\n",
    "    peaks = []\n",
    "    peak_present = False\n",
    "    dists = []\n",
    "\n",
    "    for i in range(1, N-1):\n",
    "        if A[i] > A[i-1] and A[i] > A[i+1]:\n",
    "            peaks.append(i)\n",
    "            if peak_present:\n",
    "                dists.append(peaks[-1] - peaks[-2])\n",
    "            peak_present = True\n",
    "\n",
    "    if len(peaks) < 2:\n",
    "        return len(peaks)\n",
    "\n",
    "    from math import sqrt, floor\n",
    "\n",
    "    flags = min(floor(sqrt(N))+1, len(peaks))\n",
    "\n",
    "    def check_flags(n_flags, dists_in):\n",
    "        counter = 1\n",
    "        add = 0\n",
    "        for d in dists_in:\n",
    "            if (d + add) < n_flags:\n",
    "                add += d\n",
    "            else: \n",
    "                counter += 1\n",
    "                if counter > n_flags:\n",
    "                    return True\n",
    "                add = 0\n",
    "        return counter == n_flags\n",
    "        \n",
    "    for n in range(flags, 0, -1):\n",
    "        if check_flags(n, dists):\n",
    "            return n\n",
    "\n",
    "solution([1,5,3,4,3,4,1,2,3,4,6,2])"
   ]
  },
  {
   "attachments": {},
   "cell_type": "markdown",
   "metadata": {},
   "source": [
    "**Codility - Peaks**\n",
    "\n",
    "https://app.codility.com/programmers/lessons/10-prime_and_composite_numbers/peaks/"
   ]
  },
  {
   "cell_type": "code",
   "execution_count": 20,
   "metadata": {},
   "outputs": [
    {
     "name": "stdout",
     "output_type": "stream",
     "text": [
      "3\n"
     ]
    }
   ],
   "source": [
    "def solution(A):\n",
    "    N = len(A)\n",
    "    if N < 3:\n",
    "        return 0\n",
    "\n",
    "    peaks = []\n",
    "    for i in range(1, N-1):\n",
    "        if A[i] > A[i-1] and A[i] > A[i+1]:\n",
    "            peaks.append(i)\n",
    "\n",
    "    if len(peaks) < 2:\n",
    "        return len(peaks)\n",
    "    \n",
    "    max_segments = len(peaks)\n",
    "\n",
    "    def check_segment(s):\n",
    "        left = 0\n",
    "        right = s   \n",
    "        i = 0\n",
    "        while right <= N:\n",
    "            in_segment = False\n",
    "            while i < len(peaks) and peaks[i] < right and peaks[i] >= left:\n",
    "                in_segment = True\n",
    "                i += 1\n",
    "            if not in_segment:\n",
    "                return False\n",
    "            right += s\n",
    "            left += s\n",
    "        return True\n",
    "\n",
    "    while max_segments > 0:\n",
    "        s = N / max_segments\n",
    "        if s.is_integer():\n",
    "            if check_segment(int(s)):\n",
    "                return max_segments\n",
    "        max_segments -= 1\n",
    "\n",
    "print(solution([1,2,3,4,3,4,1,2,3,4,6,2]))"
   ]
  },
  {
   "attachments": {},
   "cell_type": "markdown",
   "metadata": {},
   "source": [
    "**Codility - CountNonDivisible**\n",
    "\n",
    "https://app.codility.com/programmers/lessons/11-sieve_of_eratosthenes/count_non_divisible/"
   ]
  },
  {
   "cell_type": "code",
   "execution_count": 37,
   "metadata": {},
   "outputs": [
    {
     "name": "stdout",
     "output_type": "stream",
     "text": [
      "[5, 8, 7, 5, 3, 7, 4, 7, 5]\n",
      "[5, 8, 7, 5, 3, 7, 4, 7, 5]\n"
     ]
    }
   ],
   "source": [
    "# correct, but too slow\n",
    "def solution(A):\n",
    "    dic = dict.fromkeys(set(A), 0)\n",
    "    for k in dic.keys():\n",
    "        for a in A:\n",
    "            if k%a != 0:\n",
    "                dic[k] += 1\n",
    "    out = []\n",
    "    for a in A:\n",
    "        out.append(dic[a])\n",
    "    return out\n",
    "\n",
    "# fast\n",
    "def solution2(A):\n",
    "    from collections import Counter\n",
    "\n",
    "    counter = Counter(A)\n",
    "\n",
    "    nums, counts = zip(*sorted(counter.items()))\n",
    "\n",
    "    l = len(nums)\n",
    "\n",
    "    nondivs = [sum(counts)-1] * l\n",
    "\n",
    "    dic = dict.fromkeys(set(A), 0)\n",
    "\n",
    "    for i in range(l):\n",
    "        nondivs[i] -= (dic[nums[i]] + (counter[nums[i]]-1))\n",
    "        n = nums[i] * 2\n",
    "        while n <= nums[-1]:\n",
    "            if n in counter:\n",
    "                dic[n] += counter[nums[i]]\n",
    "            n += nums[i]\n",
    "            \n",
    "    out_dic = dict(zip(nums, nondivs))  \n",
    "\n",
    "    out = []\n",
    "\n",
    "    for a in A:\n",
    "        out.append(out_dic[a])\n",
    "    return out\n",
    "\n",
    "print(solution([3,1,2,3,6,7,9,5,3]))\n",
    "print(solution2([3,1,2,3,6,7,9,5,3]))"
   ]
  },
  {
   "attachments": {},
   "cell_type": "markdown",
   "metadata": {},
   "source": [
    "**Codility - CountSemiprimes**\n",
    "\n",
    "https://app.codility.com/programmers/lessons/11-sieve_of_eratosthenes/count_semiprimes/"
   ]
  },
  {
   "cell_type": "code",
   "execution_count": 48,
   "metadata": {},
   "outputs": [
    {
     "data": {
      "text/plain": [
       "[10, 4, 0]"
      ]
     },
     "execution_count": 48,
     "metadata": {},
     "output_type": "execute_result"
    }
   ],
   "source": [
    "def solution(N, P, Q):\n",
    "\n",
    "    max_prime = (N // 2) + 1\n",
    "    primes = set(range(2, max_prime))\n",
    "    n = 2\n",
    "    while (n*n) <= max_prime:\n",
    "        nn = n*n\n",
    "        while nn <= max_prime:\n",
    "            if nn in primes:\n",
    "                primes.remove(nn)\n",
    "            nn += n\n",
    "        n += 1\n",
    "\n",
    "    primes = sorted(list(primes))\n",
    "    semiprimes = [0] * (N+1)\n",
    "\n",
    "    for i in range(len(primes)):\n",
    "        for j in range(i, len(primes)):\n",
    "            p = primes[i] * primes[j]\n",
    "            if p > N:\n",
    "                break\n",
    "            else:\n",
    "                semiprimes[p] = 1\n",
    "\n",
    "    c = 0\n",
    "    counts = []\n",
    "    for n in semiprimes:\n",
    "        c += n \n",
    "        counts.append(c)\n",
    "\n",
    "    out = []\n",
    "    for i in range(len(P)):\n",
    "        out.append(counts[Q[i]] - counts[P[i]-1])\n",
    "\n",
    "    return out\n",
    "\n",
    "solution(26, [1,4,16], [26,10,20])"
   ]
  },
  {
   "attachments": {},
   "cell_type": "markdown",
   "metadata": {},
   "source": [
    "**Codility - ChocolatesByNumbers**\n",
    "\n",
    "https://app.codility.com/programmers/lessons/12-euclidean_algorithm/chocolates_by_numbers/"
   ]
  },
  {
   "cell_type": "code",
   "execution_count": 59,
   "metadata": {},
   "outputs": [
    {
     "name": "stdout",
     "output_type": "stream",
     "text": [
      "5\n",
      "5\n"
     ]
    }
   ],
   "source": [
    "def solution(N, M):\n",
    "    \n",
    "    def find_gcd(a, b):\n",
    "        if a % b == 0:\n",
    "            return b\n",
    "        else:\n",
    "            return find_gcd(b, a%b)\n",
    "\n",
    "    if N > M:\n",
    "        gcd = find_gcd(N,M)\n",
    "    else:\n",
    "        gcd = find_gcd(M,N)\n",
    "\n",
    "    return ((N*M)//gcd) // M\n",
    "\n",
    "# simplified \n",
    "def solution2(N, M):\n",
    "    \n",
    "    def find_gcd(a, b):\n",
    "        if a % b == 0:\n",
    "            return b\n",
    "        else:\n",
    "            return find_gcd(b, a%b)\n",
    "\n",
    "    return N//find_gcd(N,M)\n",
    "\n",
    "print(solution(10,12))\n",
    "print(solution(10,12))"
   ]
  },
  {
   "attachments": {},
   "cell_type": "markdown",
   "metadata": {},
   "source": [
    "**Codility - CommonPrimeDivisors**\n",
    "\n",
    "https://app.codility.com/programmers/lessons/12-euclidean_algorithm/common_prime_divisors/"
   ]
  },
  {
   "cell_type": "code",
   "execution_count": 6,
   "metadata": {},
   "outputs": [
    {
     "data": {
      "text/plain": [
       "1"
      ]
     },
     "execution_count": 6,
     "metadata": {},
     "output_type": "execute_result"
    }
   ],
   "source": [
    "def find_gcd(a, b):\n",
    "    if a % b == 0:\n",
    "        return b\n",
    "    else:\n",
    "        return find_gcd(b, a%b)\n",
    "    \n",
    "def solution(A, B):\n",
    "    out = 0\n",
    "    for i in range(len(A)):\n",
    "        a, b = A[i], B[i]\n",
    "        gcd = find_gcd(A[i], B[i])\n",
    "        while gcd != 1:\n",
    "            gcd = find_gcd(a, B[i])\n",
    "            a /= gcd\n",
    "        gcd = find_gcd(A[i], B[i])\n",
    "        while gcd != 1:\n",
    "            gcd = find_gcd(A[i], b)\n",
    "            b /= gcd\n",
    "        if a == 1 and b == 1:\n",
    "            out += 1\n",
    "    return out\n",
    "\n",
    "solution([15, 10, 3], [75, 30, 5])"
   ]
  },
  {
   "attachments": {},
   "cell_type": "markdown",
   "metadata": {},
   "source": [
    "**Codility - FibFrog**\n",
    "\n",
    "https://app.codility.com/programmers/lessons/13-fibonacci_numbers/fib_frog/"
   ]
  },
  {
   "cell_type": "code",
   "execution_count": 73,
   "metadata": {},
   "outputs": [
    {
     "name": "stdout",
     "output_type": "stream",
     "text": [
      "3\n"
     ]
    },
    {
     "data": {
      "text/plain": [
       "11"
      ]
     },
     "execution_count": 73,
     "metadata": {},
     "output_type": "execute_result"
    }
   ],
   "source": [
    "def solution(A):\n",
    "    l = len(A)\n",
    "\n",
    "    fibs = [1,2]\n",
    "    while (f := fibs[-1]+fibs[-2]) <= l+1:\n",
    "        fibs.append(f)\n",
    "\n",
    "    fibset = set(fibs)\n",
    "\n",
    "    if l+1 in fibset:\n",
    "        return 1\n",
    "\n",
    "    jumps = 2\n",
    "    starts = [-1]\n",
    "    next_starts = []\n",
    "    visited = set()\n",
    "\n",
    "    while starts:\n",
    "        s = starts.pop()\n",
    "\n",
    "        for f in fibs:\n",
    "            if f+s >= l:\n",
    "                continue\n",
    "\n",
    "            if A[f+s] == 1:\n",
    "                if (l - (f+s)) in fibset:\n",
    "                    return jumps\n",
    "                if f+s not in visited:\n",
    "                    next_starts.append(f+s)\n",
    "                    visited.add(f+s)\n",
    "        \n",
    "        if not starts and next_starts:\n",
    "            starts = next_starts\n",
    "            next_starts = []\n",
    "            jumps += 1\n",
    "                \n",
    "    return -1\n",
    "\n",
    "print(solution([0,0,0,1,1,0,1,0,0,0,0])) # 3\n",
    "\n",
    "hard_test2 = []\n",
    "while len(hard_test2) < 1000000:\n",
    "    hard_test2.extend([0, 0, 0, 0, 0, 0, 0, 1])\n",
    "\n",
    "solution(hard_test2) # shouldn't take too long"
   ]
  },
  {
   "attachments": {},
   "cell_type": "markdown",
   "metadata": {},
   "source": [
    "**Codility - Ladder**\n",
    "\n",
    "https://app.codility.com/programmers/lessons/13-fibonacci_numbers/ladder/"
   ]
  },
  {
   "cell_type": "code",
   "execution_count": 97,
   "metadata": {},
   "outputs": [
    {
     "data": {
      "text/plain": [
       "[5, 1, 8, 0, 1]"
      ]
     },
     "execution_count": 97,
     "metadata": {},
     "output_type": "execute_result"
    }
   ],
   "source": [
    "def solution(A, B):\n",
    "    max_fib = max(A)\n",
    "    fibs = [1,1]\n",
    "    while len(fibs) <= max_fib:\n",
    "        fibs.append(fibs[-1]+fibs[-2])\n",
    "\n",
    "    max_pow = max(B)\n",
    "    powers = [1]\n",
    "\n",
    "    for _ in range(max_pow):\n",
    "        powers.append(powers[-1] * 2)\n",
    "\n",
    "    dic = {x:dict() for x in range(1, max_pow+1)}\n",
    "    out = []\n",
    "\n",
    "    for i in range(len(B)):\n",
    "        if A[i] in dic[B[i]]:\n",
    "            out.append(dic[B[i]][A[i]])\n",
    "        else:\n",
    "            dic[B[i]].update({A[i]: (o := fibs[A[i]] % powers[B[i]])})\n",
    "            out.append(o)\n",
    "\n",
    "    return out\n",
    "\n",
    "solution([4,4,5,5,1], [3,2,4,3,1])"
   ]
  },
  {
   "attachments": {},
   "cell_type": "markdown",
   "metadata": {},
   "source": [
    "**Codility - MinMaxDivision**\n",
    "\n",
    "https://app.codility.com/programmers/lessons/14-binary_search_algorithm/min_max_division/"
   ]
  },
  {
   "cell_type": "code",
   "execution_count": 55,
   "metadata": {},
   "outputs": [
    {
     "name": "stdout",
     "output_type": "stream",
     "text": [
      "6\n",
      "1890000\n"
     ]
    }
   ],
   "source": [
    "def solution(K, M, A):\n",
    "\n",
    "    def check_sum(s):\n",
    "        count = 1\n",
    "        current = 0\n",
    "        for n in A:\n",
    "            if n > s:\n",
    "                return False\n",
    "            current += n\n",
    "            if current > s:\n",
    "                current = n\n",
    "                count += 1\n",
    "                if count > K:\n",
    "                    return False\n",
    "        return True\n",
    "    \n",
    "    from math import ceil\n",
    "    minimum = ceil(sum(A) / K)\n",
    "    maximum = ceil(len(A)/K) * M\n",
    "\n",
    "    accepted = set()\n",
    "\n",
    "    while True:\n",
    "        if minimum >= maximum:\n",
    "            return minimum\n",
    "        else:\n",
    "            mid = minimum + (maximum-minimum)//2\n",
    "            if check_sum(mid):\n",
    "                accepted.add(mid)\n",
    "                maximum = mid\n",
    "            else:\n",
    "                minimum = mid+1\n",
    "                if minimum in accepted:\n",
    "                    return minimum\n",
    "\n",
    "print(solution(3, 5, [2,1,5,1,2,2,2])) # 6\n",
    "hardtest = [10000] * 10000\n",
    "print(solution(53, 10000, hardtest)) # shouldn't take too long"
   ]
  },
  {
   "cell_type": "markdown",
   "metadata": {},
   "source": [
    "**Codesignal - almostIncreasingSequence**\n",
    "\n",
    "via https://app.codesignal.com/arcade/intro/level-2/2mxbGwLzvkTCKAJMG"
   ]
  },
  {
   "cell_type": "code",
   "execution_count": 26,
   "metadata": {},
   "outputs": [
    {
     "data": {
      "text/plain": [
       "True"
      ]
     },
     "execution_count": 26,
     "metadata": {},
     "output_type": "execute_result"
    }
   ],
   "source": [
    "def solution(sequence):\n",
    "    left = 0\n",
    "    right = len(sequence) - 1\n",
    "    \n",
    "    while left < right and sequence[left] < sequence[left+1]:\n",
    "        left += 1\n",
    "        \n",
    "    while left < right and sequence[right-1] < sequence[right]:\n",
    "        right -= 1\n",
    "\n",
    "    if right-left > 1:\n",
    "        return False\n",
    "    elif right == left:\n",
    "        return True\n",
    "    elif left == 0 or right == len(sequence) - 1:\n",
    "        return True\n",
    "    elif sequence[left-1] < sequence[right] or sequence[left] < sequence[right+1]:\n",
    "        return True\n",
    "    else:\n",
    "        return False\n",
    "\n",
    "test_case = [10, 1, 2, 3, 4, 5]\n",
    "\n",
    "solution(test_case)"
   ]
  },
  {
   "cell_type": "markdown",
   "metadata": {},
   "source": [
    "**Codesignal - reverseInParentheses**\n",
    "\n",
    "via https://app.codesignal.com/arcade/intro/level-3/9DgaPsE2a7M6M2Hu6"
   ]
  },
  {
   "cell_type": "code",
   "execution_count": 13,
   "metadata": {},
   "outputs": [],
   "source": [
    "def solution(inputString):\n",
    "    while \"(\" in inputString:\n",
    "        left = 0\n",
    "        right = 0\n",
    "        for i in range(len(inputString)):\n",
    "            if inputString[i] == \"(\":\n",
    "                left = i\n",
    "            elif inputString[i] == \")\":\n",
    "                right = i\n",
    "                inputString = inputString[:left] + inputString[right-1:left:-1] + inputString[right+1:]\n",
    "                break\n",
    "        \n",
    "    return inputString"
   ]
  }
 ],
 "metadata": {
  "kernelspec": {
   "display_name": "Python 3",
   "language": "python",
   "name": "python3"
  },
  "language_info": {
   "codemirror_mode": {
    "name": "ipython",
    "version": 3
   },
   "file_extension": ".py",
   "mimetype": "text/x-python",
   "name": "python",
   "nbconvert_exporter": "python",
   "pygments_lexer": "ipython3",
   "version": "3.11.1"
  },
  "vscode": {
   "interpreter": {
    "hash": "284a54327780f6c007f4aad64d9a33d5190d4bf050ef483f4897af3688e59b5a"
   }
  }
 },
 "nbformat": 4,
 "nbformat_minor": 4
}
